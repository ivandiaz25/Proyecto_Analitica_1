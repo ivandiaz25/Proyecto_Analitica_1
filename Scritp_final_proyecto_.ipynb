{
  "cells": [
    {
      "cell_type": "markdown",
      "metadata": {
        "id": "uWNwI5ERLkg5"
      },
      "source": [
        "#Guía de trabajo Módulo 2 – Aprendizaje Supervisado\n",
        "\n",
        " **INTEGRANTES**:\n",
        "\n",
        "*   Cesar Iván Ávila Díaz\n",
        "*   Marcelo Lemus\n",
        "* María Gabriel Pérez\n",
        "* Verónica Andrea Morales González\n",
        "\n",
        "\n",
        "**Caso de estudio**\n",
        "\n",
        "La agencia de marketing Sterling Cooper Advertising tiene en su planta de empleados alrededor de\n",
        "4.000 personas directamente contratadas. Sin embargo, el departamento de recursos humanos ha\n",
        "reportado cifras preocupantes a la dirección de la agencia, indicando que cada año, alrededor del\n",
        "15% de sus empleados abandonan la empresa y necesitan ser reemplazados, en la mayoría de casos,\n",
        "con muy poco tiempo para el proceso de selección y contratación. La dirección cree que este nivel\n",
        "de bajas (empleados que se marchan, ya sea por decisión propia o porque son despedidos) es\n",
        "perjudicial para la empresa, por las siguientes razones:\n",
        "\n",
        "● Los proyectos de los antiguos empleados se retrasan, lo que dificulta el cumplimiento de los plazos, con la consiguiente pérdida de reputación entre sus clientes y socios.\n",
        "\n",
        "● El departamento de recursos humanos requiere mucha inversión por los niveles de rotación,así que la mayoría de su personal está dedicado a tareas de reclutamiento de nuevo talento, haciendo más lento el proceso de desarrollo de otras áreas dentro del departamento dedicadas por ejemplo a la formación o bienestar de sus empleados.\n",
        "\n",
        "● En la mayoría de los casos, hay que formar a los nuevos empleados para el puesto y/o darles\n",
        "tiempo para que se adapten a la cultura de la agencia.\n",
        "\n",
        "\n",
        "Por ello, la dirección ha contratado a su equipo de consultores para saber en qué factores deben centrarse para frenar el abandono de empleados. En otras palabras, quieren predecir a tiempo si sus empleados van a abandonar su empleo para tomar acciones preventivas que les permita retener a la mayoría de los empleados en riesgo. También quieren saber cuál de estas variables es la más importante y debe abordarse de inmediato.\n"
      ]
    },
    {
      "cell_type": "markdown",
      "metadata": {
        "id": "IfFe5MVsdVei"
      },
      "source": [
        "# **a. Diseño de solución propuesta**\n",
        "\n",
        "El objetivo es desarrollar un modelo predictivo que identifique a tiempo a los empleados en riesgo de abandonar la empresa. Esto permitirá tomar acciones preventivas para retener a la mayoría de los empleados en riesgo. La solución propuesta debería incluir un sistema de alerta temprana y recomendaciones personalizadas para retener a los empleados."
      ]
    },
    {
      "cell_type": "code",
      "execution_count": null,
      "metadata": {
        "colab": {
          "base_uri": "https://localhost:8080/"
        },
        "id": "xvBUhcpoYsVI",
        "outputId": "8a68adc0-e9d1-482c-e993-e5a997c33515"
      },
      "outputs": [
        {
          "name": "stdout",
          "output_type": "stream",
          "text": [
            "Requirement already satisfied: pandas in /usr/local/lib/python3.10/dist-packages (1.5.3)\n",
            "Requirement already satisfied: numpy in /usr/local/lib/python3.10/dist-packages (1.23.5)\n",
            "Requirement already satisfied: sweetviz in /usr/local/lib/python3.10/dist-packages (2.2.1)\n",
            "Requirement already satisfied: seaborn in /usr/local/lib/python3.10/dist-packages (0.12.2)\n",
            "Requirement already satisfied: matplotlib in /usr/local/lib/python3.10/dist-packages (3.7.1)\n",
            "Requirement already satisfied: scikit-learn in /usr/local/lib/python3.10/dist-packages (1.2.2)\n",
            "Requirement already satisfied: python-dateutil>=2.8.1 in /usr/local/lib/python3.10/dist-packages (from pandas) (2.8.2)\n",
            "Requirement already satisfied: pytz>=2020.1 in /usr/local/lib/python3.10/dist-packages (from pandas) (2023.3.post1)\n",
            "Requirement already satisfied: tqdm>=4.43.0 in /usr/local/lib/python3.10/dist-packages (from sweetviz) (4.66.1)\n",
            "Requirement already satisfied: scipy>=1.3.2 in /usr/local/lib/python3.10/dist-packages (from sweetviz) (1.11.2)\n",
            "Requirement already satisfied: jinja2>=2.11.1 in /usr/local/lib/python3.10/dist-packages (from sweetviz) (3.1.2)\n",
            "Requirement already satisfied: importlib-resources>=1.2.0 in /usr/local/lib/python3.10/dist-packages (from sweetviz) (6.0.1)\n",
            "Requirement already satisfied: contourpy>=1.0.1 in /usr/local/lib/python3.10/dist-packages (from matplotlib) (1.1.0)\n",
            "Requirement already satisfied: cycler>=0.10 in /usr/local/lib/python3.10/dist-packages (from matplotlib) (0.11.0)\n",
            "Requirement already satisfied: fonttools>=4.22.0 in /usr/local/lib/python3.10/dist-packages (from matplotlib) (4.42.1)\n",
            "Requirement already satisfied: kiwisolver>=1.0.1 in /usr/local/lib/python3.10/dist-packages (from matplotlib) (1.4.5)\n",
            "Requirement already satisfied: packaging>=20.0 in /usr/local/lib/python3.10/dist-packages (from matplotlib) (23.1)\n",
            "Requirement already satisfied: pillow>=6.2.0 in /usr/local/lib/python3.10/dist-packages (from matplotlib) (9.4.0)\n",
            "Requirement already satisfied: pyparsing>=2.3.1 in /usr/local/lib/python3.10/dist-packages (from matplotlib) (3.1.1)\n",
            "Requirement already satisfied: joblib>=1.1.1 in /usr/local/lib/python3.10/dist-packages (from scikit-learn) (1.3.2)\n",
            "Requirement already satisfied: threadpoolctl>=2.0.0 in /usr/local/lib/python3.10/dist-packages (from scikit-learn) (3.2.0)\n",
            "Requirement already satisfied: MarkupSafe>=2.0 in /usr/local/lib/python3.10/dist-packages (from jinja2>=2.11.1->sweetviz) (2.1.3)\n",
            "Requirement already satisfied: six>=1.5 in /usr/local/lib/python3.10/dist-packages (from python-dateutil>=2.8.1->pandas) (1.16.0)\n",
            "Requirement already satisfied: sweetviz in /usr/local/lib/python3.10/dist-packages (2.2.1)\n",
            "Requirement already satisfied: pandas!=1.0.0,!=1.0.1,!=1.0.2,>=0.25.3 in /usr/local/lib/python3.10/dist-packages (from sweetviz) (1.5.3)\n",
            "Requirement already satisfied: numpy>=1.16.0 in /usr/local/lib/python3.10/dist-packages (from sweetviz) (1.23.5)\n",
            "Requirement already satisfied: matplotlib>=3.1.3 in /usr/local/lib/python3.10/dist-packages (from sweetviz) (3.7.1)\n",
            "Requirement already satisfied: tqdm>=4.43.0 in /usr/local/lib/python3.10/dist-packages (from sweetviz) (4.66.1)\n",
            "Requirement already satisfied: scipy>=1.3.2 in /usr/local/lib/python3.10/dist-packages (from sweetviz) (1.11.2)\n",
            "Requirement already satisfied: jinja2>=2.11.1 in /usr/local/lib/python3.10/dist-packages (from sweetviz) (3.1.2)\n",
            "Requirement already satisfied: importlib-resources>=1.2.0 in /usr/local/lib/python3.10/dist-packages (from sweetviz) (6.0.1)\n",
            "Requirement already satisfied: MarkupSafe>=2.0 in /usr/local/lib/python3.10/dist-packages (from jinja2>=2.11.1->sweetviz) (2.1.3)\n",
            "Requirement already satisfied: contourpy>=1.0.1 in /usr/local/lib/python3.10/dist-packages (from matplotlib>=3.1.3->sweetviz) (1.1.0)\n",
            "Requirement already satisfied: cycler>=0.10 in /usr/local/lib/python3.10/dist-packages (from matplotlib>=3.1.3->sweetviz) (0.11.0)\n",
            "Requirement already satisfied: fonttools>=4.22.0 in /usr/local/lib/python3.10/dist-packages (from matplotlib>=3.1.3->sweetviz) (4.42.1)\n",
            "Requirement already satisfied: kiwisolver>=1.0.1 in /usr/local/lib/python3.10/dist-packages (from matplotlib>=3.1.3->sweetviz) (1.4.5)\n",
            "Requirement already satisfied: packaging>=20.0 in /usr/local/lib/python3.10/dist-packages (from matplotlib>=3.1.3->sweetviz) (23.1)\n",
            "Requirement already satisfied: pillow>=6.2.0 in /usr/local/lib/python3.10/dist-packages (from matplotlib>=3.1.3->sweetviz) (9.4.0)\n",
            "Requirement already satisfied: pyparsing>=2.3.1 in /usr/local/lib/python3.10/dist-packages (from matplotlib>=3.1.3->sweetviz) (3.1.1)\n",
            "Requirement already satisfied: python-dateutil>=2.7 in /usr/local/lib/python3.10/dist-packages (from matplotlib>=3.1.3->sweetviz) (2.8.2)\n",
            "Requirement already satisfied: pytz>=2020.1 in /usr/local/lib/python3.10/dist-packages (from pandas!=1.0.0,!=1.0.1,!=1.0.2,>=0.25.3->sweetviz) (2023.3.post1)\n",
            "Requirement already satisfied: six>=1.5 in /usr/local/lib/python3.10/dist-packages (from python-dateutil>=2.7->matplotlib>=3.1.3->sweetviz) (1.16.0)\n"
          ]
        }
      ],
      "source": [
        "#Preparamos complementos, librerías y bases disponibles\n",
        "import warnings\n",
        "\n",
        "warnings.filterwarnings(\"ignore\")\n",
        "\n",
        "!pip install pandas numpy sweetviz seaborn matplotlib scikit-learn\n",
        "\n",
        "#Instalación de complemento\n",
        "!pip install sweetviz\n",
        "\n",
        "#importar librerias\n",
        "import pandas as pd\n",
        "import numpy as np\n",
        "import sweetviz as sv\n",
        "import seaborn as sns\n",
        "import matplotlib.pyplot as plt\n",
        "import plotly.express as px\n",
        "from sklearn.linear_model import LinearRegression, Ridge, RidgeCV, Lasso\n",
        "from sklearn.impute import SimpleImputer\n",
        "from sklearn.preprocessing import OneHotEncoder, StandardScaler\n",
        "from sklearn.compose import ColumnTransformer\n",
        "from sklearn.model_selection import train_test_split\n",
        "from sklearn.metrics import mean_absolute_error, mean_squared_error, r2_score\n",
        "from sklearn.linear_model import LogisticRegression\n",
        "from sklearn.metrics import accuracy_score\n",
        "from sklearn.metrics import confusion_matrix, ConfusionMatrixDisplay\n",
        "from sklearn.feature_selection import RFE\n",
        "from sklearn.linear_model import LogisticRegression\n",
        "from sklearn.metrics import classification_report\n",
        "from sklearn.linear_model import LogisticRegression\n",
        "from sklearn.model_selection import train_test_split\n",
        "from sklearn.model_selection import KFold\n",
        "from sklearn.model_selection import cross_val_score\n",
        "from sklearn.model_selection import LeaveOneOut\n",
        "from sklearn.model_selection import ShuffleSplit\n",
        "from sklearn import datasets\n",
        "import numpy as np\n",
        "import pandas as pd\n",
        "from sklearn import tree\n",
        "from sklearn.model_selection import train_test_split\n",
        "from sklearn import metrics\n",
        "from sklearn.metrics import accuracy_score, confusion_matrix, ConfusionMatrixDisplay\n",
        "\n",
        "\n",
        "%matplotlib inline\n",
        "\n",
        "# Lectura de los datos\n",
        "#df_auto = pd.read_csv('data/auto-mpg.csv')\n",
        "dfemployee_survey_data= pd.read_csv(\"https://raw.githubusercontent.com/ivandiaz25/Proyecto_Analitica_1/master/Datasets/employee_survey_data.csv\", na_values='?')\n",
        "dfgeneral_data = pd.read_csv(\"https://raw.githubusercontent.com/ivandiaz25/Proyecto_Analitica_1/master/Datasets/general_data.csv\", na_values='?')\n",
        "dfmanager_survey_data = pd.read_csv(\"https://raw.githubusercontent.com/ivandiaz25/Proyecto_Analitica_1/master/Datasets/manager_survey_data.csv\", na_values='?')\n",
        "dftime_work = pd.read_csv(\"https://raw.githubusercontent.com/ivandiaz25/Proyecto_Analitica_1/master/Datasets/time_work.csv\", na_values='?', sep = ';')"
      ]
    },
    {
      "cell_type": "markdown",
      "metadata": {
        "id": "Peujfs5_dety"
      },
      "source": [
        "# **b. Limpieza y transformación de los datos**\n",
        "\n",
        "Antes de realizar cualquier análisis, los datos deben ser limpiados y transformados. Esto implica tratar valores faltantes, eliminar duplicados, convertir datos categóricos en numéricos si es necesario, y realizar otras tareas de limpieza de datos"
      ]
    },
    {
      "cell_type": "code",
      "execution_count": null,
      "metadata": {
        "colab": {
          "base_uri": "https://localhost:8080/"
        },
        "id": "vWB0F5KyHzoo",
        "outputId": "d5b0841e-980c-4365-e6d9-f1ab7402142e"
      },
      "outputs": [
        {
          "data": {
            "text/html": [
              "\n",
              "  <div id=\"df-344114cf-5734-4805-a8e9-f3ee17f0a770\" class=\"colab-df-container\">\n",
              "    <div>\n",
              "<style scoped>\n",
              "    .dataframe tbody tr th:only-of-type {\n",
              "        vertical-align: middle;\n",
              "    }\n",
              "\n",
              "    .dataframe tbody tr th {\n",
              "        vertical-align: top;\n",
              "    }\n",
              "\n",
              "    .dataframe thead th {\n",
              "        text-align: right;\n",
              "    }\n",
              "</style>\n",
              "<table border=\"1\" class=\"dataframe\">\n",
              "  <thead>\n",
              "    <tr style=\"text-align: right;\">\n",
              "      <th></th>\n",
              "      <th>Age</th>\n",
              "      <th>Attrition</th>\n",
              "      <th>BusinessTravel</th>\n",
              "      <th>Department</th>\n",
              "      <th>DistanceFromHome</th>\n",
              "      <th>Education</th>\n",
              "      <th>EducationField</th>\n",
              "      <th>EmployeeCount</th>\n",
              "      <th>EmployeeID</th>\n",
              "      <th>Gender</th>\n",
              "      <th>...</th>\n",
              "      <th>NumCompaniesWorked</th>\n",
              "      <th>Over18</th>\n",
              "      <th>PercentSalaryHike</th>\n",
              "      <th>StandardHours</th>\n",
              "      <th>StockOptionLevel</th>\n",
              "      <th>TotalWorkingYears</th>\n",
              "      <th>TrainingTimesLastYear</th>\n",
              "      <th>YearsAtCompany</th>\n",
              "      <th>YearsSinceLastPromotion</th>\n",
              "      <th>YearsWithCurrManager</th>\n",
              "    </tr>\n",
              "  </thead>\n",
              "  <tbody>\n",
              "    <tr>\n",
              "      <th>0</th>\n",
              "      <td>51</td>\n",
              "      <td>No</td>\n",
              "      <td>Travel_Rarely</td>\n",
              "      <td>Sales</td>\n",
              "      <td>6</td>\n",
              "      <td>2</td>\n",
              "      <td>Life Sciences</td>\n",
              "      <td>1</td>\n",
              "      <td>1</td>\n",
              "      <td>Female</td>\n",
              "      <td>...</td>\n",
              "      <td>1.0</td>\n",
              "      <td>Y</td>\n",
              "      <td>11</td>\n",
              "      <td>8</td>\n",
              "      <td>0</td>\n",
              "      <td>1.0</td>\n",
              "      <td>6</td>\n",
              "      <td>1</td>\n",
              "      <td>0</td>\n",
              "      <td>0</td>\n",
              "    </tr>\n",
              "    <tr>\n",
              "      <th>1</th>\n",
              "      <td>31</td>\n",
              "      <td>Yes</td>\n",
              "      <td>Travel_Frequently</td>\n",
              "      <td>Research &amp; Development</td>\n",
              "      <td>10</td>\n",
              "      <td>1</td>\n",
              "      <td>Life Sciences</td>\n",
              "      <td>1</td>\n",
              "      <td>2</td>\n",
              "      <td>Female</td>\n",
              "      <td>...</td>\n",
              "      <td>0.0</td>\n",
              "      <td>Y</td>\n",
              "      <td>23</td>\n",
              "      <td>8</td>\n",
              "      <td>1</td>\n",
              "      <td>6.0</td>\n",
              "      <td>3</td>\n",
              "      <td>5</td>\n",
              "      <td>1</td>\n",
              "      <td>4</td>\n",
              "    </tr>\n",
              "    <tr>\n",
              "      <th>2</th>\n",
              "      <td>32</td>\n",
              "      <td>No</td>\n",
              "      <td>Travel_Frequently</td>\n",
              "      <td>Research &amp; Development</td>\n",
              "      <td>17</td>\n",
              "      <td>4</td>\n",
              "      <td>Other</td>\n",
              "      <td>1</td>\n",
              "      <td>3</td>\n",
              "      <td>Male</td>\n",
              "      <td>...</td>\n",
              "      <td>1.0</td>\n",
              "      <td>Y</td>\n",
              "      <td>15</td>\n",
              "      <td>8</td>\n",
              "      <td>3</td>\n",
              "      <td>5.0</td>\n",
              "      <td>2</td>\n",
              "      <td>5</td>\n",
              "      <td>0</td>\n",
              "      <td>3</td>\n",
              "    </tr>\n",
              "    <tr>\n",
              "      <th>3</th>\n",
              "      <td>38</td>\n",
              "      <td>No</td>\n",
              "      <td>Non-Travel</td>\n",
              "      <td>Research &amp; Development</td>\n",
              "      <td>2</td>\n",
              "      <td>5</td>\n",
              "      <td>Life Sciences</td>\n",
              "      <td>1</td>\n",
              "      <td>4</td>\n",
              "      <td>Male</td>\n",
              "      <td>...</td>\n",
              "      <td>3.0</td>\n",
              "      <td>Y</td>\n",
              "      <td>11</td>\n",
              "      <td>8</td>\n",
              "      <td>3</td>\n",
              "      <td>13.0</td>\n",
              "      <td>5</td>\n",
              "      <td>8</td>\n",
              "      <td>7</td>\n",
              "      <td>5</td>\n",
              "    </tr>\n",
              "    <tr>\n",
              "      <th>4</th>\n",
              "      <td>32</td>\n",
              "      <td>No</td>\n",
              "      <td>Travel_Rarely</td>\n",
              "      <td>Research &amp; Development</td>\n",
              "      <td>10</td>\n",
              "      <td>1</td>\n",
              "      <td>Medical</td>\n",
              "      <td>1</td>\n",
              "      <td>5</td>\n",
              "      <td>Male</td>\n",
              "      <td>...</td>\n",
              "      <td>4.0</td>\n",
              "      <td>Y</td>\n",
              "      <td>12</td>\n",
              "      <td>8</td>\n",
              "      <td>2</td>\n",
              "      <td>9.0</td>\n",
              "      <td>2</td>\n",
              "      <td>6</td>\n",
              "      <td>0</td>\n",
              "      <td>4</td>\n",
              "    </tr>\n",
              "  </tbody>\n",
              "</table>\n",
              "<p>5 rows × 24 columns</p>\n",
              "</div>\n",
              "    <div class=\"colab-df-buttons\">\n",
              "\n",
              "  <div class=\"colab-df-container\">\n",
              "    <button class=\"colab-df-convert\" onclick=\"convertToInteractive('df-344114cf-5734-4805-a8e9-f3ee17f0a770')\"\n",
              "            title=\"Convert this dataframe to an interactive table.\"\n",
              "            style=\"display:none;\">\n",
              "\n",
              "  <svg xmlns=\"http://www.w3.org/2000/svg\" height=\"24px\" viewBox=\"0 -960 960 960\">\n",
              "    <path d=\"M120-120v-720h720v720H120Zm60-500h600v-160H180v160Zm220 220h160v-160H400v160Zm0 220h160v-160H400v160ZM180-400h160v-160H180v160Zm440 0h160v-160H620v160ZM180-180h160v-160H180v160Zm440 0h160v-160H620v160Z\"/>\n",
              "  </svg>\n",
              "    </button>\n",
              "\n",
              "  <style>\n",
              "    .colab-df-container {\n",
              "      display:flex;\n",
              "      gap: 12px;\n",
              "    }\n",
              "\n",
              "    .colab-df-convert {\n",
              "      background-color: #E8F0FE;\n",
              "      border: none;\n",
              "      border-radius: 50%;\n",
              "      cursor: pointer;\n",
              "      display: none;\n",
              "      fill: #1967D2;\n",
              "      height: 32px;\n",
              "      padding: 0 0 0 0;\n",
              "      width: 32px;\n",
              "    }\n",
              "\n",
              "    .colab-df-convert:hover {\n",
              "      background-color: #E2EBFA;\n",
              "      box-shadow: 0px 1px 2px rgba(60, 64, 67, 0.3), 0px 1px 3px 1px rgba(60, 64, 67, 0.15);\n",
              "      fill: #174EA6;\n",
              "    }\n",
              "\n",
              "    .colab-df-buttons div {\n",
              "      margin-bottom: 4px;\n",
              "    }\n",
              "\n",
              "    [theme=dark] .colab-df-convert {\n",
              "      background-color: #3B4455;\n",
              "      fill: #D2E3FC;\n",
              "    }\n",
              "\n",
              "    [theme=dark] .colab-df-convert:hover {\n",
              "      background-color: #434B5C;\n",
              "      box-shadow: 0px 1px 3px 1px rgba(0, 0, 0, 0.15);\n",
              "      filter: drop-shadow(0px 1px 2px rgba(0, 0, 0, 0.3));\n",
              "      fill: #FFFFFF;\n",
              "    }\n",
              "  </style>\n",
              "\n",
              "    <script>\n",
              "      const buttonEl =\n",
              "        document.querySelector('#df-344114cf-5734-4805-a8e9-f3ee17f0a770 button.colab-df-convert');\n",
              "      buttonEl.style.display =\n",
              "        google.colab.kernel.accessAllowed ? 'block' : 'none';\n",
              "\n",
              "      async function convertToInteractive(key) {\n",
              "        const element = document.querySelector('#df-344114cf-5734-4805-a8e9-f3ee17f0a770');\n",
              "        const dataTable =\n",
              "          await google.colab.kernel.invokeFunction('convertToInteractive',\n",
              "                                                    [key], {});\n",
              "        if (!dataTable) return;\n",
              "\n",
              "        const docLinkHtml = 'Like what you see? Visit the ' +\n",
              "          '<a target=\"_blank\" href=https://colab.research.google.com/notebooks/data_table.ipynb>data table notebook</a>'\n",
              "          + ' to learn more about interactive tables.';\n",
              "        element.innerHTML = '';\n",
              "        dataTable['output_type'] = 'display_data';\n",
              "        await google.colab.output.renderOutput(dataTable, element);\n",
              "        const docLink = document.createElement('div');\n",
              "        docLink.innerHTML = docLinkHtml;\n",
              "        element.appendChild(docLink);\n",
              "      }\n",
              "    </script>\n",
              "  </div>\n",
              "\n",
              "\n",
              "<div id=\"df-4bcafc30-bff1-415f-821d-7372c67a0f1e\">\n",
              "  <button class=\"colab-df-quickchart\" onclick=\"quickchart('df-4bcafc30-bff1-415f-821d-7372c67a0f1e')\"\n",
              "            title=\"Suggest charts.\"\n",
              "            style=\"display:none;\">\n",
              "\n",
              "<svg xmlns=\"http://www.w3.org/2000/svg\" height=\"24px\"viewBox=\"0 0 24 24\"\n",
              "     width=\"24px\">\n",
              "    <g>\n",
              "        <path d=\"M19 3H5c-1.1 0-2 .9-2 2v14c0 1.1.9 2 2 2h14c1.1 0 2-.9 2-2V5c0-1.1-.9-2-2-2zM9 17H7v-7h2v7zm4 0h-2V7h2v10zm4 0h-2v-4h2v4z\"/>\n",
              "    </g>\n",
              "</svg>\n",
              "  </button>\n",
              "\n",
              "<style>\n",
              "  .colab-df-quickchart {\n",
              "      --bg-color: #E8F0FE;\n",
              "      --fill-color: #1967D2;\n",
              "      --hover-bg-color: #E2EBFA;\n",
              "      --hover-fill-color: #174EA6;\n",
              "      --disabled-fill-color: #AAA;\n",
              "      --disabled-bg-color: #DDD;\n",
              "  }\n",
              "\n",
              "  [theme=dark] .colab-df-quickchart {\n",
              "      --bg-color: #3B4455;\n",
              "      --fill-color: #D2E3FC;\n",
              "      --hover-bg-color: #434B5C;\n",
              "      --hover-fill-color: #FFFFFF;\n",
              "      --disabled-bg-color: #3B4455;\n",
              "      --disabled-fill-color: #666;\n",
              "  }\n",
              "\n",
              "  .colab-df-quickchart {\n",
              "    background-color: var(--bg-color);\n",
              "    border: none;\n",
              "    border-radius: 50%;\n",
              "    cursor: pointer;\n",
              "    display: none;\n",
              "    fill: var(--fill-color);\n",
              "    height: 32px;\n",
              "    padding: 0;\n",
              "    width: 32px;\n",
              "  }\n",
              "\n",
              "  .colab-df-quickchart:hover {\n",
              "    background-color: var(--hover-bg-color);\n",
              "    box-shadow: 0 1px 2px rgba(60, 64, 67, 0.3), 0 1px 3px 1px rgba(60, 64, 67, 0.15);\n",
              "    fill: var(--button-hover-fill-color);\n",
              "  }\n",
              "\n",
              "  .colab-df-quickchart-complete:disabled,\n",
              "  .colab-df-quickchart-complete:disabled:hover {\n",
              "    background-color: var(--disabled-bg-color);\n",
              "    fill: var(--disabled-fill-color);\n",
              "    box-shadow: none;\n",
              "  }\n",
              "\n",
              "  .colab-df-spinner {\n",
              "    border: 2px solid var(--fill-color);\n",
              "    border-color: transparent;\n",
              "    border-bottom-color: var(--fill-color);\n",
              "    animation:\n",
              "      spin 1s steps(1) infinite;\n",
              "  }\n",
              "\n",
              "  @keyframes spin {\n",
              "    0% {\n",
              "      border-color: transparent;\n",
              "      border-bottom-color: var(--fill-color);\n",
              "      border-left-color: var(--fill-color);\n",
              "    }\n",
              "    20% {\n",
              "      border-color: transparent;\n",
              "      border-left-color: var(--fill-color);\n",
              "      border-top-color: var(--fill-color);\n",
              "    }\n",
              "    30% {\n",
              "      border-color: transparent;\n",
              "      border-left-color: var(--fill-color);\n",
              "      border-top-color: var(--fill-color);\n",
              "      border-right-color: var(--fill-color);\n",
              "    }\n",
              "    40% {\n",
              "      border-color: transparent;\n",
              "      border-right-color: var(--fill-color);\n",
              "      border-top-color: var(--fill-color);\n",
              "    }\n",
              "    60% {\n",
              "      border-color: transparent;\n",
              "      border-right-color: var(--fill-color);\n",
              "    }\n",
              "    80% {\n",
              "      border-color: transparent;\n",
              "      border-right-color: var(--fill-color);\n",
              "      border-bottom-color: var(--fill-color);\n",
              "    }\n",
              "    90% {\n",
              "      border-color: transparent;\n",
              "      border-bottom-color: var(--fill-color);\n",
              "    }\n",
              "  }\n",
              "</style>\n",
              "\n",
              "  <script>\n",
              "    async function quickchart(key) {\n",
              "      const quickchartButtonEl =\n",
              "        document.querySelector('#' + key + ' button');\n",
              "      quickchartButtonEl.disabled = true;  // To prevent multiple clicks.\n",
              "      quickchartButtonEl.classList.add('colab-df-spinner');\n",
              "      try {\n",
              "        const charts = await google.colab.kernel.invokeFunction(\n",
              "            'suggestCharts', [key], {});\n",
              "      } catch (error) {\n",
              "        console.error('Error during call to suggestCharts:', error);\n",
              "      }\n",
              "      quickchartButtonEl.classList.remove('colab-df-spinner');\n",
              "      quickchartButtonEl.classList.add('colab-df-quickchart-complete');\n",
              "    }\n",
              "    (() => {\n",
              "      let quickchartButtonEl =\n",
              "        document.querySelector('#df-4bcafc30-bff1-415f-821d-7372c67a0f1e button');\n",
              "      quickchartButtonEl.style.display =\n",
              "        google.colab.kernel.accessAllowed ? 'block' : 'none';\n",
              "    })();\n",
              "  </script>\n",
              "</div>\n",
              "    </div>\n",
              "  </div>\n"
            ],
            "text/plain": [
              "   Age Attrition     BusinessTravel              Department  DistanceFromHome  \\\n",
              "0   51        No      Travel_Rarely                   Sales                 6   \n",
              "1   31       Yes  Travel_Frequently  Research & Development                10   \n",
              "2   32        No  Travel_Frequently  Research & Development                17   \n",
              "3   38        No         Non-Travel  Research & Development                 2   \n",
              "4   32        No      Travel_Rarely  Research & Development                10   \n",
              "\n",
              "   Education EducationField  EmployeeCount  EmployeeID  Gender  ...  \\\n",
              "0          2  Life Sciences              1           1  Female  ...   \n",
              "1          1  Life Sciences              1           2  Female  ...   \n",
              "2          4          Other              1           3    Male  ...   \n",
              "3          5  Life Sciences              1           4    Male  ...   \n",
              "4          1        Medical              1           5    Male  ...   \n",
              "\n",
              "   NumCompaniesWorked Over18 PercentSalaryHike  StandardHours  \\\n",
              "0                 1.0      Y                11              8   \n",
              "1                 0.0      Y                23              8   \n",
              "2                 1.0      Y                15              8   \n",
              "3                 3.0      Y                11              8   \n",
              "4                 4.0      Y                12              8   \n",
              "\n",
              "   StockOptionLevel TotalWorkingYears  TrainingTimesLastYear  YearsAtCompany  \\\n",
              "0                 0               1.0                      6               1   \n",
              "1                 1               6.0                      3               5   \n",
              "2                 3               5.0                      2               5   \n",
              "3                 3              13.0                      5               8   \n",
              "4                 2               9.0                      2               6   \n",
              "\n",
              "   YearsSinceLastPromotion  YearsWithCurrManager  \n",
              "0                        0                     0  \n",
              "1                        1                     4  \n",
              "2                        0                     3  \n",
              "3                        7                     5  \n",
              "4                        0                     4  \n",
              "\n",
              "[5 rows x 24 columns]"
            ]
          },
          "execution_count": 6,
          "metadata": {},
          "output_type": "execute_result"
        }
      ],
      "source": [
        "#Un primer vistazo para verificar que se hayan cargado las tablas correctamente\n",
        "dfgeneral_data.head()"
      ]
    },
    {
      "cell_type": "code",
      "execution_count": null,
      "metadata": {
        "colab": {
          "base_uri": "https://localhost:8080/"
        },
        "id": "CCj_Sb37Hzoo",
        "outputId": "1b32ead0-33de-4c6a-a882-66f4cf05e4d1"
      },
      "outputs": [
        {
          "data": {
            "text/html": [
              "\n",
              "  <div id=\"df-7f39ecec-bea1-4700-92ad-7bbb2820c294\" class=\"colab-df-container\">\n",
              "    <div>\n",
              "<style scoped>\n",
              "    .dataframe tbody tr th:only-of-type {\n",
              "        vertical-align: middle;\n",
              "    }\n",
              "\n",
              "    .dataframe tbody tr th {\n",
              "        vertical-align: top;\n",
              "    }\n",
              "\n",
              "    .dataframe thead th {\n",
              "        text-align: right;\n",
              "    }\n",
              "</style>\n",
              "<table border=\"1\" class=\"dataframe\">\n",
              "  <thead>\n",
              "    <tr style=\"text-align: right;\">\n",
              "      <th></th>\n",
              "      <th>EmployeeID</th>\n",
              "      <th>EnvironmentSatisfaction</th>\n",
              "      <th>JobSatisfaction</th>\n",
              "      <th>WorkLifeBalance</th>\n",
              "    </tr>\n",
              "  </thead>\n",
              "  <tbody>\n",
              "    <tr>\n",
              "      <th>0</th>\n",
              "      <td>1</td>\n",
              "      <td>3.0</td>\n",
              "      <td>4.0</td>\n",
              "      <td>2.0</td>\n",
              "    </tr>\n",
              "    <tr>\n",
              "      <th>1</th>\n",
              "      <td>2</td>\n",
              "      <td>3.0</td>\n",
              "      <td>2.0</td>\n",
              "      <td>4.0</td>\n",
              "    </tr>\n",
              "    <tr>\n",
              "      <th>2</th>\n",
              "      <td>3</td>\n",
              "      <td>2.0</td>\n",
              "      <td>2.0</td>\n",
              "      <td>1.0</td>\n",
              "    </tr>\n",
              "    <tr>\n",
              "      <th>3</th>\n",
              "      <td>4</td>\n",
              "      <td>4.0</td>\n",
              "      <td>4.0</td>\n",
              "      <td>3.0</td>\n",
              "    </tr>\n",
              "    <tr>\n",
              "      <th>4</th>\n",
              "      <td>5</td>\n",
              "      <td>4.0</td>\n",
              "      <td>1.0</td>\n",
              "      <td>3.0</td>\n",
              "    </tr>\n",
              "  </tbody>\n",
              "</table>\n",
              "</div>\n",
              "    <div class=\"colab-df-buttons\">\n",
              "\n",
              "  <div class=\"colab-df-container\">\n",
              "    <button class=\"colab-df-convert\" onclick=\"convertToInteractive('df-7f39ecec-bea1-4700-92ad-7bbb2820c294')\"\n",
              "            title=\"Convert this dataframe to an interactive table.\"\n",
              "            style=\"display:none;\">\n",
              "\n",
              "  <svg xmlns=\"http://www.w3.org/2000/svg\" height=\"24px\" viewBox=\"0 -960 960 960\">\n",
              "    <path d=\"M120-120v-720h720v720H120Zm60-500h600v-160H180v160Zm220 220h160v-160H400v160Zm0 220h160v-160H400v160ZM180-400h160v-160H180v160Zm440 0h160v-160H620v160ZM180-180h160v-160H180v160Zm440 0h160v-160H620v160Z\"/>\n",
              "  </svg>\n",
              "    </button>\n",
              "\n",
              "  <style>\n",
              "    .colab-df-container {\n",
              "      display:flex;\n",
              "      gap: 12px;\n",
              "    }\n",
              "\n",
              "    .colab-df-convert {\n",
              "      background-color: #E8F0FE;\n",
              "      border: none;\n",
              "      border-radius: 50%;\n",
              "      cursor: pointer;\n",
              "      display: none;\n",
              "      fill: #1967D2;\n",
              "      height: 32px;\n",
              "      padding: 0 0 0 0;\n",
              "      width: 32px;\n",
              "    }\n",
              "\n",
              "    .colab-df-convert:hover {\n",
              "      background-color: #E2EBFA;\n",
              "      box-shadow: 0px 1px 2px rgba(60, 64, 67, 0.3), 0px 1px 3px 1px rgba(60, 64, 67, 0.15);\n",
              "      fill: #174EA6;\n",
              "    }\n",
              "\n",
              "    .colab-df-buttons div {\n",
              "      margin-bottom: 4px;\n",
              "    }\n",
              "\n",
              "    [theme=dark] .colab-df-convert {\n",
              "      background-color: #3B4455;\n",
              "      fill: #D2E3FC;\n",
              "    }\n",
              "\n",
              "    [theme=dark] .colab-df-convert:hover {\n",
              "      background-color: #434B5C;\n",
              "      box-shadow: 0px 1px 3px 1px rgba(0, 0, 0, 0.15);\n",
              "      filter: drop-shadow(0px 1px 2px rgba(0, 0, 0, 0.3));\n",
              "      fill: #FFFFFF;\n",
              "    }\n",
              "  </style>\n",
              "\n",
              "    <script>\n",
              "      const buttonEl =\n",
              "        document.querySelector('#df-7f39ecec-bea1-4700-92ad-7bbb2820c294 button.colab-df-convert');\n",
              "      buttonEl.style.display =\n",
              "        google.colab.kernel.accessAllowed ? 'block' : 'none';\n",
              "\n",
              "      async function convertToInteractive(key) {\n",
              "        const element = document.querySelector('#df-7f39ecec-bea1-4700-92ad-7bbb2820c294');\n",
              "        const dataTable =\n",
              "          await google.colab.kernel.invokeFunction('convertToInteractive',\n",
              "                                                    [key], {});\n",
              "        if (!dataTable) return;\n",
              "\n",
              "        const docLinkHtml = 'Like what you see? Visit the ' +\n",
              "          '<a target=\"_blank\" href=https://colab.research.google.com/notebooks/data_table.ipynb>data table notebook</a>'\n",
              "          + ' to learn more about interactive tables.';\n",
              "        element.innerHTML = '';\n",
              "        dataTable['output_type'] = 'display_data';\n",
              "        await google.colab.output.renderOutput(dataTable, element);\n",
              "        const docLink = document.createElement('div');\n",
              "        docLink.innerHTML = docLinkHtml;\n",
              "        element.appendChild(docLink);\n",
              "      }\n",
              "    </script>\n",
              "  </div>\n",
              "\n",
              "\n",
              "<div id=\"df-0a0c3e3f-4b12-4755-af4d-c33fdd20cc22\">\n",
              "  <button class=\"colab-df-quickchart\" onclick=\"quickchart('df-0a0c3e3f-4b12-4755-af4d-c33fdd20cc22')\"\n",
              "            title=\"Suggest charts.\"\n",
              "            style=\"display:none;\">\n",
              "\n",
              "<svg xmlns=\"http://www.w3.org/2000/svg\" height=\"24px\"viewBox=\"0 0 24 24\"\n",
              "     width=\"24px\">\n",
              "    <g>\n",
              "        <path d=\"M19 3H5c-1.1 0-2 .9-2 2v14c0 1.1.9 2 2 2h14c1.1 0 2-.9 2-2V5c0-1.1-.9-2-2-2zM9 17H7v-7h2v7zm4 0h-2V7h2v10zm4 0h-2v-4h2v4z\"/>\n",
              "    </g>\n",
              "</svg>\n",
              "  </button>\n",
              "\n",
              "<style>\n",
              "  .colab-df-quickchart {\n",
              "      --bg-color: #E8F0FE;\n",
              "      --fill-color: #1967D2;\n",
              "      --hover-bg-color: #E2EBFA;\n",
              "      --hover-fill-color: #174EA6;\n",
              "      --disabled-fill-color: #AAA;\n",
              "      --disabled-bg-color: #DDD;\n",
              "  }\n",
              "\n",
              "  [theme=dark] .colab-df-quickchart {\n",
              "      --bg-color: #3B4455;\n",
              "      --fill-color: #D2E3FC;\n",
              "      --hover-bg-color: #434B5C;\n",
              "      --hover-fill-color: #FFFFFF;\n",
              "      --disabled-bg-color: #3B4455;\n",
              "      --disabled-fill-color: #666;\n",
              "  }\n",
              "\n",
              "  .colab-df-quickchart {\n",
              "    background-color: var(--bg-color);\n",
              "    border: none;\n",
              "    border-radius: 50%;\n",
              "    cursor: pointer;\n",
              "    display: none;\n",
              "    fill: var(--fill-color);\n",
              "    height: 32px;\n",
              "    padding: 0;\n",
              "    width: 32px;\n",
              "  }\n",
              "\n",
              "  .colab-df-quickchart:hover {\n",
              "    background-color: var(--hover-bg-color);\n",
              "    box-shadow: 0 1px 2px rgba(60, 64, 67, 0.3), 0 1px 3px 1px rgba(60, 64, 67, 0.15);\n",
              "    fill: var(--button-hover-fill-color);\n",
              "  }\n",
              "\n",
              "  .colab-df-quickchart-complete:disabled,\n",
              "  .colab-df-quickchart-complete:disabled:hover {\n",
              "    background-color: var(--disabled-bg-color);\n",
              "    fill: var(--disabled-fill-color);\n",
              "    box-shadow: none;\n",
              "  }\n",
              "\n",
              "  .colab-df-spinner {\n",
              "    border: 2px solid var(--fill-color);\n",
              "    border-color: transparent;\n",
              "    border-bottom-color: var(--fill-color);\n",
              "    animation:\n",
              "      spin 1s steps(1) infinite;\n",
              "  }\n",
              "\n",
              "  @keyframes spin {\n",
              "    0% {\n",
              "      border-color: transparent;\n",
              "      border-bottom-color: var(--fill-color);\n",
              "      border-left-color: var(--fill-color);\n",
              "    }\n",
              "    20% {\n",
              "      border-color: transparent;\n",
              "      border-left-color: var(--fill-color);\n",
              "      border-top-color: var(--fill-color);\n",
              "    }\n",
              "    30% {\n",
              "      border-color: transparent;\n",
              "      border-left-color: var(--fill-color);\n",
              "      border-top-color: var(--fill-color);\n",
              "      border-right-color: var(--fill-color);\n",
              "    }\n",
              "    40% {\n",
              "      border-color: transparent;\n",
              "      border-right-color: var(--fill-color);\n",
              "      border-top-color: var(--fill-color);\n",
              "    }\n",
              "    60% {\n",
              "      border-color: transparent;\n",
              "      border-right-color: var(--fill-color);\n",
              "    }\n",
              "    80% {\n",
              "      border-color: transparent;\n",
              "      border-right-color: var(--fill-color);\n",
              "      border-bottom-color: var(--fill-color);\n",
              "    }\n",
              "    90% {\n",
              "      border-color: transparent;\n",
              "      border-bottom-color: var(--fill-color);\n",
              "    }\n",
              "  }\n",
              "</style>\n",
              "\n",
              "  <script>\n",
              "    async function quickchart(key) {\n",
              "      const quickchartButtonEl =\n",
              "        document.querySelector('#' + key + ' button');\n",
              "      quickchartButtonEl.disabled = true;  // To prevent multiple clicks.\n",
              "      quickchartButtonEl.classList.add('colab-df-spinner');\n",
              "      try {\n",
              "        const charts = await google.colab.kernel.invokeFunction(\n",
              "            'suggestCharts', [key], {});\n",
              "      } catch (error) {\n",
              "        console.error('Error during call to suggestCharts:', error);\n",
              "      }\n",
              "      quickchartButtonEl.classList.remove('colab-df-spinner');\n",
              "      quickchartButtonEl.classList.add('colab-df-quickchart-complete');\n",
              "    }\n",
              "    (() => {\n",
              "      let quickchartButtonEl =\n",
              "        document.querySelector('#df-0a0c3e3f-4b12-4755-af4d-c33fdd20cc22 button');\n",
              "      quickchartButtonEl.style.display =\n",
              "        google.colab.kernel.accessAllowed ? 'block' : 'none';\n",
              "    })();\n",
              "  </script>\n",
              "</div>\n",
              "    </div>\n",
              "  </div>\n"
            ],
            "text/plain": [
              "   EmployeeID  EnvironmentSatisfaction  JobSatisfaction  WorkLifeBalance\n",
              "0           1                      3.0              4.0              2.0\n",
              "1           2                      3.0              2.0              4.0\n",
              "2           3                      2.0              2.0              1.0\n",
              "3           4                      4.0              4.0              3.0\n",
              "4           5                      4.0              1.0              3.0"
            ]
          },
          "execution_count": 7,
          "metadata": {},
          "output_type": "execute_result"
        }
      ],
      "source": [
        "#Visualizamos las primeras líneas de los archivos\n",
        "#Para empleados\n",
        "dfemployee_survey_data.head()"
      ]
    },
    {
      "cell_type": "code",
      "execution_count": null,
      "metadata": {
        "colab": {
          "base_uri": "https://localhost:8080/"
        },
        "id": "GFLwPBJOaj1a",
        "outputId": "8c80d320-88fb-48ec-b11e-d3d8218d368d"
      },
      "outputs": [
        {
          "data": {
            "text/html": [
              "\n",
              "  <div id=\"df-c815fbaa-0261-4c2b-a370-0afe990beddc\" class=\"colab-df-container\">\n",
              "    <div>\n",
              "<style scoped>\n",
              "    .dataframe tbody tr th:only-of-type {\n",
              "        vertical-align: middle;\n",
              "    }\n",
              "\n",
              "    .dataframe tbody tr th {\n",
              "        vertical-align: top;\n",
              "    }\n",
              "\n",
              "    .dataframe thead th {\n",
              "        text-align: right;\n",
              "    }\n",
              "</style>\n",
              "<table border=\"1\" class=\"dataframe\">\n",
              "  <thead>\n",
              "    <tr style=\"text-align: right;\">\n",
              "      <th></th>\n",
              "      <th>EmployeeID</th>\n",
              "      <th>JobInvolvement</th>\n",
              "      <th>PerformanceRating</th>\n",
              "    </tr>\n",
              "  </thead>\n",
              "  <tbody>\n",
              "    <tr>\n",
              "      <th>0</th>\n",
              "      <td>1</td>\n",
              "      <td>3</td>\n",
              "      <td>3</td>\n",
              "    </tr>\n",
              "    <tr>\n",
              "      <th>1</th>\n",
              "      <td>2</td>\n",
              "      <td>2</td>\n",
              "      <td>4</td>\n",
              "    </tr>\n",
              "    <tr>\n",
              "      <th>2</th>\n",
              "      <td>3</td>\n",
              "      <td>3</td>\n",
              "      <td>3</td>\n",
              "    </tr>\n",
              "    <tr>\n",
              "      <th>3</th>\n",
              "      <td>4</td>\n",
              "      <td>2</td>\n",
              "      <td>3</td>\n",
              "    </tr>\n",
              "    <tr>\n",
              "      <th>4</th>\n",
              "      <td>5</td>\n",
              "      <td>3</td>\n",
              "      <td>3</td>\n",
              "    </tr>\n",
              "  </tbody>\n",
              "</table>\n",
              "</div>\n",
              "    <div class=\"colab-df-buttons\">\n",
              "\n",
              "  <div class=\"colab-df-container\">\n",
              "    <button class=\"colab-df-convert\" onclick=\"convertToInteractive('df-c815fbaa-0261-4c2b-a370-0afe990beddc')\"\n",
              "            title=\"Convert this dataframe to an interactive table.\"\n",
              "            style=\"display:none;\">\n",
              "\n",
              "  <svg xmlns=\"http://www.w3.org/2000/svg\" height=\"24px\" viewBox=\"0 -960 960 960\">\n",
              "    <path d=\"M120-120v-720h720v720H120Zm60-500h600v-160H180v160Zm220 220h160v-160H400v160Zm0 220h160v-160H400v160ZM180-400h160v-160H180v160Zm440 0h160v-160H620v160ZM180-180h160v-160H180v160Zm440 0h160v-160H620v160Z\"/>\n",
              "  </svg>\n",
              "    </button>\n",
              "\n",
              "  <style>\n",
              "    .colab-df-container {\n",
              "      display:flex;\n",
              "      gap: 12px;\n",
              "    }\n",
              "\n",
              "    .colab-df-convert {\n",
              "      background-color: #E8F0FE;\n",
              "      border: none;\n",
              "      border-radius: 50%;\n",
              "      cursor: pointer;\n",
              "      display: none;\n",
              "      fill: #1967D2;\n",
              "      height: 32px;\n",
              "      padding: 0 0 0 0;\n",
              "      width: 32px;\n",
              "    }\n",
              "\n",
              "    .colab-df-convert:hover {\n",
              "      background-color: #E2EBFA;\n",
              "      box-shadow: 0px 1px 2px rgba(60, 64, 67, 0.3), 0px 1px 3px 1px rgba(60, 64, 67, 0.15);\n",
              "      fill: #174EA6;\n",
              "    }\n",
              "\n",
              "    .colab-df-buttons div {\n",
              "      margin-bottom: 4px;\n",
              "    }\n",
              "\n",
              "    [theme=dark] .colab-df-convert {\n",
              "      background-color: #3B4455;\n",
              "      fill: #D2E3FC;\n",
              "    }\n",
              "\n",
              "    [theme=dark] .colab-df-convert:hover {\n",
              "      background-color: #434B5C;\n",
              "      box-shadow: 0px 1px 3px 1px rgba(0, 0, 0, 0.15);\n",
              "      filter: drop-shadow(0px 1px 2px rgba(0, 0, 0, 0.3));\n",
              "      fill: #FFFFFF;\n",
              "    }\n",
              "  </style>\n",
              "\n",
              "    <script>\n",
              "      const buttonEl =\n",
              "        document.querySelector('#df-c815fbaa-0261-4c2b-a370-0afe990beddc button.colab-df-convert');\n",
              "      buttonEl.style.display =\n",
              "        google.colab.kernel.accessAllowed ? 'block' : 'none';\n",
              "\n",
              "      async function convertToInteractive(key) {\n",
              "        const element = document.querySelector('#df-c815fbaa-0261-4c2b-a370-0afe990beddc');\n",
              "        const dataTable =\n",
              "          await google.colab.kernel.invokeFunction('convertToInteractive',\n",
              "                                                    [key], {});\n",
              "        if (!dataTable) return;\n",
              "\n",
              "        const docLinkHtml = 'Like what you see? Visit the ' +\n",
              "          '<a target=\"_blank\" href=https://colab.research.google.com/notebooks/data_table.ipynb>data table notebook</a>'\n",
              "          + ' to learn more about interactive tables.';\n",
              "        element.innerHTML = '';\n",
              "        dataTable['output_type'] = 'display_data';\n",
              "        await google.colab.output.renderOutput(dataTable, element);\n",
              "        const docLink = document.createElement('div');\n",
              "        docLink.innerHTML = docLinkHtml;\n",
              "        element.appendChild(docLink);\n",
              "      }\n",
              "    </script>\n",
              "  </div>\n",
              "\n",
              "\n",
              "<div id=\"df-77b59d38-4104-437b-bedc-343d8d32d272\">\n",
              "  <button class=\"colab-df-quickchart\" onclick=\"quickchart('df-77b59d38-4104-437b-bedc-343d8d32d272')\"\n",
              "            title=\"Suggest charts.\"\n",
              "            style=\"display:none;\">\n",
              "\n",
              "<svg xmlns=\"http://www.w3.org/2000/svg\" height=\"24px\"viewBox=\"0 0 24 24\"\n",
              "     width=\"24px\">\n",
              "    <g>\n",
              "        <path d=\"M19 3H5c-1.1 0-2 .9-2 2v14c0 1.1.9 2 2 2h14c1.1 0 2-.9 2-2V5c0-1.1-.9-2-2-2zM9 17H7v-7h2v7zm4 0h-2V7h2v10zm4 0h-2v-4h2v4z\"/>\n",
              "    </g>\n",
              "</svg>\n",
              "  </button>\n",
              "\n",
              "<style>\n",
              "  .colab-df-quickchart {\n",
              "      --bg-color: #E8F0FE;\n",
              "      --fill-color: #1967D2;\n",
              "      --hover-bg-color: #E2EBFA;\n",
              "      --hover-fill-color: #174EA6;\n",
              "      --disabled-fill-color: #AAA;\n",
              "      --disabled-bg-color: #DDD;\n",
              "  }\n",
              "\n",
              "  [theme=dark] .colab-df-quickchart {\n",
              "      --bg-color: #3B4455;\n",
              "      --fill-color: #D2E3FC;\n",
              "      --hover-bg-color: #434B5C;\n",
              "      --hover-fill-color: #FFFFFF;\n",
              "      --disabled-bg-color: #3B4455;\n",
              "      --disabled-fill-color: #666;\n",
              "  }\n",
              "\n",
              "  .colab-df-quickchart {\n",
              "    background-color: var(--bg-color);\n",
              "    border: none;\n",
              "    border-radius: 50%;\n",
              "    cursor: pointer;\n",
              "    display: none;\n",
              "    fill: var(--fill-color);\n",
              "    height: 32px;\n",
              "    padding: 0;\n",
              "    width: 32px;\n",
              "  }\n",
              "\n",
              "  .colab-df-quickchart:hover {\n",
              "    background-color: var(--hover-bg-color);\n",
              "    box-shadow: 0 1px 2px rgba(60, 64, 67, 0.3), 0 1px 3px 1px rgba(60, 64, 67, 0.15);\n",
              "    fill: var(--button-hover-fill-color);\n",
              "  }\n",
              "\n",
              "  .colab-df-quickchart-complete:disabled,\n",
              "  .colab-df-quickchart-complete:disabled:hover {\n",
              "    background-color: var(--disabled-bg-color);\n",
              "    fill: var(--disabled-fill-color);\n",
              "    box-shadow: none;\n",
              "  }\n",
              "\n",
              "  .colab-df-spinner {\n",
              "    border: 2px solid var(--fill-color);\n",
              "    border-color: transparent;\n",
              "    border-bottom-color: var(--fill-color);\n",
              "    animation:\n",
              "      spin 1s steps(1) infinite;\n",
              "  }\n",
              "\n",
              "  @keyframes spin {\n",
              "    0% {\n",
              "      border-color: transparent;\n",
              "      border-bottom-color: var(--fill-color);\n",
              "      border-left-color: var(--fill-color);\n",
              "    }\n",
              "    20% {\n",
              "      border-color: transparent;\n",
              "      border-left-color: var(--fill-color);\n",
              "      border-top-color: var(--fill-color);\n",
              "    }\n",
              "    30% {\n",
              "      border-color: transparent;\n",
              "      border-left-color: var(--fill-color);\n",
              "      border-top-color: var(--fill-color);\n",
              "      border-right-color: var(--fill-color);\n",
              "    }\n",
              "    40% {\n",
              "      border-color: transparent;\n",
              "      border-right-color: var(--fill-color);\n",
              "      border-top-color: var(--fill-color);\n",
              "    }\n",
              "    60% {\n",
              "      border-color: transparent;\n",
              "      border-right-color: var(--fill-color);\n",
              "    }\n",
              "    80% {\n",
              "      border-color: transparent;\n",
              "      border-right-color: var(--fill-color);\n",
              "      border-bottom-color: var(--fill-color);\n",
              "    }\n",
              "    90% {\n",
              "      border-color: transparent;\n",
              "      border-bottom-color: var(--fill-color);\n",
              "    }\n",
              "  }\n",
              "</style>\n",
              "\n",
              "  <script>\n",
              "    async function quickchart(key) {\n",
              "      const quickchartButtonEl =\n",
              "        document.querySelector('#' + key + ' button');\n",
              "      quickchartButtonEl.disabled = true;  // To prevent multiple clicks.\n",
              "      quickchartButtonEl.classList.add('colab-df-spinner');\n",
              "      try {\n",
              "        const charts = await google.colab.kernel.invokeFunction(\n",
              "            'suggestCharts', [key], {});\n",
              "      } catch (error) {\n",
              "        console.error('Error during call to suggestCharts:', error);\n",
              "      }\n",
              "      quickchartButtonEl.classList.remove('colab-df-spinner');\n",
              "      quickchartButtonEl.classList.add('colab-df-quickchart-complete');\n",
              "    }\n",
              "    (() => {\n",
              "      let quickchartButtonEl =\n",
              "        document.querySelector('#df-77b59d38-4104-437b-bedc-343d8d32d272 button');\n",
              "      quickchartButtonEl.style.display =\n",
              "        google.colab.kernel.accessAllowed ? 'block' : 'none';\n",
              "    })();\n",
              "  </script>\n",
              "</div>\n",
              "    </div>\n",
              "  </div>\n"
            ],
            "text/plain": [
              "   EmployeeID  JobInvolvement  PerformanceRating\n",
              "0           1               3                  3\n",
              "1           2               2                  4\n",
              "2           3               3                  3\n",
              "3           4               2                  3\n",
              "4           5               3                  3"
            ]
          },
          "execution_count": 8,
          "metadata": {},
          "output_type": "execute_result"
        }
      ],
      "source": [
        "#Para gerente\n",
        "dfmanager_survey_data.head()"
      ]
    },
    {
      "cell_type": "code",
      "execution_count": null,
      "metadata": {
        "colab": {
          "base_uri": "https://localhost:8080/"
        },
        "id": "SObT8PETHzop",
        "outputId": "78ae7735-d5b8-4723-cf74-1e03509b74fe"
      },
      "outputs": [
        {
          "data": {
            "text/html": [
              "\n",
              "  <div id=\"df-d2e32bde-0f0d-4438-af45-4682264ef817\" class=\"colab-df-container\">\n",
              "    <div>\n",
              "<style scoped>\n",
              "    .dataframe tbody tr th:only-of-type {\n",
              "        vertical-align: middle;\n",
              "    }\n",
              "\n",
              "    .dataframe tbody tr th {\n",
              "        vertical-align: top;\n",
              "    }\n",
              "\n",
              "    .dataframe thead th {\n",
              "        text-align: right;\n",
              "    }\n",
              "</style>\n",
              "<table border=\"1\" class=\"dataframe\">\n",
              "  <thead>\n",
              "    <tr style=\"text-align: right;\">\n",
              "      <th></th>\n",
              "      <th>EmployeeID</th>\n",
              "      <th>mean_time</th>\n",
              "    </tr>\n",
              "  </thead>\n",
              "  <tbody>\n",
              "    <tr>\n",
              "      <th>0</th>\n",
              "      <td>1</td>\n",
              "      <td>6,8702</td>\n",
              "    </tr>\n",
              "    <tr>\n",
              "      <th>1</th>\n",
              "      <td>2</td>\n",
              "      <td>7,316</td>\n",
              "    </tr>\n",
              "    <tr>\n",
              "      <th>2</th>\n",
              "      <td>3</td>\n",
              "      <td>6,8161</td>\n",
              "    </tr>\n",
              "    <tr>\n",
              "      <th>3</th>\n",
              "      <td>4</td>\n",
              "      <td>6,7892</td>\n",
              "    </tr>\n",
              "    <tr>\n",
              "      <th>4</th>\n",
              "      <td>5</td>\n",
              "      <td>7,8776</td>\n",
              "    </tr>\n",
              "  </tbody>\n",
              "</table>\n",
              "</div>\n",
              "    <div class=\"colab-df-buttons\">\n",
              "\n",
              "  <div class=\"colab-df-container\">\n",
              "    <button class=\"colab-df-convert\" onclick=\"convertToInteractive('df-d2e32bde-0f0d-4438-af45-4682264ef817')\"\n",
              "            title=\"Convert this dataframe to an interactive table.\"\n",
              "            style=\"display:none;\">\n",
              "\n",
              "  <svg xmlns=\"http://www.w3.org/2000/svg\" height=\"24px\" viewBox=\"0 -960 960 960\">\n",
              "    <path d=\"M120-120v-720h720v720H120Zm60-500h600v-160H180v160Zm220 220h160v-160H400v160Zm0 220h160v-160H400v160ZM180-400h160v-160H180v160Zm440 0h160v-160H620v160ZM180-180h160v-160H180v160Zm440 0h160v-160H620v160Z\"/>\n",
              "  </svg>\n",
              "    </button>\n",
              "\n",
              "  <style>\n",
              "    .colab-df-container {\n",
              "      display:flex;\n",
              "      gap: 12px;\n",
              "    }\n",
              "\n",
              "    .colab-df-convert {\n",
              "      background-color: #E8F0FE;\n",
              "      border: none;\n",
              "      border-radius: 50%;\n",
              "      cursor: pointer;\n",
              "      display: none;\n",
              "      fill: #1967D2;\n",
              "      height: 32px;\n",
              "      padding: 0 0 0 0;\n",
              "      width: 32px;\n",
              "    }\n",
              "\n",
              "    .colab-df-convert:hover {\n",
              "      background-color: #E2EBFA;\n",
              "      box-shadow: 0px 1px 2px rgba(60, 64, 67, 0.3), 0px 1px 3px 1px rgba(60, 64, 67, 0.15);\n",
              "      fill: #174EA6;\n",
              "    }\n",
              "\n",
              "    .colab-df-buttons div {\n",
              "      margin-bottom: 4px;\n",
              "    }\n",
              "\n",
              "    [theme=dark] .colab-df-convert {\n",
              "      background-color: #3B4455;\n",
              "      fill: #D2E3FC;\n",
              "    }\n",
              "\n",
              "    [theme=dark] .colab-df-convert:hover {\n",
              "      background-color: #434B5C;\n",
              "      box-shadow: 0px 1px 3px 1px rgba(0, 0, 0, 0.15);\n",
              "      filter: drop-shadow(0px 1px 2px rgba(0, 0, 0, 0.3));\n",
              "      fill: #FFFFFF;\n",
              "    }\n",
              "  </style>\n",
              "\n",
              "    <script>\n",
              "      const buttonEl =\n",
              "        document.querySelector('#df-d2e32bde-0f0d-4438-af45-4682264ef817 button.colab-df-convert');\n",
              "      buttonEl.style.display =\n",
              "        google.colab.kernel.accessAllowed ? 'block' : 'none';\n",
              "\n",
              "      async function convertToInteractive(key) {\n",
              "        const element = document.querySelector('#df-d2e32bde-0f0d-4438-af45-4682264ef817');\n",
              "        const dataTable =\n",
              "          await google.colab.kernel.invokeFunction('convertToInteractive',\n",
              "                                                    [key], {});\n",
              "        if (!dataTable) return;\n",
              "\n",
              "        const docLinkHtml = 'Like what you see? Visit the ' +\n",
              "          '<a target=\"_blank\" href=https://colab.research.google.com/notebooks/data_table.ipynb>data table notebook</a>'\n",
              "          + ' to learn more about interactive tables.';\n",
              "        element.innerHTML = '';\n",
              "        dataTable['output_type'] = 'display_data';\n",
              "        await google.colab.output.renderOutput(dataTable, element);\n",
              "        const docLink = document.createElement('div');\n",
              "        docLink.innerHTML = docLinkHtml;\n",
              "        element.appendChild(docLink);\n",
              "      }\n",
              "    </script>\n",
              "  </div>\n",
              "\n",
              "\n",
              "<div id=\"df-ce1c6578-05fd-44a9-a4a3-6897855c652a\">\n",
              "  <button class=\"colab-df-quickchart\" onclick=\"quickchart('df-ce1c6578-05fd-44a9-a4a3-6897855c652a')\"\n",
              "            title=\"Suggest charts.\"\n",
              "            style=\"display:none;\">\n",
              "\n",
              "<svg xmlns=\"http://www.w3.org/2000/svg\" height=\"24px\"viewBox=\"0 0 24 24\"\n",
              "     width=\"24px\">\n",
              "    <g>\n",
              "        <path d=\"M19 3H5c-1.1 0-2 .9-2 2v14c0 1.1.9 2 2 2h14c1.1 0 2-.9 2-2V5c0-1.1-.9-2-2-2zM9 17H7v-7h2v7zm4 0h-2V7h2v10zm4 0h-2v-4h2v4z\"/>\n",
              "    </g>\n",
              "</svg>\n",
              "  </button>\n",
              "\n",
              "<style>\n",
              "  .colab-df-quickchart {\n",
              "      --bg-color: #E8F0FE;\n",
              "      --fill-color: #1967D2;\n",
              "      --hover-bg-color: #E2EBFA;\n",
              "      --hover-fill-color: #174EA6;\n",
              "      --disabled-fill-color: #AAA;\n",
              "      --disabled-bg-color: #DDD;\n",
              "  }\n",
              "\n",
              "  [theme=dark] .colab-df-quickchart {\n",
              "      --bg-color: #3B4455;\n",
              "      --fill-color: #D2E3FC;\n",
              "      --hover-bg-color: #434B5C;\n",
              "      --hover-fill-color: #FFFFFF;\n",
              "      --disabled-bg-color: #3B4455;\n",
              "      --disabled-fill-color: #666;\n",
              "  }\n",
              "\n",
              "  .colab-df-quickchart {\n",
              "    background-color: var(--bg-color);\n",
              "    border: none;\n",
              "    border-radius: 50%;\n",
              "    cursor: pointer;\n",
              "    display: none;\n",
              "    fill: var(--fill-color);\n",
              "    height: 32px;\n",
              "    padding: 0;\n",
              "    width: 32px;\n",
              "  }\n",
              "\n",
              "  .colab-df-quickchart:hover {\n",
              "    background-color: var(--hover-bg-color);\n",
              "    box-shadow: 0 1px 2px rgba(60, 64, 67, 0.3), 0 1px 3px 1px rgba(60, 64, 67, 0.15);\n",
              "    fill: var(--button-hover-fill-color);\n",
              "  }\n",
              "\n",
              "  .colab-df-quickchart-complete:disabled,\n",
              "  .colab-df-quickchart-complete:disabled:hover {\n",
              "    background-color: var(--disabled-bg-color);\n",
              "    fill: var(--disabled-fill-color);\n",
              "    box-shadow: none;\n",
              "  }\n",
              "\n",
              "  .colab-df-spinner {\n",
              "    border: 2px solid var(--fill-color);\n",
              "    border-color: transparent;\n",
              "    border-bottom-color: var(--fill-color);\n",
              "    animation:\n",
              "      spin 1s steps(1) infinite;\n",
              "  }\n",
              "\n",
              "  @keyframes spin {\n",
              "    0% {\n",
              "      border-color: transparent;\n",
              "      border-bottom-color: var(--fill-color);\n",
              "      border-left-color: var(--fill-color);\n",
              "    }\n",
              "    20% {\n",
              "      border-color: transparent;\n",
              "      border-left-color: var(--fill-color);\n",
              "      border-top-color: var(--fill-color);\n",
              "    }\n",
              "    30% {\n",
              "      border-color: transparent;\n",
              "      border-left-color: var(--fill-color);\n",
              "      border-top-color: var(--fill-color);\n",
              "      border-right-color: var(--fill-color);\n",
              "    }\n",
              "    40% {\n",
              "      border-color: transparent;\n",
              "      border-right-color: var(--fill-color);\n",
              "      border-top-color: var(--fill-color);\n",
              "    }\n",
              "    60% {\n",
              "      border-color: transparent;\n",
              "      border-right-color: var(--fill-color);\n",
              "    }\n",
              "    80% {\n",
              "      border-color: transparent;\n",
              "      border-right-color: var(--fill-color);\n",
              "      border-bottom-color: var(--fill-color);\n",
              "    }\n",
              "    90% {\n",
              "      border-color: transparent;\n",
              "      border-bottom-color: var(--fill-color);\n",
              "    }\n",
              "  }\n",
              "</style>\n",
              "\n",
              "  <script>\n",
              "    async function quickchart(key) {\n",
              "      const quickchartButtonEl =\n",
              "        document.querySelector('#' + key + ' button');\n",
              "      quickchartButtonEl.disabled = true;  // To prevent multiple clicks.\n",
              "      quickchartButtonEl.classList.add('colab-df-spinner');\n",
              "      try {\n",
              "        const charts = await google.colab.kernel.invokeFunction(\n",
              "            'suggestCharts', [key], {});\n",
              "      } catch (error) {\n",
              "        console.error('Error during call to suggestCharts:', error);\n",
              "      }\n",
              "      quickchartButtonEl.classList.remove('colab-df-spinner');\n",
              "      quickchartButtonEl.classList.add('colab-df-quickchart-complete');\n",
              "    }\n",
              "    (() => {\n",
              "      let quickchartButtonEl =\n",
              "        document.querySelector('#df-ce1c6578-05fd-44a9-a4a3-6897855c652a button');\n",
              "      quickchartButtonEl.style.display =\n",
              "        google.colab.kernel.accessAllowed ? 'block' : 'none';\n",
              "    })();\n",
              "  </script>\n",
              "</div>\n",
              "    </div>\n",
              "  </div>\n"
            ],
            "text/plain": [
              "   EmployeeID mean_time\n",
              "0           1    6,8702\n",
              "1           2     7,316\n",
              "2           3    6,8161\n",
              "3           4    6,7892\n",
              "4           5    7,8776"
            ]
          },
          "execution_count": 9,
          "metadata": {},
          "output_type": "execute_result"
        }
      ],
      "source": [
        "#Para tiempo de trabajo\n",
        "dftime_work.head()"
      ]
    },
    {
      "cell_type": "code",
      "execution_count": null,
      "metadata": {
        "colab": {
          "base_uri": "https://localhost:8080/"
        },
        "id": "0Aig0EsFHzoq",
        "outputId": "4b895861-6210-40e4-b63d-780e75d10e9a"
      },
      "outputs": [
        {
          "data": {
            "text/html": [
              "\n",
              "  <div id=\"df-c4d0daf8-af5e-4dc4-9340-2a903c3f80cd\" class=\"colab-df-container\">\n",
              "    <div>\n",
              "<style scoped>\n",
              "    .dataframe tbody tr th:only-of-type {\n",
              "        vertical-align: middle;\n",
              "    }\n",
              "\n",
              "    .dataframe tbody tr th {\n",
              "        vertical-align: top;\n",
              "    }\n",
              "\n",
              "    .dataframe thead th {\n",
              "        text-align: right;\n",
              "    }\n",
              "</style>\n",
              "<table border=\"1\" class=\"dataframe\">\n",
              "  <thead>\n",
              "    <tr style=\"text-align: right;\">\n",
              "      <th></th>\n",
              "      <th>Age</th>\n",
              "      <th>Attrition</th>\n",
              "      <th>BusinessTravel</th>\n",
              "      <th>Department</th>\n",
              "      <th>DistanceFromHome</th>\n",
              "      <th>Education</th>\n",
              "      <th>EducationField</th>\n",
              "      <th>EmployeeCount</th>\n",
              "      <th>EmployeeID</th>\n",
              "      <th>Gender</th>\n",
              "      <th>...</th>\n",
              "      <th>TrainingTimesLastYear</th>\n",
              "      <th>YearsAtCompany</th>\n",
              "      <th>YearsSinceLastPromotion</th>\n",
              "      <th>YearsWithCurrManager</th>\n",
              "      <th>EnvironmentSatisfaction</th>\n",
              "      <th>JobSatisfaction</th>\n",
              "      <th>WorkLifeBalance</th>\n",
              "      <th>JobInvolvement</th>\n",
              "      <th>PerformanceRating</th>\n",
              "      <th>mean_time</th>\n",
              "    </tr>\n",
              "  </thead>\n",
              "  <tbody>\n",
              "    <tr>\n",
              "      <th>0</th>\n",
              "      <td>51</td>\n",
              "      <td>No</td>\n",
              "      <td>Travel_Rarely</td>\n",
              "      <td>Sales</td>\n",
              "      <td>6</td>\n",
              "      <td>2</td>\n",
              "      <td>Life Sciences</td>\n",
              "      <td>1</td>\n",
              "      <td>1</td>\n",
              "      <td>Female</td>\n",
              "      <td>...</td>\n",
              "      <td>6</td>\n",
              "      <td>1</td>\n",
              "      <td>0</td>\n",
              "      <td>0</td>\n",
              "      <td>3.0</td>\n",
              "      <td>4.0</td>\n",
              "      <td>2.0</td>\n",
              "      <td>3</td>\n",
              "      <td>3</td>\n",
              "      <td>6,8702</td>\n",
              "    </tr>\n",
              "    <tr>\n",
              "      <th>1</th>\n",
              "      <td>31</td>\n",
              "      <td>Yes</td>\n",
              "      <td>Travel_Frequently</td>\n",
              "      <td>Research &amp; Development</td>\n",
              "      <td>10</td>\n",
              "      <td>1</td>\n",
              "      <td>Life Sciences</td>\n",
              "      <td>1</td>\n",
              "      <td>2</td>\n",
              "      <td>Female</td>\n",
              "      <td>...</td>\n",
              "      <td>3</td>\n",
              "      <td>5</td>\n",
              "      <td>1</td>\n",
              "      <td>4</td>\n",
              "      <td>3.0</td>\n",
              "      <td>2.0</td>\n",
              "      <td>4.0</td>\n",
              "      <td>2</td>\n",
              "      <td>4</td>\n",
              "      <td>7,316</td>\n",
              "    </tr>\n",
              "    <tr>\n",
              "      <th>2</th>\n",
              "      <td>32</td>\n",
              "      <td>No</td>\n",
              "      <td>Travel_Frequently</td>\n",
              "      <td>Research &amp; Development</td>\n",
              "      <td>17</td>\n",
              "      <td>4</td>\n",
              "      <td>Other</td>\n",
              "      <td>1</td>\n",
              "      <td>3</td>\n",
              "      <td>Male</td>\n",
              "      <td>...</td>\n",
              "      <td>2</td>\n",
              "      <td>5</td>\n",
              "      <td>0</td>\n",
              "      <td>3</td>\n",
              "      <td>2.0</td>\n",
              "      <td>2.0</td>\n",
              "      <td>1.0</td>\n",
              "      <td>3</td>\n",
              "      <td>3</td>\n",
              "      <td>6,8161</td>\n",
              "    </tr>\n",
              "    <tr>\n",
              "      <th>3</th>\n",
              "      <td>38</td>\n",
              "      <td>No</td>\n",
              "      <td>Non-Travel</td>\n",
              "      <td>Research &amp; Development</td>\n",
              "      <td>2</td>\n",
              "      <td>5</td>\n",
              "      <td>Life Sciences</td>\n",
              "      <td>1</td>\n",
              "      <td>4</td>\n",
              "      <td>Male</td>\n",
              "      <td>...</td>\n",
              "      <td>5</td>\n",
              "      <td>8</td>\n",
              "      <td>7</td>\n",
              "      <td>5</td>\n",
              "      <td>4.0</td>\n",
              "      <td>4.0</td>\n",
              "      <td>3.0</td>\n",
              "      <td>2</td>\n",
              "      <td>3</td>\n",
              "      <td>6,7892</td>\n",
              "    </tr>\n",
              "    <tr>\n",
              "      <th>4</th>\n",
              "      <td>32</td>\n",
              "      <td>No</td>\n",
              "      <td>Travel_Rarely</td>\n",
              "      <td>Research &amp; Development</td>\n",
              "      <td>10</td>\n",
              "      <td>1</td>\n",
              "      <td>Medical</td>\n",
              "      <td>1</td>\n",
              "      <td>5</td>\n",
              "      <td>Male</td>\n",
              "      <td>...</td>\n",
              "      <td>2</td>\n",
              "      <td>6</td>\n",
              "      <td>0</td>\n",
              "      <td>4</td>\n",
              "      <td>4.0</td>\n",
              "      <td>1.0</td>\n",
              "      <td>3.0</td>\n",
              "      <td>3</td>\n",
              "      <td>3</td>\n",
              "      <td>7,8776</td>\n",
              "    </tr>\n",
              "  </tbody>\n",
              "</table>\n",
              "<p>5 rows × 30 columns</p>\n",
              "</div>\n",
              "    <div class=\"colab-df-buttons\">\n",
              "\n",
              "  <div class=\"colab-df-container\">\n",
              "    <button class=\"colab-df-convert\" onclick=\"convertToInteractive('df-c4d0daf8-af5e-4dc4-9340-2a903c3f80cd')\"\n",
              "            title=\"Convert this dataframe to an interactive table.\"\n",
              "            style=\"display:none;\">\n",
              "\n",
              "  <svg xmlns=\"http://www.w3.org/2000/svg\" height=\"24px\" viewBox=\"0 -960 960 960\">\n",
              "    <path d=\"M120-120v-720h720v720H120Zm60-500h600v-160H180v160Zm220 220h160v-160H400v160Zm0 220h160v-160H400v160ZM180-400h160v-160H180v160Zm440 0h160v-160H620v160ZM180-180h160v-160H180v160Zm440 0h160v-160H620v160Z\"/>\n",
              "  </svg>\n",
              "    </button>\n",
              "\n",
              "  <style>\n",
              "    .colab-df-container {\n",
              "      display:flex;\n",
              "      gap: 12px;\n",
              "    }\n",
              "\n",
              "    .colab-df-convert {\n",
              "      background-color: #E8F0FE;\n",
              "      border: none;\n",
              "      border-radius: 50%;\n",
              "      cursor: pointer;\n",
              "      display: none;\n",
              "      fill: #1967D2;\n",
              "      height: 32px;\n",
              "      padding: 0 0 0 0;\n",
              "      width: 32px;\n",
              "    }\n",
              "\n",
              "    .colab-df-convert:hover {\n",
              "      background-color: #E2EBFA;\n",
              "      box-shadow: 0px 1px 2px rgba(60, 64, 67, 0.3), 0px 1px 3px 1px rgba(60, 64, 67, 0.15);\n",
              "      fill: #174EA6;\n",
              "    }\n",
              "\n",
              "    .colab-df-buttons div {\n",
              "      margin-bottom: 4px;\n",
              "    }\n",
              "\n",
              "    [theme=dark] .colab-df-convert {\n",
              "      background-color: #3B4455;\n",
              "      fill: #D2E3FC;\n",
              "    }\n",
              "\n",
              "    [theme=dark] .colab-df-convert:hover {\n",
              "      background-color: #434B5C;\n",
              "      box-shadow: 0px 1px 3px 1px rgba(0, 0, 0, 0.15);\n",
              "      filter: drop-shadow(0px 1px 2px rgba(0, 0, 0, 0.3));\n",
              "      fill: #FFFFFF;\n",
              "    }\n",
              "  </style>\n",
              "\n",
              "    <script>\n",
              "      const buttonEl =\n",
              "        document.querySelector('#df-c4d0daf8-af5e-4dc4-9340-2a903c3f80cd button.colab-df-convert');\n",
              "      buttonEl.style.display =\n",
              "        google.colab.kernel.accessAllowed ? 'block' : 'none';\n",
              "\n",
              "      async function convertToInteractive(key) {\n",
              "        const element = document.querySelector('#df-c4d0daf8-af5e-4dc4-9340-2a903c3f80cd');\n",
              "        const dataTable =\n",
              "          await google.colab.kernel.invokeFunction('convertToInteractive',\n",
              "                                                    [key], {});\n",
              "        if (!dataTable) return;\n",
              "\n",
              "        const docLinkHtml = 'Like what you see? Visit the ' +\n",
              "          '<a target=\"_blank\" href=https://colab.research.google.com/notebooks/data_table.ipynb>data table notebook</a>'\n",
              "          + ' to learn more about interactive tables.';\n",
              "        element.innerHTML = '';\n",
              "        dataTable['output_type'] = 'display_data';\n",
              "        await google.colab.output.renderOutput(dataTable, element);\n",
              "        const docLink = document.createElement('div');\n",
              "        docLink.innerHTML = docLinkHtml;\n",
              "        element.appendChild(docLink);\n",
              "      }\n",
              "    </script>\n",
              "  </div>\n",
              "\n",
              "\n",
              "<div id=\"df-51045b21-0330-48b6-8b17-468912aed6a7\">\n",
              "  <button class=\"colab-df-quickchart\" onclick=\"quickchart('df-51045b21-0330-48b6-8b17-468912aed6a7')\"\n",
              "            title=\"Suggest charts.\"\n",
              "            style=\"display:none;\">\n",
              "\n",
              "<svg xmlns=\"http://www.w3.org/2000/svg\" height=\"24px\"viewBox=\"0 0 24 24\"\n",
              "     width=\"24px\">\n",
              "    <g>\n",
              "        <path d=\"M19 3H5c-1.1 0-2 .9-2 2v14c0 1.1.9 2 2 2h14c1.1 0 2-.9 2-2V5c0-1.1-.9-2-2-2zM9 17H7v-7h2v7zm4 0h-2V7h2v10zm4 0h-2v-4h2v4z\"/>\n",
              "    </g>\n",
              "</svg>\n",
              "  </button>\n",
              "\n",
              "<style>\n",
              "  .colab-df-quickchart {\n",
              "      --bg-color: #E8F0FE;\n",
              "      --fill-color: #1967D2;\n",
              "      --hover-bg-color: #E2EBFA;\n",
              "      --hover-fill-color: #174EA6;\n",
              "      --disabled-fill-color: #AAA;\n",
              "      --disabled-bg-color: #DDD;\n",
              "  }\n",
              "\n",
              "  [theme=dark] .colab-df-quickchart {\n",
              "      --bg-color: #3B4455;\n",
              "      --fill-color: #D2E3FC;\n",
              "      --hover-bg-color: #434B5C;\n",
              "      --hover-fill-color: #FFFFFF;\n",
              "      --disabled-bg-color: #3B4455;\n",
              "      --disabled-fill-color: #666;\n",
              "  }\n",
              "\n",
              "  .colab-df-quickchart {\n",
              "    background-color: var(--bg-color);\n",
              "    border: none;\n",
              "    border-radius: 50%;\n",
              "    cursor: pointer;\n",
              "    display: none;\n",
              "    fill: var(--fill-color);\n",
              "    height: 32px;\n",
              "    padding: 0;\n",
              "    width: 32px;\n",
              "  }\n",
              "\n",
              "  .colab-df-quickchart:hover {\n",
              "    background-color: var(--hover-bg-color);\n",
              "    box-shadow: 0 1px 2px rgba(60, 64, 67, 0.3), 0 1px 3px 1px rgba(60, 64, 67, 0.15);\n",
              "    fill: var(--button-hover-fill-color);\n",
              "  }\n",
              "\n",
              "  .colab-df-quickchart-complete:disabled,\n",
              "  .colab-df-quickchart-complete:disabled:hover {\n",
              "    background-color: var(--disabled-bg-color);\n",
              "    fill: var(--disabled-fill-color);\n",
              "    box-shadow: none;\n",
              "  }\n",
              "\n",
              "  .colab-df-spinner {\n",
              "    border: 2px solid var(--fill-color);\n",
              "    border-color: transparent;\n",
              "    border-bottom-color: var(--fill-color);\n",
              "    animation:\n",
              "      spin 1s steps(1) infinite;\n",
              "  }\n",
              "\n",
              "  @keyframes spin {\n",
              "    0% {\n",
              "      border-color: transparent;\n",
              "      border-bottom-color: var(--fill-color);\n",
              "      border-left-color: var(--fill-color);\n",
              "    }\n",
              "    20% {\n",
              "      border-color: transparent;\n",
              "      border-left-color: var(--fill-color);\n",
              "      border-top-color: var(--fill-color);\n",
              "    }\n",
              "    30% {\n",
              "      border-color: transparent;\n",
              "      border-left-color: var(--fill-color);\n",
              "      border-top-color: var(--fill-color);\n",
              "      border-right-color: var(--fill-color);\n",
              "    }\n",
              "    40% {\n",
              "      border-color: transparent;\n",
              "      border-right-color: var(--fill-color);\n",
              "      border-top-color: var(--fill-color);\n",
              "    }\n",
              "    60% {\n",
              "      border-color: transparent;\n",
              "      border-right-color: var(--fill-color);\n",
              "    }\n",
              "    80% {\n",
              "      border-color: transparent;\n",
              "      border-right-color: var(--fill-color);\n",
              "      border-bottom-color: var(--fill-color);\n",
              "    }\n",
              "    90% {\n",
              "      border-color: transparent;\n",
              "      border-bottom-color: var(--fill-color);\n",
              "    }\n",
              "  }\n",
              "</style>\n",
              "\n",
              "  <script>\n",
              "    async function quickchart(key) {\n",
              "      const quickchartButtonEl =\n",
              "        document.querySelector('#' + key + ' button');\n",
              "      quickchartButtonEl.disabled = true;  // To prevent multiple clicks.\n",
              "      quickchartButtonEl.classList.add('colab-df-spinner');\n",
              "      try {\n",
              "        const charts = await google.colab.kernel.invokeFunction(\n",
              "            'suggestCharts', [key], {});\n",
              "      } catch (error) {\n",
              "        console.error('Error during call to suggestCharts:', error);\n",
              "      }\n",
              "      quickchartButtonEl.classList.remove('colab-df-spinner');\n",
              "      quickchartButtonEl.classList.add('colab-df-quickchart-complete');\n",
              "    }\n",
              "    (() => {\n",
              "      let quickchartButtonEl =\n",
              "        document.querySelector('#df-51045b21-0330-48b6-8b17-468912aed6a7 button');\n",
              "      quickchartButtonEl.style.display =\n",
              "        google.colab.kernel.accessAllowed ? 'block' : 'none';\n",
              "    })();\n",
              "  </script>\n",
              "</div>\n",
              "    </div>\n",
              "  </div>\n"
            ],
            "text/plain": [
              "   Age Attrition     BusinessTravel              Department  DistanceFromHome  \\\n",
              "0   51        No      Travel_Rarely                   Sales                 6   \n",
              "1   31       Yes  Travel_Frequently  Research & Development                10   \n",
              "2   32        No  Travel_Frequently  Research & Development                17   \n",
              "3   38        No         Non-Travel  Research & Development                 2   \n",
              "4   32        No      Travel_Rarely  Research & Development                10   \n",
              "\n",
              "   Education EducationField  EmployeeCount  EmployeeID  Gender  ...  \\\n",
              "0          2  Life Sciences              1           1  Female  ...   \n",
              "1          1  Life Sciences              1           2  Female  ...   \n",
              "2          4          Other              1           3    Male  ...   \n",
              "3          5  Life Sciences              1           4    Male  ...   \n",
              "4          1        Medical              1           5    Male  ...   \n",
              "\n",
              "   TrainingTimesLastYear YearsAtCompany YearsSinceLastPromotion  \\\n",
              "0                      6              1                       0   \n",
              "1                      3              5                       1   \n",
              "2                      2              5                       0   \n",
              "3                      5              8                       7   \n",
              "4                      2              6                       0   \n",
              "\n",
              "   YearsWithCurrManager  EnvironmentSatisfaction JobSatisfaction  \\\n",
              "0                     0                      3.0             4.0   \n",
              "1                     4                      3.0             2.0   \n",
              "2                     3                      2.0             2.0   \n",
              "3                     5                      4.0             4.0   \n",
              "4                     4                      4.0             1.0   \n",
              "\n",
              "   WorkLifeBalance  JobInvolvement  PerformanceRating  mean_time  \n",
              "0              2.0               3                  3     6,8702  \n",
              "1              4.0               2                  4      7,316  \n",
              "2              1.0               3                  3     6,8161  \n",
              "3              3.0               2                  3     6,7892  \n",
              "4              3.0               3                  3     7,8776  \n",
              "\n",
              "[5 rows x 30 columns]"
            ]
          },
          "execution_count": 10,
          "metadata": {},
          "output_type": "execute_result"
        }
      ],
      "source": [
        "#Procedemos a unir las tablas para que sea mas fácil trabajarlas\n",
        "dftotal=dfgeneral_data.merge(dfemployee_survey_data, on=\"EmployeeID\", how=\"left\")\n",
        "\n",
        "dftotal2=dftotal.merge(dfmanager_survey_data, on=\"EmployeeID\", how=\"left\")\n",
        "\n",
        "dftotal3=dftotal2.merge(dftime_work, on=\"EmployeeID\", how=\"left\")\n",
        "\n",
        "# Tenemos finalmente un solo dataframe combinado con todas las tablas a partir de la columna ID\n",
        "dfdata=dftotal3.copy()\n",
        "dfdata.head()\n"
      ]
    },
    {
      "cell_type": "code",
      "execution_count": null,
      "metadata": {
        "colab": {
          "base_uri": "https://localhost:8080/"
        },
        "id": "t5ay77l4Hzoq",
        "outputId": "2d0dc07c-26f5-4795-fa73-89a13e7e4fcc"
      },
      "outputs": [
        {
          "data": {
            "text/plain": [
              "(4410, 30)"
            ]
          },
          "execution_count": 11,
          "metadata": {},
          "output_type": "execute_result"
        }
      ],
      "source": [
        "# Ahora realizaremos una revisión inicial de datos para obsevar cómo se encuentra nuestro dataframe\n",
        "dfdata.shape"
      ]
    },
    {
      "cell_type": "code",
      "execution_count": null,
      "metadata": {
        "colab": {
          "base_uri": "https://localhost:8080/"
        },
        "id": "7xl_SFxbHzor",
        "outputId": "803bc91e-aa74-444e-b1cb-79c8c6da8c6c"
      },
      "outputs": [
        {
          "data": {
            "text/plain": [
              "Index(['Age', 'Attrition', 'BusinessTravel', 'Department', 'DistanceFromHome',\n",
              "       'Education', 'EducationField', 'EmployeeCount', 'EmployeeID', 'Gender',\n",
              "       'JobLevel', 'JobRole', 'MaritalStatus', 'MonthlyIncome',\n",
              "       'NumCompaniesWorked', 'Over18', 'PercentSalaryHike', 'StandardHours',\n",
              "       'StockOptionLevel', 'TotalWorkingYears', 'TrainingTimesLastYear',\n",
              "       'YearsAtCompany', 'YearsSinceLastPromotion', 'YearsWithCurrManager',\n",
              "       'EnvironmentSatisfaction', 'JobSatisfaction', 'WorkLifeBalance',\n",
              "       'JobInvolvement', 'PerformanceRating', 'mean_time'],\n",
              "      dtype='object')"
            ]
          },
          "execution_count": 12,
          "metadata": {},
          "output_type": "execute_result"
        }
      ],
      "source": [
        "# Verificamos lista de variables o etiquetas de las columnas presentes en el DataFrame.\n",
        "dfdata.columns"
      ]
    },
    {
      "cell_type": "code",
      "execution_count": null,
      "metadata": {
        "colab": {
          "base_uri": "https://localhost:8080/"
        },
        "id": "3bTXLKuQHzor",
        "outputId": "f190be11-31f8-4b0c-f99a-b2ba16194fbc"
      },
      "outputs": [
        {
          "name": "stdout",
          "output_type": "stream",
          "text": [
            "<class 'pandas.core.frame.DataFrame'>\n",
            "Int64Index: 4410 entries, 0 to 4409\n",
            "Data columns (total 30 columns):\n",
            " #   Column                   Non-Null Count  Dtype  \n",
            "---  ------                   --------------  -----  \n",
            " 0   Age                      4410 non-null   int64  \n",
            " 1   Attrition                4410 non-null   object \n",
            " 2   BusinessTravel           4410 non-null   object \n",
            " 3   Department               4410 non-null   object \n",
            " 4   DistanceFromHome         4410 non-null   int64  \n",
            " 5   Education                4410 non-null   int64  \n",
            " 6   EducationField           4410 non-null   object \n",
            " 7   EmployeeCount            4410 non-null   int64  \n",
            " 8   EmployeeID               4410 non-null   int64  \n",
            " 9   Gender                   4410 non-null   object \n",
            " 10  JobLevel                 4410 non-null   int64  \n",
            " 11  JobRole                  4410 non-null   object \n",
            " 12  MaritalStatus            4410 non-null   object \n",
            " 13  MonthlyIncome            4410 non-null   int64  \n",
            " 14  NumCompaniesWorked       4391 non-null   float64\n",
            " 15  Over18                   4410 non-null   object \n",
            " 16  PercentSalaryHike        4410 non-null   int64  \n",
            " 17  StandardHours            4410 non-null   int64  \n",
            " 18  StockOptionLevel         4410 non-null   int64  \n",
            " 19  TotalWorkingYears        4401 non-null   float64\n",
            " 20  TrainingTimesLastYear    4410 non-null   int64  \n",
            " 21  YearsAtCompany           4410 non-null   int64  \n",
            " 22  YearsSinceLastPromotion  4410 non-null   int64  \n",
            " 23  YearsWithCurrManager     4410 non-null   int64  \n",
            " 24  EnvironmentSatisfaction  4385 non-null   float64\n",
            " 25  JobSatisfaction          4390 non-null   float64\n",
            " 26  WorkLifeBalance          4372 non-null   float64\n",
            " 27  JobInvolvement           4410 non-null   int64  \n",
            " 28  PerformanceRating        4410 non-null   int64  \n",
            " 29  mean_time                4410 non-null   object \n",
            "dtypes: float64(5), int64(16), object(9)\n",
            "memory usage: 1.0+ MB\n"
          ]
        }
      ],
      "source": [
        "#Verificamos la información sobre las columnas y su tipo de datos\n",
        "dfdata.info()"
      ]
    },
    {
      "cell_type": "code",
      "execution_count": null,
      "metadata": {
        "colab": {
          "base_uri": "https://localhost:8080/"
        },
        "id": "iijQZU5zHzor",
        "outputId": "a6076b42-8dad-49e3-b0d1-e74be6502c3f"
      },
      "outputs": [
        {
          "data": {
            "text/plain": [
              "Age                         0\n",
              "Attrition                   0\n",
              "BusinessTravel              0\n",
              "Department                  0\n",
              "DistanceFromHome            0\n",
              "Education                   0\n",
              "EducationField              0\n",
              "EmployeeCount               0\n",
              "EmployeeID                  0\n",
              "Gender                      0\n",
              "JobLevel                    0\n",
              "JobRole                     0\n",
              "MaritalStatus               0\n",
              "MonthlyIncome               0\n",
              "NumCompaniesWorked         19\n",
              "Over18                      0\n",
              "PercentSalaryHike           0\n",
              "StandardHours               0\n",
              "StockOptionLevel            0\n",
              "TotalWorkingYears           9\n",
              "TrainingTimesLastYear       0\n",
              "YearsAtCompany              0\n",
              "YearsSinceLastPromotion     0\n",
              "YearsWithCurrManager        0\n",
              "EnvironmentSatisfaction    25\n",
              "JobSatisfaction            20\n",
              "WorkLifeBalance            38\n",
              "JobInvolvement              0\n",
              "PerformanceRating           0\n",
              "mean_time                   0\n",
              "dtype: int64"
            ]
          },
          "execution_count": 14,
          "metadata": {},
          "output_type": "execute_result"
        }
      ],
      "source": [
        "# Verificamos si hay columnas con datos nulos en el conjunto de datos.\n",
        "dfdata.isnull().sum()"
      ]
    },
    {
      "cell_type": "code",
      "execution_count": null,
      "metadata": {
        "colab": {
          "base_uri": "https://localhost:8080/"
        },
        "id": "hG1El7AuHzos",
        "outputId": "c584bf45-0f50-4171-b113-15d5dcf9167c"
      },
      "outputs": [
        {
          "data": {
            "text/plain": [
              "1.0    1558\n",
              "0.0     586\n",
              "3.0     474\n",
              "2.0     438\n",
              "4.0     415\n",
              "7.0     222\n",
              "6.0     208\n",
              "5.0     187\n",
              "9.0     156\n",
              "8.0     147\n",
              "Name: NumCompaniesWorked, dtype: int64"
            ]
          },
          "execution_count": 15,
          "metadata": {},
          "output_type": "execute_result"
        }
      ],
      "source": [
        "# como en esta variables hay nulos, analizaremos el número de valores de cada uno.\n",
        "dfdata['NumCompaniesWorked'].value_counts()"
      ]
    },
    {
      "cell_type": "code",
      "execution_count": null,
      "metadata": {
        "colab": {
          "base_uri": "https://localhost:8080/"
        },
        "id": "VN6WXEdgHzot",
        "outputId": "5baa54f6-0cff-4ac7-a679-198833cc20e9"
      },
      "outputs": [
        {
          "data": {
            "text/plain": [
              "10.0    605\n",
              "6.0     375\n",
              "8.0     307\n",
              "9.0     287\n",
              "5.0     264\n",
              "7.0     243\n",
              "1.0     242\n",
              "4.0     189\n",
              "12.0    144\n",
              "3.0     126\n",
              "15.0    120\n",
              "16.0    111\n",
              "13.0    108\n",
              "11.0    106\n",
              "21.0    102\n",
              "17.0     99\n",
              "14.0     93\n",
              "2.0      93\n",
              "20.0     89\n",
              "18.0     81\n",
              "23.0     66\n",
              "19.0     66\n",
              "22.0     62\n",
              "24.0     54\n",
              "25.0     42\n",
              "26.0     42\n",
              "28.0     42\n",
              "0.0      33\n",
              "29.0     30\n",
              "31.0     27\n",
              "32.0     27\n",
              "27.0     21\n",
              "30.0     21\n",
              "33.0     21\n",
              "36.0     18\n",
              "34.0     15\n",
              "37.0     12\n",
              "35.0      9\n",
              "40.0      6\n",
              "38.0      3\n",
              "Name: TotalWorkingYears, dtype: int64"
            ]
          },
          "execution_count": 16,
          "metadata": {},
          "output_type": "execute_result"
        }
      ],
      "source": [
        "dfdata['TotalWorkingYears'].value_counts()"
      ]
    },
    {
      "cell_type": "code",
      "execution_count": null,
      "metadata": {
        "colab": {
          "base_uri": "https://localhost:8080/"
        },
        "id": "7P3EyP2UHzot",
        "outputId": "658caa00-614e-443b-a0aa-2d898c005059"
      },
      "outputs": [
        {
          "data": {
            "text/html": [
              "\n",
              "  <div id=\"df-34af39f8-5723-4eb8-b62a-83167c16842e\" class=\"colab-df-container\">\n",
              "    <div>\n",
              "<style scoped>\n",
              "    .dataframe tbody tr th:only-of-type {\n",
              "        vertical-align: middle;\n",
              "    }\n",
              "\n",
              "    .dataframe tbody tr th {\n",
              "        vertical-align: top;\n",
              "    }\n",
              "\n",
              "    .dataframe thead th {\n",
              "        text-align: right;\n",
              "    }\n",
              "</style>\n",
              "<table border=\"1\" class=\"dataframe\">\n",
              "  <thead>\n",
              "    <tr style=\"text-align: right;\">\n",
              "      <th></th>\n",
              "      <th>EmployeeID</th>\n",
              "      <th>TotalWorkingYears</th>\n",
              "    </tr>\n",
              "  </thead>\n",
              "  <tbody>\n",
              "    <tr>\n",
              "      <th>0</th>\n",
              "      <td>1</td>\n",
              "      <td>1.0</td>\n",
              "    </tr>\n",
              "    <tr>\n",
              "      <th>1</th>\n",
              "      <td>2</td>\n",
              "      <td>6.0</td>\n",
              "    </tr>\n",
              "    <tr>\n",
              "      <th>2</th>\n",
              "      <td>3</td>\n",
              "      <td>5.0</td>\n",
              "    </tr>\n",
              "    <tr>\n",
              "      <th>3</th>\n",
              "      <td>4</td>\n",
              "      <td>13.0</td>\n",
              "    </tr>\n",
              "    <tr>\n",
              "      <th>4</th>\n",
              "      <td>5</td>\n",
              "      <td>9.0</td>\n",
              "    </tr>\n",
              "    <tr>\n",
              "      <th>...</th>\n",
              "      <td>...</td>\n",
              "      <td>...</td>\n",
              "    </tr>\n",
              "    <tr>\n",
              "      <th>4405</th>\n",
              "      <td>4406</td>\n",
              "      <td>10.0</td>\n",
              "    </tr>\n",
              "    <tr>\n",
              "      <th>4406</th>\n",
              "      <td>4407</td>\n",
              "      <td>10.0</td>\n",
              "    </tr>\n",
              "    <tr>\n",
              "      <th>4407</th>\n",
              "      <td>4408</td>\n",
              "      <td>5.0</td>\n",
              "    </tr>\n",
              "    <tr>\n",
              "      <th>4408</th>\n",
              "      <td>4409</td>\n",
              "      <td>10.0</td>\n",
              "    </tr>\n",
              "    <tr>\n",
              "      <th>4409</th>\n",
              "      <td>4410</td>\n",
              "      <td>NaN</td>\n",
              "    </tr>\n",
              "  </tbody>\n",
              "</table>\n",
              "<p>4410 rows × 2 columns</p>\n",
              "</div>\n",
              "    <div class=\"colab-df-buttons\">\n",
              "\n",
              "  <div class=\"colab-df-container\">\n",
              "    <button class=\"colab-df-convert\" onclick=\"convertToInteractive('df-34af39f8-5723-4eb8-b62a-83167c16842e')\"\n",
              "            title=\"Convert this dataframe to an interactive table.\"\n",
              "            style=\"display:none;\">\n",
              "\n",
              "  <svg xmlns=\"http://www.w3.org/2000/svg\" height=\"24px\" viewBox=\"0 -960 960 960\">\n",
              "    <path d=\"M120-120v-720h720v720H120Zm60-500h600v-160H180v160Zm220 220h160v-160H400v160Zm0 220h160v-160H400v160ZM180-400h160v-160H180v160Zm440 0h160v-160H620v160ZM180-180h160v-160H180v160Zm440 0h160v-160H620v160Z\"/>\n",
              "  </svg>\n",
              "    </button>\n",
              "\n",
              "  <style>\n",
              "    .colab-df-container {\n",
              "      display:flex;\n",
              "      gap: 12px;\n",
              "    }\n",
              "\n",
              "    .colab-df-convert {\n",
              "      background-color: #E8F0FE;\n",
              "      border: none;\n",
              "      border-radius: 50%;\n",
              "      cursor: pointer;\n",
              "      display: none;\n",
              "      fill: #1967D2;\n",
              "      height: 32px;\n",
              "      padding: 0 0 0 0;\n",
              "      width: 32px;\n",
              "    }\n",
              "\n",
              "    .colab-df-convert:hover {\n",
              "      background-color: #E2EBFA;\n",
              "      box-shadow: 0px 1px 2px rgba(60, 64, 67, 0.3), 0px 1px 3px 1px rgba(60, 64, 67, 0.15);\n",
              "      fill: #174EA6;\n",
              "    }\n",
              "\n",
              "    .colab-df-buttons div {\n",
              "      margin-bottom: 4px;\n",
              "    }\n",
              "\n",
              "    [theme=dark] .colab-df-convert {\n",
              "      background-color: #3B4455;\n",
              "      fill: #D2E3FC;\n",
              "    }\n",
              "\n",
              "    [theme=dark] .colab-df-convert:hover {\n",
              "      background-color: #434B5C;\n",
              "      box-shadow: 0px 1px 3px 1px rgba(0, 0, 0, 0.15);\n",
              "      filter: drop-shadow(0px 1px 2px rgba(0, 0, 0, 0.3));\n",
              "      fill: #FFFFFF;\n",
              "    }\n",
              "  </style>\n",
              "\n",
              "    <script>\n",
              "      const buttonEl =\n",
              "        document.querySelector('#df-34af39f8-5723-4eb8-b62a-83167c16842e button.colab-df-convert');\n",
              "      buttonEl.style.display =\n",
              "        google.colab.kernel.accessAllowed ? 'block' : 'none';\n",
              "\n",
              "      async function convertToInteractive(key) {\n",
              "        const element = document.querySelector('#df-34af39f8-5723-4eb8-b62a-83167c16842e');\n",
              "        const dataTable =\n",
              "          await google.colab.kernel.invokeFunction('convertToInteractive',\n",
              "                                                    [key], {});\n",
              "        if (!dataTable) return;\n",
              "\n",
              "        const docLinkHtml = 'Like what you see? Visit the ' +\n",
              "          '<a target=\"_blank\" href=https://colab.research.google.com/notebooks/data_table.ipynb>data table notebook</a>'\n",
              "          + ' to learn more about interactive tables.';\n",
              "        element.innerHTML = '';\n",
              "        dataTable['output_type'] = 'display_data';\n",
              "        await google.colab.output.renderOutput(dataTable, element);\n",
              "        const docLink = document.createElement('div');\n",
              "        docLink.innerHTML = docLinkHtml;\n",
              "        element.appendChild(docLink);\n",
              "      }\n",
              "    </script>\n",
              "  </div>\n",
              "\n",
              "\n",
              "<div id=\"df-d22bbc1e-4d1c-4d73-aa2c-604db7dcb348\">\n",
              "  <button class=\"colab-df-quickchart\" onclick=\"quickchart('df-d22bbc1e-4d1c-4d73-aa2c-604db7dcb348')\"\n",
              "            title=\"Suggest charts.\"\n",
              "            style=\"display:none;\">\n",
              "\n",
              "<svg xmlns=\"http://www.w3.org/2000/svg\" height=\"24px\"viewBox=\"0 0 24 24\"\n",
              "     width=\"24px\">\n",
              "    <g>\n",
              "        <path d=\"M19 3H5c-1.1 0-2 .9-2 2v14c0 1.1.9 2 2 2h14c1.1 0 2-.9 2-2V5c0-1.1-.9-2-2-2zM9 17H7v-7h2v7zm4 0h-2V7h2v10zm4 0h-2v-4h2v4z\"/>\n",
              "    </g>\n",
              "</svg>\n",
              "  </button>\n",
              "\n",
              "<style>\n",
              "  .colab-df-quickchart {\n",
              "      --bg-color: #E8F0FE;\n",
              "      --fill-color: #1967D2;\n",
              "      --hover-bg-color: #E2EBFA;\n",
              "      --hover-fill-color: #174EA6;\n",
              "      --disabled-fill-color: #AAA;\n",
              "      --disabled-bg-color: #DDD;\n",
              "  }\n",
              "\n",
              "  [theme=dark] .colab-df-quickchart {\n",
              "      --bg-color: #3B4455;\n",
              "      --fill-color: #D2E3FC;\n",
              "      --hover-bg-color: #434B5C;\n",
              "      --hover-fill-color: #FFFFFF;\n",
              "      --disabled-bg-color: #3B4455;\n",
              "      --disabled-fill-color: #666;\n",
              "  }\n",
              "\n",
              "  .colab-df-quickchart {\n",
              "    background-color: var(--bg-color);\n",
              "    border: none;\n",
              "    border-radius: 50%;\n",
              "    cursor: pointer;\n",
              "    display: none;\n",
              "    fill: var(--fill-color);\n",
              "    height: 32px;\n",
              "    padding: 0;\n",
              "    width: 32px;\n",
              "  }\n",
              "\n",
              "  .colab-df-quickchart:hover {\n",
              "    background-color: var(--hover-bg-color);\n",
              "    box-shadow: 0 1px 2px rgba(60, 64, 67, 0.3), 0 1px 3px 1px rgba(60, 64, 67, 0.15);\n",
              "    fill: var(--button-hover-fill-color);\n",
              "  }\n",
              "\n",
              "  .colab-df-quickchart-complete:disabled,\n",
              "  .colab-df-quickchart-complete:disabled:hover {\n",
              "    background-color: var(--disabled-bg-color);\n",
              "    fill: var(--disabled-fill-color);\n",
              "    box-shadow: none;\n",
              "  }\n",
              "\n",
              "  .colab-df-spinner {\n",
              "    border: 2px solid var(--fill-color);\n",
              "    border-color: transparent;\n",
              "    border-bottom-color: var(--fill-color);\n",
              "    animation:\n",
              "      spin 1s steps(1) infinite;\n",
              "  }\n",
              "\n",
              "  @keyframes spin {\n",
              "    0% {\n",
              "      border-color: transparent;\n",
              "      border-bottom-color: var(--fill-color);\n",
              "      border-left-color: var(--fill-color);\n",
              "    }\n",
              "    20% {\n",
              "      border-color: transparent;\n",
              "      border-left-color: var(--fill-color);\n",
              "      border-top-color: var(--fill-color);\n",
              "    }\n",
              "    30% {\n",
              "      border-color: transparent;\n",
              "      border-left-color: var(--fill-color);\n",
              "      border-top-color: var(--fill-color);\n",
              "      border-right-color: var(--fill-color);\n",
              "    }\n",
              "    40% {\n",
              "      border-color: transparent;\n",
              "      border-right-color: var(--fill-color);\n",
              "      border-top-color: var(--fill-color);\n",
              "    }\n",
              "    60% {\n",
              "      border-color: transparent;\n",
              "      border-right-color: var(--fill-color);\n",
              "    }\n",
              "    80% {\n",
              "      border-color: transparent;\n",
              "      border-right-color: var(--fill-color);\n",
              "      border-bottom-color: var(--fill-color);\n",
              "    }\n",
              "    90% {\n",
              "      border-color: transparent;\n",
              "      border-bottom-color: var(--fill-color);\n",
              "    }\n",
              "  }\n",
              "</style>\n",
              "\n",
              "  <script>\n",
              "    async function quickchart(key) {\n",
              "      const quickchartButtonEl =\n",
              "        document.querySelector('#' + key + ' button');\n",
              "      quickchartButtonEl.disabled = true;  // To prevent multiple clicks.\n",
              "      quickchartButtonEl.classList.add('colab-df-spinner');\n",
              "      try {\n",
              "        const charts = await google.colab.kernel.invokeFunction(\n",
              "            'suggestCharts', [key], {});\n",
              "      } catch (error) {\n",
              "        console.error('Error during call to suggestCharts:', error);\n",
              "      }\n",
              "      quickchartButtonEl.classList.remove('colab-df-spinner');\n",
              "      quickchartButtonEl.classList.add('colab-df-quickchart-complete');\n",
              "    }\n",
              "    (() => {\n",
              "      let quickchartButtonEl =\n",
              "        document.querySelector('#df-d22bbc1e-4d1c-4d73-aa2c-604db7dcb348 button');\n",
              "      quickchartButtonEl.style.display =\n",
              "        google.colab.kernel.accessAllowed ? 'block' : 'none';\n",
              "    })();\n",
              "  </script>\n",
              "</div>\n",
              "    </div>\n",
              "  </div>\n"
            ],
            "text/plain": [
              "      EmployeeID  TotalWorkingYears\n",
              "0              1                1.0\n",
              "1              2                6.0\n",
              "2              3                5.0\n",
              "3              4               13.0\n",
              "4              5                9.0\n",
              "...          ...                ...\n",
              "4405        4406               10.0\n",
              "4406        4407               10.0\n",
              "4407        4408                5.0\n",
              "4408        4409               10.0\n",
              "4409        4410                NaN\n",
              "\n",
              "[4410 rows x 2 columns]"
            ]
          },
          "execution_count": 17,
          "metadata": {},
          "output_type": "execute_result"
        }
      ],
      "source": [
        "# para nuestro analisis es mas facil observarlos de mayor a menor, asi que vamos a organizarlos con un pequeño data frame\n",
        "dfdatay = dfdata.loc[:, ['EmployeeID','TotalWorkingYears']]\n",
        "dfdatay"
      ]
    },
    {
      "cell_type": "code",
      "execution_count": null,
      "metadata": {
        "colab": {
          "base_uri": "https://localhost:8080/"
        },
        "id": "glc805EFHzot",
        "outputId": "b78421ad-d879-49d7-fdeb-59b959b0067d"
      },
      "outputs": [
        {
          "data": {
            "text/html": [
              "\n",
              "  <div id=\"df-12b33412-50ae-43ec-875e-9c5c81d696fa\" class=\"colab-df-container\">\n",
              "    <div>\n",
              "<style scoped>\n",
              "    .dataframe tbody tr th:only-of-type {\n",
              "        vertical-align: middle;\n",
              "    }\n",
              "\n",
              "    .dataframe tbody tr th {\n",
              "        vertical-align: top;\n",
              "    }\n",
              "\n",
              "    .dataframe thead th {\n",
              "        text-align: right;\n",
              "    }\n",
              "</style>\n",
              "<table border=\"1\" class=\"dataframe\">\n",
              "  <thead>\n",
              "    <tr style=\"text-align: right;\">\n",
              "      <th></th>\n",
              "      <th>EmployeeID</th>\n",
              "      <th>TotalWorkingYears</th>\n",
              "    </tr>\n",
              "  </thead>\n",
              "  <tbody>\n",
              "    <tr>\n",
              "      <th>3277</th>\n",
              "      <td>3278</td>\n",
              "      <td>40.0</td>\n",
              "    </tr>\n",
              "    <tr>\n",
              "      <th>1807</th>\n",
              "      <td>1808</td>\n",
              "      <td>40.0</td>\n",
              "    </tr>\n",
              "    <tr>\n",
              "      <th>4278</th>\n",
              "      <td>4279</td>\n",
              "      <td>40.0</td>\n",
              "    </tr>\n",
              "    <tr>\n",
              "      <th>2808</th>\n",
              "      <td>2809</td>\n",
              "      <td>40.0</td>\n",
              "    </tr>\n",
              "    <tr>\n",
              "      <th>337</th>\n",
              "      <td>338</td>\n",
              "      <td>40.0</td>\n",
              "    </tr>\n",
              "    <tr>\n",
              "      <th>...</th>\n",
              "      <td>...</td>\n",
              "      <td>...</td>\n",
              "    </tr>\n",
              "    <tr>\n",
              "      <th>1517</th>\n",
              "      <td>1518</td>\n",
              "      <td>NaN</td>\n",
              "    </tr>\n",
              "    <tr>\n",
              "      <th>2367</th>\n",
              "      <td>2368</td>\n",
              "      <td>NaN</td>\n",
              "    </tr>\n",
              "    <tr>\n",
              "      <th>3120</th>\n",
              "      <td>3121</td>\n",
              "      <td>NaN</td>\n",
              "    </tr>\n",
              "    <tr>\n",
              "      <th>3818</th>\n",
              "      <td>3819</td>\n",
              "      <td>NaN</td>\n",
              "    </tr>\n",
              "    <tr>\n",
              "      <th>4409</th>\n",
              "      <td>4410</td>\n",
              "      <td>NaN</td>\n",
              "    </tr>\n",
              "  </tbody>\n",
              "</table>\n",
              "<p>4410 rows × 2 columns</p>\n",
              "</div>\n",
              "    <div class=\"colab-df-buttons\">\n",
              "\n",
              "  <div class=\"colab-df-container\">\n",
              "    <button class=\"colab-df-convert\" onclick=\"convertToInteractive('df-12b33412-50ae-43ec-875e-9c5c81d696fa')\"\n",
              "            title=\"Convert this dataframe to an interactive table.\"\n",
              "            style=\"display:none;\">\n",
              "\n",
              "  <svg xmlns=\"http://www.w3.org/2000/svg\" height=\"24px\" viewBox=\"0 -960 960 960\">\n",
              "    <path d=\"M120-120v-720h720v720H120Zm60-500h600v-160H180v160Zm220 220h160v-160H400v160Zm0 220h160v-160H400v160ZM180-400h160v-160H180v160Zm440 0h160v-160H620v160ZM180-180h160v-160H180v160Zm440 0h160v-160H620v160Z\"/>\n",
              "  </svg>\n",
              "    </button>\n",
              "\n",
              "  <style>\n",
              "    .colab-df-container {\n",
              "      display:flex;\n",
              "      gap: 12px;\n",
              "    }\n",
              "\n",
              "    .colab-df-convert {\n",
              "      background-color: #E8F0FE;\n",
              "      border: none;\n",
              "      border-radius: 50%;\n",
              "      cursor: pointer;\n",
              "      display: none;\n",
              "      fill: #1967D2;\n",
              "      height: 32px;\n",
              "      padding: 0 0 0 0;\n",
              "      width: 32px;\n",
              "    }\n",
              "\n",
              "    .colab-df-convert:hover {\n",
              "      background-color: #E2EBFA;\n",
              "      box-shadow: 0px 1px 2px rgba(60, 64, 67, 0.3), 0px 1px 3px 1px rgba(60, 64, 67, 0.15);\n",
              "      fill: #174EA6;\n",
              "    }\n",
              "\n",
              "    .colab-df-buttons div {\n",
              "      margin-bottom: 4px;\n",
              "    }\n",
              "\n",
              "    [theme=dark] .colab-df-convert {\n",
              "      background-color: #3B4455;\n",
              "      fill: #D2E3FC;\n",
              "    }\n",
              "\n",
              "    [theme=dark] .colab-df-convert:hover {\n",
              "      background-color: #434B5C;\n",
              "      box-shadow: 0px 1px 3px 1px rgba(0, 0, 0, 0.15);\n",
              "      filter: drop-shadow(0px 1px 2px rgba(0, 0, 0, 0.3));\n",
              "      fill: #FFFFFF;\n",
              "    }\n",
              "  </style>\n",
              "\n",
              "    <script>\n",
              "      const buttonEl =\n",
              "        document.querySelector('#df-12b33412-50ae-43ec-875e-9c5c81d696fa button.colab-df-convert');\n",
              "      buttonEl.style.display =\n",
              "        google.colab.kernel.accessAllowed ? 'block' : 'none';\n",
              "\n",
              "      async function convertToInteractive(key) {\n",
              "        const element = document.querySelector('#df-12b33412-50ae-43ec-875e-9c5c81d696fa');\n",
              "        const dataTable =\n",
              "          await google.colab.kernel.invokeFunction('convertToInteractive',\n",
              "                                                    [key], {});\n",
              "        if (!dataTable) return;\n",
              "\n",
              "        const docLinkHtml = 'Like what you see? Visit the ' +\n",
              "          '<a target=\"_blank\" href=https://colab.research.google.com/notebooks/data_table.ipynb>data table notebook</a>'\n",
              "          + ' to learn more about interactive tables.';\n",
              "        element.innerHTML = '';\n",
              "        dataTable['output_type'] = 'display_data';\n",
              "        await google.colab.output.renderOutput(dataTable, element);\n",
              "        const docLink = document.createElement('div');\n",
              "        docLink.innerHTML = docLinkHtml;\n",
              "        element.appendChild(docLink);\n",
              "      }\n",
              "    </script>\n",
              "  </div>\n",
              "\n",
              "\n",
              "<div id=\"df-bc2db81b-a459-46bf-a922-d3e72507f71c\">\n",
              "  <button class=\"colab-df-quickchart\" onclick=\"quickchart('df-bc2db81b-a459-46bf-a922-d3e72507f71c')\"\n",
              "            title=\"Suggest charts.\"\n",
              "            style=\"display:none;\">\n",
              "\n",
              "<svg xmlns=\"http://www.w3.org/2000/svg\" height=\"24px\"viewBox=\"0 0 24 24\"\n",
              "     width=\"24px\">\n",
              "    <g>\n",
              "        <path d=\"M19 3H5c-1.1 0-2 .9-2 2v14c0 1.1.9 2 2 2h14c1.1 0 2-.9 2-2V5c0-1.1-.9-2-2-2zM9 17H7v-7h2v7zm4 0h-2V7h2v10zm4 0h-2v-4h2v4z\"/>\n",
              "    </g>\n",
              "</svg>\n",
              "  </button>\n",
              "\n",
              "<style>\n",
              "  .colab-df-quickchart {\n",
              "      --bg-color: #E8F0FE;\n",
              "      --fill-color: #1967D2;\n",
              "      --hover-bg-color: #E2EBFA;\n",
              "      --hover-fill-color: #174EA6;\n",
              "      --disabled-fill-color: #AAA;\n",
              "      --disabled-bg-color: #DDD;\n",
              "  }\n",
              "\n",
              "  [theme=dark] .colab-df-quickchart {\n",
              "      --bg-color: #3B4455;\n",
              "      --fill-color: #D2E3FC;\n",
              "      --hover-bg-color: #434B5C;\n",
              "      --hover-fill-color: #FFFFFF;\n",
              "      --disabled-bg-color: #3B4455;\n",
              "      --disabled-fill-color: #666;\n",
              "  }\n",
              "\n",
              "  .colab-df-quickchart {\n",
              "    background-color: var(--bg-color);\n",
              "    border: none;\n",
              "    border-radius: 50%;\n",
              "    cursor: pointer;\n",
              "    display: none;\n",
              "    fill: var(--fill-color);\n",
              "    height: 32px;\n",
              "    padding: 0;\n",
              "    width: 32px;\n",
              "  }\n",
              "\n",
              "  .colab-df-quickchart:hover {\n",
              "    background-color: var(--hover-bg-color);\n",
              "    box-shadow: 0 1px 2px rgba(60, 64, 67, 0.3), 0 1px 3px 1px rgba(60, 64, 67, 0.15);\n",
              "    fill: var(--button-hover-fill-color);\n",
              "  }\n",
              "\n",
              "  .colab-df-quickchart-complete:disabled,\n",
              "  .colab-df-quickchart-complete:disabled:hover {\n",
              "    background-color: var(--disabled-bg-color);\n",
              "    fill: var(--disabled-fill-color);\n",
              "    box-shadow: none;\n",
              "  }\n",
              "\n",
              "  .colab-df-spinner {\n",
              "    border: 2px solid var(--fill-color);\n",
              "    border-color: transparent;\n",
              "    border-bottom-color: var(--fill-color);\n",
              "    animation:\n",
              "      spin 1s steps(1) infinite;\n",
              "  }\n",
              "\n",
              "  @keyframes spin {\n",
              "    0% {\n",
              "      border-color: transparent;\n",
              "      border-bottom-color: var(--fill-color);\n",
              "      border-left-color: var(--fill-color);\n",
              "    }\n",
              "    20% {\n",
              "      border-color: transparent;\n",
              "      border-left-color: var(--fill-color);\n",
              "      border-top-color: var(--fill-color);\n",
              "    }\n",
              "    30% {\n",
              "      border-color: transparent;\n",
              "      border-left-color: var(--fill-color);\n",
              "      border-top-color: var(--fill-color);\n",
              "      border-right-color: var(--fill-color);\n",
              "    }\n",
              "    40% {\n",
              "      border-color: transparent;\n",
              "      border-right-color: var(--fill-color);\n",
              "      border-top-color: var(--fill-color);\n",
              "    }\n",
              "    60% {\n",
              "      border-color: transparent;\n",
              "      border-right-color: var(--fill-color);\n",
              "    }\n",
              "    80% {\n",
              "      border-color: transparent;\n",
              "      border-right-color: var(--fill-color);\n",
              "      border-bottom-color: var(--fill-color);\n",
              "    }\n",
              "    90% {\n",
              "      border-color: transparent;\n",
              "      border-bottom-color: var(--fill-color);\n",
              "    }\n",
              "  }\n",
              "</style>\n",
              "\n",
              "  <script>\n",
              "    async function quickchart(key) {\n",
              "      const quickchartButtonEl =\n",
              "        document.querySelector('#' + key + ' button');\n",
              "      quickchartButtonEl.disabled = true;  // To prevent multiple clicks.\n",
              "      quickchartButtonEl.classList.add('colab-df-spinner');\n",
              "      try {\n",
              "        const charts = await google.colab.kernel.invokeFunction(\n",
              "            'suggestCharts', [key], {});\n",
              "      } catch (error) {\n",
              "        console.error('Error during call to suggestCharts:', error);\n",
              "      }\n",
              "      quickchartButtonEl.classList.remove('colab-df-spinner');\n",
              "      quickchartButtonEl.classList.add('colab-df-quickchart-complete');\n",
              "    }\n",
              "    (() => {\n",
              "      let quickchartButtonEl =\n",
              "        document.querySelector('#df-bc2db81b-a459-46bf-a922-d3e72507f71c button');\n",
              "      quickchartButtonEl.style.display =\n",
              "        google.colab.kernel.accessAllowed ? 'block' : 'none';\n",
              "    })();\n",
              "  </script>\n",
              "</div>\n",
              "    </div>\n",
              "  </div>\n"
            ],
            "text/plain": [
              "      EmployeeID  TotalWorkingYears\n",
              "3277        3278               40.0\n",
              "1807        1808               40.0\n",
              "4278        4279               40.0\n",
              "2808        2809               40.0\n",
              "337          338               40.0\n",
              "...          ...                ...\n",
              "1517        1518                NaN\n",
              "2367        2368                NaN\n",
              "3120        3121                NaN\n",
              "3818        3819                NaN\n",
              "4409        4410                NaN\n",
              "\n",
              "[4410 rows x 2 columns]"
            ]
          },
          "execution_count": 18,
          "metadata": {},
          "output_type": "execute_result"
        }
      ],
      "source": [
        "ddatay2 = dfdatay.sort_values(by='TotalWorkingYears', ascending=False)\n",
        "ddatay2"
      ]
    },
    {
      "cell_type": "code",
      "execution_count": null,
      "metadata": {
        "colab": {
          "base_uri": "https://localhost:8080/"
        },
        "id": "tw0aK8L_Hzot",
        "outputId": "e05cfe8e-4f92-4e9d-ba2e-4288a417d3fd"
      },
      "outputs": [
        {
          "data": {
            "text/plain": [
              "0.08"
            ]
          },
          "execution_count": 19,
          "metadata": {},
          "output_type": "execute_result"
        }
      ],
      "source": [
        "#Una vez observado lo que contiene cada variable procederemos primero a tratar los nulos.\n",
        "# primero analizaremos el porcentaje de nulos que presenta nuestra base de datos\n",
        "round(dfdata.isnull().sum().sum()/dfdata.size, 4)*100"
      ]
    },
    {
      "cell_type": "code",
      "execution_count": null,
      "metadata": {
        "colab": {
          "base_uri": "https://localhost:8080/"
        },
        "id": "T3QSiBjuHzot",
        "outputId": "57af2004-d20e-4b5f-aff4-8bd7ba6d99df"
      },
      "outputs": [
        {
          "name": "stdout",
          "output_type": "stream",
          "text": [
            "2\n",
            "0\n",
            "[1. 0. 3. 4. 2. 7. 9. 5. 6. 8.]\n"
          ]
        }
      ],
      "source": [
        "#Como observamos el porcentaje de nulos es mucho menor al 0.1% del total de datos, por lo que no son tan significativos, entonces aprovecharemos\n",
        "#que se encuentran en varibales con respuestas numericas para aproximarlas al promedio, asi:\n",
        "median_NumCompaniesWorked=round(dfdata['NumCompaniesWorked'].median())\n",
        "print(median_NumCompaniesWorked)\n",
        "dfdata['NumCompaniesWorked']=dfdata['NumCompaniesWorked'].fillna(median_NumCompaniesWorked)\n",
        "print(dfdata['NumCompaniesWorked'].isnull().sum())\n",
        "print(dfdata['NumCompaniesWorked'].unique())"
      ]
    },
    {
      "cell_type": "code",
      "execution_count": null,
      "metadata": {
        "colab": {
          "base_uri": "https://localhost:8080/"
        },
        "id": "1Gyteh_MHzot",
        "outputId": "042913c6-746c-4ef2-8951-82390093f4fd"
      },
      "outputs": [
        {
          "name": "stdout",
          "output_type": "stream",
          "text": [
            "0    3.0\n",
            "Name: EnvironmentSatisfaction, dtype: float64\n",
            "0\n",
            "[3. 2. 4. 1.]\n"
          ]
        }
      ],
      "source": [
        "mode_EnvironmentSatisfaction = dfdata['EnvironmentSatisfaction'].mode()\n",
        "print(mode_EnvironmentSatisfaction)\n",
        "dfdata['EnvironmentSatisfaction'].fillna(mode_EnvironmentSatisfaction[0], inplace=True)\n",
        "print(dfdata['EnvironmentSatisfaction'].isnull().sum())\n",
        "print(dfdata['EnvironmentSatisfaction'].unique())"
      ]
    },
    {
      "cell_type": "code",
      "execution_count": null,
      "metadata": {
        "colab": {
          "base_uri": "https://localhost:8080/"
        },
        "id": "2RNheS40Hzou",
        "outputId": "6b9eef18-bc8a-41fa-85dd-2611bfdc2454"
      },
      "outputs": [
        {
          "name": "stdout",
          "output_type": "stream",
          "text": [
            "10\n",
            "0\n",
            "[ 1.  6.  5. 13.  9. 28. 10. 21. 16. 37.  7.  3. 15.  8.  2. 12. 17. 19.\n",
            " 22.  4. 23.  0. 11. 24. 25. 20. 14. 26. 18. 30. 36. 31. 33. 32. 34. 40.\n",
            " 29. 35. 27. 38.]\n"
          ]
        }
      ],
      "source": [
        "median_TotalWorkingYears=round(dfdata['TotalWorkingYears'].median())\n",
        "print(median_TotalWorkingYears)\n",
        "dfdata['TotalWorkingYears']=dfdata['TotalWorkingYears'].fillna(median_NumCompaniesWorked)\n",
        "print(dfdata['TotalWorkingYears'].isnull().sum())\n",
        "print(dfdata['TotalWorkingYears'].unique())"
      ]
    },
    {
      "cell_type": "code",
      "execution_count": null,
      "metadata": {
        "colab": {
          "base_uri": "https://localhost:8080/"
        },
        "id": "wgLLjwvaHzou",
        "outputId": "52af2e6a-b21b-42f6-cf83-78f9fd474500"
      },
      "outputs": [
        {
          "name": "stdout",
          "output_type": "stream",
          "text": [
            "0    4.0\n",
            "Name: JobSatisfaction, dtype: float64\n",
            "0\n",
            "[4. 2. 1. 3.]\n"
          ]
        }
      ],
      "source": [
        "mode_JobSatisfaction = dfdata['JobSatisfaction'].mode()\n",
        "print(mode_JobSatisfaction)\n",
        "dfdata['JobSatisfaction'].fillna(mode_JobSatisfaction[0], inplace=True)\n",
        "print(dfdata['JobSatisfaction'].isnull().sum())\n",
        "print(dfdata['JobSatisfaction'].unique())"
      ]
    },
    {
      "cell_type": "code",
      "execution_count": null,
      "metadata": {
        "colab": {
          "base_uri": "https://localhost:8080/"
        },
        "id": "A6tQiqG9Hzou",
        "outputId": "7ece1657-8d78-4f18-9daf-fb61b38f6946"
      },
      "outputs": [
        {
          "name": "stdout",
          "output_type": "stream",
          "text": [
            "0    3.0\n",
            "Name: WorkLifeBalance, dtype: float64\n",
            "0\n",
            "[2. 4. 1. 3.]\n"
          ]
        }
      ],
      "source": [
        "mode_WorkLifeBalance = dfdata['WorkLifeBalance'].mode()\n",
        "print(mode_WorkLifeBalance)\n",
        "dfdata['WorkLifeBalance'].fillna(mode_WorkLifeBalance[0], inplace=True)\n",
        "print(dfdata['WorkLifeBalance'].isnull().sum())\n",
        "print(dfdata['WorkLifeBalance'].unique())"
      ]
    },
    {
      "cell_type": "code",
      "execution_count": null,
      "metadata": {
        "id": "JPhASYZ0Hzou"
      },
      "outputs": [],
      "source": [
        "dfdata['mean_time'] = dfdata['mean_time'].str.replace(',', '.')"
      ]
    },
    {
      "cell_type": "code",
      "execution_count": null,
      "metadata": {
        "colab": {
          "base_uri": "https://localhost:8080/"
        },
        "id": "PjfXzfRWHzou",
        "outputId": "2c67faa1-601c-4d52-b303-4d7d23c79fc5"
      },
      "outputs": [
        {
          "name": "stdout",
          "output_type": "stream",
          "text": [
            "0       6.8702\n",
            "1       7.3160\n",
            "2       6.8161\n",
            "3       6.7892\n",
            "4       7.8776\n",
            "         ...  \n",
            "4405    8.3169\n",
            "4406    5.8972\n",
            "4407    7.1495\n",
            "4408    9.1876\n",
            "4409    6.5118\n",
            "Name: mean_time, Length: 4410, dtype: float64\n"
          ]
        }
      ],
      "source": [
        "dfdata['mean_time'] = pd.to_numeric(dfdata['mean_time'], errors='coerce')\n",
        "print(dfdata['mean_time'])"
      ]
    },
    {
      "cell_type": "code",
      "execution_count": null,
      "metadata": {
        "colab": {
          "base_uri": "https://localhost:8080/"
        },
        "id": "aDbCz-ZSHzou",
        "outputId": "30d92688-5c99-418a-d6cf-271023eeb8b1"
      },
      "outputs": [
        {
          "name": "stdout",
          "output_type": "stream",
          "text": [
            "7.314362494331067\n",
            "0\n",
            "[6.8702 7.316  6.8161 ... 5.8972 9.1876 6.5118]\n"
          ]
        }
      ],
      "source": [
        "mean_mean_time=(dfdata['mean_time'].mean())\n",
        "print(mean_mean_time)\n",
        "dfdata['mean_time']=dfdata['mean_time'].fillna(mean_mean_time)\n",
        "print(dfdata['mean_time'].isnull().sum())\n",
        "print(dfdata['mean_time'].unique())"
      ]
    },
    {
      "cell_type": "code",
      "execution_count": null,
      "metadata": {
        "colab": {
          "base_uri": "https://localhost:8080/"
        },
        "id": "LHJZUXyFHzov",
        "outputId": "162fcb27-047b-460a-d23b-4ed2ab5d1828"
      },
      "outputs": [
        {
          "data": {
            "text/plain": [
              "Age                        0\n",
              "Attrition                  0\n",
              "BusinessTravel             0\n",
              "Department                 0\n",
              "DistanceFromHome           0\n",
              "Education                  0\n",
              "EducationField             0\n",
              "EmployeeCount              0\n",
              "EmployeeID                 0\n",
              "Gender                     0\n",
              "JobLevel                   0\n",
              "JobRole                    0\n",
              "MaritalStatus              0\n",
              "MonthlyIncome              0\n",
              "NumCompaniesWorked         0\n",
              "Over18                     0\n",
              "PercentSalaryHike          0\n",
              "StandardHours              0\n",
              "StockOptionLevel           0\n",
              "TotalWorkingYears          0\n",
              "TrainingTimesLastYear      0\n",
              "YearsAtCompany             0\n",
              "YearsSinceLastPromotion    0\n",
              "YearsWithCurrManager       0\n",
              "EnvironmentSatisfaction    0\n",
              "JobSatisfaction            0\n",
              "WorkLifeBalance            0\n",
              "JobInvolvement             0\n",
              "PerformanceRating          0\n",
              "mean_time                  0\n",
              "dtype: int64"
            ]
          },
          "execution_count": 28,
          "metadata": {},
          "output_type": "execute_result"
        }
      ],
      "source": [
        "# Como podemos observar ahora ya fueron tratados todos los nulos, por lo tanto podemos proceder a realizar el análisis exploratorio para entender mejor\n",
        "# el comportamiento de nuestras variables\n",
        "dfdata.isnull().sum()"
      ]
    },
    {
      "cell_type": "code",
      "execution_count": null,
      "metadata": {
        "id": "RLg6Sl3xHzov"
      },
      "outputs": [],
      "source": [
        "df_datafinal = dfdata.loc[:,['Age','DistanceFromHome', 'MonthlyIncome', 'NumCompaniesWorked','PercentSalaryHike','TotalWorkingYears', 'TrainingTimesLastYear', 'YearsAtCompany', 'YearsSinceLastPromotion', 'YearsWithCurrManager', 'mean_time','BusinessTravel', 'Department', 'EducationField', 'Gender','JobRole', 'MaritalStatus', 'Education','JobLevel', 'StockOptionLevel',  'EnvironmentSatisfaction', 'JobSatisfaction', 'WorkLifeBalance', 'JobInvolvement', 'PerformanceRating', 'Attrition']]"
      ]
    },
    {
      "cell_type": "code",
      "execution_count": null,
      "metadata": {
        "colab": {
          "base_uri": "https://localhost:8080/"
        },
        "id": "IZWgWWjSHzov",
        "outputId": "bf8f0e07-d30d-47f6-9158-88afb655ff81"
      },
      "outputs": [
        {
          "data": {
            "text/plain": [
              "(4410, 26)"
            ]
          },
          "execution_count": 30,
          "metadata": {},
          "output_type": "execute_result"
        }
      ],
      "source": [
        "df_datafinal.shape"
      ]
    },
    {
      "cell_type": "code",
      "execution_count": null,
      "metadata": {
        "colab": {
          "base_uri": "https://localhost:8080/"
        },
        "id": "lEGRyHq5Hzow",
        "outputId": "bb03e063-e583-47ce-ac33-bbeb3ec8f6de"
      },
      "outputs": [
        {
          "data": {
            "text/html": [
              "\n",
              "  <div id=\"df-2bfff444-8ab8-489d-825d-44faf3b53a13\" class=\"colab-df-container\">\n",
              "    <div>\n",
              "<style scoped>\n",
              "    .dataframe tbody tr th:only-of-type {\n",
              "        vertical-align: middle;\n",
              "    }\n",
              "\n",
              "    .dataframe tbody tr th {\n",
              "        vertical-align: top;\n",
              "    }\n",
              "\n",
              "    .dataframe thead th {\n",
              "        text-align: right;\n",
              "    }\n",
              "</style>\n",
              "<table border=\"1\" class=\"dataframe\">\n",
              "  <thead>\n",
              "    <tr style=\"text-align: right;\">\n",
              "      <th></th>\n",
              "      <th>Age</th>\n",
              "      <th>DistanceFromHome</th>\n",
              "      <th>MonthlyIncome</th>\n",
              "      <th>NumCompaniesWorked</th>\n",
              "      <th>PercentSalaryHike</th>\n",
              "      <th>TotalWorkingYears</th>\n",
              "      <th>TrainingTimesLastYear</th>\n",
              "      <th>YearsAtCompany</th>\n",
              "      <th>YearsSinceLastPromotion</th>\n",
              "      <th>YearsWithCurrManager</th>\n",
              "      <th>mean_time</th>\n",
              "      <th>Education</th>\n",
              "      <th>JobLevel</th>\n",
              "      <th>StockOptionLevel</th>\n",
              "      <th>EnvironmentSatisfaction</th>\n",
              "      <th>JobSatisfaction</th>\n",
              "      <th>WorkLifeBalance</th>\n",
              "      <th>JobInvolvement</th>\n",
              "      <th>PerformanceRating</th>\n",
              "    </tr>\n",
              "  </thead>\n",
              "  <tbody>\n",
              "    <tr>\n",
              "      <th>count</th>\n",
              "      <td>4410.000000</td>\n",
              "      <td>4410.000000</td>\n",
              "      <td>4410.000000</td>\n",
              "      <td>4410.000000</td>\n",
              "      <td>4410.000000</td>\n",
              "      <td>4410.000000</td>\n",
              "      <td>4410.000000</td>\n",
              "      <td>4410.000000</td>\n",
              "      <td>4410.000000</td>\n",
              "      <td>4410.000000</td>\n",
              "      <td>4410.000000</td>\n",
              "      <td>4410.000000</td>\n",
              "      <td>4410.000000</td>\n",
              "      <td>4410.000000</td>\n",
              "      <td>4410.000000</td>\n",
              "      <td>4410.000000</td>\n",
              "      <td>4410.000000</td>\n",
              "      <td>4410.000000</td>\n",
              "      <td>4410.000000</td>\n",
              "    </tr>\n",
              "    <tr>\n",
              "      <th>mean</th>\n",
              "      <td>36.923810</td>\n",
              "      <td>9.192517</td>\n",
              "      <td>65029.312925</td>\n",
              "      <td>2.691837</td>\n",
              "      <td>15.209524</td>\n",
              "      <td>11.260998</td>\n",
              "      <td>2.799320</td>\n",
              "      <td>7.008163</td>\n",
              "      <td>2.187755</td>\n",
              "      <td>4.123129</td>\n",
              "      <td>7.314362</td>\n",
              "      <td>2.912925</td>\n",
              "      <td>2.063946</td>\n",
              "      <td>0.793878</td>\n",
              "      <td>2.725170</td>\n",
              "      <td>2.734014</td>\n",
              "      <td>2.763492</td>\n",
              "      <td>2.729932</td>\n",
              "      <td>3.153741</td>\n",
              "    </tr>\n",
              "    <tr>\n",
              "      <th>std</th>\n",
              "      <td>9.133301</td>\n",
              "      <td>8.105026</td>\n",
              "      <td>47068.888559</td>\n",
              "      <td>2.493912</td>\n",
              "      <td>3.659108</td>\n",
              "      <td>7.785550</td>\n",
              "      <td>1.288978</td>\n",
              "      <td>6.125135</td>\n",
              "      <td>3.221699</td>\n",
              "      <td>3.567327</td>\n",
              "      <td>1.330769</td>\n",
              "      <td>1.023933</td>\n",
              "      <td>1.106689</td>\n",
              "      <td>0.851883</td>\n",
              "      <td>1.089852</td>\n",
              "      <td>1.102071</td>\n",
              "      <td>0.703541</td>\n",
              "      <td>0.711400</td>\n",
              "      <td>0.360742</td>\n",
              "    </tr>\n",
              "    <tr>\n",
              "      <th>min</th>\n",
              "      <td>18.000000</td>\n",
              "      <td>1.000000</td>\n",
              "      <td>10090.000000</td>\n",
              "      <td>0.000000</td>\n",
              "      <td>11.000000</td>\n",
              "      <td>0.000000</td>\n",
              "      <td>0.000000</td>\n",
              "      <td>0.000000</td>\n",
              "      <td>0.000000</td>\n",
              "      <td>0.000000</td>\n",
              "      <td>5.416900</td>\n",
              "      <td>1.000000</td>\n",
              "      <td>1.000000</td>\n",
              "      <td>0.000000</td>\n",
              "      <td>1.000000</td>\n",
              "      <td>1.000000</td>\n",
              "      <td>1.000000</td>\n",
              "      <td>1.000000</td>\n",
              "      <td>3.000000</td>\n",
              "    </tr>\n",
              "    <tr>\n",
              "      <th>25%</th>\n",
              "      <td>30.000000</td>\n",
              "      <td>2.000000</td>\n",
              "      <td>29110.000000</td>\n",
              "      <td>1.000000</td>\n",
              "      <td>12.000000</td>\n",
              "      <td>6.000000</td>\n",
              "      <td>2.000000</td>\n",
              "      <td>3.000000</td>\n",
              "      <td>0.000000</td>\n",
              "      <td>2.000000</td>\n",
              "      <td>6.279400</td>\n",
              "      <td>2.000000</td>\n",
              "      <td>1.000000</td>\n",
              "      <td>0.000000</td>\n",
              "      <td>2.000000</td>\n",
              "      <td>2.000000</td>\n",
              "      <td>2.000000</td>\n",
              "      <td>2.000000</td>\n",
              "      <td>3.000000</td>\n",
              "    </tr>\n",
              "    <tr>\n",
              "      <th>50%</th>\n",
              "      <td>36.000000</td>\n",
              "      <td>7.000000</td>\n",
              "      <td>49190.000000</td>\n",
              "      <td>2.000000</td>\n",
              "      <td>14.000000</td>\n",
              "      <td>10.000000</td>\n",
              "      <td>3.000000</td>\n",
              "      <td>5.000000</td>\n",
              "      <td>1.000000</td>\n",
              "      <td>3.000000</td>\n",
              "      <td>7.011150</td>\n",
              "      <td>3.000000</td>\n",
              "      <td>2.000000</td>\n",
              "      <td>1.000000</td>\n",
              "      <td>3.000000</td>\n",
              "      <td>3.000000</td>\n",
              "      <td>3.000000</td>\n",
              "      <td>3.000000</td>\n",
              "      <td>3.000000</td>\n",
              "    </tr>\n",
              "    <tr>\n",
              "      <th>75%</th>\n",
              "      <td>43.000000</td>\n",
              "      <td>14.000000</td>\n",
              "      <td>83800.000000</td>\n",
              "      <td>4.000000</td>\n",
              "      <td>18.000000</td>\n",
              "      <td>15.000000</td>\n",
              "      <td>3.000000</td>\n",
              "      <td>9.000000</td>\n",
              "      <td>3.000000</td>\n",
              "      <td>7.000000</td>\n",
              "      <td>7.900750</td>\n",
              "      <td>4.000000</td>\n",
              "      <td>3.000000</td>\n",
              "      <td>1.000000</td>\n",
              "      <td>4.000000</td>\n",
              "      <td>4.000000</td>\n",
              "      <td>3.000000</td>\n",
              "      <td>3.000000</td>\n",
              "      <td>3.000000</td>\n",
              "    </tr>\n",
              "    <tr>\n",
              "      <th>max</th>\n",
              "      <td>60.000000</td>\n",
              "      <td>29.000000</td>\n",
              "      <td>199990.000000</td>\n",
              "      <td>9.000000</td>\n",
              "      <td>25.000000</td>\n",
              "      <td>40.000000</td>\n",
              "      <td>6.000000</td>\n",
              "      <td>40.000000</td>\n",
              "      <td>15.000000</td>\n",
              "      <td>17.000000</td>\n",
              "      <td>10.937300</td>\n",
              "      <td>5.000000</td>\n",
              "      <td>5.000000</td>\n",
              "      <td>3.000000</td>\n",
              "      <td>4.000000</td>\n",
              "      <td>4.000000</td>\n",
              "      <td>4.000000</td>\n",
              "      <td>4.000000</td>\n",
              "      <td>4.000000</td>\n",
              "    </tr>\n",
              "  </tbody>\n",
              "</table>\n",
              "</div>\n",
              "    <div class=\"colab-df-buttons\">\n",
              "\n",
              "  <div class=\"colab-df-container\">\n",
              "    <button class=\"colab-df-convert\" onclick=\"convertToInteractive('df-2bfff444-8ab8-489d-825d-44faf3b53a13')\"\n",
              "            title=\"Convert this dataframe to an interactive table.\"\n",
              "            style=\"display:none;\">\n",
              "\n",
              "  <svg xmlns=\"http://www.w3.org/2000/svg\" height=\"24px\" viewBox=\"0 -960 960 960\">\n",
              "    <path d=\"M120-120v-720h720v720H120Zm60-500h600v-160H180v160Zm220 220h160v-160H400v160Zm0 220h160v-160H400v160ZM180-400h160v-160H180v160Zm440 0h160v-160H620v160ZM180-180h160v-160H180v160Zm440 0h160v-160H620v160Z\"/>\n",
              "  </svg>\n",
              "    </button>\n",
              "\n",
              "  <style>\n",
              "    .colab-df-container {\n",
              "      display:flex;\n",
              "      gap: 12px;\n",
              "    }\n",
              "\n",
              "    .colab-df-convert {\n",
              "      background-color: #E8F0FE;\n",
              "      border: none;\n",
              "      border-radius: 50%;\n",
              "      cursor: pointer;\n",
              "      display: none;\n",
              "      fill: #1967D2;\n",
              "      height: 32px;\n",
              "      padding: 0 0 0 0;\n",
              "      width: 32px;\n",
              "    }\n",
              "\n",
              "    .colab-df-convert:hover {\n",
              "      background-color: #E2EBFA;\n",
              "      box-shadow: 0px 1px 2px rgba(60, 64, 67, 0.3), 0px 1px 3px 1px rgba(60, 64, 67, 0.15);\n",
              "      fill: #174EA6;\n",
              "    }\n",
              "\n",
              "    .colab-df-buttons div {\n",
              "      margin-bottom: 4px;\n",
              "    }\n",
              "\n",
              "    [theme=dark] .colab-df-convert {\n",
              "      background-color: #3B4455;\n",
              "      fill: #D2E3FC;\n",
              "    }\n",
              "\n",
              "    [theme=dark] .colab-df-convert:hover {\n",
              "      background-color: #434B5C;\n",
              "      box-shadow: 0px 1px 3px 1px rgba(0, 0, 0, 0.15);\n",
              "      filter: drop-shadow(0px 1px 2px rgba(0, 0, 0, 0.3));\n",
              "      fill: #FFFFFF;\n",
              "    }\n",
              "  </style>\n",
              "\n",
              "    <script>\n",
              "      const buttonEl =\n",
              "        document.querySelector('#df-2bfff444-8ab8-489d-825d-44faf3b53a13 button.colab-df-convert');\n",
              "      buttonEl.style.display =\n",
              "        google.colab.kernel.accessAllowed ? 'block' : 'none';\n",
              "\n",
              "      async function convertToInteractive(key) {\n",
              "        const element = document.querySelector('#df-2bfff444-8ab8-489d-825d-44faf3b53a13');\n",
              "        const dataTable =\n",
              "          await google.colab.kernel.invokeFunction('convertToInteractive',\n",
              "                                                    [key], {});\n",
              "        if (!dataTable) return;\n",
              "\n",
              "        const docLinkHtml = 'Like what you see? Visit the ' +\n",
              "          '<a target=\"_blank\" href=https://colab.research.google.com/notebooks/data_table.ipynb>data table notebook</a>'\n",
              "          + ' to learn more about interactive tables.';\n",
              "        element.innerHTML = '';\n",
              "        dataTable['output_type'] = 'display_data';\n",
              "        await google.colab.output.renderOutput(dataTable, element);\n",
              "        const docLink = document.createElement('div');\n",
              "        docLink.innerHTML = docLinkHtml;\n",
              "        element.appendChild(docLink);\n",
              "      }\n",
              "    </script>\n",
              "  </div>\n",
              "\n",
              "\n",
              "<div id=\"df-1c704050-3661-471c-bf31-ee9edc3bf68f\">\n",
              "  <button class=\"colab-df-quickchart\" onclick=\"quickchart('df-1c704050-3661-471c-bf31-ee9edc3bf68f')\"\n",
              "            title=\"Suggest charts.\"\n",
              "            style=\"display:none;\">\n",
              "\n",
              "<svg xmlns=\"http://www.w3.org/2000/svg\" height=\"24px\"viewBox=\"0 0 24 24\"\n",
              "     width=\"24px\">\n",
              "    <g>\n",
              "        <path d=\"M19 3H5c-1.1 0-2 .9-2 2v14c0 1.1.9 2 2 2h14c1.1 0 2-.9 2-2V5c0-1.1-.9-2-2-2zM9 17H7v-7h2v7zm4 0h-2V7h2v10zm4 0h-2v-4h2v4z\"/>\n",
              "    </g>\n",
              "</svg>\n",
              "  </button>\n",
              "\n",
              "<style>\n",
              "  .colab-df-quickchart {\n",
              "      --bg-color: #E8F0FE;\n",
              "      --fill-color: #1967D2;\n",
              "      --hover-bg-color: #E2EBFA;\n",
              "      --hover-fill-color: #174EA6;\n",
              "      --disabled-fill-color: #AAA;\n",
              "      --disabled-bg-color: #DDD;\n",
              "  }\n",
              "\n",
              "  [theme=dark] .colab-df-quickchart {\n",
              "      --bg-color: #3B4455;\n",
              "      --fill-color: #D2E3FC;\n",
              "      --hover-bg-color: #434B5C;\n",
              "      --hover-fill-color: #FFFFFF;\n",
              "      --disabled-bg-color: #3B4455;\n",
              "      --disabled-fill-color: #666;\n",
              "  }\n",
              "\n",
              "  .colab-df-quickchart {\n",
              "    background-color: var(--bg-color);\n",
              "    border: none;\n",
              "    border-radius: 50%;\n",
              "    cursor: pointer;\n",
              "    display: none;\n",
              "    fill: var(--fill-color);\n",
              "    height: 32px;\n",
              "    padding: 0;\n",
              "    width: 32px;\n",
              "  }\n",
              "\n",
              "  .colab-df-quickchart:hover {\n",
              "    background-color: var(--hover-bg-color);\n",
              "    box-shadow: 0 1px 2px rgba(60, 64, 67, 0.3), 0 1px 3px 1px rgba(60, 64, 67, 0.15);\n",
              "    fill: var(--button-hover-fill-color);\n",
              "  }\n",
              "\n",
              "  .colab-df-quickchart-complete:disabled,\n",
              "  .colab-df-quickchart-complete:disabled:hover {\n",
              "    background-color: var(--disabled-bg-color);\n",
              "    fill: var(--disabled-fill-color);\n",
              "    box-shadow: none;\n",
              "  }\n",
              "\n",
              "  .colab-df-spinner {\n",
              "    border: 2px solid var(--fill-color);\n",
              "    border-color: transparent;\n",
              "    border-bottom-color: var(--fill-color);\n",
              "    animation:\n",
              "      spin 1s steps(1) infinite;\n",
              "  }\n",
              "\n",
              "  @keyframes spin {\n",
              "    0% {\n",
              "      border-color: transparent;\n",
              "      border-bottom-color: var(--fill-color);\n",
              "      border-left-color: var(--fill-color);\n",
              "    }\n",
              "    20% {\n",
              "      border-color: transparent;\n",
              "      border-left-color: var(--fill-color);\n",
              "      border-top-color: var(--fill-color);\n",
              "    }\n",
              "    30% {\n",
              "      border-color: transparent;\n",
              "      border-left-color: var(--fill-color);\n",
              "      border-top-color: var(--fill-color);\n",
              "      border-right-color: var(--fill-color);\n",
              "    }\n",
              "    40% {\n",
              "      border-color: transparent;\n",
              "      border-right-color: var(--fill-color);\n",
              "      border-top-color: var(--fill-color);\n",
              "    }\n",
              "    60% {\n",
              "      border-color: transparent;\n",
              "      border-right-color: var(--fill-color);\n",
              "    }\n",
              "    80% {\n",
              "      border-color: transparent;\n",
              "      border-right-color: var(--fill-color);\n",
              "      border-bottom-color: var(--fill-color);\n",
              "    }\n",
              "    90% {\n",
              "      border-color: transparent;\n",
              "      border-bottom-color: var(--fill-color);\n",
              "    }\n",
              "  }\n",
              "</style>\n",
              "\n",
              "  <script>\n",
              "    async function quickchart(key) {\n",
              "      const quickchartButtonEl =\n",
              "        document.querySelector('#' + key + ' button');\n",
              "      quickchartButtonEl.disabled = true;  // To prevent multiple clicks.\n",
              "      quickchartButtonEl.classList.add('colab-df-spinner');\n",
              "      try {\n",
              "        const charts = await google.colab.kernel.invokeFunction(\n",
              "            'suggestCharts', [key], {});\n",
              "      } catch (error) {\n",
              "        console.error('Error during call to suggestCharts:', error);\n",
              "      }\n",
              "      quickchartButtonEl.classList.remove('colab-df-spinner');\n",
              "      quickchartButtonEl.classList.add('colab-df-quickchart-complete');\n",
              "    }\n",
              "    (() => {\n",
              "      let quickchartButtonEl =\n",
              "        document.querySelector('#df-1c704050-3661-471c-bf31-ee9edc3bf68f button');\n",
              "      quickchartButtonEl.style.display =\n",
              "        google.colab.kernel.accessAllowed ? 'block' : 'none';\n",
              "    })();\n",
              "  </script>\n",
              "</div>\n",
              "    </div>\n",
              "  </div>\n"
            ],
            "text/plain": [
              "               Age  DistanceFromHome  MonthlyIncome  NumCompaniesWorked  \\\n",
              "count  4410.000000       4410.000000    4410.000000         4410.000000   \n",
              "mean     36.923810          9.192517   65029.312925            2.691837   \n",
              "std       9.133301          8.105026   47068.888559            2.493912   \n",
              "min      18.000000          1.000000   10090.000000            0.000000   \n",
              "25%      30.000000          2.000000   29110.000000            1.000000   \n",
              "50%      36.000000          7.000000   49190.000000            2.000000   \n",
              "75%      43.000000         14.000000   83800.000000            4.000000   \n",
              "max      60.000000         29.000000  199990.000000            9.000000   \n",
              "\n",
              "       PercentSalaryHike  TotalWorkingYears  TrainingTimesLastYear  \\\n",
              "count        4410.000000        4410.000000            4410.000000   \n",
              "mean           15.209524          11.260998               2.799320   \n",
              "std             3.659108           7.785550               1.288978   \n",
              "min            11.000000           0.000000               0.000000   \n",
              "25%            12.000000           6.000000               2.000000   \n",
              "50%            14.000000          10.000000               3.000000   \n",
              "75%            18.000000          15.000000               3.000000   \n",
              "max            25.000000          40.000000               6.000000   \n",
              "\n",
              "       YearsAtCompany  YearsSinceLastPromotion  YearsWithCurrManager  \\\n",
              "count     4410.000000              4410.000000           4410.000000   \n",
              "mean         7.008163                 2.187755              4.123129   \n",
              "std          6.125135                 3.221699              3.567327   \n",
              "min          0.000000                 0.000000              0.000000   \n",
              "25%          3.000000                 0.000000              2.000000   \n",
              "50%          5.000000                 1.000000              3.000000   \n",
              "75%          9.000000                 3.000000              7.000000   \n",
              "max         40.000000                15.000000             17.000000   \n",
              "\n",
              "         mean_time    Education     JobLevel  StockOptionLevel  \\\n",
              "count  4410.000000  4410.000000  4410.000000       4410.000000   \n",
              "mean      7.314362     2.912925     2.063946          0.793878   \n",
              "std       1.330769     1.023933     1.106689          0.851883   \n",
              "min       5.416900     1.000000     1.000000          0.000000   \n",
              "25%       6.279400     2.000000     1.000000          0.000000   \n",
              "50%       7.011150     3.000000     2.000000          1.000000   \n",
              "75%       7.900750     4.000000     3.000000          1.000000   \n",
              "max      10.937300     5.000000     5.000000          3.000000   \n",
              "\n",
              "       EnvironmentSatisfaction  JobSatisfaction  WorkLifeBalance  \\\n",
              "count              4410.000000      4410.000000      4410.000000   \n",
              "mean                  2.725170         2.734014         2.763492   \n",
              "std                   1.089852         1.102071         0.703541   \n",
              "min                   1.000000         1.000000         1.000000   \n",
              "25%                   2.000000         2.000000         2.000000   \n",
              "50%                   3.000000         3.000000         3.000000   \n",
              "75%                   4.000000         4.000000         3.000000   \n",
              "max                   4.000000         4.000000         4.000000   \n",
              "\n",
              "       JobInvolvement  PerformanceRating  \n",
              "count     4410.000000        4410.000000  \n",
              "mean         2.729932           3.153741  \n",
              "std          0.711400           0.360742  \n",
              "min          1.000000           3.000000  \n",
              "25%          2.000000           3.000000  \n",
              "50%          3.000000           3.000000  \n",
              "75%          3.000000           3.000000  \n",
              "max          4.000000           4.000000  "
            ]
          },
          "execution_count": 31,
          "metadata": {},
          "output_type": "execute_result"
        }
      ],
      "source": [
        "df_datafinal.describe()"
      ]
    },
    {
      "cell_type": "code",
      "execution_count": null,
      "metadata": {
        "id": "KNWjNGRkHzow"
      },
      "outputs": [],
      "source": [
        "#ahora estudiaremos mejor el comportamiento de las variables para observar la aproximación de nuestro analisiS exploratorio\n",
        "df_datafinal[['StockOptionLevel', 'EnvironmentSatisfaction', 'JobSatisfaction', 'WorkLifeBalance']]= df_datafinal[['StockOptionLevel', 'EnvironmentSatisfaction', 'JobSatisfaction', 'WorkLifeBalance']].astype(str)"
      ]
    },
    {
      "cell_type": "code",
      "execution_count": null,
      "metadata": {
        "id": "0Ubzq3kdHzow"
      },
      "outputs": [],
      "source": [
        "df_datafinal[['Age', 'DistanceFromHome', 'MonthlyIncome', 'NumCompaniesWorked',\n",
        "       'PercentSalaryHike', 'TotalWorkingYears', 'TrainingTimesLastYear',\n",
        "       'YearsAtCompany', 'YearsSinceLastPromotion', 'YearsWithCurrManager',\n",
        "       'mean_time']] = df_datafinal[['Age', 'DistanceFromHome', 'MonthlyIncome', 'NumCompaniesWorked',\n",
        "       'PercentSalaryHike', 'TotalWorkingYears', 'TrainingTimesLastYear',\n",
        "       'YearsAtCompany', 'YearsSinceLastPromotion', 'YearsWithCurrManager',\n",
        "       'mean_time']].astype(float)"
      ]
    },
    {
      "cell_type": "code",
      "execution_count": null,
      "metadata": {
        "colab": {
          "base_uri": "https://localhost:8080/"
        },
        "id": "CniZczToHzow",
        "outputId": "2c3f1f35-483a-4981-dd6a-29b39f0b38f5"
      },
      "outputs": [
        {
          "name": "stdout",
          "output_type": "stream",
          "text": [
            "<class 'pandas.core.frame.DataFrame'>\n",
            "Int64Index: 4410 entries, 0 to 4409\n",
            "Data columns (total 26 columns):\n",
            " #   Column                   Non-Null Count  Dtype  \n",
            "---  ------                   --------------  -----  \n",
            " 0   Age                      4410 non-null   float64\n",
            " 1   DistanceFromHome         4410 non-null   float64\n",
            " 2   MonthlyIncome            4410 non-null   float64\n",
            " 3   NumCompaniesWorked       4410 non-null   float64\n",
            " 4   PercentSalaryHike        4410 non-null   float64\n",
            " 5   TotalWorkingYears        4410 non-null   float64\n",
            " 6   TrainingTimesLastYear    4410 non-null   float64\n",
            " 7   YearsAtCompany           4410 non-null   float64\n",
            " 8   YearsSinceLastPromotion  4410 non-null   float64\n",
            " 9   YearsWithCurrManager     4410 non-null   float64\n",
            " 10  mean_time                4410 non-null   float64\n",
            " 11  BusinessTravel           4410 non-null   object \n",
            " 12  Department               4410 non-null   object \n",
            " 13  EducationField           4410 non-null   object \n",
            " 14  Gender                   4410 non-null   object \n",
            " 15  JobRole                  4410 non-null   object \n",
            " 16  MaritalStatus            4410 non-null   object \n",
            " 17  Education                4410 non-null   int64  \n",
            " 18  JobLevel                 4410 non-null   int64  \n",
            " 19  StockOptionLevel         4410 non-null   object \n",
            " 20  EnvironmentSatisfaction  4410 non-null   object \n",
            " 21  JobSatisfaction          4410 non-null   object \n",
            " 22  WorkLifeBalance          4410 non-null   object \n",
            " 23  JobInvolvement           4410 non-null   int64  \n",
            " 24  PerformanceRating        4410 non-null   int64  \n",
            " 25  Attrition                4410 non-null   object \n",
            "dtypes: float64(11), int64(4), object(11)\n",
            "memory usage: 930.2+ KB\n"
          ]
        }
      ],
      "source": [
        "df_datafinal.info()"
      ]
    },
    {
      "cell_type": "code",
      "execution_count": null,
      "metadata": {
        "colab": {
          "base_uri": "https://localhost:8080/"
        },
        "id": "wz-Sj7mzHzow",
        "outputId": "0e5f8a2f-9060-4dd1-beee-b285d91e2396"
      },
      "outputs": [
        {
          "data": {
            "text/html": [
              "\n",
              "  <div id=\"df-9068d0e3-3aa0-4293-a59e-1298cc64ed51\" class=\"colab-df-container\">\n",
              "    <div>\n",
              "<style scoped>\n",
              "    .dataframe tbody tr th:only-of-type {\n",
              "        vertical-align: middle;\n",
              "    }\n",
              "\n",
              "    .dataframe tbody tr th {\n",
              "        vertical-align: top;\n",
              "    }\n",
              "\n",
              "    .dataframe thead th {\n",
              "        text-align: right;\n",
              "    }\n",
              "</style>\n",
              "<table border=\"1\" class=\"dataframe\">\n",
              "  <thead>\n",
              "    <tr style=\"text-align: right;\">\n",
              "      <th></th>\n",
              "      <th>Age</th>\n",
              "      <th>DistanceFromHome</th>\n",
              "      <th>MonthlyIncome</th>\n",
              "      <th>NumCompaniesWorked</th>\n",
              "      <th>PercentSalaryHike</th>\n",
              "      <th>TotalWorkingYears</th>\n",
              "      <th>TrainingTimesLastYear</th>\n",
              "      <th>YearsAtCompany</th>\n",
              "      <th>YearsSinceLastPromotion</th>\n",
              "      <th>YearsWithCurrManager</th>\n",
              "      <th>...</th>\n",
              "      <th>EnvironmentSatisfaction_3.0</th>\n",
              "      <th>EnvironmentSatisfaction_4.0</th>\n",
              "      <th>JobSatisfaction_1.0</th>\n",
              "      <th>JobSatisfaction_2.0</th>\n",
              "      <th>JobSatisfaction_3.0</th>\n",
              "      <th>JobSatisfaction_4.0</th>\n",
              "      <th>WorkLifeBalance_1.0</th>\n",
              "      <th>WorkLifeBalance_2.0</th>\n",
              "      <th>WorkLifeBalance_3.0</th>\n",
              "      <th>WorkLifeBalance_4.0</th>\n",
              "    </tr>\n",
              "  </thead>\n",
              "  <tbody>\n",
              "    <tr>\n",
              "      <th>0</th>\n",
              "      <td>51.0</td>\n",
              "      <td>6.0</td>\n",
              "      <td>131160.0</td>\n",
              "      <td>1.0</td>\n",
              "      <td>11.0</td>\n",
              "      <td>1.0</td>\n",
              "      <td>6.0</td>\n",
              "      <td>1.0</td>\n",
              "      <td>0.0</td>\n",
              "      <td>0.0</td>\n",
              "      <td>...</td>\n",
              "      <td>1</td>\n",
              "      <td>0</td>\n",
              "      <td>0</td>\n",
              "      <td>0</td>\n",
              "      <td>0</td>\n",
              "      <td>1</td>\n",
              "      <td>0</td>\n",
              "      <td>1</td>\n",
              "      <td>0</td>\n",
              "      <td>0</td>\n",
              "    </tr>\n",
              "    <tr>\n",
              "      <th>1</th>\n",
              "      <td>31.0</td>\n",
              "      <td>10.0</td>\n",
              "      <td>41890.0</td>\n",
              "      <td>0.0</td>\n",
              "      <td>23.0</td>\n",
              "      <td>6.0</td>\n",
              "      <td>3.0</td>\n",
              "      <td>5.0</td>\n",
              "      <td>1.0</td>\n",
              "      <td>4.0</td>\n",
              "      <td>...</td>\n",
              "      <td>1</td>\n",
              "      <td>0</td>\n",
              "      <td>0</td>\n",
              "      <td>1</td>\n",
              "      <td>0</td>\n",
              "      <td>0</td>\n",
              "      <td>0</td>\n",
              "      <td>0</td>\n",
              "      <td>0</td>\n",
              "      <td>1</td>\n",
              "    </tr>\n",
              "    <tr>\n",
              "      <th>2</th>\n",
              "      <td>32.0</td>\n",
              "      <td>17.0</td>\n",
              "      <td>193280.0</td>\n",
              "      <td>1.0</td>\n",
              "      <td>15.0</td>\n",
              "      <td>5.0</td>\n",
              "      <td>2.0</td>\n",
              "      <td>5.0</td>\n",
              "      <td>0.0</td>\n",
              "      <td>3.0</td>\n",
              "      <td>...</td>\n",
              "      <td>0</td>\n",
              "      <td>0</td>\n",
              "      <td>0</td>\n",
              "      <td>1</td>\n",
              "      <td>0</td>\n",
              "      <td>0</td>\n",
              "      <td>1</td>\n",
              "      <td>0</td>\n",
              "      <td>0</td>\n",
              "      <td>0</td>\n",
              "    </tr>\n",
              "    <tr>\n",
              "      <th>3</th>\n",
              "      <td>38.0</td>\n",
              "      <td>2.0</td>\n",
              "      <td>83210.0</td>\n",
              "      <td>3.0</td>\n",
              "      <td>11.0</td>\n",
              "      <td>13.0</td>\n",
              "      <td>5.0</td>\n",
              "      <td>8.0</td>\n",
              "      <td>7.0</td>\n",
              "      <td>5.0</td>\n",
              "      <td>...</td>\n",
              "      <td>0</td>\n",
              "      <td>1</td>\n",
              "      <td>0</td>\n",
              "      <td>0</td>\n",
              "      <td>0</td>\n",
              "      <td>1</td>\n",
              "      <td>0</td>\n",
              "      <td>0</td>\n",
              "      <td>1</td>\n",
              "      <td>0</td>\n",
              "    </tr>\n",
              "    <tr>\n",
              "      <th>4</th>\n",
              "      <td>32.0</td>\n",
              "      <td>10.0</td>\n",
              "      <td>23420.0</td>\n",
              "      <td>4.0</td>\n",
              "      <td>12.0</td>\n",
              "      <td>9.0</td>\n",
              "      <td>2.0</td>\n",
              "      <td>6.0</td>\n",
              "      <td>0.0</td>\n",
              "      <td>4.0</td>\n",
              "      <td>...</td>\n",
              "      <td>0</td>\n",
              "      <td>1</td>\n",
              "      <td>1</td>\n",
              "      <td>0</td>\n",
              "      <td>0</td>\n",
              "      <td>0</td>\n",
              "      <td>0</td>\n",
              "      <td>0</td>\n",
              "      <td>1</td>\n",
              "      <td>0</td>\n",
              "    </tr>\n",
              "  </tbody>\n",
              "</table>\n",
              "<p>5 rows × 57 columns</p>\n",
              "</div>\n",
              "    <div class=\"colab-df-buttons\">\n",
              "\n",
              "  <div class=\"colab-df-container\">\n",
              "    <button class=\"colab-df-convert\" onclick=\"convertToInteractive('df-9068d0e3-3aa0-4293-a59e-1298cc64ed51')\"\n",
              "            title=\"Convert this dataframe to an interactive table.\"\n",
              "            style=\"display:none;\">\n",
              "\n",
              "  <svg xmlns=\"http://www.w3.org/2000/svg\" height=\"24px\" viewBox=\"0 -960 960 960\">\n",
              "    <path d=\"M120-120v-720h720v720H120Zm60-500h600v-160H180v160Zm220 220h160v-160H400v160Zm0 220h160v-160H400v160ZM180-400h160v-160H180v160Zm440 0h160v-160H620v160ZM180-180h160v-160H180v160Zm440 0h160v-160H620v160Z\"/>\n",
              "  </svg>\n",
              "    </button>\n",
              "\n",
              "  <style>\n",
              "    .colab-df-container {\n",
              "      display:flex;\n",
              "      gap: 12px;\n",
              "    }\n",
              "\n",
              "    .colab-df-convert {\n",
              "      background-color: #E8F0FE;\n",
              "      border: none;\n",
              "      border-radius: 50%;\n",
              "      cursor: pointer;\n",
              "      display: none;\n",
              "      fill: #1967D2;\n",
              "      height: 32px;\n",
              "      padding: 0 0 0 0;\n",
              "      width: 32px;\n",
              "    }\n",
              "\n",
              "    .colab-df-convert:hover {\n",
              "      background-color: #E2EBFA;\n",
              "      box-shadow: 0px 1px 2px rgba(60, 64, 67, 0.3), 0px 1px 3px 1px rgba(60, 64, 67, 0.15);\n",
              "      fill: #174EA6;\n",
              "    }\n",
              "\n",
              "    .colab-df-buttons div {\n",
              "      margin-bottom: 4px;\n",
              "    }\n",
              "\n",
              "    [theme=dark] .colab-df-convert {\n",
              "      background-color: #3B4455;\n",
              "      fill: #D2E3FC;\n",
              "    }\n",
              "\n",
              "    [theme=dark] .colab-df-convert:hover {\n",
              "      background-color: #434B5C;\n",
              "      box-shadow: 0px 1px 3px 1px rgba(0, 0, 0, 0.15);\n",
              "      filter: drop-shadow(0px 1px 2px rgba(0, 0, 0, 0.3));\n",
              "      fill: #FFFFFF;\n",
              "    }\n",
              "  </style>\n",
              "\n",
              "    <script>\n",
              "      const buttonEl =\n",
              "        document.querySelector('#df-9068d0e3-3aa0-4293-a59e-1298cc64ed51 button.colab-df-convert');\n",
              "      buttonEl.style.display =\n",
              "        google.colab.kernel.accessAllowed ? 'block' : 'none';\n",
              "\n",
              "      async function convertToInteractive(key) {\n",
              "        const element = document.querySelector('#df-9068d0e3-3aa0-4293-a59e-1298cc64ed51');\n",
              "        const dataTable =\n",
              "          await google.colab.kernel.invokeFunction('convertToInteractive',\n",
              "                                                    [key], {});\n",
              "        if (!dataTable) return;\n",
              "\n",
              "        const docLinkHtml = 'Like what you see? Visit the ' +\n",
              "          '<a target=\"_blank\" href=https://colab.research.google.com/notebooks/data_table.ipynb>data table notebook</a>'\n",
              "          + ' to learn more about interactive tables.';\n",
              "        element.innerHTML = '';\n",
              "        dataTable['output_type'] = 'display_data';\n",
              "        await google.colab.output.renderOutput(dataTable, element);\n",
              "        const docLink = document.createElement('div');\n",
              "        docLink.innerHTML = docLinkHtml;\n",
              "        element.appendChild(docLink);\n",
              "      }\n",
              "    </script>\n",
              "  </div>\n",
              "\n",
              "\n",
              "<div id=\"df-b2b02f11-01ef-4b85-8f75-127fdd3b9c3f\">\n",
              "  <button class=\"colab-df-quickchart\" onclick=\"quickchart('df-b2b02f11-01ef-4b85-8f75-127fdd3b9c3f')\"\n",
              "            title=\"Suggest charts.\"\n",
              "            style=\"display:none;\">\n",
              "\n",
              "<svg xmlns=\"http://www.w3.org/2000/svg\" height=\"24px\"viewBox=\"0 0 24 24\"\n",
              "     width=\"24px\">\n",
              "    <g>\n",
              "        <path d=\"M19 3H5c-1.1 0-2 .9-2 2v14c0 1.1.9 2 2 2h14c1.1 0 2-.9 2-2V5c0-1.1-.9-2-2-2zM9 17H7v-7h2v7zm4 0h-2V7h2v10zm4 0h-2v-4h2v4z\"/>\n",
              "    </g>\n",
              "</svg>\n",
              "  </button>\n",
              "\n",
              "<style>\n",
              "  .colab-df-quickchart {\n",
              "      --bg-color: #E8F0FE;\n",
              "      --fill-color: #1967D2;\n",
              "      --hover-bg-color: #E2EBFA;\n",
              "      --hover-fill-color: #174EA6;\n",
              "      --disabled-fill-color: #AAA;\n",
              "      --disabled-bg-color: #DDD;\n",
              "  }\n",
              "\n",
              "  [theme=dark] .colab-df-quickchart {\n",
              "      --bg-color: #3B4455;\n",
              "      --fill-color: #D2E3FC;\n",
              "      --hover-bg-color: #434B5C;\n",
              "      --hover-fill-color: #FFFFFF;\n",
              "      --disabled-bg-color: #3B4455;\n",
              "      --disabled-fill-color: #666;\n",
              "  }\n",
              "\n",
              "  .colab-df-quickchart {\n",
              "    background-color: var(--bg-color);\n",
              "    border: none;\n",
              "    border-radius: 50%;\n",
              "    cursor: pointer;\n",
              "    display: none;\n",
              "    fill: var(--fill-color);\n",
              "    height: 32px;\n",
              "    padding: 0;\n",
              "    width: 32px;\n",
              "  }\n",
              "\n",
              "  .colab-df-quickchart:hover {\n",
              "    background-color: var(--hover-bg-color);\n",
              "    box-shadow: 0 1px 2px rgba(60, 64, 67, 0.3), 0 1px 3px 1px rgba(60, 64, 67, 0.15);\n",
              "    fill: var(--button-hover-fill-color);\n",
              "  }\n",
              "\n",
              "  .colab-df-quickchart-complete:disabled,\n",
              "  .colab-df-quickchart-complete:disabled:hover {\n",
              "    background-color: var(--disabled-bg-color);\n",
              "    fill: var(--disabled-fill-color);\n",
              "    box-shadow: none;\n",
              "  }\n",
              "\n",
              "  .colab-df-spinner {\n",
              "    border: 2px solid var(--fill-color);\n",
              "    border-color: transparent;\n",
              "    border-bottom-color: var(--fill-color);\n",
              "    animation:\n",
              "      spin 1s steps(1) infinite;\n",
              "  }\n",
              "\n",
              "  @keyframes spin {\n",
              "    0% {\n",
              "      border-color: transparent;\n",
              "      border-bottom-color: var(--fill-color);\n",
              "      border-left-color: var(--fill-color);\n",
              "    }\n",
              "    20% {\n",
              "      border-color: transparent;\n",
              "      border-left-color: var(--fill-color);\n",
              "      border-top-color: var(--fill-color);\n",
              "    }\n",
              "    30% {\n",
              "      border-color: transparent;\n",
              "      border-left-color: var(--fill-color);\n",
              "      border-top-color: var(--fill-color);\n",
              "      border-right-color: var(--fill-color);\n",
              "    }\n",
              "    40% {\n",
              "      border-color: transparent;\n",
              "      border-right-color: var(--fill-color);\n",
              "      border-top-color: var(--fill-color);\n",
              "    }\n",
              "    60% {\n",
              "      border-color: transparent;\n",
              "      border-right-color: var(--fill-color);\n",
              "    }\n",
              "    80% {\n",
              "      border-color: transparent;\n",
              "      border-right-color: var(--fill-color);\n",
              "      border-bottom-color: var(--fill-color);\n",
              "    }\n",
              "    90% {\n",
              "      border-color: transparent;\n",
              "      border-bottom-color: var(--fill-color);\n",
              "    }\n",
              "  }\n",
              "</style>\n",
              "\n",
              "  <script>\n",
              "    async function quickchart(key) {\n",
              "      const quickchartButtonEl =\n",
              "        document.querySelector('#' + key + ' button');\n",
              "      quickchartButtonEl.disabled = true;  // To prevent multiple clicks.\n",
              "      quickchartButtonEl.classList.add('colab-df-spinner');\n",
              "      try {\n",
              "        const charts = await google.colab.kernel.invokeFunction(\n",
              "            'suggestCharts', [key], {});\n",
              "      } catch (error) {\n",
              "        console.error('Error during call to suggestCharts:', error);\n",
              "      }\n",
              "      quickchartButtonEl.classList.remove('colab-df-spinner');\n",
              "      quickchartButtonEl.classList.add('colab-df-quickchart-complete');\n",
              "    }\n",
              "    (() => {\n",
              "      let quickchartButtonEl =\n",
              "        document.querySelector('#df-b2b02f11-01ef-4b85-8f75-127fdd3b9c3f button');\n",
              "      quickchartButtonEl.style.display =\n",
              "        google.colab.kernel.accessAllowed ? 'block' : 'none';\n",
              "    })();\n",
              "  </script>\n",
              "</div>\n",
              "    </div>\n",
              "  </div>\n"
            ],
            "text/plain": [
              "    Age  DistanceFromHome  MonthlyIncome  NumCompaniesWorked  \\\n",
              "0  51.0               6.0       131160.0                 1.0   \n",
              "1  31.0              10.0        41890.0                 0.0   \n",
              "2  32.0              17.0       193280.0                 1.0   \n",
              "3  38.0               2.0        83210.0                 3.0   \n",
              "4  32.0              10.0        23420.0                 4.0   \n",
              "\n",
              "   PercentSalaryHike  TotalWorkingYears  TrainingTimesLastYear  \\\n",
              "0               11.0                1.0                    6.0   \n",
              "1               23.0                6.0                    3.0   \n",
              "2               15.0                5.0                    2.0   \n",
              "3               11.0               13.0                    5.0   \n",
              "4               12.0                9.0                    2.0   \n",
              "\n",
              "   YearsAtCompany  YearsSinceLastPromotion  YearsWithCurrManager  ...  \\\n",
              "0             1.0                      0.0                   0.0  ...   \n",
              "1             5.0                      1.0                   4.0  ...   \n",
              "2             5.0                      0.0                   3.0  ...   \n",
              "3             8.0                      7.0                   5.0  ...   \n",
              "4             6.0                      0.0                   4.0  ...   \n",
              "\n",
              "   EnvironmentSatisfaction_3.0  EnvironmentSatisfaction_4.0  \\\n",
              "0                            1                            0   \n",
              "1                            1                            0   \n",
              "2                            0                            0   \n",
              "3                            0                            1   \n",
              "4                            0                            1   \n",
              "\n",
              "   JobSatisfaction_1.0  JobSatisfaction_2.0  JobSatisfaction_3.0  \\\n",
              "0                    0                    0                    0   \n",
              "1                    0                    1                    0   \n",
              "2                    0                    1                    0   \n",
              "3                    0                    0                    0   \n",
              "4                    1                    0                    0   \n",
              "\n",
              "   JobSatisfaction_4.0  WorkLifeBalance_1.0  WorkLifeBalance_2.0  \\\n",
              "0                    1                    0                    1   \n",
              "1                    0                    0                    0   \n",
              "2                    0                    1                    0   \n",
              "3                    1                    0                    0   \n",
              "4                    0                    0                    0   \n",
              "\n",
              "   WorkLifeBalance_3.0  WorkLifeBalance_4.0  \n",
              "0                    0                    0  \n",
              "1                    0                    1  \n",
              "2                    0                    0  \n",
              "3                    1                    0  \n",
              "4                    1                    0  \n",
              "\n",
              "[5 rows x 57 columns]"
            ]
          },
          "execution_count": 35,
          "metadata": {},
          "output_type": "execute_result"
        }
      ],
      "source": [
        "df2_dummys = pd.get_dummies(df_datafinal.iloc[:,:-1])\n",
        "df2_dummys.head()"
      ]
    },
    {
      "cell_type": "code",
      "execution_count": null,
      "metadata": {
        "colab": {
          "base_uri": "https://localhost:8080/"
        },
        "id": "HqqhoNP2Hzow",
        "outputId": "c47ef05b-41c8-4f35-d273-4daf78e85233"
      },
      "outputs": [
        {
          "data": {
            "text/plain": [
              "Index(['Age', 'DistanceFromHome', 'MonthlyIncome', 'NumCompaniesWorked',\n",
              "       'PercentSalaryHike', 'TotalWorkingYears', 'TrainingTimesLastYear',\n",
              "       'YearsAtCompany', 'YearsSinceLastPromotion', 'YearsWithCurrManager',\n",
              "       'mean_time', 'Education', 'JobLevel', 'JobInvolvement',\n",
              "       'PerformanceRating', 'BusinessTravel_Non-Travel',\n",
              "       'BusinessTravel_Travel_Frequently', 'BusinessTravel_Travel_Rarely',\n",
              "       'Department_Human Resources', 'Department_Research & Development',\n",
              "       'Department_Sales', 'EducationField_Human Resources',\n",
              "       'EducationField_Life Sciences', 'EducationField_Marketing',\n",
              "       'EducationField_Medical', 'EducationField_Other',\n",
              "       'EducationField_Technical Degree', 'Gender_Female', 'Gender_Male',\n",
              "       'JobRole_Healthcare Representative', 'JobRole_Human Resources',\n",
              "       'JobRole_Laboratory Technician', 'JobRole_Manager',\n",
              "       'JobRole_Manufacturing Director', 'JobRole_Research Director',\n",
              "       'JobRole_Research Scientist', 'JobRole_Sales Executive',\n",
              "       'JobRole_Sales Representative', 'MaritalStatus_Divorced',\n",
              "       'MaritalStatus_Married', 'MaritalStatus_Single', 'StockOptionLevel_0',\n",
              "       'StockOptionLevel_1', 'StockOptionLevel_2', 'StockOptionLevel_3',\n",
              "       'EnvironmentSatisfaction_1.0', 'EnvironmentSatisfaction_2.0',\n",
              "       'EnvironmentSatisfaction_3.0', 'EnvironmentSatisfaction_4.0',\n",
              "       'JobSatisfaction_1.0', 'JobSatisfaction_2.0', 'JobSatisfaction_3.0',\n",
              "       'JobSatisfaction_4.0', 'WorkLifeBalance_1.0', 'WorkLifeBalance_2.0',\n",
              "       'WorkLifeBalance_3.0', 'WorkLifeBalance_4.0'],\n",
              "      dtype='object')"
            ]
          },
          "execution_count": 36,
          "metadata": {},
          "output_type": "execute_result"
        }
      ],
      "source": [
        "df2_dummys.columns"
      ]
    },
    {
      "cell_type": "code",
      "execution_count": null,
      "metadata": {
        "colab": {
          "base_uri": "https://localhost:8080/"
        },
        "id": "OQ04rRPAfgr0",
        "outputId": "17e5b146-a69d-45a3-cd75-7753070a886a"
      },
      "outputs": [
        {
          "name": "stdout",
          "output_type": "stream",
          "text": [
            "\n",
            " Age\n",
            "[51 31 32 38 46 28 29 25 45 36 55 47 37 21 35 26 50 53 42 44 49 18 41 39\n",
            " 58 33 43 52 27 30 54 40 23 48 57 34 24 22 56 60 19 20 59]\n",
            "\n",
            " Attrition\n",
            "['No' 'Yes']\n",
            "\n",
            " BusinessTravel\n",
            "['Travel_Rarely' 'Travel_Frequently' 'Non-Travel']\n",
            "\n",
            " Department\n",
            "['Sales' 'Research & Development' 'Human Resources']\n",
            "\n",
            " DistanceFromHome\n",
            "[ 6 10 17  2  8 11 18  1  7 28 14  3  4 16  9  5 20 29 15 13 24 19 22 25\n",
            " 21 26 27 12 23]\n",
            "\n",
            " Education\n",
            "[2 1 4 5 3]\n",
            "\n",
            " EducationField\n",
            "['Life Sciences' 'Other' 'Medical' 'Marketing' 'Technical Degree'\n",
            " 'Human Resources']\n",
            "\n",
            " EmployeeCount\n",
            "[1]\n",
            "\n",
            " EmployeeID\n",
            "[   1    2    3 ... 4408 4409 4410]\n",
            "\n",
            " Gender\n",
            "['Female' 'Male']\n",
            "\n",
            " JobLevel\n",
            "[1 4 3 2 5]\n",
            "\n",
            " JobRole\n",
            "['Healthcare Representative' 'Research Scientist' 'Sales Executive'\n",
            " 'Human Resources' 'Research Director' 'Laboratory Technician'\n",
            " 'Manufacturing Director' 'Sales Representative' 'Manager']\n",
            "\n",
            " MaritalStatus\n",
            "['Married' 'Single' 'Divorced']\n",
            "\n",
            " MonthlyIncome\n",
            "[131160  41890 193280 ...  37020  23980  54680]\n",
            "\n",
            " NumCompaniesWorked\n",
            "[1. 0. 3. 4. 2. 7. 9. 5. 6. 8.]\n",
            "\n",
            " Over18\n",
            "['Y']\n",
            "\n",
            " PercentSalaryHike\n",
            "[11 23 15 12 13 20 22 21 17 14 16 18 19 24 25]\n",
            "\n",
            " StandardHours\n",
            "[8]\n",
            "\n",
            " StockOptionLevel\n",
            "[0 1 3 2]\n",
            "\n",
            " TotalWorkingYears\n",
            "[ 1.  6.  5. 13.  9. 28. 10. 21. 16. 37.  7.  3. 15.  8.  2. 12. 17. 19.\n",
            " 22.  4. 23.  0. 11. 24. 25. 20. 14. 26. 18. 30. 36. 31. 33. 32. 34. 40.\n",
            " 29. 35. 27. 38.]\n",
            "\n",
            " TrainingTimesLastYear\n",
            "[6 3 2 5 4 0 1]\n",
            "\n",
            " YearsAtCompany\n",
            "[ 1  5  8  6  7  0  9 20 15 36 10  3 17  2  4 11 22 18 13 24 21 16 25 29\n",
            " 27 14 31 32 34 26 12 19 33 30 23 37 40]\n",
            "\n",
            " YearsSinceLastPromotion\n",
            "[ 0  1  7  4 10  9  6 11  3  5  2  8 13 12 15 14]\n",
            "\n",
            " YearsWithCurrManager\n",
            "[ 0  4  3  5  7  8 10 11 13  9  1  2  6 12 17 16 15 14]\n",
            "\n",
            " EnvironmentSatisfaction\n",
            "[3. 2. 4. 1.]\n",
            "\n",
            " JobSatisfaction\n",
            "[4. 2. 1. 3.]\n",
            "\n",
            " WorkLifeBalance\n",
            "[2. 4. 1. 3.]\n",
            "\n",
            " JobInvolvement\n",
            "[3 2 1 4]\n",
            "\n",
            " PerformanceRating\n",
            "[3 4]\n",
            "\n",
            " mean_time\n",
            "[6.8702 7.316  6.8161 ... 5.8972 9.1876 6.5118]\n"
          ]
        }
      ],
      "source": [
        "# imprimir los valores únicos de cada columna.\n",
        "for columna in dfdata.columns[:]:\n",
        "  print('\\n {}'.format(columna))\n",
        "  print(dfdata[columna].unique())"
      ]
    },
    {
      "cell_type": "markdown",
      "metadata": {
        "id": "pSO6ZRjLd6Nw"
      },
      "source": [
        "# **c. Análisis exploratorio de los datos**\n",
        "\n",
        "Explorar los datos para comprender las características de los empleados que abandonan la empresa. Esto podría incluir análisis de estadísticas descriptivas, visualización de datos y la identificación de patrones preliminares."
      ]
    },
    {
      "cell_type": "code",
      "execution_count": null,
      "metadata": {
        "colab": {
          "base_uri": "https://localhost:8080/",
          "referenced_widgets": [
            "cb76bde61d1f48a7b745fb591bd99e9a",
            "90cd54d24b5b43af90879781eeab678b",
            "73ef29ee61c048d48663cde0ac2716f7",
            "c8ca40c9c51c47a69c2012eb16404723",
            "a259f1f8fe5c405b9f78848251533876",
            "266498350f924f95a21bb00d49e99eca",
            "896049a9a6e94f1c8c3b05addd7baaf8",
            "0a0e08eb61274302b9802c9af04855da",
            "fd71b4f9e942433db319bbe39c21ade0",
            "781c3bf0c75f4d2d914caa8081d7f6b3",
            "d18ff6d4b80a4eddb753b723dd0b10b6"
          ]
        },
        "id": "5wTSrllNkHEH",
        "outputId": "7f57e48f-0ff4-4037-9c04-ad5279e306d9"
      },
      "outputs": [
        {
          "data": {
            "application/vnd.jupyter.widget-view+json": {
              "model_id": "cb76bde61d1f48a7b745fb591bd99e9a",
              "version_major": 2,
              "version_minor": 0
            },
            "text/plain": [
              "                                             |          | [  0%]   00:00 -> (? left)"
            ]
          },
          "metadata": {},
          "output_type": "display_data"
        }
      ],
      "source": [
        "#ahora haremos una exploración rapida de las variables\n",
        "rgd = sv.analyze(df_datafinal)\n",
        "rgd.show_notebook()"
      ]
    },
    {
      "cell_type": "markdown",
      "metadata": {
        "id": "E1rB4K99QJZZ"
      },
      "source": [
        "La mayoría de los empleados de la empresa se encuentra con salarios entre los 25.000 y los 50.000 dólares, y en menor proporción algunos empleados ganan más de 150.000 dólares.\n",
        "\n",
        "En cuanto al nivel de satisfacción laboral; la mayoría está ubicada entre los puntajes 3 y 4. En el nivel de implicación en el trabajo, la gran mayoría de empleados se ubica en puntaje 3\n",
        "\n",
        "En el entorno de trabajo, el nivel de satisfacción predomina entre los puntajes 3 y 4, sin embargo, hay una cantidad también representativa en los menores puntajes. En cuanto a la valoración del rendimiento del último año, se ubica en su mayoría en puntaje 3 y una pequeña proporción en puntaje 4. La mayoría de empleados son de género masculino.\n",
        "\n",
        "Se observa que la gran mayoría de empleados pertenecen al departamento de investigación y desarrollo, en segundo lugar con una notable diferencia, está el departamento de ventas y finalmente el departamento de recursos humanos es quien tiene la menor cantidad de empleados.\n",
        "\n",
        "En cuanto al nivel de educación, en una escala de 1 a 5, la mayoría de empleados está con una educación de nivel medio representado en 3.0, otra cantidad representativa tiene nivel 4 de estudio y una pequeña proporción tiene nivel 5. Por otro lado, una cantidad considerable de empleados, tienen bajos niveles educativos.\n",
        "\n",
        "Entre los campos de estudio de los empleados, la mayoría está formada en cincias para la vida, y en segundo lugar está el campo de la medicina. En otras bajas proporciones, está mercadeo, titulos técnicos y recursos humanos y otra clasificación para diferentes campos.\n"
      ]
    },
    {
      "cell_type": "markdown",
      "metadata": {
        "id": "yO84zdym7sCX"
      },
      "source": [
        "**Ahora comparemos algunas variables con la variable retiros que es el objetivo**"
      ]
    },
    {
      "cell_type": "code",
      "execution_count": null,
      "metadata": {
        "id": "0TdeOdaM7x-D"
      },
      "outputs": [],
      "source": [
        "# Personas de que edad se retiran mas\n",
        "pd.crosstab(index=df_datafinal['Age'],\n",
        "            columns=df_datafinal[\"Attrition\"]).plot(kind='bar', figsize=(25,5),colormap='summer')\n",
        "#Los colaboradores que mas se retiran estan entre los 29 y los 31 años"
      ]
    },
    {
      "cell_type": "code",
      "execution_count": null,
      "metadata": {
        "id": "UZldwMWS9wFV"
      },
      "outputs": [],
      "source": [
        "# Que genero es el que se esta retirando mas y el de los colaboradores\n",
        "pd.crosstab(index=df_datafinal['Gender'],\n",
        "            columns=df_datafinal['Attrition']).plot(kind='bar', figsize=(10,5),colormap='summer')\n",
        "#Los hombres son el genero que mas se ha retirado"
      ]
    },
    {
      "cell_type": "code",
      "execution_count": null,
      "metadata": {
        "id": "pxqSv-HkDlQa"
      },
      "outputs": [],
      "source": [
        "# Rol en la empresa de los colaboradoresy retirados\n",
        "pd.crosstab(index=df_datafinal['JobRole'],\n",
        "            columns=df_datafinal['Attrition']).plot(kind='barh', figsize=(20,10), colormap='summer')\n",
        "#El rol que mas se retira es de sales executive y Research scientist"
      ]
    },
    {
      "cell_type": "code",
      "execution_count": null,
      "metadata": {
        "id": "0fL54pojDu36"
      },
      "outputs": [],
      "source": [
        "# Profesion de los colaboradores y retirados\n",
        "pd.crosstab(index=df_datafinal['EducationField'],\n",
        "            columns=df_datafinal['Attrition']).plot(kind='barh', figsize=(20,10), colormap='summer')\n",
        "#La profesion que mas se retira en \"la empresa\" es life science"
      ]
    },
    {
      "cell_type": "code",
      "execution_count": null,
      "metadata": {
        "id": "Uh4omDP8D4nR"
      },
      "outputs": [],
      "source": [
        "#Satisfacción de los colaboradores y retirados con el ambiente de trabajo\n",
        "pd.crosstab(index=df_datafinal['EnvironmentSatisfaction'],\n",
        "            columns=df_datafinal['Attrition']).plot(kind='bar', figsize=(25,10), colormap='summer')\n",
        "#Los colaboradores que mas se han retirado son los que califican como baja su satisfaccion con el ambiente laboral"
      ]
    },
    {
      "cell_type": "code",
      "execution_count": null,
      "metadata": {
        "id": "RKsFLhDXEkG7"
      },
      "outputs": [],
      "source": [
        "#Balance de vida de colaboradores y retirados\n",
        "pd.crosstab(index=df_datafinal['WorkLifeBalance'],\n",
        "            columns=df_datafinal['Attrition']).plot(kind='bar', figsize=(25,10), colormap='summer')\n",
        "#Los empleados que dicen tener un balance entre su vida laboral y el trabajo entre bueno y excelente son los que mas desercicion han ten"
      ]
    },
    {
      "cell_type": "code",
      "execution_count": null,
      "metadata": {
        "id": "8Z6MoMW2EsRk"
      },
      "outputs": [],
      "source": [
        "#Los colaboradores y retirados y sus viajes por negocios\n",
        "pd.crosstab(index=df_datafinal['BusinessTravel'],\n",
        "            columns=df_datafinal['Attrition']).plot(kind='bar', figsize=(27,10), colormap='summer')\n",
        "#Los colaboradores tanto los activos como los que renunciaron rara vez viajan, y la población de los que rara vez viajan son los que tie"
      ]
    },
    {
      "cell_type": "code",
      "execution_count": null,
      "metadata": {
        "id": "27147osnExUz"
      },
      "outputs": [],
      "source": [
        "# Años que han pasado desde la ultima promoción en general\n",
        "pd.crosstab(index=df_datafinal['YearsSinceLastPromotion'],\n",
        "            columns=df_datafinal['Attrition']).plot(kind='bar', figsize=(20,7), colormap='summer')\n",
        "#Los que mas retiran son los que nuncca han tenido una promocion seguido de los que promovieron hace un año."
      ]
    },
    {
      "cell_type": "code",
      "execution_count": null,
      "metadata": {
        "id": "4Jru02j5EzHn"
      },
      "outputs": [],
      "source": [
        "# Años bajo el mando del gerente actual en general\n",
        "pd.crosstab(index=df_datafinal['YearsWithCurrManager'],\n",
        "            columns=df_datafinal['Attrition']).plot(kind='bar', figsize=(20,7), colormap='summer')\n",
        "# La mayoria de los que se retiran no han pasado ni un año con el gerente actual, seguido de los que llevanban 2 años bajo su mando y luego los q"
      ]
    },
    {
      "cell_type": "code",
      "execution_count": null,
      "metadata": {
        "id": "Mc-T5ovGE1MQ"
      },
      "outputs": [],
      "source": [
        "#Grafico de correlación\n",
        "\n",
        "plt.figure (figsize=(20, 10), dpi=80);\n",
        "sns.heatmap(df_datafinal.corr(), annot = True,cmap='summer');\n",
        "#Hay correlación fuerte positiva en las variables percentSalaryHike, PerformanceRating, YearsAtCompany,"
      ]
    },
    {
      "cell_type": "code",
      "execution_count": null,
      "metadata": {
        "id": "ACUv_RoLE3SX"
      },
      "outputs": [],
      "source": [
        "#Retiros segun los Años Trabajados\n",
        "pd.crosstab(index=df_datafinal['TotalWorkingYears'],\n",
        "            columns=df_datafinal['Attrition']).plot(kind='bar', figsize=(20,7), colormap='summer')\n",
        "#Los empelados que mas renuncian son los que llevan un año trabajado"
      ]
    },
    {
      "cell_type": "code",
      "execution_count": null,
      "metadata": {
        "id": "PhvyQ7yDE8vn"
      },
      "outputs": [],
      "source": [
        "#Promedio de salario mensual de empleados que renuncian\n",
        "df_datafinal.groupby([\"Attrition\"])[[\"MonthlyIncome\"]].mean().round(2).reset_index().rename(columns={'MonthlyIncome':'Salario Promedio'})\n",
        "#el salario promedio de las personas que renuncian es menor que las que no por casi 4000 de diferencia"
      ]
    },
    {
      "cell_type": "code",
      "execution_count": null,
      "metadata": {
        "id": "sEl6F2KBE53H"
      },
      "outputs": [],
      "source": [
        "#Promedio de horas trabajadas de empleados que renuncian\n",
        "df_datafinal.groupby([\"Attrition\"])[[\"mean_time\"]].mean().round(2).reset_index()\n",
        "#Los empleados que renuncian trabajan en promedio casi una hora mas diaria que los que no lo hacen."
      ]
    },
    {
      "cell_type": "code",
      "execution_count": null,
      "metadata": {
        "id": "10XgIZibHzox"
      },
      "outputs": [],
      "source": [
        "df_datafinal['Attrition'].value_counts().plot(kind='bar')"
      ]
    },
    {
      "cell_type": "markdown",
      "metadata": {
        "id": "PBGCf0eGd-4i"
      },
      "source": [
        "# **d. Preparación de los datos**\n",
        "\n",
        "Preparar los datos para el modelado, dividiéndolos en conjuntos de entrenamiento y prueba. Además, realizar la codificación de variables categóricas y normalización de datos si es necesario."
      ]
    },
    {
      "cell_type": "markdown",
      "metadata": {
        "id": "-q8GLII-Hzox"
      },
      "source": [
        "**Separaración de variables y características**\n"
      ]
    },
    {
      "cell_type": "code",
      "execution_count": null,
      "metadata": {
        "id": "pG6PYbkCHzox"
      },
      "outputs": [],
      "source": [
        "X = df2_dummys\n",
        "y = df_datafinal.iloc[:, -1].values # target"
      ]
    },
    {
      "cell_type": "code",
      "execution_count": null,
      "metadata": {
        "id": "qyaON4HpHzox"
      },
      "outputs": [],
      "source": [
        "# LabelEncoder\n",
        "from sklearn.preprocessing import LabelEncoder\n",
        "le = LabelEncoder()\n",
        "y = le.fit_transform(y)\n",
        "\n",
        "print(y[0:5])\n"
      ]
    },
    {
      "cell_type": "markdown",
      "metadata": {
        "id": "CdsyM5t3Hzox"
      },
      "source": [
        "**Train/Test split**"
      ]
    },
    {
      "cell_type": "code",
      "execution_count": null,
      "metadata": {
        "id": "fonaU69GHzox"
      },
      "outputs": [],
      "source": [
        "# Separación en conjuntos de entrenamiento y validación con 80% de muestras para entrenamiento\n",
        "X_train, X_test, y_train, y_test = train_test_split(X, y, test_size=0.2, random_state=42)\n",
        "\n",
        "#Imprimir Tamaño de dataset\n",
        "print(\"Tamaño del conjunto de entrenamiento:\", X_train.shape)\n",
        "print(\"Tamaño del conjunto de validación:\", X_test.shape)\n",
        "\n",
        "#Nombre de caracteristicas númericas\n",
        "numeric_columns=list(X.select_dtypes('float64').columns)\n",
        "\n",
        "#Estandarización de variables númericas\n",
        "pipeline=ColumnTransformer([(\"std_num\" , StandardScaler(), numeric_columns)], remainder='passthrough')\n",
        "\n",
        "X_train_std = pipeline.fit_transform(X_train)\n",
        "X_test_std = pipeline.transform(X_test)"
      ]
    },
    {
      "cell_type": "markdown",
      "metadata": {
        "id": "s8kVmJOSeKqr"
      },
      "source": [
        "# **e. Selección de variables**\n",
        "\n",
        "Identificar las variables más relevantes para la predicción de abandono de empleados."
      ]
    },
    {
      "cell_type": "markdown",
      "metadata": {
        "id": "vIXqxMTpHzo1"
      },
      "source": [
        "###Variance Threshold\n",
        "Elimina todas las características cuya varianza no alcanza algún umbral.\n",
        "De forma predeterminada, elimina todas las características de varianza cero, es decir, las características que tienen el mismo valor en todas las muestras."
      ]
    },
    {
      "cell_type": "code",
      "execution_count": null,
      "metadata": {
        "id": "UyZaZweiHzo2"
      },
      "outputs": [],
      "source": [
        "X = df2_dummys"
      ]
    },
    {
      "cell_type": "code",
      "execution_count": null,
      "metadata": {
        "id": "N5ZoWr8qHzo2"
      },
      "outputs": [],
      "source": [
        "#Variance Threshold\n",
        "from sklearn.feature_selection import VarianceThreshold\n",
        "\n",
        "#Función de filtro de caracteristicas\n",
        "def variance_threshold(x,th):\n",
        "    var_thres=VarianceThreshold(threshold=th)\n",
        "    var_thres.fit(x)\n",
        "    new_cols = var_thres.get_support()\n",
        "    return new_cols"
      ]
    },
    {
      "cell_type": "code",
      "execution_count": null,
      "metadata": {
        "id": "x8Cxlu2THzo2"
      },
      "outputs": [],
      "source": [
        "# Obtener columnas seleccionadas\n",
        "X_new = variance_threshold(X, 0.5)\n",
        "# Nuevo dataframe\n",
        "df_new = df2_dummys.iloc[:,X_new]\n",
        "df_new.head()"
      ]
    },
    {
      "cell_type": "code",
      "execution_count": null,
      "metadata": {
        "id": "jZxdKN72Hzo2"
      },
      "outputs": [],
      "source": [
        "X = df_new\n",
        "y = df_datafinal.iloc[:, -1].values # target\n",
        "\n",
        "# LabelEncoder\n",
        "from sklearn.preprocessing import LabelEncoder\n",
        "le = LabelEncoder()\n",
        "y = le.fit_transform(y)"
      ]
    },
    {
      "cell_type": "code",
      "execution_count": null,
      "metadata": {
        "id": "66VLR-W4Hzo2"
      },
      "outputs": [],
      "source": [
        "# Separación en conjuntos de entrenamiento y validación con 80% de muestras para entrenamiento\n",
        "X_train, X_test, y_train, y_test = train_test_split(X, y, test_size=0.2, random_state=42)\n",
        "\n",
        "#Imprimir Tamaño de dataset\n",
        "print(\"Tamaño del conjunto de entrenamiento:\", X_train.shape)\n",
        "print(\"Tamaño del conjunto de validación:\", X_test.shape)\n",
        "\n",
        "#Nombre de caracteristicas númericas\n",
        "numeric_columns=list(X.select_dtypes('float64').columns)\n",
        "\n",
        "#Estandarización de variables númericas\n",
        "pipeline=ColumnTransformer([(\"std_num\" , StandardScaler(), numeric_columns)], remainder='passthrough')\n",
        "\n",
        "X_train_std = pipeline.fit_transform(X_train)\n",
        "X_test_std = pipeline.transform(X_test)"
      ]
    },
    {
      "cell_type": "code",
      "execution_count": null,
      "metadata": {
        "id": "xz2H2i_wHzo2"
      },
      "outputs": [],
      "source": [
        "# Crea el modelo\n",
        "regr = LogisticRegression(class_weight=\"balanced\", random_state=42, max_iter=1000)\n",
        "# Calibra el modelo\n",
        "regr.fit(X_train_std, y_train)\n",
        "#Realice predicciones sobre x_train_std\n",
        "y_pred = regr.predict(X_train_std)\n",
        "# Imprime los coeficientes\n",
        "print(\"Coeficientes: \", regr.coef_)\n",
        "\n",
        "# Imprime el intercepto\n",
        "print(\"\\nIntercepto: \", regr.intercept_)\n",
        "#Exactitud de modelo\n",
        "print(\"Accuracy (Train): \"+ str(regr.score(X_train_std,y_train)*100) + \"%\")\n",
        "print(\"Score: \", regr.score(X_train_std, y_pred))"
      ]
    },
    {
      "cell_type": "code",
      "execution_count": null,
      "metadata": {
        "id": "D5upHC9zHzo3"
      },
      "outputs": [],
      "source": [
        "#Predicciones sobre el conjunto de test\n",
        "y_hat = regr.predict(X_test_std)\n",
        "#Exactitud de modelo\n",
        "print(\"Accuracy (Test): \"+ str(regr.score(X_test_std,y_test)*100) + \"%\")"
      ]
    },
    {
      "cell_type": "code",
      "execution_count": null,
      "metadata": {
        "id": "BbH9gv2hHzo3"
      },
      "outputs": [],
      "source": [
        "#validar modelo\n",
        "from sklearn.metrics import confusion_matrix, ConfusionMatrixDisplay\n",
        "cm = confusion_matrix(y_test, y_hat)\n",
        "disp = ConfusionMatrixDisplay(confusion_matrix = cm)\n",
        "disp.plot(cmap='CMRmap_r')\n",
        "plt.show()\n",
        "print(cm)"
      ]
    },
    {
      "cell_type": "code",
      "execution_count": null,
      "metadata": {
        "id": "LEIX_aH7Hzo3"
      },
      "outputs": [],
      "source": [
        "TP=cm[0,0]\n",
        "FP=cm[1,0]\n",
        "FN=cm[0,1]\n",
        "TN=cm[1,1]\n",
        "\n",
        "print(f'Precisión: {TP/(TP+FP)}')\n",
        "print(f'Recuperación: {TP/(TP+FN)}')\n",
        "precision=TP/(TP+FP)\n",
        "recall=TP/(TP+FN)\n",
        "print(f'F1-score: {(2*precision*recall)/(precision+recall)}')\n",
        "print(f'Especificidad: {TN/(FP+TN)}')"
      ]
    },
    {
      "cell_type": "markdown",
      "metadata": {
        "id": "a1ZFY9dqHzoz"
      },
      "source": [
        "###RFE\n",
        "El objetivo de la eliminación recursiva de características (RFE) es seleccionar características considerando recursivamente conjuntos de características cada vez más pequeños."
      ]
    },
    {
      "cell_type": "code",
      "execution_count": null,
      "metadata": {
        "id": "9L0r6XSyHzo0"
      },
      "outputs": [],
      "source": [
        "from sklearn.feature_selection import RFE\n",
        "from sklearn.linear_model import LogisticRegression"
      ]
    },
    {
      "cell_type": "code",
      "execution_count": null,
      "metadata": {
        "id": "61keBkpFHzo0"
      },
      "outputs": [],
      "source": [
        "from sklearn.feature_selection import RFE\n",
        "\n",
        "# Función recursiva de selección de características\n",
        "def recursive_feature_selection(X,y,model,k):\n",
        "  rfe = RFE(model, n_features_to_select=k, step=1)\n",
        "  fit = rfe.fit(X, y)\n",
        "  X_new = fit.support_\n",
        "  print(\"Num Features: %s\" % (fit.n_features_))\n",
        "  print(\"Selected Features: %s\" % (fit.support_))\n",
        "  print(\"Feature Ranking: %s\" % (fit.ranking_))\n",
        "\n",
        "  return X_new"
      ]
    },
    {
      "cell_type": "code",
      "execution_count": null,
      "metadata": {
        "id": "EpSPYWU-Hzo0"
      },
      "outputs": [],
      "source": [
        "# Establecer Estimador\n",
        "model = LogisticRegression(max_iter=1000, solver = 'liblinear')\n",
        "# Obtener columnas seleciconadas - (10 caracteristicas)\n",
        "X_new = recursive_feature_selection(X, y, model, 10)\n",
        "# Nuevo conjunto de datos\n",
        "df_new = X.iloc[:,X_new]\n",
        "df_new.head()\n"
      ]
    },
    {
      "cell_type": "code",
      "execution_count": null,
      "metadata": {
        "id": "FdZzp4ReHzo0"
      },
      "outputs": [],
      "source": [
        "X = df_new\n",
        "y = df_datafinal.iloc[:, -1].values # target\n",
        "\n",
        "# Separación en conjuntos de entrenamiento y validación con 80% de muestras para entrenamiento\n",
        "X_train, X_test, y_train, y_test = train_test_split(X, y, test_size=0.2, random_state=42)\n",
        "\n",
        "#Imprimir Tamaño de dataset\n",
        "print(\"Tamaño del conjunto de entrenamiento:\", X_train.shape)\n",
        "print(\"Tamaño del conjunto de validación:\", X_test.shape)"
      ]
    },
    {
      "cell_type": "code",
      "execution_count": null,
      "metadata": {
        "id": "CmtTd7k1Hzo0"
      },
      "outputs": [],
      "source": [
        "# Crea el modelo\n",
        "regr = LogisticRegression(class_weight=\"balanced\", random_state=42, max_iter=1000)\n",
        "# Calibra el modelo\n",
        "regr.fit(X_train, y_train)\n",
        "#Realice predicciones sobre x_train_std\n",
        "y_pred = regr.predict(X_train)\n",
        "# Imprime los coeficientes\n",
        "print(\"Coeficientes: \", regr.coef_)\n",
        "\n",
        "# Imprime el intercepto\n",
        "print(\"\\nIntercepto: \", regr.intercept_)\n",
        "#Exactitud de modelo\n",
        "print(\"Accuracy (Train): \"+ str(regr.score(X_train,y_train)*100) + \"%\")\n",
        "print(\"Score: \", regr.score(X_train, y_pred))"
      ]
    },
    {
      "cell_type": "code",
      "execution_count": null,
      "metadata": {
        "id": "1gW_wXkrHzo0"
      },
      "outputs": [],
      "source": [
        "#Predicciones sobre el conjunto de test\n",
        "y_hat = regr.predict(X_test)\n",
        "#Exactitud de modelo\n",
        "print(\"Accuracy (Test): \"+ str(regr.score(X_test,y_test)*100) + \"%\")"
      ]
    },
    {
      "cell_type": "code",
      "execution_count": null,
      "metadata": {
        "id": "3B9zBlBtHzo1"
      },
      "outputs": [],
      "source": [
        "#validar modelo\n",
        "# Exactitud del modelo\n",
        "print(f\"Accuracy of the classifier is: {accuracy_score(y_test, y_hat)}\")\n",
        "\n",
        "# Matriz de confusion\n",
        "cm1= confusion_matrix(y_train, y_pred)\n",
        "# Visualización de la matriz de confusion\n",
        "cm1_display = ConfusionMatrixDisplay(confusion_matrix = cm1, display_labels = [False, True])\n",
        "cm1_display.plot()\n",
        "plt.show()"
      ]
    },
    {
      "cell_type": "code",
      "execution_count": null,
      "metadata": {
        "id": "i33JqflfHzo1"
      },
      "outputs": [],
      "source": [
        "#validar modelo\n",
        "# Exactitud del modelo\n",
        "print(f\"Accuracy of the classifier is: {accuracy_score(y_test, y_hat)}\")\n",
        "\n",
        "# Matriz de confusion\n",
        "cm1= confusion_matrix(y_test, y_hat)\n",
        "# Visualización de la matriz de confusion\n",
        "cm1_display = ConfusionMatrixDisplay(confusion_matrix = cm1, display_labels = [False, True])\n",
        "cm1_display.plot()\n",
        "plt.show()"
      ]
    },
    {
      "cell_type": "code",
      "execution_count": null,
      "metadata": {
        "id": "gYpmJQ5jHzo1"
      },
      "outputs": [],
      "source": [
        "TP=cm1[0,0]\n",
        "FP=cm1[1,0]\n",
        "FN=cm1[0,1]\n",
        "TN=cm1[1,1]\n",
        "\n",
        "print(f'Precisión: {TP/(TP+FP)}')\n",
        "print(f'Recuperación: {TP/(TP+FN)}')\n",
        "precision=TP/(TP+FP)\n",
        "recall=TP/(TP+FN)\n",
        "print(f'F1-score: {(2*precision*recall)/(precision+recall)}')\n",
        "print(f'Especificidad: {TN/(FP+TN)}')"
      ]
    },
    {
      "cell_type": "markdown",
      "metadata": {
        "id": "-OjOzsr_Hzo3"
      },
      "source": [
        "## K BEST\n",
        "Selección de características de acuerdo con las k puntuaciones más altas.\n",
        "Utiliza una función que toma dos matrices X e y, y devuelve un par de matrices (puntuaciones, valores de p) o una única matriz con puntuaciones."
      ]
    },
    {
      "cell_type": "code",
      "execution_count": null,
      "metadata": {
        "id": "p50B8TBKHzo3"
      },
      "outputs": [],
      "source": [
        "from sklearn.feature_selection import SelectKBest, f_regression\n",
        "\n",
        "# Función de filtro de caracteristicas - stadis. scores\n",
        "def select_kbest(X,y,score_f,k):\n",
        "    sel_kb = SelectKBest(score_func=score_f, k=k)\n",
        "    sel_kb.fit(X,y)\n",
        "    new_cols = sel_kb.get_support()\n",
        "    print(\"Scores:\\n\", sel_kb.scores_, \"\\nP-values:\\n\", sel_kb.pvalues_)\n",
        "    return new_cols"
      ]
    },
    {
      "cell_type": "code",
      "execution_count": null,
      "metadata": {
        "id": "mT_q3jYgHzo3"
      },
      "outputs": [],
      "source": [
        "X= df2_dummys\n",
        "y = df_datafinal.iloc[:,-1]"
      ]
    },
    {
      "cell_type": "code",
      "execution_count": null,
      "metadata": {
        "id": "Pe6AzzUpHzo3"
      },
      "outputs": [],
      "source": [
        "# LabelEncoder\n",
        "#from sklearn.preprocessing import LabelEncoder\n",
        "le = LabelEncoder()\n",
        "y = le.fit_transform(y)\n",
        "\n",
        "#print(y[0:5])"
      ]
    },
    {
      "cell_type": "code",
      "execution_count": null,
      "metadata": {
        "id": "y29vux10Hzo4"
      },
      "outputs": [],
      "source": [
        "# Obtener columnas seleciconadas -\n",
        "X_new = select_kbest(X, y, f_regression,10)\n",
        "# Nuevo conjunto de datos\n",
        "df_new = X.iloc[:,X_new]\n",
        "df_new.head()"
      ]
    },
    {
      "cell_type": "code",
      "execution_count": null,
      "metadata": {
        "id": "yFIvz0mLHzo4"
      },
      "outputs": [],
      "source": [
        "X = df_new\n",
        "y = df_datafinal.iloc[:, -1].values # target\n",
        "\n",
        "# LabelEncoder\n",
        "from sklearn.preprocessing import LabelEncoder\n",
        "le = LabelEncoder()\n",
        "y = le.fit_transform(y)\n",
        "\n",
        "# Separación en conjuntos de entrenamiento y validación con 80% de muestras para entrenamiento\n",
        "X_train, X_test, y_train, y_test = train_test_split(X, y, test_size=0.2, random_state=42)\n",
        "\n",
        "#Imprimir Tamaño de dataset\n",
        "print(\"Tamaño del conjunto de entrenamiento:\", X_train.shape)\n",
        "print(\"Tamaño del conjunto de validación:\", X_test.shape)\n",
        "\n",
        "#Nombre de caracteristicas númericas\n",
        "numeric_columns=list(X.select_dtypes('float64').columns)\n",
        "\n",
        "#Estandarización de variables númericas\n",
        "pipeline=ColumnTransformer([(\"std_num\" , StandardScaler(), numeric_columns)], remainder='passthrough')\n",
        "\n",
        "X_train_std = pipeline.fit_transform(X_train)\n",
        "X_test_std = pipeline.transform(X_test)"
      ]
    },
    {
      "cell_type": "code",
      "execution_count": null,
      "metadata": {
        "id": "QwBFW6KtHzo4"
      },
      "outputs": [],
      "source": [
        "# Crea el modelo\n",
        "regr = LogisticRegression(class_weight=\"balanced\", random_state=42, max_iter=1000)\n",
        "# Calibra el modelo\n",
        "regr.fit(X_train_std, y_train)\n",
        "#Realice predicciones sobre x_train_std\n",
        "y_pred = regr.predict(X_train_std)\n",
        "# Imprime los coeficientes\n",
        "print(\"Coeficientes: \", regr.coef_)\n",
        "\n",
        "# Imprime el intercepto\n",
        "print(\"\\nIntercepto: \", regr.intercept_)\n",
        "#Exactitud de modelo\n",
        "print(\"Accuracy (Train): \"+ str(regr.score(X_train_std,y_train)*100) + \"%\")\n",
        "print(\"Score: \", regr.score(X_train_std, y_pred))"
      ]
    },
    {
      "cell_type": "code",
      "execution_count": null,
      "metadata": {
        "id": "XQ5qcJAxHzo4"
      },
      "outputs": [],
      "source": [
        "#Predicciones sobre el conjunto de test\n",
        "y_hat = regr.predict(X_test_std)\n",
        "#Exactitud de modelo\n",
        "print(\"Accuracy (Test): \"+ str(regr.score(X_test_std,y_test)*100) + \"%\")"
      ]
    },
    {
      "cell_type": "code",
      "execution_count": null,
      "metadata": {
        "id": "MQxMqDFCHzo4"
      },
      "outputs": [],
      "source": [
        "#VALIDAR MODELO\n",
        "#validar modelo\n",
        "from sklearn.metrics import confusion_matrix, ConfusionMatrixDisplay\n",
        "cm = confusion_matrix(y_test, y_hat)\n",
        "disp = ConfusionMatrixDisplay(confusion_matrix = cm)\n",
        "disp.plot(cmap='CMRmap_r')\n",
        "plt.show()\n",
        "print(cm)"
      ]
    },
    {
      "cell_type": "code",
      "execution_count": null,
      "metadata": {
        "id": "rDXWW9-gHzo4"
      },
      "outputs": [],
      "source": [
        "TP=cm[0,0]\n",
        "FP=cm[1,0]\n",
        "FN=cm[0,1]\n",
        "TN=cm[1,1]\n",
        "\n",
        "print(f'Precisión: {TP/(TP+FP)}')\n",
        "print(f'Recuperación: {TP/(TP+FN)}')\n",
        "precision=TP/(TP+FP)\n",
        "recall=TP/(TP+FN)\n",
        "print(f'F1-score: {(2*precision*recall)/(precision+recall)}')\n",
        "print(f'Especificidad: {TN/(FP+TN)}')"
      ]
    },
    {
      "cell_type": "code",
      "execution_count": null,
      "metadata": {
        "id": "_ydOEjIfHzo5"
      },
      "outputs": [],
      "source": []
    },
    {
      "cell_type": "markdown",
      "metadata": {
        "id": "AGxhioCYHzo3"
      },
      "source": []
    },
    {
      "cell_type": "markdown",
      "metadata": {
        "id": "JHXermOjk-jF"
      },
      "source": [
        "##**Lasso**\n",
        "SelectFromModel Meta-transformador para seleccionar características basadas en pesos de importancia."
      ]
    },
    {
      "cell_type": "code",
      "execution_count": null,
      "metadata": {
        "id": "DY3bFH8dlEco"
      },
      "outputs": [],
      "source": [
        "X = df2_dummys\n",
        "y = df_datafinal.iloc[:,-1]\n",
        "le = LabelEncoder()\n",
        "y = le.fit_transform(y)"
      ]
    },
    {
      "cell_type": "code",
      "execution_count": null,
      "metadata": {
        "id": "hDg3FYGElHDt"
      },
      "outputs": [],
      "source": [
        "from sklearn.feature_selection import SelectFromModel\n",
        "from sklearn.linear_model import Lasso\n",
        "from sklearn.preprocessing import StandardScaler\n",
        "\n",
        "# Estandarizar los datos\n",
        "standard_scaler = StandardScaler()\n",
        "X_std = standard_scaler.fit_transform(X)\n",
        "\n",
        "# Selector de variables con Lasso\n",
        "sel_ = SelectFromModel(Lasso(alpha=0.05), max_features=4)\n",
        "sel_.fit(X_std, y)\n",
        "print(sel_.estimator_.coef_)\n",
        "#Obtener variables seleccionadas\n",
        "X_new = sel_.get_support()\n",
        "\n",
        "df_new = X.iloc[:,X_new]\n",
        "df_new.head()"
      ]
    },
    {
      "cell_type": "code",
      "execution_count": null,
      "metadata": {
        "id": "WkKoc0ldlLS5"
      },
      "outputs": [],
      "source": [
        "X = df_new\n",
        "y = df_datafinal.iloc[:,-1]\n",
        "le = LabelEncoder()\n",
        "y = le.fit_transform(y)\n",
        "# Separación en conjuntos de entrenamiento y validación con 80% de muestras para entrenamiento\n",
        "X_train, X_test, y_train, y_test = train_test_split(X, y, test_size=0.2, random_state=42)\n",
        "\n",
        "#Imprimir Tamaño de dataset\n",
        "print(\"Tamaño del conjunto de entrenamiento:\", X_train.shape)\n",
        "print(\"Tamaño del conjunto de validación:\", X_test.shape)\n",
        "\n",
        "#Nombre de caracteristicas númericas\n",
        "numeric_columns=list(X.select_dtypes('float64').columns)\n",
        "\n",
        "#Estandarización de variables númericas\n",
        "pipeline=ColumnTransformer([(\"std_num\" , StandardScaler(), numeric_columns)], remainder='passthrough')\n",
        "\n",
        "X_train_std = pipeline.fit_transform(X_train)\n",
        "X_test_std = pipeline.transform(X_test)"
      ]
    },
    {
      "cell_type": "code",
      "execution_count": null,
      "metadata": {
        "id": "0ON8g7oilOXE"
      },
      "outputs": [],
      "source": [
        "# Crea el modelo\n",
        "regr = LogisticRegression(class_weight=\"balanced\", random_state=42, max_iter=1000)\n",
        "# Calibra el modelo\n",
        "regr.fit(X_train_std, y_train)\n",
        "#Realice predicciones sobre x_train_std\n",
        "y_pred = regr.predict(X_train_std)\n",
        "# Imprime los coeficientes\n",
        "print(\"Coeficientes: \", regr.coef_)\n",
        "\n",
        "# Imprime el intercepto\n",
        "print(\"\\nIntercepto: \", regr.intercept_)\n",
        "#Exactitud de modelo\n",
        "print(\"Accuracy (Train): \"+ str(regr.score(X_train_std,y_train)*100) + \"%\")\n",
        "print(\"Score: \", regr.score(X_train_std, y_pred))"
      ]
    },
    {
      "cell_type": "code",
      "execution_count": null,
      "metadata": {
        "id": "dVtkAojalRFs"
      },
      "outputs": [],
      "source": [
        "#Predicciones sobre el conjunto de test\n",
        "y_hat = regr.predict(X_test_std)\n",
        "#Exactitud de modelo\n",
        "print(\"Accuracy (Test): \"+ str(regr.score(X_test_std,y_test)*100) + \"%\")"
      ]
    },
    {
      "cell_type": "code",
      "execution_count": null,
      "metadata": {
        "id": "_bRmdvgXlS_b"
      },
      "outputs": [],
      "source": [
        "#validar modelo\n",
        "from sklearn.metrics import confusion_matrix, ConfusionMatrixDisplay\n",
        "cm = confusion_matrix(y_test, y_hat)\n",
        "disp = ConfusionMatrixDisplay(confusion_matrix = cm)\n",
        "disp.plot(cmap='CMRmap_r')\n",
        "plt.show()\n",
        "print(cm)"
      ]
    },
    {
      "cell_type": "code",
      "execution_count": null,
      "metadata": {
        "id": "Ph78dUSClXcE"
      },
      "outputs": [],
      "source": [
        "TP=cm[0,0]\n",
        "FP=cm[1,0]\n",
        "FN=cm[0,1]\n",
        "TN=cm[1,1]\n",
        "\n",
        "print(f'Precisión: {TP/(TP+FP)}')\n",
        "print(f'Recuperación: {TP/(TP+FN)}')\n",
        "precision=TP/(TP+FP)\n",
        "recall=TP/(TP+FN)\n",
        "print(f'F1-score: {(2*precision*recall)/(precision+recall)}')\n",
        "print(f'Especificidad: {TN/(FP+TN)}')\n"
      ]
    },
    {
      "cell_type": "markdown",
      "metadata": {
        "id": "xy6qqLVjkYc6"
      },
      "source": [
        "## **Sequential Feature Selector**\n",
        "Este selector secuencial de caracteristicas agrega (selección hacia adelante) o elimina (selección hacia atrás) caracteristicas para formar un subconjunto de caracteristicas de manera codiciosa.\n",
        "\n",
        "En cada etapa, este estimador elige la mejor característica para agregar o eliminar en función de la puntuación de validación cruzada de un estimador."
      ]
    },
    {
      "cell_type": "code",
      "execution_count": null,
      "metadata": {
        "id": "XXJj98z1keTm"
      },
      "outputs": [],
      "source": [
        "X= df2_dummys\n",
        "y = df_datafinal.iloc[:,-1]\n",
        "le = LabelEncoder()\n",
        "y = le.fit_transform(y)"
      ]
    },
    {
      "cell_type": "code",
      "execution_count": null,
      "metadata": {
        "id": "-USUrhZmkgzG"
      },
      "outputs": [],
      "source": [
        "from sklearn.feature_selection import SequentialFeatureSelector\n",
        "\n",
        "# Selector secuencias utilizando regresión logísticas\n",
        "sfs = SequentialFeatureSelector(LinearRegression(),\n",
        "                                n_features_to_select=5,\n",
        "                                direction= \"forward\",\n",
        "                                scoring='r2')\n",
        "# Obtener variable seleccionadas\n",
        "sfs = sfs.fit(X, y)\n",
        "X_new = sfs.support_\n",
        "df_new = X.iloc[:,X_new]\n",
        "df_new.head()"
      ]
    },
    {
      "cell_type": "code",
      "execution_count": null,
      "metadata": {
        "id": "4_eK4Aw8kmjF"
      },
      "outputs": [],
      "source": [
        "X = df_new\n",
        "y = df_datafinal.iloc[:,-1]\n",
        "le = LabelEncoder()\n",
        "y = le.fit_transform(y)\n",
        "\n",
        "# Separación en conjuntos de entrenamiento y validación con 80% de muestras para entrenamiento\n",
        "X_train, X_test, y_train, y_test = train_test_split(X, y, test_size=0.2, random_state=42)\n",
        "\n",
        "#Imprimir Tamaño de dataset\n",
        "print(\"Tamaño del conjunto de entrenamiento:\", X_train.shape)\n",
        "print(\"Tamaño del conjunto de validación:\", X_test.shape)\n",
        "\n",
        "#Nombre de caracteristicas númericas\n",
        "numeric_columns=list(X.select_dtypes('float64').columns)\n",
        "\n",
        "#Estandarización de variables númericas\n",
        "pipeline=ColumnTransformer([(\"std_num\" , StandardScaler(), numeric_columns)], remainder='passthrough')\n",
        "\n",
        "X_train_std = pipeline.fit_transform(X_train)\n",
        "X_test_std = pipeline.transform(X_test)"
      ]
    },
    {
      "cell_type": "code",
      "execution_count": null,
      "metadata": {
        "id": "HYHw6apFkoFN"
      },
      "outputs": [],
      "source": [
        "X = df_new\n",
        "y = df_datafinal.iloc[:,-1]\n",
        "le = LabelEncoder()\n",
        "y = le.fit_transform(y)\n",
        "\n",
        "# Separación en conjuntos de entrenamiento y validación con 80% de muestras para entrenamiento\n",
        "X_train, X_test, y_train, y_test = train_test_split(X, y, test_size=0.2, random_state=42)\n",
        "\n",
        "#Imprimir Tamaño de dataset\n",
        "print(\"Tamaño del conjunto de entrenamiento:\", X_train.shape)\n",
        "print(\"Tamaño del conjunto de validación:\", X_test.shape)\n",
        "\n",
        "#Nombre de caracteristicas númericas\n",
        "numeric_columns=list(X.select_dtypes('float64').columns)\n",
        "\n",
        "#Estandarización de variables númericas\n",
        "pipeline=ColumnTransformer([(\"std_num\" , StandardScaler(), numeric_columns)], remainder='passthrough')\n",
        "\n",
        "X_train_std = pipeline.fit_transform(X_train)\n",
        "X_test_std = pipeline.transform(X_test)"
      ]
    },
    {
      "cell_type": "code",
      "execution_count": null,
      "metadata": {
        "id": "ll0jWFmJktOj"
      },
      "outputs": [],
      "source": [
        "# Crea el modelo\n",
        "regr = LogisticRegression(class_weight=\"balanced\", random_state=42, max_iter=1000)\n",
        "# Calibra el modelo\n",
        "regr.fit(X_train_std, y_train)\n",
        "#Realice predicciones sobre x_train_std\n",
        "y_pred = regr.predict(X_train_std)\n",
        "# Imprime los coeficientes\n",
        "print(\"Coeficientes: \", regr.coef_)\n",
        "\n",
        "# Imprime el intercepto\n",
        "print(\"\\nIntercepto: \", regr.intercept_)\n",
        "#Exactitud de modelo\n",
        "print(\"Accuracy (Train): \"+ str(regr.score(X_train_std,y_train)*100) + \"%\")\n",
        "print(\"Score: \", regr.score(X_train_std, y_pred))"
      ]
    },
    {
      "cell_type": "code",
      "execution_count": null,
      "metadata": {
        "id": "SQwy6675k0to"
      },
      "outputs": [],
      "source": [
        "#Predicciones sobre el conjunto de test\n",
        "y_hat = regr.predict(X_test_std)\n",
        "#Exactitud de modelo\n",
        "print(\"Accuracy (Test): \"+ str(regr.score(X_test_std,y_test)*100) + \"%\")"
      ]
    },
    {
      "cell_type": "code",
      "execution_count": null,
      "metadata": {
        "id": "T_nKDttZk3Jg"
      },
      "outputs": [],
      "source": [
        "#VALIDAR MODELO\n",
        "#validar modelo\n",
        "from sklearn.metrics import confusion_matrix, ConfusionMatrixDisplay\n",
        "cm = confusion_matrix(y_test, y_hat)\n",
        "disp = ConfusionMatrixDisplay(confusion_matrix = cm)\n",
        "disp.plot(cmap='CMRmap_r')\n",
        "plt.show()\n",
        "print(cm)"
      ]
    },
    {
      "cell_type": "code",
      "execution_count": null,
      "metadata": {
        "id": "jsLei1A6k8ek"
      },
      "outputs": [],
      "source": [
        "TP=cm[0,0]\n",
        "FP=cm[1,0]\n",
        "FN=cm[0,1]\n",
        "TN=cm[1,1]\n",
        "\n",
        "print(f'Precisión: {TP/(TP+FP)}')\n",
        "print(f'Recuperación: {TP/(TP+FN)}')\n",
        "precision=TP/(TP+FP)\n",
        "recall=TP/(TP+FN)\n",
        "print(f'F1-score: {(2*precision*recall)/(precision+recall)}')\n",
        "print(f'Especificidad: {TN/(FP+TN)}')"
      ]
    },
    {
      "cell_type": "code",
      "execution_count": null,
      "metadata": {
        "id": "qnPsC8mhrM94"
      },
      "outputs": [],
      "source": []
    },
    {
      "cell_type": "markdown",
      "metadata": {
        "id": "h1hTo75Svanm"
      },
      "source": [
        "##Selección: 10 variables"
      ]
    },
    {
      "cell_type": "markdown",
      "metadata": {
        "id": "eAOmXSswvhM0"
      },
      "source": [
        "###RFE\n",
        "El objetivo de la eliminación recursiva de características (RFE) es seleccionar características considerando recursivamente conjuntos de características cada vez más pequeños."
      ]
    },
    {
      "cell_type": "code",
      "execution_count": null,
      "metadata": {
        "id": "FBxfD6Eqve2j"
      },
      "outputs": [],
      "source": [
        "from sklearn.feature_selection import RFE\n",
        "from sklearn.linear_model import LogisticRegression"
      ]
    },
    {
      "cell_type": "code",
      "execution_count": null,
      "metadata": {
        "id": "bjojL-6Cvm_q"
      },
      "outputs": [],
      "source": [
        "from sklearn.feature_selection import RFE\n",
        "\n",
        "# Función recursiva de selección de características\n",
        "def recursive_feature_selection(X,y,model,k):\n",
        "  rfe = RFE(model, n_features_to_select=k, step=1)\n",
        "  fit = rfe.fit(X, y)\n",
        "  X_new = fit.support_\n",
        "  print(\"Num Features: %s\" % (fit.n_features_))\n",
        "  print(\"Selected Features: %s\" % (fit.support_))\n",
        "  print(\"Feature Ranking: %s\" % (fit.ranking_))\n",
        "\n",
        "  return X_new"
      ]
    },
    {
      "cell_type": "code",
      "execution_count": null,
      "metadata": {
        "id": "bQOMEJCAvp8Q"
      },
      "outputs": [],
      "source": [
        "# Establecer Estimador\n",
        "model = LogisticRegression(max_iter=1000, solver = 'liblinear')\n",
        "# Obtener columnas seleciconadas - (10 caracteristicas)\n",
        "X_new = recursive_feature_selection(X, y, model, 10)\n",
        "# Nuevo conjunto de datos\n",
        "df_new = X.iloc[:,X_new]\n",
        "df_new.head()"
      ]
    },
    {
      "cell_type": "code",
      "execution_count": null,
      "metadata": {
        "id": "g_KP07CnvsQ8"
      },
      "outputs": [],
      "source": [
        "X = df_new\n",
        "y = df_datafinal.iloc[:, -1].values # target\n",
        "\n",
        "# Separación en conjuntos de entrenamiento y validación con 80% de muestras para entrenamiento\n",
        "X_train, X_test, y_train, y_test = train_test_split(X, y, test_size=0.2, random_state=42)\n",
        "\n",
        "#Imprimir Tamaño de dataset\n",
        "print(\"Tamaño del conjunto de entrenamiento:\", X_train.shape)\n",
        "print(\"Tamaño del conjunto de validación:\", X_test.shape)"
      ]
    },
    {
      "cell_type": "code",
      "execution_count": null,
      "metadata": {
        "id": "2acrtZJ3vt8U"
      },
      "outputs": [],
      "source": [
        "# Crea el modelo\n",
        "regr = LogisticRegression(class_weight=\"balanced\", random_state=42, max_iter=1000)\n",
        "# Calibra el modelo\n",
        "regr.fit(X_train, y_train)\n",
        "#Realice predicciones sobre x_train_std\n",
        "y_pred = regr.predict(X_train)\n",
        "# Imprime los coeficientes\n",
        "print(\"Coeficientes: \", regr.coef_)\n",
        "\n",
        "# Imprime el intercepto\n",
        "print(\"\\nIntercepto: \", regr.intercept_)\n",
        "#Exactitud de modelo\n",
        "print(\"Accuracy (Train): \"+ str(regr.score(X_train,y_train)*100) + \"%\")\n",
        "print(\"Score: \", regr.score(X_train, y_pred))"
      ]
    },
    {
      "cell_type": "code",
      "execution_count": null,
      "metadata": {
        "id": "GKK-WwLIvv6h"
      },
      "outputs": [],
      "source": [
        "#Predicciones sobre el conjunto de test\n",
        "y_hat = regr.predict(X_test)\n",
        "#Exactitud de modelo\n",
        "print(\"Accuracy (Test): \"+ str(regr.score(X_test,y_test)*100) + \"%\")"
      ]
    },
    {
      "cell_type": "code",
      "execution_count": null,
      "metadata": {
        "id": "RBwDnigrvxbx"
      },
      "outputs": [],
      "source": [
        "#validar modelo\n",
        "# Exactitud del modelo\n",
        "print(f\"Accuracy of the classifier is: {accuracy_score(y_test, y_hat)}\")\n",
        "\n",
        "# Matriz de confusion\n",
        "cm1= confusion_matrix(y_train, y_pred)\n",
        "# Visualización de la matriz de confusion\n",
        "cm1_display = ConfusionMatrixDisplay(confusion_matrix = cm1, display_labels = [False, True])\n",
        "cm1_display.plot()\n",
        "plt.show()"
      ]
    },
    {
      "cell_type": "code",
      "execution_count": null,
      "metadata": {
        "id": "LoeMGV4cv26A"
      },
      "outputs": [],
      "source": [
        "#validar modelo\n",
        "# Exactitud del modelo\n",
        "print(f\"Accuracy of the classifier is: {accuracy_score(y_test, y_hat)}\")\n",
        "\n",
        "# Matriz de confusion\n",
        "cm1= confusion_matrix(y_test, y_hat)\n",
        "# Visualización de la matriz de confusion\n",
        "cm1_display = ConfusionMatrixDisplay(confusion_matrix = cm1, display_labels = [False, True])\n",
        "cm1_display.plot()\n",
        "plt.show()"
      ]
    },
    {
      "cell_type": "code",
      "execution_count": null,
      "metadata": {
        "id": "3zjWooEQv5Nb"
      },
      "outputs": [],
      "source": [
        "TP=cm[0,0]\n",
        "FP=cm[1,0]\n",
        "FN=cm[0,1]\n",
        "TN=cm[1,1]\n",
        "\n",
        "print(f'Precisión: {TP/(TP+FP)}')\n",
        "print(f'Recuperación: {TP/(TP+FN)}')\n",
        "precision=TP/(TP+FP)\n",
        "recall=TP/(TP+FN)\n",
        "print(f'F1-score: {(2*precision*recall)/(precision+recall)}')\n",
        "print(f'Especificidad: {TN/(FP+TN)}')"
      ]
    },
    {
      "cell_type": "markdown",
      "metadata": {
        "id": "6tdl0lNRv59-"
      },
      "source": [
        "###Variance Threshold\n",
        "Elimina todas las características cuya varianza no alcanza algún umbral.\n",
        "De forma predeterminada, elimina todas las características de varianza cero, es decir, las características que tienen el mismo valor en todas las muestras."
      ]
    },
    {
      "cell_type": "code",
      "execution_count": null,
      "metadata": {
        "id": "Zu2vtZiiwBVy"
      },
      "outputs": [],
      "source": [
        "X = df2_dummys"
      ]
    },
    {
      "cell_type": "code",
      "execution_count": null,
      "metadata": {
        "id": "843KSylpwB4o"
      },
      "outputs": [],
      "source": [
        "#Variance Threshold\n",
        "from sklearn.feature_selection import VarianceThreshold\n",
        "\n",
        "#Función de filtro de caracteristicas\n",
        "def variance_threshold(x,th):\n",
        "    var_thres=VarianceThreshold(threshold=th)\n",
        "    var_thres.fit(x)\n",
        "    new_cols = var_thres.get_support()\n",
        "    return new_cols"
      ]
    },
    {
      "cell_type": "code",
      "execution_count": null,
      "metadata": {
        "id": "tw4e5UIdwEuX"
      },
      "outputs": [],
      "source": [
        "# Obtener columnas seleccionadas\n",
        "X_new = variance_threshold(X, 0.5)\n",
        "# Nuevo dataframe\n",
        "df_new = df2_dummys.iloc[:,X_new]\n",
        "df_new.head()"
      ]
    },
    {
      "cell_type": "code",
      "execution_count": null,
      "metadata": {
        "id": "MoDoyFEKwHvN"
      },
      "outputs": [],
      "source": [
        "X = df_new\n",
        "y = df_datafinal.iloc[:, -1].values # target\n",
        "\n",
        "# LabelEncoder\n",
        "from sklearn.preprocessing import LabelEncoder\n",
        "le = LabelEncoder()\n",
        "y = le.fit_transform(y)"
      ]
    },
    {
      "cell_type": "code",
      "execution_count": null,
      "metadata": {
        "id": "LDAemhaFwJUj"
      },
      "outputs": [],
      "source": [
        "# Separación en conjuntos de entrenamiento y validación con 80% de muestras para entrenamiento\n",
        "X_train, X_test, y_train, y_test = train_test_split(X, y, test_size=0.2, random_state=42)\n",
        "\n",
        "#Imprimir Tamaño de dataset\n",
        "print(\"Tamaño del conjunto de entrenamiento:\", X_train.shape)\n",
        "print(\"Tamaño del conjunto de validación:\", X_test.shape)\n",
        "\n",
        "#Nombre de caracteristicas númericas\n",
        "numeric_columns=list(X.select_dtypes('float64').columns)\n",
        "\n",
        "#Estandarización de variables númericas\n",
        "pipeline=ColumnTransformer([(\"std_num\" , StandardScaler(), numeric_columns)], remainder='passthrough')\n",
        "\n",
        "X_train_std = pipeline.fit_transform(X_train)\n",
        "X_test_std = pipeline.transform(X_test)"
      ]
    },
    {
      "cell_type": "code",
      "execution_count": null,
      "metadata": {
        "id": "eBzPP5J4wLFH"
      },
      "outputs": [],
      "source": [
        "# Crea el modelo\n",
        "regr = LogisticRegression(class_weight=\"balanced\", random_state=42, max_iter=1000)\n",
        "# Calibra el modelo\n",
        "regr.fit(X_train_std, y_train)\n",
        "#Realice predicciones sobre x_train_std\n",
        "y_pred = regr.predict(X_train_std)\n",
        "# Imprime los coeficientes\n",
        "print(\"Coeficientes: \", regr.coef_)\n",
        "\n",
        "# Imprime el intercepto\n",
        "print(\"\\nIntercepto: \", regr.intercept_)\n",
        "#Exactitud de modelo\n",
        "print(\"Accuracy (Train): \"+ str(regr.score(X_train_std,y_train)*100) + \"%\")\n",
        "print(\"Score: \", regr.score(X_train_std, y_pred))"
      ]
    },
    {
      "cell_type": "code",
      "execution_count": null,
      "metadata": {
        "id": "V2FpPz9bwPhF"
      },
      "outputs": [],
      "source": [
        "#Predicciones sobre el conjunto de test\n",
        "y_hat = regr.predict(X_test_std)\n",
        "#Exactitud de modelo\n",
        "print(\"Accuracy (Test): \"+ str(regr.score(X_test_std,y_test)*100) + \"%\")"
      ]
    },
    {
      "cell_type": "code",
      "execution_count": null,
      "metadata": {
        "id": "QbXje6yxwRNd"
      },
      "outputs": [],
      "source": [
        "#validar modelo\n",
        "from sklearn.metrics import confusion_matrix, ConfusionMatrixDisplay\n",
        "cm = confusion_matrix(y_test, y_hat)\n",
        "disp = ConfusionMatrixDisplay(confusion_matrix = cm)\n",
        "disp.plot(cmap='CMRmap_r')\n",
        "plt.show()\n",
        "print(cm)"
      ]
    },
    {
      "cell_type": "code",
      "execution_count": null,
      "metadata": {
        "id": "Fu7Ry_SLwSf9"
      },
      "outputs": [],
      "source": [
        "TP=cm[0,0]\n",
        "FP=cm[1,0]\n",
        "FN=cm[0,1]\n",
        "TN=cm[1,1]\n",
        "\n",
        "print(f'Precisión: {TP/(TP+FP)}')\n",
        "print(f'Recuperación: {TP/(TP+FN)}')\n",
        "precision=TP/(TP+FP)\n",
        "recall=TP/(TP+FN)\n",
        "print(f'F1-score: {(2*precision*recall)/(precision+recall)}')\n",
        "print(f'Especificidad: {TN/(FP+TN)}')"
      ]
    },
    {
      "cell_type": "markdown",
      "metadata": {
        "id": "4JDtt_z0wnAO"
      },
      "source": [
        "###K BEST\n",
        "Selección de características de acuerdo con las k puntuaciones más altas.\n",
        "Utiliza una función que toma dos matrices X e y, y devuelve un par de matrices (puntuaciones, valores de p) o una única matriz con puntuaciones.texto en negrita"
      ]
    },
    {
      "cell_type": "code",
      "execution_count": null,
      "metadata": {
        "id": "yekZtzsWws1Y"
      },
      "outputs": [],
      "source": [
        "from sklearn.feature_selection import SelectKBest, f_regression\n",
        "\n",
        "# Función de filtro de caracteristicas - stadis. scores\n",
        "def select_kbest(X,y,score_f,k):\n",
        "    sel_kb = SelectKBest(score_func=score_f, k=k)\n",
        "    sel_kb.fit(X,y)\n",
        "    new_cols = sel_kb.get_support()\n",
        "    print(\"Scores:\\n\", sel_kb.scores_, \"\\nP-values:\\n\", sel_kb.pvalues_)\n",
        "    return new_cols"
      ]
    },
    {
      "cell_type": "code",
      "execution_count": null,
      "metadata": {
        "id": "_6Nr6T9GwwjN"
      },
      "outputs": [],
      "source": [
        "X= df2_dummys\n",
        "y = df_datafinal.iloc[:,-1]"
      ]
    },
    {
      "cell_type": "code",
      "execution_count": null,
      "metadata": {
        "id": "sDmloCHewyTx"
      },
      "outputs": [],
      "source": [
        "# LabelEncoder\n",
        "#from sklearn.preprocessing import LabelEncoder\n",
        "le = LabelEncoder()\n",
        "y = le.fit_transform(y)\n",
        "\n",
        "#print(y[0:5])"
      ]
    },
    {
      "cell_type": "code",
      "execution_count": null,
      "metadata": {
        "id": "xFV2qDjBwzsy"
      },
      "outputs": [],
      "source": [
        "# Obtener columnas seleccionadas -\n",
        "X_new = select_kbest(X, y, f_regression,10)\n",
        "# Nuevo conjunto de datos\n",
        "df_new = X.iloc[:,X_new]\n",
        "df_new.head()"
      ]
    },
    {
      "cell_type": "code",
      "execution_count": null,
      "metadata": {
        "id": "u2-gY4-RxBJ-"
      },
      "outputs": [],
      "source": [
        "X = df_new\n",
        "y = df_datafinal.iloc[:, -1].values # target\n",
        "\n",
        "# LabelEncoder\n",
        "from sklearn.preprocessing import LabelEncoder\n",
        "le = LabelEncoder()\n",
        "y = le.fit_transform(y)\n",
        "\n",
        "# Separación en conjuntos de entrenamiento y validación con 80% de muestras para entrenamiento\n",
        "X_train, X_test, y_train, y_test = train_test_split(X, y, test_size=0.2, random_state=42)\n",
        "\n",
        "#Imprimir Tamaño de dataset\n",
        "print(\"Tamaño del conjunto de entrenamiento:\", X_train.shape)\n",
        "print(\"Tamaño del conjunto de validación:\", X_test.shape)\n",
        "\n",
        "#Nombre de caracteristicas númericas\n",
        "numeric_columns=list(X.select_dtypes('float64').columns)\n",
        "\n",
        "#Estandarización de variables númericas\n",
        "pipeline=ColumnTransformer([(\"std_num\" , StandardScaler(), numeric_columns)], remainder='passthrough')\n",
        "\n",
        "X_train_std = pipeline.fit_transform(X_train)\n",
        "X_test_std = pipeline.transform(X_test)"
      ]
    },
    {
      "cell_type": "code",
      "execution_count": null,
      "metadata": {
        "id": "u9AiWQz5xI7k"
      },
      "outputs": [],
      "source": [
        "# Crea el modelo\n",
        "regr = LogisticRegression(class_weight=\"balanced\", random_state=42, max_iter=1000)\n",
        "# Calibra el modelo\n",
        "regr.fit(X_train_std, y_train)\n",
        "#Realice predicciones sobre x_train_std\n",
        "y_pred = regr.predict(X_train_std)\n",
        "# Imprime los coeficientes\n",
        "print(\"Coeficientes: \", regr.coef_)\n",
        "\n",
        "# Imprime el intercepto\n",
        "print(\"\\nIntercepto: \", regr.intercept_)\n",
        "#Exactitud de modelo\n",
        "print(\"Accuracy (Train): \"+ str(regr.score(X_train_std,y_train)*100) + \"%\")\n",
        "print(\"Score: \", regr.score(X_train_std, y_pred))"
      ]
    },
    {
      "cell_type": "code",
      "execution_count": null,
      "metadata": {
        "id": "ZLnMeheYxLAu"
      },
      "outputs": [],
      "source": [
        "#Predicciones sobre el conjunto de test\n",
        "y_hat = regr.predict(X_test_std)\n",
        "#Exactitud de modelo\n",
        "print(\"Accuracy (Test): \"+ str(regr.score(X_test_std,y_test)*100) + \"%\")"
      ]
    },
    {
      "cell_type": "code",
      "execution_count": null,
      "metadata": {
        "id": "HclQjMIdxPBx"
      },
      "outputs": [],
      "source": [
        "#VALIDAR MODELO\n",
        "#validar modelo\n",
        "from sklearn.metrics import confusion_matrix, ConfusionMatrixDisplay\n",
        "cm = confusion_matrix(y_test, y_hat)\n",
        "disp = ConfusionMatrixDisplay(confusion_matrix = cm)\n",
        "disp.plot(cmap='CMRmap_r')\n",
        "plt.show()\n",
        "print(cm)"
      ]
    },
    {
      "cell_type": "code",
      "execution_count": null,
      "metadata": {
        "id": "pbFAXO84xSdV"
      },
      "outputs": [],
      "source": [
        "TP=cm[0,0]\n",
        "FP=cm[1,0]\n",
        "FN=cm[0,1]\n",
        "TN=cm[1,1]\n",
        "\n",
        "print(f'Precisión: {TP/(TP+FP)}')\n",
        "print(f'Recuperación: {TP/(TP+FN)}')\n",
        "precision=TP/(TP+FP)\n",
        "recall=TP/(TP+FN)\n",
        "print(f'F1-score: {(2*precision*recall)/(precision+recall)}')\n",
        "print(f'Especificidad: {TN/(FP+TN)}')"
      ]
    },
    {
      "cell_type": "markdown",
      "metadata": {
        "id": "ZwU-RwcjxWjb"
      },
      "source": [
        "### Sequential Feature Selector\n",
        "Este selector secuencial de caracteristicas agrega (selección hacia adelante) o elimina (selección hacia atrás) caracteristicas para formar un subconjunto de caracteristicas de manera codiciosa.\n",
        "\n",
        "En cada etapa, este estimador elige la mejor característica para agregar o eliminar en función de la puntuación de validación cruzada de un estimador."
      ]
    },
    {
      "cell_type": "code",
      "execution_count": null,
      "metadata": {
        "id": "19CdXyNRxYXX"
      },
      "outputs": [],
      "source": [
        "X= df2_dummys\n",
        "y = df_datafinal.iloc[:,-1]\n",
        "le = LabelEncoder()\n",
        "y = le.fit_transform(y)"
      ]
    },
    {
      "cell_type": "code",
      "execution_count": null,
      "metadata": {
        "id": "JorlvroexeEK"
      },
      "outputs": [],
      "source": [
        "from sklearn.feature_selection import SequentialFeatureSelector\n",
        "\n",
        "# Selector secuencias utilizando regresión logísticas\n",
        "sfs = SequentialFeatureSelector(LinearRegression(),\n",
        "                                n_features_to_select=5,\n",
        "                                direction= \"forward\",\n",
        "                                scoring='r2')\n",
        "# Obtener variable seleccionadas\n",
        "sfs = sfs.fit(X, y)\n",
        "X_new = sfs.support_\n",
        "df_new = X.iloc[:,X_new]\n",
        "df_new.head()"
      ]
    },
    {
      "cell_type": "code",
      "execution_count": null,
      "metadata": {
        "id": "SZPo8kMnxgIB"
      },
      "outputs": [],
      "source": [
        "X = df_new\n",
        "y = df_datafinal.iloc[:,-1]\n",
        "le = LabelEncoder()\n",
        "y = le.fit_transform(y)\n",
        "\n",
        "# Separación en conjuntos de entrenamiento y validación con 80% de muestras para entrenamiento\n",
        "X_train, X_test, y_train, y_test = train_test_split(X, y, test_size=0.2, random_state=42)\n",
        "\n",
        "#Imprimir Tamaño de dataset\n",
        "print(\"Tamaño del conjunto de entrenamiento:\", X_train.shape)\n",
        "print(\"Tamaño del conjunto de validación:\", X_test.shape)\n",
        "\n",
        "#Nombre de caracteristicas númericas\n",
        "numeric_columns=list(X.select_dtypes('float64').columns)\n",
        "\n",
        "#Estandarización de variables númericas\n",
        "pipeline=ColumnTransformer([(\"std_num\" , StandardScaler(), numeric_columns)], remainder='passthrough')\n",
        "\n",
        "X_train_std = pipeline.fit_transform(X_train)\n",
        "X_test_std = pipeline.transform(X_test)"
      ]
    },
    {
      "cell_type": "code",
      "execution_count": null,
      "metadata": {
        "id": "6600lDl9xiCH"
      },
      "outputs": [],
      "source": [
        "X = df_new\n",
        "y = df_datafinal.iloc[:,-1]\n",
        "le = LabelEncoder()\n",
        "y = le.fit_transform(y)\n",
        "\n",
        "# Separación en conjuntos de entrenamiento y validación con 80% de muestras para entrenamiento\n",
        "X_train, X_test, y_train, y_test = train_test_split(X, y, test_size=0.2, random_state=42)\n",
        "\n",
        "#Imprimir Tamaño de dataset\n",
        "print(\"Tamaño del conjunto de entrenamiento:\", X_train.shape)\n",
        "print(\"Tamaño del conjunto de validación:\", X_test.shape)\n",
        "\n",
        "#Nombre de caracteristicas númericas\n",
        "numeric_columns=list(X.select_dtypes('float64').columns)\n",
        "\n",
        "#Estandarización de variables númericas\n",
        "pipeline=ColumnTransformer([(\"std_num\" , StandardScaler(), numeric_columns)], remainder='passthrough')\n",
        "\n",
        "X_train_std = pipeline.fit_transform(X_train)\n",
        "X_test_std = pipeline.transform(X_test)"
      ]
    },
    {
      "cell_type": "code",
      "execution_count": null,
      "metadata": {
        "id": "1lM3M3pPxj65"
      },
      "outputs": [],
      "source": [
        "# Crea el modelo\n",
        "regr = LogisticRegression(class_weight=\"balanced\", random_state=42, max_iter=1000)\n",
        "# Calibra el modelo\n",
        "regr.fit(X_train_std, y_train)\n",
        "#Realice predicciones sobre x_train_std\n",
        "y_pred = regr.predict(X_train_std)\n",
        "# Imprime los coeficientes\n",
        "print(\"Coeficientes: \", regr.coef_)\n",
        "\n",
        "# Imprime el intercepto\n",
        "print(\"\\nIntercepto: \", regr.intercept_)\n",
        "#Exactitud de modelo\n",
        "print(\"Accuracy (Train): \"+ str(regr.score(X_train_std,y_train)*100) + \"%\")\n",
        "print(\"Score: \", regr.score(X_train_std, y_pred))"
      ]
    },
    {
      "cell_type": "code",
      "execution_count": null,
      "metadata": {
        "id": "rgg8BrdNxmci"
      },
      "outputs": [],
      "source": [
        "#Predicciones sobre el conjunto de test\n",
        "y_hat = regr.predict(X_test_std)\n",
        "#Exactitud de modelo\n",
        "print(\"Accuracy (Test): \"+ str(regr.score(X_test_std,y_test)*100) + \"%\")"
      ]
    },
    {
      "cell_type": "code",
      "execution_count": null,
      "metadata": {
        "id": "3epij8ipxobB"
      },
      "outputs": [],
      "source": [
        "#VALIDAR MODELO\n",
        "#validar modelo\n",
        "from sklearn.metrics import confusion_matrix, ConfusionMatrixDisplay\n",
        "cm = confusion_matrix(y_test, y_hat)\n",
        "disp = ConfusionMatrixDisplay(confusion_matrix = cm)\n",
        "disp.plot(cmap='CMRmap_r')\n",
        "plt.show()\n",
        "print(cm)"
      ]
    },
    {
      "cell_type": "code",
      "execution_count": null,
      "metadata": {
        "id": "LwhN27fYxqfo"
      },
      "outputs": [],
      "source": [
        "TP=cm[0,0]\n",
        "FP=cm[1,0]\n",
        "FN=cm[0,1]\n",
        "TN=cm[1,1]\n",
        "\n",
        "print(f'Precisión: {TP/(TP+FP)}')\n",
        "print(f'Recuperación: {TP/(TP+FN)}')\n",
        "precision=TP/(TP+FP)\n",
        "recall=TP/(TP+FN)\n",
        "print(f'F1-score: {(2*precision*recall)/(precision+recall)}')\n",
        "print(f'Especificidad: {TN/(FP+TN)}')"
      ]
    },
    {
      "cell_type": "markdown",
      "metadata": {
        "id": "HvOv34atxtLa"
      },
      "source": [
        "###Lasso\n",
        "SelectFromModel Meta-transformador para seleccionar características basadas en pesos de importancia."
      ]
    },
    {
      "cell_type": "code",
      "execution_count": null,
      "metadata": {
        "id": "wmdeQu3cxup8"
      },
      "outputs": [],
      "source": [
        "X = df2_dummys\n",
        "y = df_datafinal.iloc[:,-1]\n",
        "le = LabelEncoder()\n",
        "y = le.fit_transform(y)"
      ]
    },
    {
      "cell_type": "code",
      "execution_count": null,
      "metadata": {
        "id": "7SWqZXakxx4D"
      },
      "outputs": [],
      "source": [
        "from sklearn.feature_selection import SelectFromModel\n",
        "from sklearn.linear_model import Lasso\n",
        "from sklearn.preprocessing import StandardScaler\n",
        "\n",
        "# Estandarizar los datos\n",
        "standard_scaler = StandardScaler()\n",
        "X_std = standard_scaler.fit_transform(X)\n",
        "\n",
        "# Selector de variables con Lasso\n",
        "sel_ = SelectFromModel(Lasso(alpha=0.05), max_features=4)\n",
        "sel_.fit(X_std, y)\n",
        "print(sel_.estimator_.coef_)\n",
        "#Obtener variables seleccionadas\n",
        "X_new = sel_.get_support()\n",
        "\n",
        "df_new = X.iloc[:,X_new]\n",
        "df_new.head()"
      ]
    },
    {
      "cell_type": "code",
      "execution_count": null,
      "metadata": {
        "id": "caHDBikXxz29"
      },
      "outputs": [],
      "source": [
        "X = df_new\n",
        "y = df_datafinal.iloc[:,-1]\n",
        "le = LabelEncoder()\n",
        "y = le.fit_transform(y)\n",
        "# Separación en conjuntos de entrenamiento y validación con 80% de muestras para entrenamiento\n",
        "X_train, X_test, y_train, y_test = train_test_split(X, y, test_size=0.2, random_state=42)\n",
        "\n",
        "#Imprimir Tamaño de dataset\n",
        "print(\"Tamaño del conjunto de entrenamiento:\", X_train.shape)\n",
        "print(\"Tamaño del conjunto de validación:\", X_test.shape)\n",
        "\n",
        "#Nombre de caracteristicas númericas\n",
        "numeric_columns=list(X.select_dtypes('float64').columns)\n",
        "\n",
        "#Estandarización de variables númericas\n",
        "pipeline=ColumnTransformer([(\"std_num\" , StandardScaler(), numeric_columns)], remainder='passthrough')\n",
        "\n",
        "X_train_std = pipeline.fit_transform(X_train)\n",
        "X_test_std = pipeline.transform(X_test)"
      ]
    },
    {
      "cell_type": "code",
      "execution_count": null,
      "metadata": {
        "id": "7-91u1K7x1mF"
      },
      "outputs": [],
      "source": [
        "# Crea el modelo\n",
        "regr = LogisticRegression(class_weight=\"balanced\", random_state=42, max_iter=1000)\n",
        "# Calibra el modelo\n",
        "regr.fit(X_train_std, y_train)\n",
        "#Realice predicciones sobre x_train_std\n",
        "y_pred = regr.predict(X_train_std)\n",
        "# Imprime los coeficientes\n",
        "print(\"Coeficientes: \", regr.coef_)\n",
        "\n",
        "# Imprime el intercepto\n",
        "print(\"\\nIntercepto: \", regr.intercept_)\n",
        "#Exactitud de modelo\n",
        "print(\"Accuracy (Train): \"+ str(regr.score(X_train_std,y_train)*100) + \"%\")\n",
        "print(\"Score: \", regr.score(X_train_std, y_pred))"
      ]
    },
    {
      "cell_type": "code",
      "execution_count": null,
      "metadata": {
        "id": "edi7Pwg5x3UV"
      },
      "outputs": [],
      "source": [
        "#Predicciones sobre el conjunto de test\n",
        "y_hat = regr.predict(X_test_std)\n",
        "#Exactitud de modelo\n",
        "print(\"Accuracy (Test): \"+ str(regr.score(X_test_std,y_test)*100) + \"%\")"
      ]
    },
    {
      "cell_type": "code",
      "execution_count": null,
      "metadata": {
        "id": "5Ww5uHs0x43l"
      },
      "outputs": [],
      "source": [
        "#validar modelo\n",
        "from sklearn.metrics import confusion_matrix, ConfusionMatrixDisplay\n",
        "cm = confusion_matrix(y_test, y_hat)\n",
        "disp = ConfusionMatrixDisplay(confusion_matrix = cm)\n",
        "disp.plot(cmap='CMRmap_r')\n",
        "plt.show()\n",
        "print(cm)"
      ]
    },
    {
      "cell_type": "code",
      "execution_count": null,
      "metadata": {
        "id": "DkxRnmgJx6w7"
      },
      "outputs": [],
      "source": [
        "TP=cm[0,0]\n",
        "FP=cm[1,0]\n",
        "FN=cm[0,1]\n",
        "TN=cm[1,1]\n",
        "\n",
        "print(f'Precisión: {TP/(TP+FP)}')\n",
        "print(f'Recuperación: {TP/(TP+FN)}')\n",
        "precision=TP/(TP+FP)\n",
        "recall=TP/(TP+FN)\n",
        "print(f'F1-score: {(2*precision*recall)/(precision+recall)}')\n",
        "print(f'Especificidad: {TN/(FP+TN)}')"
      ]
    },
    {
      "cell_type": "markdown",
      "metadata": {
        "id": "CH_8sHH5sK8a"
      },
      "source": [
        "##Selección: 20 variables"
      ]
    },
    {
      "cell_type": "markdown",
      "metadata": {
        "id": "7-hgyABismjg"
      },
      "source": [
        "###SELECTKABEST"
      ]
    },
    {
      "cell_type": "code",
      "execution_count": null,
      "metadata": {
        "id": "X5RNclxNsyPc"
      },
      "outputs": [],
      "source": [
        "# SELECTKABEST\n",
        "from sklearn.feature_selection import SelectKBest, f_regression\n",
        "\n",
        "# Función de filtro de caracteristicas - stadis. scores\n",
        "def select_kbest(X,y,score_f,k):\n",
        "    sel_kb = SelectKBest(score_func=score_f, k=k)\n",
        "    sel_kb.fit(X,y)\n",
        "    new_cols = sel_kb.get_support()\n",
        "    print(\"Scores:\\n\", sel_kb.scores_, \"\\nP-values:\\n\", sel_kb.pvalues_)\n",
        "    return new_cols"
      ]
    },
    {
      "cell_type": "code",
      "execution_count": null,
      "metadata": {
        "id": "4wB2Yo8Cs0-u"
      },
      "outputs": [],
      "source": [
        "X= df2_dummys\n",
        "y = df_datafinal.iloc[:,-1]\n",
        "# LabelEncoder\n",
        "#from sklearn.preprocessing import LabelEncoder\n",
        "le = LabelEncoder()\n",
        "y = le.fit_transform(y)"
      ]
    },
    {
      "cell_type": "code",
      "execution_count": null,
      "metadata": {
        "id": "HxqA_SYMs350"
      },
      "outputs": [],
      "source": [
        "# Obtener columnas seleciconadas - (20 caracteristicas)\n",
        "X_new = select_kbest(X, y, f_regression,20)\n",
        "# Nuevo conjunto de datos\n",
        "df_new = X.iloc[:,X_new]\n",
        "df_new.head()"
      ]
    },
    {
      "cell_type": "code",
      "execution_count": null,
      "metadata": {
        "id": "rHRJ3VmZs7mG"
      },
      "outputs": [],
      "source": [
        "X = df_new\n",
        "y = df_datafinal.iloc[:, -1].values # target\n",
        "\n",
        "# LabelEncoder\n",
        "from sklearn.preprocessing import LabelEncoder\n",
        "le = LabelEncoder()\n",
        "y = le.fit_transform(y)\n",
        "\n",
        "# Separación en conjuntos de entrenamiento y validación con 80% de muestras para entrenamiento\n",
        "X_train, X_test, y_train, y_test = train_test_split(X, y, test_size=0.2, random_state=42)\n",
        "\n",
        "#Imprimir Tamaño de dataset\n",
        "print(\"Tamaño del conjunto de entrenamiento:\", X_train.shape)\n",
        "print(\"Tamaño del conjunto de validación:\", X_test.shape)\n",
        "\n",
        "#Nombre de caracteristicas númericas\n",
        "numeric_columns=list(X.select_dtypes('float64').columns)\n",
        "\n",
        "#Estandarización de variables númericas\n",
        "pipeline=ColumnTransformer([(\"std_num\" , StandardScaler(), numeric_columns)], remainder='passthrough')\n",
        "\n",
        "X_train_std = pipeline.fit_transform(X_train)\n",
        "X_test_std = pipeline.transform(X_test)"
      ]
    },
    {
      "cell_type": "code",
      "execution_count": null,
      "metadata": {
        "id": "eWbEc-4Ws-CZ"
      },
      "outputs": [],
      "source": [
        "# Crea el modelo\n",
        "regr = LogisticRegression(class_weight=\"balanced\", random_state=42, max_iter=1000)\n",
        "# Calibra el modelo\n",
        "regr.fit(X_train_std, y_train)\n",
        "#Realice predicciones sobre x_train_std\n",
        "y_pred = regr.predict(X_train_std)\n",
        "# Imprime los coeficientes\n",
        "print(\"Coeficientes: \", regr.coef_)\n",
        "\n",
        "# Imprime el intercepto\n",
        "print(\"\\nIntercepto: \", regr.intercept_)\n",
        "#Exactitud de modelo\n",
        "print(\"Accuracy (Train): \"+ str(regr.score(X_train_std,y_train)*10) + \"%\")\n",
        "print(\"Score: \", regr.score(X_train_std, y_pred))"
      ]
    },
    {
      "cell_type": "code",
      "execution_count": null,
      "metadata": {
        "id": "zuKe1zTXtAGf"
      },
      "outputs": [],
      "source": [
        "#Predicciones sobre el conjunto de test\n",
        "y_hat = regr.predict(X_test_std)\n",
        "#Exactitud de modelo\n",
        "print(\"Accuracy (Test): \"+ str(regr.score(X_test_std,y_test)*100) + \"%\")"
      ]
    },
    {
      "cell_type": "code",
      "execution_count": null,
      "metadata": {
        "id": "bfz28OfitCFH"
      },
      "outputs": [],
      "source": [
        "#VALIDAR MODELO\n",
        "#validar modelo\n",
        "from sklearn.metrics import confusion_matrix, ConfusionMatrixDisplay\n",
        "cm = confusion_matrix(y_test, y_hat)\n",
        "disp = ConfusionMatrixDisplay(confusion_matrix = cm)\n",
        "disp.plot(cmap='CMRmap_r')\n",
        "plt.show()\n",
        "print(cm)"
      ]
    },
    {
      "cell_type": "code",
      "execution_count": null,
      "metadata": {
        "id": "jiW9qrmgtELg"
      },
      "outputs": [],
      "source": [
        "TP=cm[0,0]\n",
        "FP=cm[1,0]\n",
        "FN=cm[0,1]\n",
        "TN=cm[1,1]\n",
        "\n",
        "print(f'Precision: {TP/(TP+FP)}')\n",
        "print(f'Recuperacion: {TP/(TP+FN)}')\n",
        "precision=TP/(TP+FP)\n",
        "recall=TP/(TP+FN)\n",
        "print(f'F1-score: {(2*precision*recall)/(precision+recall)}')\n",
        "print(f'Especificidad: {TN/(FP+TN)}')"
      ]
    },
    {
      "cell_type": "markdown",
      "metadata": {
        "id": "QwAmtfl6tJmu"
      },
      "source": [
        "###SequentialFeatureSelector"
      ]
    },
    {
      "cell_type": "code",
      "execution_count": null,
      "metadata": {
        "id": "s5P3GSgQtKr8"
      },
      "outputs": [],
      "source": [
        "X= df2_dummys\n",
        "y = df_datafinal.iloc[:,-1]\n",
        "le = LabelEncoder()\n",
        "y = le.fit_transform(y)"
      ]
    },
    {
      "cell_type": "code",
      "execution_count": null,
      "metadata": {
        "id": "3ZMW63jTtMqi"
      },
      "outputs": [],
      "source": [
        "from sklearn.feature_selection import SequentialFeatureSelector\n",
        "\n",
        "# Selector secuencias utilizando regresión logísticas\n",
        "sfs = SequentialFeatureSelector(LinearRegression(),\n",
        "                                n_features_to_select=20,\n",
        "                                direction= \"forward\",\n",
        "                                scoring='r2')\n",
        "# Obtener variable seleccionadas\n",
        "sfs = sfs.fit(X, y)\n",
        "X_new = sfs.support_\n",
        "df_new = X.iloc[:,X_new]\n",
        "df_new.head()"
      ]
    },
    {
      "cell_type": "code",
      "execution_count": null,
      "metadata": {
        "id": "ZtsH1RoctQKX"
      },
      "outputs": [],
      "source": [
        "X = df_new\n",
        "y = df_datafinal.iloc[:,-1]\n",
        "le = LabelEncoder()\n",
        "y = le.fit_transform(y)\n",
        "\n",
        "# Separación en conjuntos de entrenamiento y validación con 80% de muestras para entrenamiento\n",
        "X_train, X_test, y_train, y_test = train_test_split(X, y, test_size=0.2, random_state=42)\n",
        "\n",
        "#Imprimir Tamaño de dataset\n",
        "print(\"Tamaño del conjunto de entrenamiento:\", X_train.shape)\n",
        "print(\"Tamaño del conjunto de validación:\", X_test.shape)\n",
        "\n",
        "#Nombre de caracteristicas númericas\n",
        "numeric_columns=list(X.select_dtypes('float64').columns)\n",
        "\n",
        "#Estandarización de variables númericas\n",
        "pipeline=ColumnTransformer([(\"std_num\" , StandardScaler(), numeric_columns)], remainder='passthrough')\n",
        "\n",
        "X_train_std = pipeline.fit_transform(X_train)\n",
        "X_test_std = pipeline.transform(X_test)"
      ]
    },
    {
      "cell_type": "code",
      "execution_count": null,
      "metadata": {
        "id": "zppi0UmLtSIc"
      },
      "outputs": [],
      "source": [
        "# Crea el modelo\n",
        "regr = LogisticRegression(class_weight=\"balanced\", random_state=42, max_iter=1000)\n",
        "# Calibra el modelo\n",
        "regr.fit(X_train_std, y_train)\n",
        "#Realice predicciones sobre x_train_std\n",
        "y_pred = regr.predict(X_train_std)\n",
        "# Imprime los coeficientes\n",
        "print(\"Coeficientes: \", regr.coef_)\n",
        "\n",
        "# Imprime el intercepto\n",
        "print(\"\\nIntercepto: \", regr.intercept_)\n",
        "#Exactitud de modelo\n",
        "print(\"Accuracy (Train): \"+ str(regr.score(X_train_std,y_train)*100)+'%')\n",
        "print(\"Score\",regr.score(X_train_std,y_pred))"
      ]
    },
    {
      "cell_type": "code",
      "execution_count": null,
      "metadata": {
        "id": "X5Q6jvpVtUVO"
      },
      "outputs": [],
      "source": [
        "  #Predicciones sobre el conjunto de test\n",
        "y_hat = regr.predict(X_test_std)\n",
        "#Exactitud de modelo\n",
        "print(\"Accuracy (Test): \"+ str(regr.score(X_test_std,y_test)*100) + \"%\")"
      ]
    },
    {
      "cell_type": "code",
      "execution_count": null,
      "metadata": {
        "id": "bpLJDMEitWLa"
      },
      "outputs": [],
      "source": [
        "#VALIDAR MODELO\n",
        "#validar modelo\n",
        "from sklearn.metrics import confusion_matrix, ConfusionMatrixDisplay\n",
        "cm = confusion_matrix(y_test, y_hat)\n",
        "disp = ConfusionMatrixDisplay(confusion_matrix = cm)\n",
        "disp.plot(cmap='CMRmap_r')\n",
        "plt.show()\n",
        "print(cm)"
      ]
    },
    {
      "cell_type": "code",
      "execution_count": null,
      "metadata": {
        "id": "IuMLtygftYaM"
      },
      "outputs": [],
      "source": [
        "TP=cm[0,0]\n",
        "FP=cm[1,0]\n",
        "FN=cm[0,1]\n",
        "TN=cm[1,1]\n",
        "\n",
        "print(f'Precision: {TP/(TP+FP)}')\n",
        "print(f'Recuperacion: {TP/(TP+FN)}')\n",
        "precision=TP/(TP+FP)\n",
        "recall=TP/(TP+FN)\n",
        "print(f'F1-score: {(2*precision*recall)/(precision+recall)}')\n",
        "print(f'Especificidad: {TN/(FP+TN)}')"
      ]
    },
    {
      "cell_type": "markdown",
      "metadata": {
        "id": "w3TIZnl2su49"
      },
      "source": [
        "###RFE"
      ]
    },
    {
      "cell_type": "code",
      "execution_count": null,
      "metadata": {
        "id": "xzpyjn27sH8j"
      },
      "outputs": [],
      "source": [
        "#RFE\n",
        "from sklearn.feature_selection import RFE\n",
        "\n",
        "# Función recursiva de selección de características\n",
        "def recursive_feature_selection(X,y,model,k):\n",
        "  rfe = RFE(model, n_features_to_select=k, step=1)\n",
        "  fit = rfe.fit(X, y)\n",
        "  X_new = fit.support_\n",
        "  print(\"Num Features: %s\" % (fit.n_features_))\n",
        "  print(\"Selected Features: %s\" % (fit.support_))\n",
        "  print(\"Feature Ranking: %s\" % (fit.ranking_))"
      ]
    },
    {
      "cell_type": "code",
      "execution_count": null,
      "metadata": {
        "id": "zFkCycFUsWN8"
      },
      "outputs": [],
      "source": [
        "# Establecer Estimador\n",
        "model = LogisticRegression(max_iter=1000, solver='liblinear')\n",
        "\n",
        "# Obtener columnas seleccionadas - (20 características)\n",
        "x_new= recursive_feature_selection(X, y, model, 20)"
      ]
    },
    {
      "cell_type": "code",
      "execution_count": null,
      "metadata": {
        "id": "ALLaeHjQsYBI"
      },
      "outputs": [],
      "source": [
        "# Convertir X_new en una lista\n",
        "# selected_columns = x_new.tolist()   ########### REVISAR QUE PASA\n",
        "# Nuevo conjunto de datos\n",
        "#df_new = X.iloc[:, selected_columns]\n",
        "df_new.head()"
      ]
    },
    {
      "cell_type": "code",
      "execution_count": null,
      "metadata": {
        "id": "cjDwnqd2saOB"
      },
      "outputs": [],
      "source": [
        "X = df_new\n",
        "y = df_datafinal.iloc[:, -1].values # target\n",
        "\n",
        "# Separación en conjuntos de entrenamiento y validación con 80% de muestras para entrenamiento\n",
        "X_train, X_test, y_train, y_test = train_test_split(X, y, test_size=0.2, random_state=42)\n",
        "\n",
        "#Imprimir Tamaño de dataset\n",
        "print(\"Tamaño del conjunto de entrenamiento:\", X_train.shape)\n",
        "print(\"Tamaño del conjunto de validación:\", X_test.shape)"
      ]
    },
    {
      "cell_type": "code",
      "execution_count": null,
      "metadata": {
        "id": "aVJgo1J8scka"
      },
      "outputs": [],
      "source": [
        "# Crea el modelo\n",
        "regr = LogisticRegression(class_weight=\"balanced\", random_state=42, max_iter=1000)\n",
        "# Calibra el modelo\n",
        "regr.fit(X_train, y_train)\n",
        "#Realice predicciones sobre x_train_std\n",
        "y_pred = regr.predict(X_train)\n",
        "# Imprime los coeficientes\n",
        "print(\"Coeficientes: \", regr.coef_)\n",
        "\n",
        "# Imprime el intercepto\n",
        "print(\"\\nIntercepto: \", regr.intercept_)\n",
        "#Exactitud de modelo\n",
        "print(\"Accuracy (Train): \"+ str(regr.score(X_train,y_train)*100) + \"%\")\n",
        "print(\"Score: \", regr.score(X_train, y_pred))\n",
        "\n",
        "#Predicciones sobre el conjunto de test\n",
        "y_hat = regr.predict(X_test)\n",
        "#Exactitud de modelo\n",
        "print(\"Accuracy (Test): \"+ str(regr.score(X_test,y_test)*100) + \"%\")"
      ]
    },
    {
      "cell_type": "code",
      "execution_count": null,
      "metadata": {
        "id": "sAQSvlqPse8h"
      },
      "outputs": [],
      "source": [
        "#validar modelo\n",
        "# Exactitud del modelo\n",
        "print(f\"Accuracy of the classifier is: {accuracy_score(y_test, y_hat)}\")\n",
        "\n",
        "# Matriz de confusion\n",
        "cm1= confusion_matrix(y_test, y_hat)\n",
        "# Visualización de la matriz de confusion\n",
        "cm1_display = ConfusionMatrixDisplay(confusion_matrix = cm1, display_labels = [False, True])\n",
        "cm1_display.plot()\n",
        "plt.show()"
      ]
    },
    {
      "cell_type": "code",
      "execution_count": null,
      "metadata": {
        "id": "3PYp9WHkshB5"
      },
      "outputs": [],
      "source": [
        "TP=cm[0,0]\n",
        "FP=cm[1,0]\n",
        "FN=cm[0,1]\n",
        "TN=cm[1,1]\n",
        "\n",
        "print(f'Precision: {TP/(TP+FP)}')\n",
        "print(f'Recuperacion: {TP/(TP+FN)}')\n",
        "precision=TP/(TP+FP)\n",
        "recall=TP/(TP+FN)\n",
        "print(f'F1-score: {(2*precision*recall)/(precision+recall)}')\n",
        "print(f'Especificidad: {TN/(FP+TN)}')"
      ]
    },
    {
      "cell_type": "code",
      "execution_count": null,
      "metadata": {
        "id": "_soARGETa1y1"
      },
      "outputs": [],
      "source": []
    },
    {
      "cell_type": "markdown",
      "metadata": {
        "id": "k8beLwXTtkO_"
      },
      "source": [
        "##Selección: 30 variables"
      ]
    },
    {
      "cell_type": "markdown",
      "metadata": {
        "id": "Iq9rLzKKuQUj"
      },
      "source": [
        "###SELECTKABEST"
      ]
    },
    {
      "cell_type": "code",
      "execution_count": null,
      "metadata": {
        "id": "cfsX426ouTpa"
      },
      "outputs": [],
      "source": [
        "# SELECTKABEST\n",
        "from sklearn.feature_selection import SelectKBest, f_regression\n",
        "\n",
        "# Función de filtro de caracteristicas - stadis. scores\n",
        "def select_kbest(X,y,score_f,k):\n",
        "    sel_kb = SelectKBest(score_func=score_f, k=k)\n",
        "    sel_kb.fit(X,y)\n",
        "    new_cols = sel_kb.get_support()\n",
        "    print(\"Scores:\\n\", sel_kb.scores_, \"\\nP-values:\\n\", sel_kb.pvalues_)\n",
        "    return new_cols"
      ]
    },
    {
      "cell_type": "code",
      "execution_count": null,
      "metadata": {
        "id": "nbXCHxZXuXFE"
      },
      "outputs": [],
      "source": [
        "X= df2_dummys\n",
        "y = df_datafinal.iloc[:,-1]\n",
        "# LabelEncoder\n",
        "#from sklearn.preprocessing import LabelEncoder\n",
        "le = LabelEncoder()\n",
        "y = le.fit_transform(y)"
      ]
    },
    {
      "cell_type": "code",
      "execution_count": null,
      "metadata": {
        "id": "sSED1Nk7uYzs"
      },
      "outputs": [],
      "source": [
        "# Obtener columnas seleciconadas - (3 caracteristicas)\n",
        "X_new = select_kbest(X, y, f_regression,30)\n",
        "# Nuevo conjunto de datos\n",
        "df_new = X.iloc[:,X_new]\n",
        "df_new.head()"
      ]
    },
    {
      "cell_type": "code",
      "execution_count": null,
      "metadata": {
        "id": "qhxGBKjJubEM"
      },
      "outputs": [],
      "source": [
        "X = df_new\n",
        "y = df_datafinal.iloc[:, -1].values # target\n",
        "\n",
        "# LabelEncoder\n",
        "from sklearn.preprocessing import LabelEncoder\n",
        "le = LabelEncoder()\n",
        "y = le.fit_transform(y)\n",
        "\n",
        "# Separación en conjuntos de entrenamiento y validación con 80% de muestras para entrenamiento\n",
        "X_train, X_test, y_train, y_test = train_test_split(X, y, test_size=0.2, random_state=42)\n",
        "\n",
        "#Imprimir Tamaño de dataset\n",
        "print(\"Tamaño del conjunto de entrenamiento:\", X_train.shape)\n",
        "print(\"Tamaño del conjunto de validación:\", X_test.shape)\n",
        "\n",
        "#Nombre de caracteristicas númericas\n",
        "numeric_columns=list(X.select_dtypes('float64').columns)\n",
        "\n",
        "#Estandarización de variables númericas\n",
        "pipeline=ColumnTransformer([(\"std_num\" , StandardScaler(), numeric_columns)], remainder='passthrough')\n",
        "\n",
        "X_train_std = pipeline.fit_transform(X_train)\n",
        "X_test_std = pipeline.transform(X_test)"
      ]
    },
    {
      "cell_type": "code",
      "execution_count": null,
      "metadata": {
        "id": "868Xp2deuc4a"
      },
      "outputs": [],
      "source": [
        "# Crea el modelo\n",
        "regr = LogisticRegression(class_weight=\"balanced\", random_state=42, max_iter=1000)\n",
        "# Calibra el modelo\n",
        "regr.fit(X_train_std, y_train)\n",
        "#Realice predicciones sobre x_train_std\n",
        "y_pred = regr.predict(X_train_std)\n",
        "# Imprime los coeficientes\n",
        "print(\"Coeficientes: \", regr.coef_)\n",
        "\n",
        "# Imprime el intercepto\n",
        "print(\"\\nIntercepto: \", regr.intercept_)\n",
        "#Exactitud de modelo\n",
        "print(\"Accuracy (Train): \"+ str(regr.score(X_train_std,y_train)*10) + \"%\")\n",
        "print(\"Score: \", regr.score(X_train_std, y_pred))"
      ]
    },
    {
      "cell_type": "code",
      "execution_count": null,
      "metadata": {
        "id": "Lq4Ja6RZueeU"
      },
      "outputs": [],
      "source": [
        "#Predicciones sobre el conjunto de test\n",
        "y_hat = regr.predict(X_test_std)\n",
        "#Exactitud de modelo\n",
        "print(\"Accuracy (Test): \"+ str(regr.score(X_test_std,y_test)*100) + \"%\")"
      ]
    },
    {
      "cell_type": "code",
      "execution_count": null,
      "metadata": {
        "id": "r07wobx9uf6m"
      },
      "outputs": [],
      "source": [
        "#VALIDAR MODELO\n",
        "#validar modelo\n",
        "from sklearn.metrics import confusion_matrix, ConfusionMatrixDisplay\n",
        "cm = confusion_matrix(y_test, y_hat)\n",
        "disp = ConfusionMatrixDisplay(confusion_matrix = cm)\n",
        "disp.plot(cmap='CMRmap_r')\n",
        "plt.show()\n",
        "print(cm)"
      ]
    },
    {
      "cell_type": "code",
      "execution_count": null,
      "metadata": {
        "id": "J-Kmk8Fkuh-x"
      },
      "outputs": [],
      "source": [
        "TP=cm[0,0]\n",
        "FP=cm[1,0]\n",
        "FN=cm[0,1]\n",
        "TN=cm[1,1]\n",
        "\n",
        "print(f'Precision: {TP/(TP+FP)}')\n",
        "print(f'Recuperacion: {TP/(TP+FN)}')\n",
        "precision=TP/(TP+FP)\n",
        "recall=TP/(TP+FN)\n",
        "print(f'F1-score: {(2*precision*recall)/(precision+recall)}')\n",
        "print(f'Especificidad: {TN/(FP+TN)}')"
      ]
    },
    {
      "cell_type": "markdown",
      "metadata": {
        "id": "0qZCB461uM3s"
      },
      "source": [
        "###RFE"
      ]
    },
    {
      "cell_type": "code",
      "execution_count": null,
      "metadata": {
        "id": "77ddLBOfto5n"
      },
      "outputs": [],
      "source": [
        "#RFE\n",
        "from sklearn.feature_selection import RFE\n",
        "\n",
        "# Función recursiva de selección de características\n",
        "def recursive_feature_selection(X,y,model,k):\n",
        "  rfe = RFE(model, n_features_to_select=k, step=1)\n",
        "  fit = rfe.fit(X, y)\n",
        "  X_new = fit.support_\n",
        "  print(\"Num Features: %s\" % (fit.n_features_))\n",
        "  print(\"Selected Features: %s\" % (fit.support_))\n",
        "  print(\"Feature Ranking: %s\" % (fit.ranking_))\n",
        "\n",
        "  return X_new"
      ]
    },
    {
      "cell_type": "code",
      "execution_count": null,
      "metadata": {
        "id": "pFWmUSATttQF"
      },
      "outputs": [],
      "source": [
        "# Establecer Estimador\n",
        "model = LogisticRegression(max_iter=1000, solver = 'liblinear')\n",
        "# Obtener columnas seleciconadas - (30 caracteristicas)\n",
        "X_new = recursive_feature_selection(X, y, model, 30)\n",
        "# Nuevo conjunto de datos\n",
        "df_new = X.iloc[:,X_new]\n",
        "df_new.head()"
      ]
    },
    {
      "cell_type": "code",
      "execution_count": null,
      "metadata": {
        "id": "oYYMNw4rt2CD"
      },
      "outputs": [],
      "source": [
        "X = df_new\n",
        "y = df_datafinal.iloc[:, -1].values # target\n",
        "\n",
        "# Separación en conjuntos de entrenamiento y validación con 80% de muestras para entrenamiento\n",
        "X_train, X_test, y_train, y_test = train_test_split(X, y, test_size=0.2, random_state=42)\n",
        "\n",
        "#Imprimir Tamaño de dataset\n",
        "print(\"Tamaño del conjunto de entrenamiento:\", X_train.shape)\n",
        "print(\"Tamaño del conjunto de validación:\", X_test.shape)"
      ]
    },
    {
      "cell_type": "code",
      "execution_count": null,
      "metadata": {
        "id": "vsrsQUlft8K1"
      },
      "outputs": [],
      "source": [
        "import numpy as np\n",
        "np.seterr(under='ignore')\n",
        "# Crea el modelo\n",
        "regr = LogisticRegression(class_weight=\"balanced\", random_state=42, max_iter=1000)\n",
        "# Calibra el modelo\n",
        "regr.fit(X_train, y_train)\n",
        "#Realice predicciones sobre x_train_std\n",
        "y_pred = regr.predict(X_train)\n",
        "# Imprime los coeficientes\n",
        "print(\"Coeficientes: \", regr.coef_)\n",
        "\n",
        "# Imprime el intercepto\n",
        "print(\"\\nIntercepto: \", regr.intercept_)\n",
        "#Exactitud de modelo\n",
        "print(\"Accuracy (Train): \"+ str(regr.score(X_train,y_train)*100) + \"%\")\n",
        "print(\"Score: \", regr.score(X_train, y_pred))\n",
        "\n",
        "#Predicciones sobre el conjunto de test\n",
        "y_hat = regr.predict(X_test)\n",
        "#Exactitud de modelo\n",
        "print(\"Accuracy (Test): \"+ str(regr.score(X_test,y_test)*100) + \"%\")"
      ]
    },
    {
      "cell_type": "code",
      "execution_count": null,
      "metadata": {
        "id": "GZMVpdUSt9ac"
      },
      "outputs": [],
      "source": [
        "#validar modelo\n",
        "# Exactitud del modelo\n",
        "print(f\"Accuracy of the classifier is: {accuracy_score(y_test, y_hat)}\")\n",
        "\n",
        "# Matriz de confusion\n",
        "cm1= confusion_matrix(y_test, y_hat)\n",
        "# Visualización de la matriz de confusion\n",
        "cm1_display = ConfusionMatrixDisplay(confusion_matrix = cm1, display_labels = [False, True])\n",
        "cm1_display.plot()\n",
        "plt.show()"
      ]
    },
    {
      "cell_type": "code",
      "execution_count": null,
      "metadata": {
        "id": "hj9Wszy2t_X2"
      },
      "outputs": [],
      "source": [
        "TP=cm[0,0]\n",
        "FP=cm[1,0]\n",
        "FN=cm[0,1]\n",
        "TN=cm[1,1]\n",
        "\n",
        "print(f'Precision: {TP/(TP+FP)}')\n",
        "print(f'Recuperacion: {TP/(TP+FN)}')\n",
        "precision=TP/(TP+FP)\n",
        "recall=TP/(TP+FN)\n",
        "print(f'F1-score: {(2*precision*recall)/(precision+recall)}')\n",
        "print(f'Especificidad: {TN/(FP+TN)}')"
      ]
    },
    {
      "cell_type": "markdown",
      "metadata": {
        "id": "TPWiolmKumqH"
      },
      "source": [
        "###SequentialFeatureSelector"
      ]
    },
    {
      "cell_type": "code",
      "execution_count": null,
      "metadata": {
        "id": "WhL1N3t-uoY4"
      },
      "outputs": [],
      "source": [
        "X= df2_dummys\n",
        "y = df_datafinal.iloc[:,-1]\n",
        "le = LabelEncoder()\n",
        "y = le.fit_transform(y)"
      ]
    },
    {
      "cell_type": "code",
      "execution_count": null,
      "metadata": {
        "colab": {
          "background_save": true
        },
        "id": "eSCZ_GwVurUI",
        "outputId": "c276f104-5795-4750-c3b0-1d38ec25a152"
      },
      "outputs": [
        {
          "data": {
            "text/html": [
              "\n",
              "  <div id=\"df-70b11b08-a21f-42ae-a79d-cbebbbfa7463\" class=\"colab-df-container\">\n",
              "    <div>\n",
              "<style scoped>\n",
              "    .dataframe tbody tr th:only-of-type {\n",
              "        vertical-align: middle;\n",
              "    }\n",
              "\n",
              "    .dataframe tbody tr th {\n",
              "        vertical-align: top;\n",
              "    }\n",
              "\n",
              "    .dataframe thead th {\n",
              "        text-align: right;\n",
              "    }\n",
              "</style>\n",
              "<table border=\"1\" class=\"dataframe\">\n",
              "  <thead>\n",
              "    <tr style=\"text-align: right;\">\n",
              "      <th></th>\n",
              "      <th>Age</th>\n",
              "      <th>NumCompaniesWorked</th>\n",
              "      <th>TotalWorkingYears</th>\n",
              "      <th>TrainingTimesLastYear</th>\n",
              "      <th>YearsAtCompany</th>\n",
              "      <th>YearsSinceLastPromotion</th>\n",
              "      <th>YearsWithCurrManager</th>\n",
              "      <th>mean_time</th>\n",
              "      <th>Education</th>\n",
              "      <th>JobLevel</th>\n",
              "      <th>...</th>\n",
              "      <th>JobRole_Research Director</th>\n",
              "      <th>JobRole_Sales Representative</th>\n",
              "      <th>MaritalStatus_Single</th>\n",
              "      <th>StockOptionLevel_1</th>\n",
              "      <th>EnvironmentSatisfaction_1.0</th>\n",
              "      <th>EnvironmentSatisfaction_4.0</th>\n",
              "      <th>JobSatisfaction_1.0</th>\n",
              "      <th>JobSatisfaction_4.0</th>\n",
              "      <th>WorkLifeBalance_1.0</th>\n",
              "      <th>WorkLifeBalance_3.0</th>\n",
              "    </tr>\n",
              "  </thead>\n",
              "  <tbody>\n",
              "    <tr>\n",
              "      <th>0</th>\n",
              "      <td>51.0</td>\n",
              "      <td>1.0</td>\n",
              "      <td>1.0</td>\n",
              "      <td>6.0</td>\n",
              "      <td>1.0</td>\n",
              "      <td>0.0</td>\n",
              "      <td>0.0</td>\n",
              "      <td>6.8702</td>\n",
              "      <td>2</td>\n",
              "      <td>1</td>\n",
              "      <td>...</td>\n",
              "      <td>0</td>\n",
              "      <td>0</td>\n",
              "      <td>0</td>\n",
              "      <td>0</td>\n",
              "      <td>0</td>\n",
              "      <td>0</td>\n",
              "      <td>0</td>\n",
              "      <td>1</td>\n",
              "      <td>0</td>\n",
              "      <td>0</td>\n",
              "    </tr>\n",
              "    <tr>\n",
              "      <th>1</th>\n",
              "      <td>31.0</td>\n",
              "      <td>0.0</td>\n",
              "      <td>6.0</td>\n",
              "      <td>3.0</td>\n",
              "      <td>5.0</td>\n",
              "      <td>1.0</td>\n",
              "      <td>4.0</td>\n",
              "      <td>7.3160</td>\n",
              "      <td>1</td>\n",
              "      <td>1</td>\n",
              "      <td>...</td>\n",
              "      <td>0</td>\n",
              "      <td>0</td>\n",
              "      <td>1</td>\n",
              "      <td>1</td>\n",
              "      <td>0</td>\n",
              "      <td>0</td>\n",
              "      <td>0</td>\n",
              "      <td>0</td>\n",
              "      <td>0</td>\n",
              "      <td>0</td>\n",
              "    </tr>\n",
              "    <tr>\n",
              "      <th>2</th>\n",
              "      <td>32.0</td>\n",
              "      <td>1.0</td>\n",
              "      <td>5.0</td>\n",
              "      <td>2.0</td>\n",
              "      <td>5.0</td>\n",
              "      <td>0.0</td>\n",
              "      <td>3.0</td>\n",
              "      <td>6.8161</td>\n",
              "      <td>4</td>\n",
              "      <td>4</td>\n",
              "      <td>...</td>\n",
              "      <td>0</td>\n",
              "      <td>0</td>\n",
              "      <td>0</td>\n",
              "      <td>0</td>\n",
              "      <td>0</td>\n",
              "      <td>0</td>\n",
              "      <td>0</td>\n",
              "      <td>0</td>\n",
              "      <td>1</td>\n",
              "      <td>0</td>\n",
              "    </tr>\n",
              "    <tr>\n",
              "      <th>3</th>\n",
              "      <td>38.0</td>\n",
              "      <td>3.0</td>\n",
              "      <td>13.0</td>\n",
              "      <td>5.0</td>\n",
              "      <td>8.0</td>\n",
              "      <td>7.0</td>\n",
              "      <td>5.0</td>\n",
              "      <td>6.7892</td>\n",
              "      <td>5</td>\n",
              "      <td>3</td>\n",
              "      <td>...</td>\n",
              "      <td>0</td>\n",
              "      <td>0</td>\n",
              "      <td>0</td>\n",
              "      <td>0</td>\n",
              "      <td>0</td>\n",
              "      <td>1</td>\n",
              "      <td>0</td>\n",
              "      <td>1</td>\n",
              "      <td>0</td>\n",
              "      <td>1</td>\n",
              "    </tr>\n",
              "    <tr>\n",
              "      <th>4</th>\n",
              "      <td>32.0</td>\n",
              "      <td>4.0</td>\n",
              "      <td>9.0</td>\n",
              "      <td>2.0</td>\n",
              "      <td>6.0</td>\n",
              "      <td>0.0</td>\n",
              "      <td>4.0</td>\n",
              "      <td>7.8776</td>\n",
              "      <td>1</td>\n",
              "      <td>1</td>\n",
              "      <td>...</td>\n",
              "      <td>0</td>\n",
              "      <td>0</td>\n",
              "      <td>1</td>\n",
              "      <td>0</td>\n",
              "      <td>0</td>\n",
              "      <td>1</td>\n",
              "      <td>1</td>\n",
              "      <td>0</td>\n",
              "      <td>0</td>\n",
              "      <td>1</td>\n",
              "    </tr>\n",
              "  </tbody>\n",
              "</table>\n",
              "<p>5 rows × 30 columns</p>\n",
              "</div>\n",
              "    <div class=\"colab-df-buttons\">\n",
              "\n",
              "  <div class=\"colab-df-container\">\n",
              "    <button class=\"colab-df-convert\" onclick=\"convertToInteractive('df-70b11b08-a21f-42ae-a79d-cbebbbfa7463')\"\n",
              "            title=\"Convert this dataframe to an interactive table.\"\n",
              "            style=\"display:none;\">\n",
              "\n",
              "  <svg xmlns=\"http://www.w3.org/2000/svg\" height=\"24px\" viewBox=\"0 -960 960 960\">\n",
              "    <path d=\"M120-120v-720h720v720H120Zm60-500h600v-160H180v160Zm220 220h160v-160H400v160Zm0 220h160v-160H400v160ZM180-400h160v-160H180v160Zm440 0h160v-160H620v160ZM180-180h160v-160H180v160Zm440 0h160v-160H620v160Z\"/>\n",
              "  </svg>\n",
              "    </button>\n",
              "\n",
              "  <style>\n",
              "    .colab-df-container {\n",
              "      display:flex;\n",
              "      gap: 12px;\n",
              "    }\n",
              "\n",
              "    .colab-df-convert {\n",
              "      background-color: #E8F0FE;\n",
              "      border: none;\n",
              "      border-radius: 50%;\n",
              "      cursor: pointer;\n",
              "      display: none;\n",
              "      fill: #1967D2;\n",
              "      height: 32px;\n",
              "      padding: 0 0 0 0;\n",
              "      width: 32px;\n",
              "    }\n",
              "\n",
              "    .colab-df-convert:hover {\n",
              "      background-color: #E2EBFA;\n",
              "      box-shadow: 0px 1px 2px rgba(60, 64, 67, 0.3), 0px 1px 3px 1px rgba(60, 64, 67, 0.15);\n",
              "      fill: #174EA6;\n",
              "    }\n",
              "\n",
              "    .colab-df-buttons div {\n",
              "      margin-bottom: 4px;\n",
              "    }\n",
              "\n",
              "    [theme=dark] .colab-df-convert {\n",
              "      background-color: #3B4455;\n",
              "      fill: #D2E3FC;\n",
              "    }\n",
              "\n",
              "    [theme=dark] .colab-df-convert:hover {\n",
              "      background-color: #434B5C;\n",
              "      box-shadow: 0px 1px 3px 1px rgba(0, 0, 0, 0.15);\n",
              "      filter: drop-shadow(0px 1px 2px rgba(0, 0, 0, 0.3));\n",
              "      fill: #FFFFFF;\n",
              "    }\n",
              "  </style>\n",
              "\n",
              "    <script>\n",
              "      const buttonEl =\n",
              "        document.querySelector('#df-70b11b08-a21f-42ae-a79d-cbebbbfa7463 button.colab-df-convert');\n",
              "      buttonEl.style.display =\n",
              "        google.colab.kernel.accessAllowed ? 'block' : 'none';\n",
              "\n",
              "      async function convertToInteractive(key) {\n",
              "        const element = document.querySelector('#df-70b11b08-a21f-42ae-a79d-cbebbbfa7463');\n",
              "        const dataTable =\n",
              "          await google.colab.kernel.invokeFunction('convertToInteractive',\n",
              "                                                    [key], {});\n",
              "        if (!dataTable) return;\n",
              "\n",
              "        const docLinkHtml = 'Like what you see? Visit the ' +\n",
              "          '<a target=\"_blank\" href=https://colab.research.google.com/notebooks/data_table.ipynb>data table notebook</a>'\n",
              "          + ' to learn more about interactive tables.';\n",
              "        element.innerHTML = '';\n",
              "        dataTable['output_type'] = 'display_data';\n",
              "        await google.colab.output.renderOutput(dataTable, element);\n",
              "        const docLink = document.createElement('div');\n",
              "        docLink.innerHTML = docLinkHtml;\n",
              "        element.appendChild(docLink);\n",
              "      }\n",
              "    </script>\n",
              "  </div>\n",
              "\n",
              "\n",
              "<div id=\"df-9a7941b3-60ec-4dcb-8998-dc2b4a655a3d\">\n",
              "  <button class=\"colab-df-quickchart\" onclick=\"quickchart('df-9a7941b3-60ec-4dcb-8998-dc2b4a655a3d')\"\n",
              "            title=\"Suggest charts.\"\n",
              "            style=\"display:none;\">\n",
              "\n",
              "<svg xmlns=\"http://www.w3.org/2000/svg\" height=\"24px\"viewBox=\"0 0 24 24\"\n",
              "     width=\"24px\">\n",
              "    <g>\n",
              "        <path d=\"M19 3H5c-1.1 0-2 .9-2 2v14c0 1.1.9 2 2 2h14c1.1 0 2-.9 2-2V5c0-1.1-.9-2-2-2zM9 17H7v-7h2v7zm4 0h-2V7h2v10zm4 0h-2v-4h2v4z\"/>\n",
              "    </g>\n",
              "</svg>\n",
              "  </button>\n",
              "\n",
              "<style>\n",
              "  .colab-df-quickchart {\n",
              "      --bg-color: #E8F0FE;\n",
              "      --fill-color: #1967D2;\n",
              "      --hover-bg-color: #E2EBFA;\n",
              "      --hover-fill-color: #174EA6;\n",
              "      --disabled-fill-color: #AAA;\n",
              "      --disabled-bg-color: #DDD;\n",
              "  }\n",
              "\n",
              "  [theme=dark] .colab-df-quickchart {\n",
              "      --bg-color: #3B4455;\n",
              "      --fill-color: #D2E3FC;\n",
              "      --hover-bg-color: #434B5C;\n",
              "      --hover-fill-color: #FFFFFF;\n",
              "      --disabled-bg-color: #3B4455;\n",
              "      --disabled-fill-color: #666;\n",
              "  }\n",
              "\n",
              "  .colab-df-quickchart {\n",
              "    background-color: var(--bg-color);\n",
              "    border: none;\n",
              "    border-radius: 50%;\n",
              "    cursor: pointer;\n",
              "    display: none;\n",
              "    fill: var(--fill-color);\n",
              "    height: 32px;\n",
              "    padding: 0;\n",
              "    width: 32px;\n",
              "  }\n",
              "\n",
              "  .colab-df-quickchart:hover {\n",
              "    background-color: var(--hover-bg-color);\n",
              "    box-shadow: 0 1px 2px rgba(60, 64, 67, 0.3), 0 1px 3px 1px rgba(60, 64, 67, 0.15);\n",
              "    fill: var(--button-hover-fill-color);\n",
              "  }\n",
              "\n",
              "  .colab-df-quickchart-complete:disabled,\n",
              "  .colab-df-quickchart-complete:disabled:hover {\n",
              "    background-color: var(--disabled-bg-color);\n",
              "    fill: var(--disabled-fill-color);\n",
              "    box-shadow: none;\n",
              "  }\n",
              "\n",
              "  .colab-df-spinner {\n",
              "    border: 2px solid var(--fill-color);\n",
              "    border-color: transparent;\n",
              "    border-bottom-color: var(--fill-color);\n",
              "    animation:\n",
              "      spin 1s steps(1) infinite;\n",
              "  }\n",
              "\n",
              "  @keyframes spin {\n",
              "    0% {\n",
              "      border-color: transparent;\n",
              "      border-bottom-color: var(--fill-color);\n",
              "      border-left-color: var(--fill-color);\n",
              "    }\n",
              "    20% {\n",
              "      border-color: transparent;\n",
              "      border-left-color: var(--fill-color);\n",
              "      border-top-color: var(--fill-color);\n",
              "    }\n",
              "    30% {\n",
              "      border-color: transparent;\n",
              "      border-left-color: var(--fill-color);\n",
              "      border-top-color: var(--fill-color);\n",
              "      border-right-color: var(--fill-color);\n",
              "    }\n",
              "    40% {\n",
              "      border-color: transparent;\n",
              "      border-right-color: var(--fill-color);\n",
              "      border-top-color: var(--fill-color);\n",
              "    }\n",
              "    60% {\n",
              "      border-color: transparent;\n",
              "      border-right-color: var(--fill-color);\n",
              "    }\n",
              "    80% {\n",
              "      border-color: transparent;\n",
              "      border-right-color: var(--fill-color);\n",
              "      border-bottom-color: var(--fill-color);\n",
              "    }\n",
              "    90% {\n",
              "      border-color: transparent;\n",
              "      border-bottom-color: var(--fill-color);\n",
              "    }\n",
              "  }\n",
              "</style>\n",
              "\n",
              "  <script>\n",
              "    async function quickchart(key) {\n",
              "      const quickchartButtonEl =\n",
              "        document.querySelector('#' + key + ' button');\n",
              "      quickchartButtonEl.disabled = true;  // To prevent multiple clicks.\n",
              "      quickchartButtonEl.classList.add('colab-df-spinner');\n",
              "      try {\n",
              "        const charts = await google.colab.kernel.invokeFunction(\n",
              "            'suggestCharts', [key], {});\n",
              "      } catch (error) {\n",
              "        console.error('Error during call to suggestCharts:', error);\n",
              "      }\n",
              "      quickchartButtonEl.classList.remove('colab-df-spinner');\n",
              "      quickchartButtonEl.classList.add('colab-df-quickchart-complete');\n",
              "    }\n",
              "    (() => {\n",
              "      let quickchartButtonEl =\n",
              "        document.querySelector('#df-9a7941b3-60ec-4dcb-8998-dc2b4a655a3d button');\n",
              "      quickchartButtonEl.style.display =\n",
              "        google.colab.kernel.accessAllowed ? 'block' : 'none';\n",
              "    })();\n",
              "  </script>\n",
              "</div>\n",
              "    </div>\n",
              "  </div>\n"
            ],
            "text/plain": [
              "    Age  NumCompaniesWorked  TotalWorkingYears  TrainingTimesLastYear  \\\n",
              "0  51.0                 1.0                1.0                    6.0   \n",
              "1  31.0                 0.0                6.0                    3.0   \n",
              "2  32.0                 1.0                5.0                    2.0   \n",
              "3  38.0                 3.0               13.0                    5.0   \n",
              "4  32.0                 4.0                9.0                    2.0   \n",
              "\n",
              "   YearsAtCompany  YearsSinceLastPromotion  YearsWithCurrManager  mean_time  \\\n",
              "0             1.0                      0.0                   0.0     6.8702   \n",
              "1             5.0                      1.0                   4.0     7.3160   \n",
              "2             5.0                      0.0                   3.0     6.8161   \n",
              "3             8.0                      7.0                   5.0     6.7892   \n",
              "4             6.0                      0.0                   4.0     7.8776   \n",
              "\n",
              "   Education  JobLevel  ...  JobRole_Research Director  \\\n",
              "0          2         1  ...                          0   \n",
              "1          1         1  ...                          0   \n",
              "2          4         4  ...                          0   \n",
              "3          5         3  ...                          0   \n",
              "4          1         1  ...                          0   \n",
              "\n",
              "   JobRole_Sales Representative  MaritalStatus_Single  StockOptionLevel_1  \\\n",
              "0                             0                     0                   0   \n",
              "1                             0                     1                   1   \n",
              "2                             0                     0                   0   \n",
              "3                             0                     0                   0   \n",
              "4                             0                     1                   0   \n",
              "\n",
              "   EnvironmentSatisfaction_1.0  EnvironmentSatisfaction_4.0  \\\n",
              "0                            0                            0   \n",
              "1                            0                            0   \n",
              "2                            0                            0   \n",
              "3                            0                            1   \n",
              "4                            0                            1   \n",
              "\n",
              "   JobSatisfaction_1.0  JobSatisfaction_4.0  WorkLifeBalance_1.0  \\\n",
              "0                    0                    1                    0   \n",
              "1                    0                    0                    0   \n",
              "2                    0                    0                    1   \n",
              "3                    0                    1                    0   \n",
              "4                    1                    0                    0   \n",
              "\n",
              "   WorkLifeBalance_3.0  \n",
              "0                    0  \n",
              "1                    0  \n",
              "2                    0  \n",
              "3                    1  \n",
              "4                    1  \n",
              "\n",
              "[5 rows x 30 columns]"
            ]
          },
          "execution_count": 177,
          "metadata": {},
          "output_type": "execute_result"
        }
      ],
      "source": [
        "from sklearn.feature_selection import SequentialFeatureSelector\n",
        "\n",
        "# Selector secuencias utilizando regresión logísticas\n",
        "sfs = SequentialFeatureSelector(LinearRegression(),\n",
        "                                n_features_to_select=30,\n",
        "                                direction= \"forward\",\n",
        "                                scoring='r2')\n",
        "# Obtener variable seleccionadas\n",
        "sfs = sfs.fit(X, y)\n",
        "X_new = sfs.support_\n",
        "df_new = X.iloc[:,X_new]\n",
        "df_new.head()"
      ]
    },
    {
      "cell_type": "code",
      "execution_count": null,
      "metadata": {
        "colab": {
          "background_save": true
        },
        "id": "LeelAQ6-utt3",
        "outputId": "0e21de65-695a-42e7-a2ab-a6293e84b9be"
      },
      "outputs": [
        {
          "name": "stdout",
          "output_type": "stream",
          "text": [
            "Tamaño del conjunto de entrenamiento: (3528, 30)\n",
            "Tamaño del conjunto de validación: (882, 30)\n"
          ]
        }
      ],
      "source": [
        "X = df_new\n",
        "y = df_datafinal.iloc[:,-1]\n",
        "le = LabelEncoder()\n",
        "y = le.fit_transform(y)\n",
        "\n",
        "# Separación en conjuntos de entrenamiento y validación con 80% de muestras para entrenamiento\n",
        "X_train, X_test, y_train, y_test = train_test_split(X, y, test_size=0.2, random_state=42)\n",
        "\n",
        "#Imprimir Tamaño de dataset\n",
        "print(\"Tamaño del conjunto de entrenamiento:\", X_train.shape)\n",
        "print(\"Tamaño del conjunto de validación:\", X_test.shape)\n",
        "\n",
        "#Nombre de caracteristicas númericas\n",
        "numeric_columns=list(X.select_dtypes('float64').columns)\n",
        "\n",
        "#Estandarización de variables númericas\n",
        "pipeline=ColumnTransformer([(\"std_num\" , StandardScaler(), numeric_columns)], remainder='passthrough')\n",
        "\n",
        "X_train_std = pipeline.fit_transform(X_train)\n",
        "X_test_std = pipeline.transform(X_test)\n"
      ]
    },
    {
      "cell_type": "code",
      "execution_count": null,
      "metadata": {
        "colab": {
          "background_save": true
        },
        "id": "rEixLTLIuvmh",
        "outputId": "6ac0023d-4493-44ae-ac1f-3d747897365d"
      },
      "outputs": [
        {
          "name": "stdout",
          "output_type": "stream",
          "text": [
            "Coeficientes:  [[-0.27747356  0.33079488 -0.57593712 -0.25635898  0.24098034  0.5269215\n",
            "  -0.67724443  0.607506   -0.10075507 -0.11307144  0.09650037 -0.85742731\n",
            "   0.68518646  1.17365664  0.66463078  0.3225634   0.26552851 -0.27424148\n",
            "  -0.4199951  -0.88579837  0.55394814 -0.42133057  0.99565216 -0.24175107\n",
            "   0.82884437 -0.38656486  0.89408146 -0.5673996   0.98401465 -0.3073351 ]]\n",
            "\n",
            "Intercepto:  [-0.71687661]\n",
            "Accuracy (Train): 75.93537414965986%\n",
            "Score:  1.0\n"
          ]
        }
      ],
      "source": [
        "# Crea el modelo\n",
        "regr = LogisticRegression(class_weight=\"balanced\", random_state=42, max_iter=1000)\n",
        "# Calibra el modelo\n",
        "regr.fit(X_train_std, y_train)\n",
        "#Realice predicciones sobre x_train_std\n",
        "y_pred = regr.predict(X_train_std)\n",
        "# Imprime los coeficientes\n",
        "print(\"Coeficientes: \", regr.coef_)\n",
        "\n",
        "# Imprime el intercepto\n",
        "print(\"\\nIntercepto: \", regr.intercept_)\n",
        "#Exactitud de modelo\n",
        "print(\"Accuracy (Train): \"+ str(regr.score(X_train_std,y_train)*100) + \"%\")\n",
        "print(\"Score: \", regr.score(X_train_std, y_pred))"
      ]
    },
    {
      "cell_type": "code",
      "execution_count": null,
      "metadata": {
        "colab": {
          "background_save": true
        },
        "id": "ZzaxoOb4uxxc",
        "outputId": "5578a31d-118b-4b31-b8a5-14bccceb5607"
      },
      "outputs": [
        {
          "name": "stdout",
          "output_type": "stream",
          "text": [
            "Accuracy (Test): 73.92290249433107%\n"
          ]
        }
      ],
      "source": [
        "#Predicciones sobre el conjunto de test\n",
        "y_hat = regr.predict(X_test_std)\n",
        "#Exactitud de modelo\n",
        "print(\"Accuracy (Test): \"+ str(regr.score(X_test_std,y_test)*100) + \"%\")"
      ]
    },
    {
      "cell_type": "code",
      "execution_count": null,
      "metadata": {
        "colab": {
          "background_save": true
        },
        "id": "EAdGor7DuzS6",
        "outputId": "b18bdceb-3a1a-445c-b147-d3bbd2cb029f"
      },
      "outputs": [
        {
          "data": {
            "image/png": "[encoded data removed]",
            "text/plain": [
              "<Figure size 640x480 with 2 Axes>"
            ]
          },
          "metadata": {},
          "output_type": "display_data"
        },
        {
          "name": "stdout",
          "output_type": "stream",
          "text": [
            "[[546 195]\n",
            " [ 35 106]]\n"
          ]
        }
      ],
      "source": [
        "#VALIDAR MODELO\n",
        "#validar modelo\n",
        "from sklearn.metrics import confusion_matrix, ConfusionMatrixDisplay\n",
        "cm = confusion_matrix(y_test, y_hat)\n",
        "disp = ConfusionMatrixDisplay(confusion_matrix = cm)\n",
        "disp.plot(cmap='CMRmap_r')\n",
        "plt.show()\n",
        "print(cm)"
      ]
    },
    {
      "cell_type": "code",
      "execution_count": null,
      "metadata": {
        "colab": {
          "background_save": true
        },
        "id": "e7fB8jqTu1Va",
        "outputId": "d8911df4-fa84-441a-c434-1bf0402cbce8"
      },
      "outputs": [
        {
          "name": "stdout",
          "output_type": "stream",
          "text": [
            "Precision: 0.9397590361445783\n",
            "Recuperacion: 0.7368421052631579\n",
            "F1-score: 0.8260211800302572\n",
            "Especificidad: 0.75177304964539\n"
          ]
        }
      ],
      "source": [
        "TP=cm[0,0]\n",
        "FP=cm[1,0]\n",
        "FN=cm[0,1]\n",
        "TN=cm[1,1]\n",
        "\n",
        "print(f'Precision: {TP/(TP+FP)}')\n",
        "print(f'Recuperacion: {TP/(TP+FN)}')\n",
        "precision=TP/(TP+FP)\n",
        "recall=TP/(TP+FN)\n",
        "print(f'F1-score: {(2*precision*recall)/(precision+recall)}')\n",
        "print(f'Especificidad: {TN/(FP+TN)}')"
      ]
    },
    {
      "cell_type": "markdown",
      "metadata": {
        "id": "urgUNDlfm71X"
      },
      "source": [
        "## Seleccion: 39 variables"
      ]
    },
    {
      "cell_type": "markdown",
      "metadata": {
        "id": "L6I0C0e3nBTW"
      },
      "source": [
        "###RFE"
      ]
    },
    {
      "cell_type": "code",
      "execution_count": null,
      "metadata": {
        "colab": {
          "background_save": true
        },
        "id": "FufHUc8xm383"
      },
      "outputs": [],
      "source": [
        "from sklearn.feature_selection import RFE\n",
        "\n",
        "# Función recursiva de selección de características\n",
        "def recursive_feature_selection(X,y,model,k):\n",
        "  rfe = RFE(model, n_features_to_select=k, step=1)\n",
        "  fit = rfe.fit(X, y)\n",
        "  X_new = fit.support_\n",
        "  print(\"Num Features: %s\" % (fit.n_features_))\n",
        "  print(\"Selected Features: %s\" % (fit.support_))\n",
        "  print(\"Feature Ranking: %s\" % (fit.ranking_))\n",
        "\n",
        "  return X_new"
      ]
    },
    {
      "cell_type": "code",
      "execution_count": null,
      "metadata": {
        "colab": {
          "background_save": true
        },
        "id": "XvxOPFUVnFCN",
        "outputId": "10ba6479-6d45-479d-998d-d24a23f0893e"
      },
      "outputs": [
        {
          "name": "stdout",
          "output_type": "stream",
          "text": [
            "Num Features: 30\n",
            "Selected Features: [ True  True  True  True  True  True  True  True  True  True  True  True\n",
            "  True  True  True  True  True  True  True  True  True  True  True  True\n",
            "  True  True  True  True  True  True]\n",
            "Feature Ranking: [1 1 1 1 1 1 1 1 1 1 1 1 1 1 1 1 1 1 1 1 1 1 1 1 1 1 1 1 1 1]\n"
          ]
        },
        {
          "data": {
            "text/html": [
              "\n",
              "  <div id=\"df-de54c118-8df5-4054-915b-dadcdb6e556b\" class=\"colab-df-container\">\n",
              "    <div>\n",
              "<style scoped>\n",
              "    .dataframe tbody tr th:only-of-type {\n",
              "        vertical-align: middle;\n",
              "    }\n",
              "\n",
              "    .dataframe tbody tr th {\n",
              "        vertical-align: top;\n",
              "    }\n",
              "\n",
              "    .dataframe thead th {\n",
              "        text-align: right;\n",
              "    }\n",
              "</style>\n",
              "<table border=\"1\" class=\"dataframe\">\n",
              "  <thead>\n",
              "    <tr style=\"text-align: right;\">\n",
              "      <th></th>\n",
              "      <th>Age</th>\n",
              "      <th>NumCompaniesWorked</th>\n",
              "      <th>TotalWorkingYears</th>\n",
              "      <th>TrainingTimesLastYear</th>\n",
              "      <th>YearsAtCompany</th>\n",
              "      <th>YearsSinceLastPromotion</th>\n",
              "      <th>YearsWithCurrManager</th>\n",
              "      <th>mean_time</th>\n",
              "      <th>Education</th>\n",
              "      <th>JobLevel</th>\n",
              "      <th>...</th>\n",
              "      <th>JobRole_Research Director</th>\n",
              "      <th>JobRole_Sales Representative</th>\n",
              "      <th>MaritalStatus_Single</th>\n",
              "      <th>StockOptionLevel_1</th>\n",
              "      <th>EnvironmentSatisfaction_1.0</th>\n",
              "      <th>EnvironmentSatisfaction_4.0</th>\n",
              "      <th>JobSatisfaction_1.0</th>\n",
              "      <th>JobSatisfaction_4.0</th>\n",
              "      <th>WorkLifeBalance_1.0</th>\n",
              "      <th>WorkLifeBalance_3.0</th>\n",
              "    </tr>\n",
              "  </thead>\n",
              "  <tbody>\n",
              "    <tr>\n",
              "      <th>0</th>\n",
              "      <td>51.0</td>\n",
              "      <td>1.0</td>\n",
              "      <td>1.0</td>\n",
              "      <td>6.0</td>\n",
              "      <td>1.0</td>\n",
              "      <td>0.0</td>\n",
              "      <td>0.0</td>\n",
              "      <td>6.8702</td>\n",
              "      <td>2</td>\n",
              "      <td>1</td>\n",
              "      <td>...</td>\n",
              "      <td>0</td>\n",
              "      <td>0</td>\n",
              "      <td>0</td>\n",
              "      <td>0</td>\n",
              "      <td>0</td>\n",
              "      <td>0</td>\n",
              "      <td>0</td>\n",
              "      <td>1</td>\n",
              "      <td>0</td>\n",
              "      <td>0</td>\n",
              "    </tr>\n",
              "    <tr>\n",
              "      <th>1</th>\n",
              "      <td>31.0</td>\n",
              "      <td>0.0</td>\n",
              "      <td>6.0</td>\n",
              "      <td>3.0</td>\n",
              "      <td>5.0</td>\n",
              "      <td>1.0</td>\n",
              "      <td>4.0</td>\n",
              "      <td>7.3160</td>\n",
              "      <td>1</td>\n",
              "      <td>1</td>\n",
              "      <td>...</td>\n",
              "      <td>0</td>\n",
              "      <td>0</td>\n",
              "      <td>1</td>\n",
              "      <td>1</td>\n",
              "      <td>0</td>\n",
              "      <td>0</td>\n",
              "      <td>0</td>\n",
              "      <td>0</td>\n",
              "      <td>0</td>\n",
              "      <td>0</td>\n",
              "    </tr>\n",
              "    <tr>\n",
              "      <th>2</th>\n",
              "      <td>32.0</td>\n",
              "      <td>1.0</td>\n",
              "      <td>5.0</td>\n",
              "      <td>2.0</td>\n",
              "      <td>5.0</td>\n",
              "      <td>0.0</td>\n",
              "      <td>3.0</td>\n",
              "      <td>6.8161</td>\n",
              "      <td>4</td>\n",
              "      <td>4</td>\n",
              "      <td>...</td>\n",
              "      <td>0</td>\n",
              "      <td>0</td>\n",
              "      <td>0</td>\n",
              "      <td>0</td>\n",
              "      <td>0</td>\n",
              "      <td>0</td>\n",
              "      <td>0</td>\n",
              "      <td>0</td>\n",
              "      <td>1</td>\n",
              "      <td>0</td>\n",
              "    </tr>\n",
              "    <tr>\n",
              "      <th>3</th>\n",
              "      <td>38.0</td>\n",
              "      <td>3.0</td>\n",
              "      <td>13.0</td>\n",
              "      <td>5.0</td>\n",
              "      <td>8.0</td>\n",
              "      <td>7.0</td>\n",
              "      <td>5.0</td>\n",
              "      <td>6.7892</td>\n",
              "      <td>5</td>\n",
              "      <td>3</td>\n",
              "      <td>...</td>\n",
              "      <td>0</td>\n",
              "      <td>0</td>\n",
              "      <td>0</td>\n",
              "      <td>0</td>\n",
              "      <td>0</td>\n",
              "      <td>1</td>\n",
              "      <td>0</td>\n",
              "      <td>1</td>\n",
              "      <td>0</td>\n",
              "      <td>1</td>\n",
              "    </tr>\n",
              "    <tr>\n",
              "      <th>4</th>\n",
              "      <td>32.0</td>\n",
              "      <td>4.0</td>\n",
              "      <td>9.0</td>\n",
              "      <td>2.0</td>\n",
              "      <td>6.0</td>\n",
              "      <td>0.0</td>\n",
              "      <td>4.0</td>\n",
              "      <td>7.8776</td>\n",
              "      <td>1</td>\n",
              "      <td>1</td>\n",
              "      <td>...</td>\n",
              "      <td>0</td>\n",
              "      <td>0</td>\n",
              "      <td>1</td>\n",
              "      <td>0</td>\n",
              "      <td>0</td>\n",
              "      <td>1</td>\n",
              "      <td>1</td>\n",
              "      <td>0</td>\n",
              "      <td>0</td>\n",
              "      <td>1</td>\n",
              "    </tr>\n",
              "  </tbody>\n",
              "</table>\n",
              "<p>5 rows × 30 columns</p>\n",
              "</div>\n",
              "    <div class=\"colab-df-buttons\">\n",
              "\n",
              "  <div class=\"colab-df-container\">\n",
              "    <button class=\"colab-df-convert\" onclick=\"convertToInteractive('df-de54c118-8df5-4054-915b-dadcdb6e556b')\"\n",
              "            title=\"Convert this dataframe to an interactive table.\"\n",
              "            style=\"display:none;\">\n",
              "\n",
              "  <svg xmlns=\"http://www.w3.org/2000/svg\" height=\"24px\" viewBox=\"0 -960 960 960\">\n",
              "    <path d=\"M120-120v-720h720v720H120Zm60-500h600v-160H180v160Zm220 220h160v-160H400v160Zm0 220h160v-160H400v160ZM180-400h160v-160H180v160Zm440 0h160v-160H620v160ZM180-180h160v-160H180v160Zm440 0h160v-160H620v160Z\"/>\n",
              "  </svg>\n",
              "    </button>\n",
              "\n",
              "  <style>\n",
              "    .colab-df-container {\n",
              "      display:flex;\n",
              "      gap: 12px;\n",
              "    }\n",
              "\n",
              "    .colab-df-convert {\n",
              "      background-color: #E8F0FE;\n",
              "      border: none;\n",
              "      border-radius: 50%;\n",
              "      cursor: pointer;\n",
              "      display: none;\n",
              "      fill: #1967D2;\n",
              "      height: 32px;\n",
              "      padding: 0 0 0 0;\n",
              "      width: 32px;\n",
              "    }\n",
              "\n",
              "    .colab-df-convert:hover {\n",
              "      background-color: #E2EBFA;\n",
              "      box-shadow: 0px 1px 2px rgba(60, 64, 67, 0.3), 0px 1px 3px 1px rgba(60, 64, 67, 0.15);\n",
              "      fill: #174EA6;\n",
              "    }\n",
              "\n",
              "    .colab-df-buttons div {\n",
              "      margin-bottom: 4px;\n",
              "    }\n",
              "\n",
              "    [theme=dark] .colab-df-convert {\n",
              "      background-color: #3B4455;\n",
              "      fill: #D2E3FC;\n",
              "    }\n",
              "\n",
              "    [theme=dark] .colab-df-convert:hover {\n",
              "      background-color: #434B5C;\n",
              "      box-shadow: 0px 1px 3px 1px rgba(0, 0, 0, 0.15);\n",
              "      filter: drop-shadow(0px 1px 2px rgba(0, 0, 0, 0.3));\n",
              "      fill: #FFFFFF;\n",
              "    }\n",
              "  </style>\n",
              "\n",
              "    <script>\n",
              "      const buttonEl =\n",
              "        document.querySelector('#df-de54c118-8df5-4054-915b-dadcdb6e556b button.colab-df-convert');\n",
              "      buttonEl.style.display =\n",
              "        google.colab.kernel.accessAllowed ? 'block' : 'none';\n",
              "\n",
              "      async function convertToInteractive(key) {\n",
              "        const element = document.querySelector('#df-de54c118-8df5-4054-915b-dadcdb6e556b');\n",
              "        const dataTable =\n",
              "          await google.colab.kernel.invokeFunction('convertToInteractive',\n",
              "                                                    [key], {});\n",
              "        if (!dataTable) return;\n",
              "\n",
              "        const docLinkHtml = 'Like what you see? Visit the ' +\n",
              "          '<a target=\"_blank\" href=https://colab.research.google.com/notebooks/data_table.ipynb>data table notebook</a>'\n",
              "          + ' to learn more about interactive tables.';\n",
              "        element.innerHTML = '';\n",
              "        dataTable['output_type'] = 'display_data';\n",
              "        await google.colab.output.renderOutput(dataTable, element);\n",
              "        const docLink = document.createElement('div');\n",
              "        docLink.innerHTML = docLinkHtml;\n",
              "        element.appendChild(docLink);\n",
              "      }\n",
              "    </script>\n",
              "  </div>\n",
              "\n",
              "\n",
              "<div id=\"df-47e0784e-43a7-4377-8b67-672338759163\">\n",
              "  <button class=\"colab-df-quickchart\" onclick=\"quickchart('df-47e0784e-43a7-4377-8b67-672338759163')\"\n",
              "            title=\"Suggest charts.\"\n",
              "            style=\"display:none;\">\n",
              "\n",
              "<svg xmlns=\"http://www.w3.org/2000/svg\" height=\"24px\"viewBox=\"0 0 24 24\"\n",
              "     width=\"24px\">\n",
              "    <g>\n",
              "        <path d=\"M19 3H5c-1.1 0-2 .9-2 2v14c0 1.1.9 2 2 2h14c1.1 0 2-.9 2-2V5c0-1.1-.9-2-2-2zM9 17H7v-7h2v7zm4 0h-2V7h2v10zm4 0h-2v-4h2v4z\"/>\n",
              "    </g>\n",
              "</svg>\n",
              "  </button>\n",
              "\n",
              "<style>\n",
              "  .colab-df-quickchart {\n",
              "      --bg-color: #E8F0FE;\n",
              "      --fill-color: #1967D2;\n",
              "      --hover-bg-color: #E2EBFA;\n",
              "      --hover-fill-color: #174EA6;\n",
              "      --disabled-fill-color: #AAA;\n",
              "      --disabled-bg-color: #DDD;\n",
              "  }\n",
              "\n",
              "  [theme=dark] .colab-df-quickchart {\n",
              "      --bg-color: #3B4455;\n",
              "      --fill-color: #D2E3FC;\n",
              "      --hover-bg-color: #434B5C;\n",
              "      --hover-fill-color: #FFFFFF;\n",
              "      --disabled-bg-color: #3B4455;\n",
              "      --disabled-fill-color: #666;\n",
              "  }\n",
              "\n",
              "  .colab-df-quickchart {\n",
              "    background-color: var(--bg-color);\n",
              "    border: none;\n",
              "    border-radius: 50%;\n",
              "    cursor: pointer;\n",
              "    display: none;\n",
              "    fill: var(--fill-color);\n",
              "    height: 32px;\n",
              "    padding: 0;\n",
              "    width: 32px;\n",
              "  }\n",
              "\n",
              "  .colab-df-quickchart:hover {\n",
              "    background-color: var(--hover-bg-color);\n",
              "    box-shadow: 0 1px 2px rgba(60, 64, 67, 0.3), 0 1px 3px 1px rgba(60, 64, 67, 0.15);\n",
              "    fill: var(--button-hover-fill-color);\n",
              "  }\n",
              "\n",
              "  .colab-df-quickchart-complete:disabled,\n",
              "  .colab-df-quickchart-complete:disabled:hover {\n",
              "    background-color: var(--disabled-bg-color);\n",
              "    fill: var(--disabled-fill-color);\n",
              "    box-shadow: none;\n",
              "  }\n",
              "\n",
              "  .colab-df-spinner {\n",
              "    border: 2px solid var(--fill-color);\n",
              "    border-color: transparent;\n",
              "    border-bottom-color: var(--fill-color);\n",
              "    animation:\n",
              "      spin 1s steps(1) infinite;\n",
              "  }\n",
              "\n",
              "  @keyframes spin {\n",
              "    0% {\n",
              "      border-color: transparent;\n",
              "      border-bottom-color: var(--fill-color);\n",
              "      border-left-color: var(--fill-color);\n",
              "    }\n",
              "    20% {\n",
              "      border-color: transparent;\n",
              "      border-left-color: var(--fill-color);\n",
              "      border-top-color: var(--fill-color);\n",
              "    }\n",
              "    30% {\n",
              "      border-color: transparent;\n",
              "      border-left-color: var(--fill-color);\n",
              "      border-top-color: var(--fill-color);\n",
              "      border-right-color: var(--fill-color);\n",
              "    }\n",
              "    40% {\n",
              "      border-color: transparent;\n",
              "      border-right-color: var(--fill-color);\n",
              "      border-top-color: var(--fill-color);\n",
              "    }\n",
              "    60% {\n",
              "      border-color: transparent;\n",
              "      border-right-color: var(--fill-color);\n",
              "    }\n",
              "    80% {\n",
              "      border-color: transparent;\n",
              "      border-right-color: var(--fill-color);\n",
              "      border-bottom-color: var(--fill-color);\n",
              "    }\n",
              "    90% {\n",
              "      border-color: transparent;\n",
              "      border-bottom-color: var(--fill-color);\n",
              "    }\n",
              "  }\n",
              "</style>\n",
              "\n",
              "  <script>\n",
              "    async function quickchart(key) {\n",
              "      const quickchartButtonEl =\n",
              "        document.querySelector('#' + key + ' button');\n",
              "      quickchartButtonEl.disabled = true;  // To prevent multiple clicks.\n",
              "      quickchartButtonEl.classList.add('colab-df-spinner');\n",
              "      try {\n",
              "        const charts = await google.colab.kernel.invokeFunction(\n",
              "            'suggestCharts', [key], {});\n",
              "      } catch (error) {\n",
              "        console.error('Error during call to suggestCharts:', error);\n",
              "      }\n",
              "      quickchartButtonEl.classList.remove('colab-df-spinner');\n",
              "      quickchartButtonEl.classList.add('colab-df-quickchart-complete');\n",
              "    }\n",
              "    (() => {\n",
              "      let quickchartButtonEl =\n",
              "        document.querySelector('#df-47e0784e-43a7-4377-8b67-672338759163 button');\n",
              "      quickchartButtonEl.style.display =\n",
              "        google.colab.kernel.accessAllowed ? 'block' : 'none';\n",
              "    })();\n",
              "  </script>\n",
              "</div>\n",
              "    </div>\n",
              "  </div>\n"
            ],
            "text/plain": [
              "    Age  NumCompaniesWorked  TotalWorkingYears  TrainingTimesLastYear  \\\n",
              "0  51.0                 1.0                1.0                    6.0   \n",
              "1  31.0                 0.0                6.0                    3.0   \n",
              "2  32.0                 1.0                5.0                    2.0   \n",
              "3  38.0                 3.0               13.0                    5.0   \n",
              "4  32.0                 4.0                9.0                    2.0   \n",
              "\n",
              "   YearsAtCompany  YearsSinceLastPromotion  YearsWithCurrManager  mean_time  \\\n",
              "0             1.0                      0.0                   0.0     6.8702   \n",
              "1             5.0                      1.0                   4.0     7.3160   \n",
              "2             5.0                      0.0                   3.0     6.8161   \n",
              "3             8.0                      7.0                   5.0     6.7892   \n",
              "4             6.0                      0.0                   4.0     7.8776   \n",
              "\n",
              "   Education  JobLevel  ...  JobRole_Research Director  \\\n",
              "0          2         1  ...                          0   \n",
              "1          1         1  ...                          0   \n",
              "2          4         4  ...                          0   \n",
              "3          5         3  ...                          0   \n",
              "4          1         1  ...                          0   \n",
              "\n",
              "   JobRole_Sales Representative  MaritalStatus_Single  StockOptionLevel_1  \\\n",
              "0                             0                     0                   0   \n",
              "1                             0                     1                   1   \n",
              "2                             0                     0                   0   \n",
              "3                             0                     0                   0   \n",
              "4                             0                     1                   0   \n",
              "\n",
              "   EnvironmentSatisfaction_1.0  EnvironmentSatisfaction_4.0  \\\n",
              "0                            0                            0   \n",
              "1                            0                            0   \n",
              "2                            0                            0   \n",
              "3                            0                            1   \n",
              "4                            0                            1   \n",
              "\n",
              "   JobSatisfaction_1.0  JobSatisfaction_4.0  WorkLifeBalance_1.0  \\\n",
              "0                    0                    1                    0   \n",
              "1                    0                    0                    0   \n",
              "2                    0                    0                    1   \n",
              "3                    0                    1                    0   \n",
              "4                    1                    0                    0   \n",
              "\n",
              "   WorkLifeBalance_3.0  \n",
              "0                    0  \n",
              "1                    0  \n",
              "2                    0  \n",
              "3                    1  \n",
              "4                    1  \n",
              "\n",
              "[5 rows x 30 columns]"
            ]
          },
          "execution_count": 184,
          "metadata": {},
          "output_type": "execute_result"
        }
      ],
      "source": [
        "# Establecer Estimador\n",
        "model = LogisticRegression(max_iter=1000, solver = 'liblinear')\n",
        "# Obtener columnas seleciconadas - (40 caracteristicas)\n",
        "X_new = recursive_feature_selection(X, y, model, 40)\n",
        "# Nuevo conjunto de datos\n",
        "df_new = X.iloc[:,X_new]\n",
        "df_new.head()\n"
      ]
    },
    {
      "cell_type": "code",
      "execution_count": null,
      "metadata": {
        "colab": {
          "background_save": true
        },
        "id": "jdIpwk09nHu2",
        "outputId": "71a6f815-af71-49f1-9349-acd4ef4b62c1"
      },
      "outputs": [
        {
          "name": "stdout",
          "output_type": "stream",
          "text": [
            "Tamaño del conjunto de entrenamiento: (3528, 30)\n",
            "Tamaño del conjunto de validación: (882, 30)\n"
          ]
        }
      ],
      "source": [
        "X = df_new\n",
        "y = df_datafinal.iloc[:, -1].values # target\n",
        "\n",
        "# Separación en conjuntos de entrenamiento y validación con 80% de muestras para entrenamiento\n",
        "X_train, X_test, y_train, y_test = train_test_split(X, y, test_size=0.2, random_state=42)\n",
        "\n",
        "#Imprimir Tamaño de dataset\n",
        "print(\"Tamaño del conjunto de entrenamiento:\", X_train.shape)\n",
        "print(\"Tamaño del conjunto de validación:\", X_test.shape)"
      ]
    },
    {
      "cell_type": "code",
      "execution_count": null,
      "metadata": {
        "colab": {
          "background_save": true
        },
        "id": "mVT8gdDfnJ6H"
      },
      "outputs": [],
      "source": [
        "# Crea el modelo\n",
        "regr = LogisticRegression(class_weight=\"balanced\", random_state=42, max_iter=1000)"
      ]
    },
    {
      "cell_type": "code",
      "execution_count": null,
      "metadata": {
        "colab": {
          "background_save": true
        },
        "id": "BrnauQ8IVqv-",
        "outputId": "7ed83c0f-745e-4307-b720-84b76a7c613e"
      },
      "outputs": [
        {
          "data": {
            "text/plain": [
              "{'divide': 'raise', 'over': 'raise', 'under': 'ignore', 'invalid': 'raise'}"
            ]
          },
          "execution_count": 187,
          "metadata": {},
          "output_type": "execute_result"
        }
      ],
      "source": [
        "import numpy as np\n",
        "np.seterr(under='ignore')"
      ]
    },
    {
      "cell_type": "code",
      "execution_count": null,
      "metadata": {
        "colab": {
          "background_save": true
        },
        "id": "D25kHU5rbcWk",
        "outputId": "7b306f48-3125-43a4-eb0a-ca1fc68abedc"
      },
      "outputs": [
        {
          "data": {
            "text/html": [
              "<style>#sk-container-id-1 {color: black;background-color: white;}#sk-container-id-1 pre{padding: 0;}#sk-container-id-1 div.sk-toggleable {background-color: white;}#sk-container-id-1 label.sk-toggleable__label {cursor: pointer;display: block;width: 100%;margin-bottom: 0;padding: 0.3em;box-sizing: border-box;text-align: center;}#sk-container-id-1 label.sk-toggleable__label-arrow:before {content: \"▸\";float: left;margin-right: 0.25em;color: #696969;}#sk-container-id-1 label.sk-toggleable__label-arrow:hover:before {color: black;}#sk-container-id-1 div.sk-estimator:hover label.sk-toggleable__label-arrow:before {color: black;}#sk-container-id-1 div.sk-toggleable__content {max-height: 0;max-width: 0;overflow: hidden;text-align: left;background-color: #f0f8ff;}#sk-container-id-1 div.sk-toggleable__content pre {margin: 0.2em;color: black;border-radius: 0.25em;background-color: #f0f8ff;}#sk-container-id-1 input.sk-toggleable__control:checked~div.sk-toggleable__content {max-height: 200px;max-width: 100%;overflow: auto;}#sk-container-id-1 input.sk-toggleable__control:checked~label.sk-toggleable__label-arrow:before {content: \"▾\";}#sk-container-id-1 div.sk-estimator input.sk-toggleable__control:checked~label.sk-toggleable__label {background-color: #d4ebff;}#sk-container-id-1 div.sk-label input.sk-toggleable__control:checked~label.sk-toggleable__label {background-color: #d4ebff;}#sk-container-id-1 input.sk-hidden--visually {border: 0;clip: rect(1px 1px 1px 1px);clip: rect(1px, 1px, 1px, 1px);height: 1px;margin: -1px;overflow: hidden;padding: 0;position: absolute;width: 1px;}#sk-container-id-1 div.sk-estimator {font-family: monospace;background-color: #f0f8ff;border: 1px dotted black;border-radius: 0.25em;box-sizing: border-box;margin-bottom: 0.5em;}#sk-container-id-1 div.sk-estimator:hover {background-color: #d4ebff;}#sk-container-id-1 div.sk-parallel-item::after {content: \"\";width: 100%;border-bottom: 1px solid gray;flex-grow: 1;}#sk-container-id-1 div.sk-label:hover label.sk-toggleable__label {background-color: #d4ebff;}#sk-container-id-1 div.sk-serial::before {content: \"\";position: absolute;border-left: 1px solid gray;box-sizing: border-box;top: 0;bottom: 0;left: 50%;z-index: 0;}#sk-container-id-1 div.sk-serial {display: flex;flex-direction: column;align-items: center;background-color: white;padding-right: 0.2em;padding-left: 0.2em;position: relative;}#sk-container-id-1 div.sk-item {position: relative;z-index: 1;}#sk-container-id-1 div.sk-parallel {display: flex;align-items: stretch;justify-content: center;background-color: white;position: relative;}#sk-container-id-1 div.sk-item::before, #sk-container-id-1 div.sk-parallel-item::before {content: \"\";position: absolute;border-left: 1px solid gray;box-sizing: border-box;top: 0;bottom: 0;left: 50%;z-index: -1;}#sk-container-id-1 div.sk-parallel-item {display: flex;flex-direction: column;z-index: 1;position: relative;background-color: white;}#sk-container-id-1 div.sk-parallel-item:first-child::after {align-self: flex-end;width: 50%;}#sk-container-id-1 div.sk-parallel-item:last-child::after {align-self: flex-start;width: 50%;}#sk-container-id-1 div.sk-parallel-item:only-child::after {width: 0;}#sk-container-id-1 div.sk-dashed-wrapped {border: 1px dashed gray;margin: 0 0.4em 0.5em 0.4em;box-sizing: border-box;padding-bottom: 0.4em;background-color: white;}#sk-container-id-1 div.sk-label label {font-family: monospace;font-weight: bold;display: inline-block;line-height: 1.2em;}#sk-container-id-1 div.sk-label-container {text-align: center;}#sk-container-id-1 div.sk-container {/* jupyter's `normalize.less` sets `[hidden] { display: none; }` but bootstrap.min.css set `[hidden] { display: none !important; }` so we also need the `!important` here to be able to override the default hidden behavior on the sphinx rendered scikit-learn.org. See: https://github.com/scikit-learn/scikit-learn/issues/21755 */display: inline-block !important;position: relative;}#sk-container-id-1 div.sk-text-repr-fallback {display: none;}</style><div id=\"sk-container-id-1\" class=\"sk-top-container\"><div class=\"sk-text-repr-fallback\"><pre>LogisticRegression(class_weight=&#x27;balanced&#x27;, max_iter=1000, random_state=42)</pre><b>In a Jupyter environment, please rerun this cell to show the HTML representation or trust the notebook. <br />On GitHub, the HTML representation is unable to render, please try loading this page with nbviewer.org.</b></div><div class=\"sk-container\" hidden><div class=\"sk-item\"><div class=\"sk-estimator sk-toggleable\"><input class=\"sk-toggleable__control sk-hidden--visually\" id=\"sk-estimator-id-1\" type=\"checkbox\" checked><label for=\"sk-estimator-id-1\" class=\"sk-toggleable__label sk-toggleable__label-arrow\">LogisticRegression</label><div class=\"sk-toggleable__content\"><pre>LogisticRegression(class_weight=&#x27;balanced&#x27;, max_iter=1000, random_state=42)</pre></div></div></div></div></div>"
            ],
            "text/plain": [
              "LogisticRegression(class_weight='balanced', max_iter=1000, random_state=42)"
            ]
          },
          "execution_count": 188,
          "metadata": {},
          "output_type": "execute_result"
        }
      ],
      "source": [
        "# Calibra el modelo\n",
        "regr.fit(X_train, y_train)"
      ]
    },
    {
      "cell_type": "code",
      "execution_count": null,
      "metadata": {
        "colab": {
          "background_save": true
        },
        "id": "z91rhLxJbfiM",
        "outputId": "d534ef0d-47df-45ef-91bc-6965ec2d8306"
      },
      "outputs": [
        {
          "name": "stdout",
          "output_type": "stream",
          "text": [
            "Coeficientes:  [[-0.03038329  0.13300883 -0.07445345 -0.19710848  0.04031658  0.16420483\n",
            "  -0.18966025  0.46103903 -0.1004615  -0.11328669  0.09622827 -0.85948364\n",
            "   0.68745108  1.1781305   0.65364863  0.32199612  0.26434701 -0.27714214\n",
            "  -0.42160135 -0.89048934  0.5521219  -0.42777402  0.99547445 -0.24216478\n",
            "   0.83022416 -0.38555099  0.89525931 -0.56768384  0.9854876  -0.30647722]]\n",
            "\n",
            "Intercepto:  [-1.78521557]\n",
            "Accuracy (Train): 75.93537414965986%\n",
            "Score:  1.0\n"
          ]
        }
      ],
      "source": [
        "#Realice predicciones sobre x_train_std\n",
        "y_pred = regr.predict(X_train)\n",
        "# Imprime los coeficientes\n",
        "print(\"Coeficientes: \", regr.coef_)\n",
        "\n",
        "# Imprime el intercepto\n",
        "print(\"\\nIntercepto: \", regr.intercept_)\n",
        "#Exactitud de modelo\n",
        "print(\"Accuracy (Train): \"+ str(regr.score(X_train,y_train)*100) + \"%\")\n",
        "print(\"Score: \", regr.score(X_train, y_pred))"
      ]
    },
    {
      "cell_type": "code",
      "execution_count": null,
      "metadata": {
        "colab": {
          "background_save": true
        },
        "id": "KgUz4A3EnMNe",
        "outputId": "7414d590-3506-4b03-8e1c-6ddd4170c71f"
      },
      "outputs": [
        {
          "name": "stdout",
          "output_type": "stream",
          "text": [
            "Accuracy (Test): 73.92290249433107%\n"
          ]
        }
      ],
      "source": [
        "#Predicciones sobre el conjunto de test\n",
        "y_hat = regr.predict(X_test)\n",
        "#Exactitud de modelo\n",
        "print(\"Accuracy (Test): \"+ str(regr.score(X_test,y_test)*100) + \"%\")"
      ]
    },
    {
      "cell_type": "code",
      "execution_count": null,
      "metadata": {
        "colab": {
          "background_save": true
        },
        "id": "OYrfB0oAnObj",
        "outputId": "fe481634-3fd0-49b5-c5b3-626a181d05cb"
      },
      "outputs": [
        {
          "name": "stdout",
          "output_type": "stream",
          "text": [
            "Accuracy of the classifier is: 0.7392290249433107\n"
          ]
        },
        {
          "data": {
            "image/png": "[encoded data removed]",
            "text/plain": [
              "<Figure size 640x480 with 2 Axes>"
            ]
          },
          "metadata": {},
          "output_type": "display_data"
        }
      ],
      "source": [
        "#validar modelo\n",
        "# Exactitud del modelo\n",
        "print(f\"Accuracy of the classifier is: {accuracy_score(y_test, y_hat)}\")\n",
        "\n",
        "# Matriz de confusion\n",
        "cm1= confusion_matrix(y_test, y_hat)\n",
        "# Visualización de la matriz de confusion\n",
        "cm1_display = ConfusionMatrixDisplay(confusion_matrix = cm1, display_labels = [False, True])\n",
        "cm1_display.plot()\n",
        "plt.show()"
      ]
    },
    {
      "cell_type": "code",
      "execution_count": null,
      "metadata": {
        "colab": {
          "background_save": true
        },
        "id": "-eyXjV0vnQjb",
        "outputId": "9037d666-4603-4b46-e44a-bec5534611ec"
      },
      "outputs": [
        {
          "name": "stdout",
          "output_type": "stream",
          "text": [
            "Precision: 0.9397590361445783\n",
            "Recuperacion: 0.7368421052631579\n",
            "F1-score: 0.8260211800302572\n",
            "Especificidad: 0.75177304964539\n"
          ]
        }
      ],
      "source": [
        "TP=cm[0,0]\n",
        "FP=cm[1,0]\n",
        "FN=cm[0,1]\n",
        "TN=cm[1,1]\n",
        "\n",
        "print(f'Precision: {TP/(TP+FP)}')\n",
        "print(f'Recuperacion: {TP/(TP+FN)}')\n",
        "precision=TP/(TP+FP)\n",
        "recall=TP/(TP+FN)\n",
        "print(f'F1-score: {(2*precision*recall)/(precision+recall)}')\n",
        "print(f'Especificidad: {TN/(FP+TN)}')"
      ]
    },
    {
      "cell_type": "code",
      "execution_count": null,
      "metadata": {
        "colab": {
          "background_save": true
        },
        "id": "NAqg7MoznSiN"
      },
      "outputs": [],
      "source": [
        "X= df2_dummys\n",
        "y = df_datafinal.iloc[:,-1]\n",
        "le = LabelEncoder()\n",
        "y = le.fit_transform(y)"
      ]
    },
    {
      "cell_type": "markdown",
      "metadata": {
        "id": "m6dNtbn-nXN0"
      },
      "source": [
        "SelectKBest"
      ]
    },
    {
      "cell_type": "code",
      "execution_count": null,
      "metadata": {
        "colab": {
          "background_save": true
        },
        "id": "YKUaai8HnUNn"
      },
      "outputs": [],
      "source": [
        "from sklearn.feature_selection import SelectKBest, f_regression\n",
        "\n",
        "# Función de filtro de caracteristicas - stadis. scores\n",
        "def select_kbest(X,y,score_f,k):\n",
        "    sel_kb = SelectKBest(score_func=score_f, k=k)\n",
        "    sel_kb.fit(X,y)\n",
        "    new_cols = sel_kb.get_support()\n",
        "    print(\"Scores:\\n\", sel_kb.scores_, \"\\nP-values:\\n\", sel_kb.pvalues_)\n",
        "    return new_cols"
      ]
    },
    {
      "cell_type": "code",
      "execution_count": null,
      "metadata": {
        "colab": {
          "background_save": true
        },
        "id": "_4o10CilnaPa"
      },
      "outputs": [],
      "source": [
        "X= df2_dummys\n",
        "y = df_datafinal.iloc[:,-1]\n",
        "\n"
      ]
    },
    {
      "cell_type": "code",
      "execution_count": null,
      "metadata": {
        "colab": {
          "background_save": true
        },
        "id": "NSxqot5jncCt"
      },
      "outputs": [],
      "source": [
        "# LabelEncoder\n",
        "#from sklearn.preprocessing import LabelEncoder\n",
        "le = LabelEncoder()\n",
        "y = le.fit_transform(y)"
      ]
    },
    {
      "cell_type": "code",
      "execution_count": null,
      "metadata": {
        "colab": {
          "background_save": true
        },
        "id": "s5Dl3Eolnd_v",
        "outputId": "9c6b9a94-d029-43e0-fba3-f20571916524"
      },
      "outputs": [
        {
          "name": "stdout",
          "output_type": "stream",
          "text": [
            "Scores:\n",
            " [1.14631682e+02 4.17369754e-01 4.28857038e+00 7.81308263e+00\n",
            " 4.67023661e+00 1.31609555e+02 1.07968080e+01 8.10784452e+01\n",
            " 4.81102093e+00 1.10236968e+02 1.81550273e+02 1.00678519e+00\n",
            " 4.66760523e-01 1.07132817e+00 2.41560201e+00 2.45736984e+01\n",
            " 5.92258389e+01 1.08438314e+01 2.89439474e+01 1.03299381e+00\n",
            " 1.71860502e+00 3.72765138e+01 6.77229297e-01 6.29940950e-02\n",
            " 2.56987898e-03 2.97218669e+00 7.29454073e+00 1.44858537e+00\n",
            " 1.44858537e+00 8.35668863e-01 8.46517382e-01 6.12947520e-03\n",
            " 1.39681097e+00 9.25371574e+00 1.09417542e+01 3.32634238e+00\n",
            " 5.20766108e-01 5.40565982e-01 3.41788228e+01 3.67941159e+01\n",
            " 1.39947949e+02 1.12150160e+00 2.32188828e+00 1.00397279e+00\n",
            " 1.37263696e-01 6.47003726e+01 1.07346566e+00 7.36619627e+00\n",
            " 1.03613930e+01 3.66496751e+01 7.18742527e-02 2.59324542e-01\n",
            " 3.47736918e+01 4.39178055e+01 4.25050295e-01 1.84201185e+01\n",
            " 1.10561831e+00] \n",
            "P-values:\n",
            " [1.99680162e-26 5.18286043e-01 3.84274849e-02 5.20937568e-03\n",
            " 3.07433864e-02 4.84284055e-30 1.02470619e-03 3.16388312e-19\n",
            " 2.83303362e-02 1.73393227e-25 1.39929001e-40 3.15729318e-01\n",
            " 4.94517173e-01 3.00702414e-01 1.20203569e-01 7.42066628e-07\n",
            " 1.72353105e-14 9.99071052e-04 7.83649642e-08 3.09512324e-01\n",
            " 1.89940999e-01 1.11330981e-09 4.10586958e-01 8.01836442e-01\n",
            " 9.59571676e-01 8.47773970e-02 6.94288790e-03 2.28819710e-01\n",
            " 2.28819710e-01 3.60688423e-01 3.57589770e-01 9.37600158e-01\n",
            " 2.37322002e-01 2.36401497e-03 9.47750225e-04 6.82460147e-02\n",
            " 4.70553340e-01 4.62237375e-01 5.39037140e-09 1.42286654e-09\n",
            " 8.23750773e-32 2.89653376e-01 1.27636824e-01 3.16406113e-01\n",
            " 7.11034368e-01 1.11112148e-15 3.00220778e-01 6.67199658e-03\n",
            " 1.29610775e-03 1.53135478e-09 7.88639710e-01 6.10610074e-01\n",
            " 3.98034167e-09 3.83650119e-11 5.14461734e-01 1.80980171e-05\n",
            " 2.93094058e-01]\n"
          ]
        },
        {
          "data": {
            "text/html": [
              "\n",
              "  <div id=\"df-d7943f8d-3ac8-4c83-85b9-f54ac83d273d\" class=\"colab-df-container\">\n",
              "    <div>\n",
              "<style scoped>\n",
              "    .dataframe tbody tr th:only-of-type {\n",
              "        vertical-align: middle;\n",
              "    }\n",
              "\n",
              "    .dataframe tbody tr th {\n",
              "        vertical-align: top;\n",
              "    }\n",
              "\n",
              "    .dataframe thead th {\n",
              "        text-align: right;\n",
              "    }\n",
              "</style>\n",
              "<table border=\"1\" class=\"dataframe\">\n",
              "  <thead>\n",
              "    <tr style=\"text-align: right;\">\n",
              "      <th></th>\n",
              "      <th>Age</th>\n",
              "      <th>MonthlyIncome</th>\n",
              "      <th>NumCompaniesWorked</th>\n",
              "      <th>PercentSalaryHike</th>\n",
              "      <th>TotalWorkingYears</th>\n",
              "      <th>TrainingTimesLastYear</th>\n",
              "      <th>YearsAtCompany</th>\n",
              "      <th>YearsSinceLastPromotion</th>\n",
              "      <th>YearsWithCurrManager</th>\n",
              "      <th>mean_time</th>\n",
              "      <th>...</th>\n",
              "      <th>StockOptionLevel_1</th>\n",
              "      <th>EnvironmentSatisfaction_1.0</th>\n",
              "      <th>EnvironmentSatisfaction_2.0</th>\n",
              "      <th>EnvironmentSatisfaction_3.0</th>\n",
              "      <th>EnvironmentSatisfaction_4.0</th>\n",
              "      <th>JobSatisfaction_1.0</th>\n",
              "      <th>JobSatisfaction_4.0</th>\n",
              "      <th>WorkLifeBalance_1.0</th>\n",
              "      <th>WorkLifeBalance_3.0</th>\n",
              "      <th>WorkLifeBalance_4.0</th>\n",
              "    </tr>\n",
              "  </thead>\n",
              "  <tbody>\n",
              "    <tr>\n",
              "      <th>0</th>\n",
              "      <td>51.0</td>\n",
              "      <td>131160.0</td>\n",
              "      <td>1.0</td>\n",
              "      <td>11.0</td>\n",
              "      <td>1.0</td>\n",
              "      <td>6.0</td>\n",
              "      <td>1.0</td>\n",
              "      <td>0.0</td>\n",
              "      <td>0.0</td>\n",
              "      <td>6.8702</td>\n",
              "      <td>...</td>\n",
              "      <td>0</td>\n",
              "      <td>0</td>\n",
              "      <td>0</td>\n",
              "      <td>1</td>\n",
              "      <td>0</td>\n",
              "      <td>0</td>\n",
              "      <td>1</td>\n",
              "      <td>0</td>\n",
              "      <td>0</td>\n",
              "      <td>0</td>\n",
              "    </tr>\n",
              "    <tr>\n",
              "      <th>1</th>\n",
              "      <td>31.0</td>\n",
              "      <td>41890.0</td>\n",
              "      <td>0.0</td>\n",
              "      <td>23.0</td>\n",
              "      <td>6.0</td>\n",
              "      <td>3.0</td>\n",
              "      <td>5.0</td>\n",
              "      <td>1.0</td>\n",
              "      <td>4.0</td>\n",
              "      <td>7.3160</td>\n",
              "      <td>...</td>\n",
              "      <td>1</td>\n",
              "      <td>0</td>\n",
              "      <td>0</td>\n",
              "      <td>1</td>\n",
              "      <td>0</td>\n",
              "      <td>0</td>\n",
              "      <td>0</td>\n",
              "      <td>0</td>\n",
              "      <td>0</td>\n",
              "      <td>1</td>\n",
              "    </tr>\n",
              "    <tr>\n",
              "      <th>2</th>\n",
              "      <td>32.0</td>\n",
              "      <td>193280.0</td>\n",
              "      <td>1.0</td>\n",
              "      <td>15.0</td>\n",
              "      <td>5.0</td>\n",
              "      <td>2.0</td>\n",
              "      <td>5.0</td>\n",
              "      <td>0.0</td>\n",
              "      <td>3.0</td>\n",
              "      <td>6.8161</td>\n",
              "      <td>...</td>\n",
              "      <td>0</td>\n",
              "      <td>0</td>\n",
              "      <td>1</td>\n",
              "      <td>0</td>\n",
              "      <td>0</td>\n",
              "      <td>0</td>\n",
              "      <td>0</td>\n",
              "      <td>1</td>\n",
              "      <td>0</td>\n",
              "      <td>0</td>\n",
              "    </tr>\n",
              "    <tr>\n",
              "      <th>3</th>\n",
              "      <td>38.0</td>\n",
              "      <td>83210.0</td>\n",
              "      <td>3.0</td>\n",
              "      <td>11.0</td>\n",
              "      <td>13.0</td>\n",
              "      <td>5.0</td>\n",
              "      <td>8.0</td>\n",
              "      <td>7.0</td>\n",
              "      <td>5.0</td>\n",
              "      <td>6.7892</td>\n",
              "      <td>...</td>\n",
              "      <td>0</td>\n",
              "      <td>0</td>\n",
              "      <td>0</td>\n",
              "      <td>0</td>\n",
              "      <td>1</td>\n",
              "      <td>0</td>\n",
              "      <td>1</td>\n",
              "      <td>0</td>\n",
              "      <td>1</td>\n",
              "      <td>0</td>\n",
              "    </tr>\n",
              "    <tr>\n",
              "      <th>4</th>\n",
              "      <td>32.0</td>\n",
              "      <td>23420.0</td>\n",
              "      <td>4.0</td>\n",
              "      <td>12.0</td>\n",
              "      <td>9.0</td>\n",
              "      <td>2.0</td>\n",
              "      <td>6.0</td>\n",
              "      <td>0.0</td>\n",
              "      <td>4.0</td>\n",
              "      <td>7.8776</td>\n",
              "      <td>...</td>\n",
              "      <td>0</td>\n",
              "      <td>0</td>\n",
              "      <td>0</td>\n",
              "      <td>0</td>\n",
              "      <td>1</td>\n",
              "      <td>1</td>\n",
              "      <td>0</td>\n",
              "      <td>0</td>\n",
              "      <td>1</td>\n",
              "      <td>0</td>\n",
              "    </tr>\n",
              "  </tbody>\n",
              "</table>\n",
              "<p>5 rows × 40 columns</p>\n",
              "</div>\n",
              "    <div class=\"colab-df-buttons\">\n",
              "\n",
              "  <div class=\"colab-df-container\">\n",
              "    <button class=\"colab-df-convert\" onclick=\"convertToInteractive('df-d7943f8d-3ac8-4c83-85b9-f54ac83d273d')\"\n",
              "            title=\"Convert this dataframe to an interactive table.\"\n",
              "            style=\"display:none;\">\n",
              "\n",
              "  <svg xmlns=\"http://www.w3.org/2000/svg\" height=\"24px\" viewBox=\"0 -960 960 960\">\n",
              "    <path d=\"M120-120v-720h720v720H120Zm60-500h600v-160H180v160Zm220 220h160v-160H400v160Zm0 220h160v-160H400v160ZM180-400h160v-160H180v160Zm440 0h160v-160H620v160ZM180-180h160v-160H180v160Zm440 0h160v-160H620v160Z\"/>\n",
              "  </svg>\n",
              "    </button>\n",
              "\n",
              "  <style>\n",
              "    .colab-df-container {\n",
              "      display:flex;\n",
              "      gap: 12px;\n",
              "    }\n",
              "\n",
              "    .colab-df-convert {\n",
              "      background-color: #E8F0FE;\n",
              "      border: none;\n",
              "      border-radius: 50%;\n",
              "      cursor: pointer;\n",
              "      display: none;\n",
              "      fill: #1967D2;\n",
              "      height: 32px;\n",
              "      padding: 0 0 0 0;\n",
              "      width: 32px;\n",
              "    }\n",
              "\n",
              "    .colab-df-convert:hover {\n",
              "      background-color: #E2EBFA;\n",
              "      box-shadow: 0px 1px 2px rgba(60, 64, 67, 0.3), 0px 1px 3px 1px rgba(60, 64, 67, 0.15);\n",
              "      fill: #174EA6;\n",
              "    }\n",
              "\n",
              "    .colab-df-buttons div {\n",
              "      margin-bottom: 4px;\n",
              "    }\n",
              "\n",
              "    [theme=dark] .colab-df-convert {\n",
              "      background-color: #3B4455;\n",
              "      fill: #D2E3FC;\n",
              "    }\n",
              "\n",
              "    [theme=dark] .colab-df-convert:hover {\n",
              "      background-color: #434B5C;\n",
              "      box-shadow: 0px 1px 3px 1px rgba(0, 0, 0, 0.15);\n",
              "      filter: drop-shadow(0px 1px 2px rgba(0, 0, 0, 0.3));\n",
              "      fill: #FFFFFF;\n",
              "    }\n",
              "  </style>\n",
              "\n",
              "    <script>\n",
              "      const buttonEl =\n",
              "        document.querySelector('#df-d7943f8d-3ac8-4c83-85b9-f54ac83d273d button.colab-df-convert');\n",
              "      buttonEl.style.display =\n",
              "        google.colab.kernel.accessAllowed ? 'block' : 'none';\n",
              "\n",
              "      async function convertToInteractive(key) {\n",
              "        const element = document.querySelector('#df-d7943f8d-3ac8-4c83-85b9-f54ac83d273d');\n",
              "        const dataTable =\n",
              "          await google.colab.kernel.invokeFunction('convertToInteractive',\n",
              "                                                    [key], {});\n",
              "        if (!dataTable) return;\n",
              "\n",
              "        const docLinkHtml = 'Like what you see? Visit the ' +\n",
              "          '<a target=\"_blank\" href=https://colab.research.google.com/notebooks/data_table.ipynb>data table notebook</a>'\n",
              "          + ' to learn more about interactive tables.';\n",
              "        element.innerHTML = '';\n",
              "        dataTable['output_type'] = 'display_data';\n",
              "        await google.colab.output.renderOutput(dataTable, element);\n",
              "        const docLink = document.createElement('div');\n",
              "        docLink.innerHTML = docLinkHtml;\n",
              "        element.appendChild(docLink);\n",
              "      }\n",
              "    </script>\n",
              "  </div>\n",
              "\n",
              "\n",
              "<div id=\"df-b31447f5-4a0a-450b-8e60-1e3fbd6fd897\">\n",
              "  <button class=\"colab-df-quickchart\" onclick=\"quickchart('df-b31447f5-4a0a-450b-8e60-1e3fbd6fd897')\"\n",
              "            title=\"Suggest charts.\"\n",
              "            style=\"display:none;\">\n",
              "\n",
              "<svg xmlns=\"http://www.w3.org/2000/svg\" height=\"24px\"viewBox=\"0 0 24 24\"\n",
              "     width=\"24px\">\n",
              "    <g>\n",
              "        <path d=\"M19 3H5c-1.1 0-2 .9-2 2v14c0 1.1.9 2 2 2h14c1.1 0 2-.9 2-2V5c0-1.1-.9-2-2-2zM9 17H7v-7h2v7zm4 0h-2V7h2v10zm4 0h-2v-4h2v4z\"/>\n",
              "    </g>\n",
              "</svg>\n",
              "  </button>\n",
              "\n",
              "<style>\n",
              "  .colab-df-quickchart {\n",
              "      --bg-color: #E8F0FE;\n",
              "      --fill-color: #1967D2;\n",
              "      --hover-bg-color: #E2EBFA;\n",
              "      --hover-fill-color: #174EA6;\n",
              "      --disabled-fill-color: #AAA;\n",
              "      --disabled-bg-color: #DDD;\n",
              "  }\n",
              "\n",
              "  [theme=dark] .colab-df-quickchart {\n",
              "      --bg-color: #3B4455;\n",
              "      --fill-color: #D2E3FC;\n",
              "      --hover-bg-color: #434B5C;\n",
              "      --hover-fill-color: #FFFFFF;\n",
              "      --disabled-bg-color: #3B4455;\n",
              "      --disabled-fill-color: #666;\n",
              "  }\n",
              "\n",
              "  .colab-df-quickchart {\n",
              "    background-color: var(--bg-color);\n",
              "    border: none;\n",
              "    border-radius: 50%;\n",
              "    cursor: pointer;\n",
              "    display: none;\n",
              "    fill: var(--fill-color);\n",
              "    height: 32px;\n",
              "    padding: 0;\n",
              "    width: 32px;\n",
              "  }\n",
              "\n",
              "  .colab-df-quickchart:hover {\n",
              "    background-color: var(--hover-bg-color);\n",
              "    box-shadow: 0 1px 2px rgba(60, 64, 67, 0.3), 0 1px 3px 1px rgba(60, 64, 67, 0.15);\n",
              "    fill: var(--button-hover-fill-color);\n",
              "  }\n",
              "\n",
              "  .colab-df-quickchart-complete:disabled,\n",
              "  .colab-df-quickchart-complete:disabled:hover {\n",
              "    background-color: var(--disabled-bg-color);\n",
              "    fill: var(--disabled-fill-color);\n",
              "    box-shadow: none;\n",
              "  }\n",
              "\n",
              "  .colab-df-spinner {\n",
              "    border: 2px solid var(--fill-color);\n",
              "    border-color: transparent;\n",
              "    border-bottom-color: var(--fill-color);\n",
              "    animation:\n",
              "      spin 1s steps(1) infinite;\n",
              "  }\n",
              "\n",
              "  @keyframes spin {\n",
              "    0% {\n",
              "      border-color: transparent;\n",
              "      border-bottom-color: var(--fill-color);\n",
              "      border-left-color: var(--fill-color);\n",
              "    }\n",
              "    20% {\n",
              "      border-color: transparent;\n",
              "      border-left-color: var(--fill-color);\n",
              "      border-top-color: var(--fill-color);\n",
              "    }\n",
              "    30% {\n",
              "      border-color: transparent;\n",
              "      border-left-color: var(--fill-color);\n",
              "      border-top-color: var(--fill-color);\n",
              "      border-right-color: var(--fill-color);\n",
              "    }\n",
              "    40% {\n",
              "      border-color: transparent;\n",
              "      border-right-color: var(--fill-color);\n",
              "      border-top-color: var(--fill-color);\n",
              "    }\n",
              "    60% {\n",
              "      border-color: transparent;\n",
              "      border-right-color: var(--fill-color);\n",
              "    }\n",
              "    80% {\n",
              "      border-color: transparent;\n",
              "      border-right-color: var(--fill-color);\n",
              "      border-bottom-color: var(--fill-color);\n",
              "    }\n",
              "    90% {\n",
              "      border-color: transparent;\n",
              "      border-bottom-color: var(--fill-color);\n",
              "    }\n",
              "  }\n",
              "</style>\n",
              "\n",
              "  <script>\n",
              "    async function quickchart(key) {\n",
              "      const quickchartButtonEl =\n",
              "        document.querySelector('#' + key + ' button');\n",
              "      quickchartButtonEl.disabled = true;  // To prevent multiple clicks.\n",
              "      quickchartButtonEl.classList.add('colab-df-spinner');\n",
              "      try {\n",
              "        const charts = await google.colab.kernel.invokeFunction(\n",
              "            'suggestCharts', [key], {});\n",
              "      } catch (error) {\n",
              "        console.error('Error during call to suggestCharts:', error);\n",
              "      }\n",
              "      quickchartButtonEl.classList.remove('colab-df-spinner');\n",
              "      quickchartButtonEl.classList.add('colab-df-quickchart-complete');\n",
              "    }\n",
              "    (() => {\n",
              "      let quickchartButtonEl =\n",
              "        document.querySelector('#df-b31447f5-4a0a-450b-8e60-1e3fbd6fd897 button');\n",
              "      quickchartButtonEl.style.display =\n",
              "        google.colab.kernel.accessAllowed ? 'block' : 'none';\n",
              "    })();\n",
              "  </script>\n",
              "</div>\n",
              "    </div>\n",
              "  </div>\n"
            ],
            "text/plain": [
              "    Age  MonthlyIncome  NumCompaniesWorked  PercentSalaryHike  \\\n",
              "0  51.0       131160.0                 1.0               11.0   \n",
              "1  31.0        41890.0                 0.0               23.0   \n",
              "2  32.0       193280.0                 1.0               15.0   \n",
              "3  38.0        83210.0                 3.0               11.0   \n",
              "4  32.0        23420.0                 4.0               12.0   \n",
              "\n",
              "   TotalWorkingYears  TrainingTimesLastYear  YearsAtCompany  \\\n",
              "0                1.0                    6.0             1.0   \n",
              "1                6.0                    3.0             5.0   \n",
              "2                5.0                    2.0             5.0   \n",
              "3               13.0                    5.0             8.0   \n",
              "4                9.0                    2.0             6.0   \n",
              "\n",
              "   YearsSinceLastPromotion  YearsWithCurrManager  mean_time  ...  \\\n",
              "0                      0.0                   0.0     6.8702  ...   \n",
              "1                      1.0                   4.0     7.3160  ...   \n",
              "2                      0.0                   3.0     6.8161  ...   \n",
              "3                      7.0                   5.0     6.7892  ...   \n",
              "4                      0.0                   4.0     7.8776  ...   \n",
              "\n",
              "   StockOptionLevel_1  EnvironmentSatisfaction_1.0  \\\n",
              "0                   0                            0   \n",
              "1                   1                            0   \n",
              "2                   0                            0   \n",
              "3                   0                            0   \n",
              "4                   0                            0   \n",
              "\n",
              "   EnvironmentSatisfaction_2.0  EnvironmentSatisfaction_3.0  \\\n",
              "0                            0                            1   \n",
              "1                            0                            1   \n",
              "2                            1                            0   \n",
              "3                            0                            0   \n",
              "4                            0                            0   \n",
              "\n",
              "   EnvironmentSatisfaction_4.0  JobSatisfaction_1.0  JobSatisfaction_4.0  \\\n",
              "0                            0                    0                    1   \n",
              "1                            0                    0                    0   \n",
              "2                            0                    0                    0   \n",
              "3                            1                    0                    1   \n",
              "4                            1                    1                    0   \n",
              "\n",
              "   WorkLifeBalance_1.0  WorkLifeBalance_3.0  WorkLifeBalance_4.0  \n",
              "0                    0                    0                    0  \n",
              "1                    0                    0                    1  \n",
              "2                    1                    0                    0  \n",
              "3                    0                    1                    0  \n",
              "4                    0                    1                    0  \n",
              "\n",
              "[5 rows x 40 columns]"
            ]
          },
          "execution_count": 197,
          "metadata": {},
          "output_type": "execute_result"
        }
      ],
      "source": [
        "# Obtener columnas seleciconadas\n",
        "X_new = select_kbest(X, y, f_regression,40)\n",
        "# Nuevo conjunto de datos\n",
        "df_new = X.iloc[:,X_new]\n",
        "df_new.head()"
      ]
    },
    {
      "cell_type": "code",
      "execution_count": null,
      "metadata": {
        "colab": {
          "background_save": true
        },
        "id": "bBhOgObMnfoB",
        "outputId": "14c87536-7901-49e0-dfc6-e70e46be2c32"
      },
      "outputs": [
        {
          "name": "stdout",
          "output_type": "stream",
          "text": [
            "Tamaño del conjunto de entrenamiento: (3528, 40)\n",
            "Tamaño del conjunto de validación: (882, 40)\n"
          ]
        }
      ],
      "source": [
        "X = df_new\n",
        "y = df_datafinal.iloc[:, -1].values # target\n",
        "\n",
        "# LabelEncoder\n",
        "from sklearn.preprocessing import LabelEncoder\n",
        "le = LabelEncoder()\n",
        "y = le.fit_transform(y)\n",
        "\n",
        "# Separación en conjuntos de entrenamiento y validación con 80% de muestras para entrenamiento\n",
        "X_train, X_test, y_train, y_test = train_test_split(X, y, test_size=0.2, random_state=42)\n",
        "\n",
        "#Imprimir Tamaño de dataset\n",
        "print(\"Tamaño del conjunto de entrenamiento:\", X_train.shape)\n",
        "print(\"Tamaño del conjunto de validación:\", X_test.shape)\n",
        "\n",
        "#Nombre de caracteristicas númericas\n",
        "numeric_columns=list(X.select_dtypes('float64').columns)\n",
        "\n",
        "#Estandarización de variables númericas\n",
        "pipeline=ColumnTransformer([(\"std_num\" , StandardScaler(), numeric_columns)], remainder='passthrough')\n",
        "\n",
        "X_train_std = pipeline.fit_transform(X_train)\n",
        "X_test_std = pipeline.transform(X_test)"
      ]
    },
    {
      "cell_type": "code",
      "execution_count": null,
      "metadata": {
        "colab": {
          "background_save": true
        },
        "id": "m4Gdi2IFnjHY",
        "outputId": "00098e50-a738-4185-cf5c-3ddea715ae9f"
      },
      "outputs": [
        {
          "name": "stdout",
          "output_type": "stream",
          "text": [
            "Coeficientes:  [[-0.27553894 -0.08719609  0.32965458 -0.01686598 -0.56319443 -0.26093809\n",
            "   0.26195423  0.50788067 -0.68608634  0.61566299  0.11674248  0.12018443\n",
            "  -0.79189052  0.76447792  0.02826636  1.00458871 -0.06026581  0.46127268\n",
            "  -0.41672465 -0.27269824 -0.00433439  0.00518815 -0.29095863 -0.77617619\n",
            "   0.57614691  0.11153518 -0.56171109 -0.15482161  0.71738645 -0.00619282\n",
            "  -0.23986897  0.71062943 -0.19198701 -0.05180598 -0.46598268  0.86523497\n",
            "  -0.58649705  0.98202922 -0.29795827  0.11361311]]\n",
            "\n",
            "Intercepto:  [-1.13496498]\n",
            "Accuracy (Train): 7.545351473922902%\n",
            "Score:  1.0\n",
            "Accuracy (Test): 72.78911564625851%\n"
          ]
        }
      ],
      "source": [
        "# Crea el modelo\n",
        "regr = LogisticRegression(class_weight=\"balanced\", random_state=42, max_iter=1000)\n",
        "# Calibra el modelo\n",
        "regr.fit(X_train_std, y_train)\n",
        "#Realice predicciones sobre x_train_std\n",
        "y_pred = regr.predict(X_train_std)\n",
        "# Imprime los coeficientes\n",
        "print(\"Coeficientes: \", regr.coef_)\n",
        "\n",
        "# Imprime el intercepto\n",
        "print(\"\\nIntercepto: \", regr.intercept_)\n",
        "#Exactitud de modelo\n",
        "print(\"Accuracy (Train): \"+ str(regr.score(X_train_std,y_train)*10) + \"%\")\n",
        "print(\"Score: \", regr.score(X_train_std, y_pred))\n",
        "\n",
        "\n",
        "#Predicciones sobre el conjunto de test\n",
        "y_hat = regr.predict(X_test_std)\n",
        "#Exactitud de modelo\n",
        "print(\"Accuracy (Test): \"+ str(regr.score(X_test_std,y_test)*100) + \"%\")"
      ]
    },
    {
      "cell_type": "code",
      "execution_count": null,
      "metadata": {
        "colab": {
          "background_save": true
        },
        "id": "0JZBxfSdnmel",
        "outputId": "f0dc93d5-99cc-408a-d0c5-e370c2423de7"
      },
      "outputs": [
        {
          "data": {
            "image/png": "[encoded data removed]",
            "text/plain": [
              "<Figure size 640x480 with 2 Axes>"
            ]
          },
          "metadata": {},
          "output_type": "display_data"
        },
        {
          "name": "stdout",
          "output_type": "stream",
          "text": [
            "[[541 200]\n",
            " [ 40 101]]\n"
          ]
        }
      ],
      "source": [
        "#VALIDAR MODELO\n",
        "#validar modelo\n",
        "from sklearn.metrics import confusion_matrix, ConfusionMatrixDisplay\n",
        "cm = confusion_matrix(y_test, y_hat)\n",
        "disp = ConfusionMatrixDisplay(confusion_matrix = cm)\n",
        "disp.plot(cmap='CMRmap_r')\n",
        "plt.show()\n",
        "print(cm)"
      ]
    },
    {
      "cell_type": "code",
      "execution_count": null,
      "metadata": {
        "colab": {
          "background_save": true
        },
        "id": "XZL80CCKnosF",
        "outputId": "4c72349f-601c-444a-957c-54383c6b5022"
      },
      "outputs": [
        {
          "name": "stdout",
          "output_type": "stream",
          "text": [
            "Precision: 0.9311531841652324\n",
            "Recuperacion: 0.7300944669365722\n",
            "F1-score: 0.8184568835098336\n",
            "Especificidad: 0.7163120567375887\n"
          ]
        }
      ],
      "source": [
        "TP=cm[0,0]\n",
        "FP=cm[1,0]\n",
        "FN=cm[0,1]\n",
        "TN=cm[1,1]\n",
        "\n",
        "print(f'Precision: {TP/(TP+FP)}')\n",
        "print(f'Recuperacion: {TP/(TP+FN)}')\n",
        "precision=TP/(TP+FP)\n",
        "recall=TP/(TP+FN)\n",
        "print(f'F1-score: {(2*precision*recall)/(precision+recall)}')\n",
        "print(f'Especificidad: {TN/(FP+TN)}')"
      ]
    },
    {
      "cell_type": "markdown",
      "metadata": {
        "id": "pAEY_8fMnrUG"
      },
      "source": [
        "###SequentialFeatureSelector"
      ]
    },
    {
      "cell_type": "code",
      "execution_count": null,
      "metadata": {
        "colab": {
          "background_save": true
        },
        "id": "C_JxQm8ldBOa",
        "outputId": "fa84289a-5792-4b89-f809-275df2d974b8"
      },
      "outputs": [
        {
          "name": "stdout",
          "output_type": "stream",
          "text": [
            "El conjunto de datos tiene 4410 filas y 40 columnas.\n"
          ]
        }
      ],
      "source": [
        "num_filas, num_columnas = df_new.shape\n",
        "\n",
        "print(f'El conjunto de datos tiene {num_filas} filas y {num_columnas} columnas.')"
      ]
    },
    {
      "cell_type": "code",
      "execution_count": null,
      "metadata": {
        "colab": {
          "background_save": true
        },
        "id": "XTDPNsiMnqv-",
        "outputId": "75a63a61-a905-4eaa-b70e-d7bab683f52e"
      },
      "outputs": [
        {
          "data": {
            "text/html": [
              "\n",
              "  <div id=\"df-4627bead-f293-41ea-a54a-cb05ee6af2ca\" class=\"colab-df-container\">\n",
              "    <div>\n",
              "<style scoped>\n",
              "    .dataframe tbody tr th:only-of-type {\n",
              "        vertical-align: middle;\n",
              "    }\n",
              "\n",
              "    .dataframe tbody tr th {\n",
              "        vertical-align: top;\n",
              "    }\n",
              "\n",
              "    .dataframe thead th {\n",
              "        text-align: right;\n",
              "    }\n",
              "</style>\n",
              "<table border=\"1\" class=\"dataframe\">\n",
              "  <thead>\n",
              "    <tr style=\"text-align: right;\">\n",
              "      <th></th>\n",
              "      <th>Age</th>\n",
              "      <th>MonthlyIncome</th>\n",
              "      <th>NumCompaniesWorked</th>\n",
              "      <th>PercentSalaryHike</th>\n",
              "      <th>TotalWorkingYears</th>\n",
              "      <th>TrainingTimesLastYear</th>\n",
              "      <th>YearsAtCompany</th>\n",
              "      <th>YearsSinceLastPromotion</th>\n",
              "      <th>YearsWithCurrManager</th>\n",
              "      <th>mean_time</th>\n",
              "      <th>...</th>\n",
              "      <th>StockOptionLevel_1</th>\n",
              "      <th>EnvironmentSatisfaction_1.0</th>\n",
              "      <th>EnvironmentSatisfaction_2.0</th>\n",
              "      <th>EnvironmentSatisfaction_3.0</th>\n",
              "      <th>EnvironmentSatisfaction_4.0</th>\n",
              "      <th>JobSatisfaction_1.0</th>\n",
              "      <th>JobSatisfaction_4.0</th>\n",
              "      <th>WorkLifeBalance_1.0</th>\n",
              "      <th>WorkLifeBalance_3.0</th>\n",
              "      <th>WorkLifeBalance_4.0</th>\n",
              "    </tr>\n",
              "  </thead>\n",
              "  <tbody>\n",
              "    <tr>\n",
              "      <th>0</th>\n",
              "      <td>51.0</td>\n",
              "      <td>131160.0</td>\n",
              "      <td>1.0</td>\n",
              "      <td>11.0</td>\n",
              "      <td>1.0</td>\n",
              "      <td>6.0</td>\n",
              "      <td>1.0</td>\n",
              "      <td>0.0</td>\n",
              "      <td>0.0</td>\n",
              "      <td>6.8702</td>\n",
              "      <td>...</td>\n",
              "      <td>0</td>\n",
              "      <td>0</td>\n",
              "      <td>0</td>\n",
              "      <td>1</td>\n",
              "      <td>0</td>\n",
              "      <td>0</td>\n",
              "      <td>1</td>\n",
              "      <td>0</td>\n",
              "      <td>0</td>\n",
              "      <td>0</td>\n",
              "    </tr>\n",
              "    <tr>\n",
              "      <th>1</th>\n",
              "      <td>31.0</td>\n",
              "      <td>41890.0</td>\n",
              "      <td>0.0</td>\n",
              "      <td>23.0</td>\n",
              "      <td>6.0</td>\n",
              "      <td>3.0</td>\n",
              "      <td>5.0</td>\n",
              "      <td>1.0</td>\n",
              "      <td>4.0</td>\n",
              "      <td>7.3160</td>\n",
              "      <td>...</td>\n",
              "      <td>1</td>\n",
              "      <td>0</td>\n",
              "      <td>0</td>\n",
              "      <td>1</td>\n",
              "      <td>0</td>\n",
              "      <td>0</td>\n",
              "      <td>0</td>\n",
              "      <td>0</td>\n",
              "      <td>0</td>\n",
              "      <td>1</td>\n",
              "    </tr>\n",
              "    <tr>\n",
              "      <th>2</th>\n",
              "      <td>32.0</td>\n",
              "      <td>193280.0</td>\n",
              "      <td>1.0</td>\n",
              "      <td>15.0</td>\n",
              "      <td>5.0</td>\n",
              "      <td>2.0</td>\n",
              "      <td>5.0</td>\n",
              "      <td>0.0</td>\n",
              "      <td>3.0</td>\n",
              "      <td>6.8161</td>\n",
              "      <td>...</td>\n",
              "      <td>0</td>\n",
              "      <td>0</td>\n",
              "      <td>1</td>\n",
              "      <td>0</td>\n",
              "      <td>0</td>\n",
              "      <td>0</td>\n",
              "      <td>0</td>\n",
              "      <td>1</td>\n",
              "      <td>0</td>\n",
              "      <td>0</td>\n",
              "    </tr>\n",
              "    <tr>\n",
              "      <th>3</th>\n",
              "      <td>38.0</td>\n",
              "      <td>83210.0</td>\n",
              "      <td>3.0</td>\n",
              "      <td>11.0</td>\n",
              "      <td>13.0</td>\n",
              "      <td>5.0</td>\n",
              "      <td>8.0</td>\n",
              "      <td>7.0</td>\n",
              "      <td>5.0</td>\n",
              "      <td>6.7892</td>\n",
              "      <td>...</td>\n",
              "      <td>0</td>\n",
              "      <td>0</td>\n",
              "      <td>0</td>\n",
              "      <td>0</td>\n",
              "      <td>1</td>\n",
              "      <td>0</td>\n",
              "      <td>1</td>\n",
              "      <td>0</td>\n",
              "      <td>1</td>\n",
              "      <td>0</td>\n",
              "    </tr>\n",
              "    <tr>\n",
              "      <th>4</th>\n",
              "      <td>32.0</td>\n",
              "      <td>23420.0</td>\n",
              "      <td>4.0</td>\n",
              "      <td>12.0</td>\n",
              "      <td>9.0</td>\n",
              "      <td>2.0</td>\n",
              "      <td>6.0</td>\n",
              "      <td>0.0</td>\n",
              "      <td>4.0</td>\n",
              "      <td>7.8776</td>\n",
              "      <td>...</td>\n",
              "      <td>0</td>\n",
              "      <td>0</td>\n",
              "      <td>0</td>\n",
              "      <td>0</td>\n",
              "      <td>1</td>\n",
              "      <td>1</td>\n",
              "      <td>0</td>\n",
              "      <td>0</td>\n",
              "      <td>1</td>\n",
              "      <td>0</td>\n",
              "    </tr>\n",
              "  </tbody>\n",
              "</table>\n",
              "<p>5 rows × 39 columns</p>\n",
              "</div>\n",
              "    <div class=\"colab-df-buttons\">\n",
              "\n",
              "  <div class=\"colab-df-container\">\n",
              "    <button class=\"colab-df-convert\" onclick=\"convertToInteractive('df-4627bead-f293-41ea-a54a-cb05ee6af2ca')\"\n",
              "            title=\"Convert this dataframe to an interactive table.\"\n",
              "            style=\"display:none;\">\n",
              "\n",
              "  <svg xmlns=\"http://www.w3.org/2000/svg\" height=\"24px\" viewBox=\"0 -960 960 960\">\n",
              "    <path d=\"M120-120v-720h720v720H120Zm60-500h600v-160H180v160Zm220 220h160v-160H400v160Zm0 220h160v-160H400v160ZM180-400h160v-160H180v160Zm440 0h160v-160H620v160ZM180-180h160v-160H180v160Zm440 0h160v-160H620v160Z\"/>\n",
              "  </svg>\n",
              "    </button>\n",
              "\n",
              "  <style>\n",
              "    .colab-df-container {\n",
              "      display:flex;\n",
              "      gap: 12px;\n",
              "    }\n",
              "\n",
              "    .colab-df-convert {\n",
              "      background-color: #E8F0FE;\n",
              "      border: none;\n",
              "      border-radius: 50%;\n",
              "      cursor: pointer;\n",
              "      display: none;\n",
              "      fill: #1967D2;\n",
              "      height: 32px;\n",
              "      padding: 0 0 0 0;\n",
              "      width: 32px;\n",
              "    }\n",
              "\n",
              "    .colab-df-convert:hover {\n",
              "      background-color: #E2EBFA;\n",
              "      box-shadow: 0px 1px 2px rgba(60, 64, 67, 0.3), 0px 1px 3px 1px rgba(60, 64, 67, 0.15);\n",
              "      fill: #174EA6;\n",
              "    }\n",
              "\n",
              "    .colab-df-buttons div {\n",
              "      margin-bottom: 4px;\n",
              "    }\n",
              "\n",
              "    [theme=dark] .colab-df-convert {\n",
              "      background-color: #3B4455;\n",
              "      fill: #D2E3FC;\n",
              "    }\n",
              "\n",
              "    [theme=dark] .colab-df-convert:hover {\n",
              "      background-color: #434B5C;\n",
              "      box-shadow: 0px 1px 3px 1px rgba(0, 0, 0, 0.15);\n",
              "      filter: drop-shadow(0px 1px 2px rgba(0, 0, 0, 0.3));\n",
              "      fill: #FFFFFF;\n",
              "    }\n",
              "  </style>\n",
              "\n",
              "    <script>\n",
              "      const buttonEl =\n",
              "        document.querySelector('#df-4627bead-f293-41ea-a54a-cb05ee6af2ca button.colab-df-convert');\n",
              "      buttonEl.style.display =\n",
              "        google.colab.kernel.accessAllowed ? 'block' : 'none';\n",
              "\n",
              "      async function convertToInteractive(key) {\n",
              "        const element = document.querySelector('#df-4627bead-f293-41ea-a54a-cb05ee6af2ca');\n",
              "        const dataTable =\n",
              "          await google.colab.kernel.invokeFunction('convertToInteractive',\n",
              "                                                    [key], {});\n",
              "        if (!dataTable) return;\n",
              "\n",
              "        const docLinkHtml = 'Like what you see? Visit the ' +\n",
              "          '<a target=\"_blank\" href=https://colab.research.google.com/notebooks/data_table.ipynb>data table notebook</a>'\n",
              "          + ' to learn more about interactive tables.';\n",
              "        element.innerHTML = '';\n",
              "        dataTable['output_type'] = 'display_data';\n",
              "        await google.colab.output.renderOutput(dataTable, element);\n",
              "        const docLink = document.createElement('div');\n",
              "        docLink.innerHTML = docLinkHtml;\n",
              "        element.appendChild(docLink);\n",
              "      }\n",
              "    </script>\n",
              "  </div>\n",
              "\n",
              "\n",
              "<div id=\"df-0e4f77f8-4fd7-4bb7-9650-1f60ec8dfc02\">\n",
              "  <button class=\"colab-df-quickchart\" onclick=\"quickchart('df-0e4f77f8-4fd7-4bb7-9650-1f60ec8dfc02')\"\n",
              "            title=\"Suggest charts.\"\n",
              "            style=\"display:none;\">\n",
              "\n",
              "<svg xmlns=\"http://www.w3.org/2000/svg\" height=\"24px\"viewBox=\"0 0 24 24\"\n",
              "     width=\"24px\">\n",
              "    <g>\n",
              "        <path d=\"M19 3H5c-1.1 0-2 .9-2 2v14c0 1.1.9 2 2 2h14c1.1 0 2-.9 2-2V5c0-1.1-.9-2-2-2zM9 17H7v-7h2v7zm4 0h-2V7h2v10zm4 0h-2v-4h2v4z\"/>\n",
              "    </g>\n",
              "</svg>\n",
              "  </button>\n",
              "\n",
              "<style>\n",
              "  .colab-df-quickchart {\n",
              "      --bg-color: #E8F0FE;\n",
              "      --fill-color: #1967D2;\n",
              "      --hover-bg-color: #E2EBFA;\n",
              "      --hover-fill-color: #174EA6;\n",
              "      --disabled-fill-color: #AAA;\n",
              "      --disabled-bg-color: #DDD;\n",
              "  }\n",
              "\n",
              "  [theme=dark] .colab-df-quickchart {\n",
              "      --bg-color: #3B4455;\n",
              "      --fill-color: #D2E3FC;\n",
              "      --hover-bg-color: #434B5C;\n",
              "      --hover-fill-color: #FFFFFF;\n",
              "      --disabled-bg-color: #3B4455;\n",
              "      --disabled-fill-color: #666;\n",
              "  }\n",
              "\n",
              "  .colab-df-quickchart {\n",
              "    background-color: var(--bg-color);\n",
              "    border: none;\n",
              "    border-radius: 50%;\n",
              "    cursor: pointer;\n",
              "    display: none;\n",
              "    fill: var(--fill-color);\n",
              "    height: 32px;\n",
              "    padding: 0;\n",
              "    width: 32px;\n",
              "  }\n",
              "\n",
              "  .colab-df-quickchart:hover {\n",
              "    background-color: var(--hover-bg-color);\n",
              "    box-shadow: 0 1px 2px rgba(60, 64, 67, 0.3), 0 1px 3px 1px rgba(60, 64, 67, 0.15);\n",
              "    fill: var(--button-hover-fill-color);\n",
              "  }\n",
              "\n",
              "  .colab-df-quickchart-complete:disabled,\n",
              "  .colab-df-quickchart-complete:disabled:hover {\n",
              "    background-color: var(--disabled-bg-color);\n",
              "    fill: var(--disabled-fill-color);\n",
              "    box-shadow: none;\n",
              "  }\n",
              "\n",
              "  .colab-df-spinner {\n",
              "    border: 2px solid var(--fill-color);\n",
              "    border-color: transparent;\n",
              "    border-bottom-color: var(--fill-color);\n",
              "    animation:\n",
              "      spin 1s steps(1) infinite;\n",
              "  }\n",
              "\n",
              "  @keyframes spin {\n",
              "    0% {\n",
              "      border-color: transparent;\n",
              "      border-bottom-color: var(--fill-color);\n",
              "      border-left-color: var(--fill-color);\n",
              "    }\n",
              "    20% {\n",
              "      border-color: transparent;\n",
              "      border-left-color: var(--fill-color);\n",
              "      border-top-color: var(--fill-color);\n",
              "    }\n",
              "    30% {\n",
              "      border-color: transparent;\n",
              "      border-left-color: var(--fill-color);\n",
              "      border-top-color: var(--fill-color);\n",
              "      border-right-color: var(--fill-color);\n",
              "    }\n",
              "    40% {\n",
              "      border-color: transparent;\n",
              "      border-right-color: var(--fill-color);\n",
              "      border-top-color: var(--fill-color);\n",
              "    }\n",
              "    60% {\n",
              "      border-color: transparent;\n",
              "      border-right-color: var(--fill-color);\n",
              "    }\n",
              "    80% {\n",
              "      border-color: transparent;\n",
              "      border-right-color: var(--fill-color);\n",
              "      border-bottom-color: var(--fill-color);\n",
              "    }\n",
              "    90% {\n",
              "      border-color: transparent;\n",
              "      border-bottom-color: var(--fill-color);\n",
              "    }\n",
              "  }\n",
              "</style>\n",
              "\n",
              "  <script>\n",
              "    async function quickchart(key) {\n",
              "      const quickchartButtonEl =\n",
              "        document.querySelector('#' + key + ' button');\n",
              "      quickchartButtonEl.disabled = true;  // To prevent multiple clicks.\n",
              "      quickchartButtonEl.classList.add('colab-df-spinner');\n",
              "      try {\n",
              "        const charts = await google.colab.kernel.invokeFunction(\n",
              "            'suggestCharts', [key], {});\n",
              "      } catch (error) {\n",
              "        console.error('Error during call to suggestCharts:', error);\n",
              "      }\n",
              "      quickchartButtonEl.classList.remove('colab-df-spinner');\n",
              "      quickchartButtonEl.classList.add('colab-df-quickchart-complete');\n",
              "    }\n",
              "    (() => {\n",
              "      let quickchartButtonEl =\n",
              "        document.querySelector('#df-0e4f77f8-4fd7-4bb7-9650-1f60ec8dfc02 button');\n",
              "      quickchartButtonEl.style.display =\n",
              "        google.colab.kernel.accessAllowed ? 'block' : 'none';\n",
              "    })();\n",
              "  </script>\n",
              "</div>\n",
              "    </div>\n",
              "  </div>\n"
            ],
            "text/plain": [
              "    Age  MonthlyIncome  NumCompaniesWorked  PercentSalaryHike  \\\n",
              "0  51.0       131160.0                 1.0               11.0   \n",
              "1  31.0        41890.0                 0.0               23.0   \n",
              "2  32.0       193280.0                 1.0               15.0   \n",
              "3  38.0        83210.0                 3.0               11.0   \n",
              "4  32.0        23420.0                 4.0               12.0   \n",
              "\n",
              "   TotalWorkingYears  TrainingTimesLastYear  YearsAtCompany  \\\n",
              "0                1.0                    6.0             1.0   \n",
              "1                6.0                    3.0             5.0   \n",
              "2                5.0                    2.0             5.0   \n",
              "3               13.0                    5.0             8.0   \n",
              "4                9.0                    2.0             6.0   \n",
              "\n",
              "   YearsSinceLastPromotion  YearsWithCurrManager  mean_time  ...  \\\n",
              "0                      0.0                   0.0     6.8702  ...   \n",
              "1                      1.0                   4.0     7.3160  ...   \n",
              "2                      0.0                   3.0     6.8161  ...   \n",
              "3                      7.0                   5.0     6.7892  ...   \n",
              "4                      0.0                   4.0     7.8776  ...   \n",
              "\n",
              "   StockOptionLevel_1  EnvironmentSatisfaction_1.0  \\\n",
              "0                   0                            0   \n",
              "1                   1                            0   \n",
              "2                   0                            0   \n",
              "3                   0                            0   \n",
              "4                   0                            0   \n",
              "\n",
              "   EnvironmentSatisfaction_2.0  EnvironmentSatisfaction_3.0  \\\n",
              "0                            0                            1   \n",
              "1                            0                            1   \n",
              "2                            1                            0   \n",
              "3                            0                            0   \n",
              "4                            0                            0   \n",
              "\n",
              "   EnvironmentSatisfaction_4.0  JobSatisfaction_1.0  JobSatisfaction_4.0  \\\n",
              "0                            0                    0                    1   \n",
              "1                            0                    0                    0   \n",
              "2                            0                    0                    0   \n",
              "3                            1                    0                    1   \n",
              "4                            1                    1                    0   \n",
              "\n",
              "   WorkLifeBalance_1.0  WorkLifeBalance_3.0  WorkLifeBalance_4.0  \n",
              "0                    0                    0                    0  \n",
              "1                    0                    0                    1  \n",
              "2                    1                    0                    0  \n",
              "3                    0                    1                    0  \n",
              "4                    0                    1                    0  \n",
              "\n",
              "[5 rows x 39 columns]"
            ]
          },
          "execution_count": 203,
          "metadata": {},
          "output_type": "execute_result"
        }
      ],
      "source": [
        "from sklearn.feature_selection import SequentialFeatureSelector\n",
        "\n",
        "# Selector secuencias utilizando regresión logísticas\n",
        "sfs = SequentialFeatureSelector(LinearRegression(),\n",
        "                                n_features_to_select=39,\n",
        "                                direction= \"forward\",\n",
        "                                scoring='r2')\n",
        "# Obtener variable seleccionadas\n",
        "sfs = sfs.fit(X, y)\n",
        "X_new = sfs.support_\n",
        "df_new = X.iloc[:,X_new]\n",
        "df_new.head()"
      ]
    },
    {
      "cell_type": "code",
      "execution_count": null,
      "metadata": {
        "colab": {
          "background_save": true
        },
        "id": "AIImKyANn1lN",
        "outputId": "cf576154-4aee-47a1-c461-b9efa9f78699"
      },
      "outputs": [
        {
          "name": "stdout",
          "output_type": "stream",
          "text": [
            "Tamaño del conjunto de entrenamiento: (3528, 39)\n",
            "Tamaño del conjunto de validación: (882, 39)\n"
          ]
        }
      ],
      "source": [
        "X = df_new\n",
        "y = df_datafinal.iloc[:,-1]\n",
        "le = LabelEncoder()\n",
        "y = le.fit_transform(y)\n",
        "\n",
        "# Separación en conjuntos de entrenamiento y validación con 80% de muestras para entrenamiento\n",
        "X_train, X_test, y_train, y_test = train_test_split(X, y, test_size=0.2, random_state=42)\n",
        "\n",
        "#Imprimir Tamaño de dataset\n",
        "print(\"Tamaño del conjunto de entrenamiento:\", X_train.shape)\n",
        "print(\"Tamaño del conjunto de validación:\", X_test.shape)\n",
        "\n",
        "#Nombre de caracteristicas númericas\n",
        "numeric_columns=list(X.select_dtypes('float64').columns)\n",
        "\n",
        "#Estandarización de variables númericas\n",
        "pipeline=ColumnTransformer([(\"std_num\" , StandardScaler(), numeric_columns)], remainder='passthrough')\n",
        "\n",
        "X_train_std = pipeline.fit_transform(X_train)\n",
        "X_test_std = pipeline.transform(X_test)"
      ]
    },
    {
      "cell_type": "code",
      "execution_count": null,
      "metadata": {
        "colab": {
          "background_save": true
        },
        "id": "9iodA8o7n3_U",
        "outputId": "5e0bd07a-6ca9-4fe1-f611-40d66b279775"
      },
      "outputs": [
        {
          "name": "stdout",
          "output_type": "stream",
          "text": [
            "Coeficientes:  [[-0.27340334 -0.08650144  0.3289063   0.0172459  -0.56431329 -0.26052448\n",
            "   0.26188543  0.50631613 -0.68280131  0.61736576  0.11688169 -0.79356502\n",
            "   0.7641475   0.02941035  1.01017699 -0.0642732   0.45441793 -0.41811899\n",
            "  -0.27485677 -0.00594085  0.00593367 -0.29254672 -0.77961206  0.57736393\n",
            "   0.1088176  -0.56129996 -0.15438459  0.71567736  0.00140707 -0.23704905\n",
            "   0.70965162 -0.19077435 -0.05283015 -0.4660543   0.86579479 -0.5801079\n",
            "   0.98479313 -0.2982846   0.11909398]]\n",
            "\n",
            "Intercepto:  [-0.76013292]\n",
            "Accuracy (Train): 75.56689342403628%\n",
            "Score:  1.0\n"
          ]
        }
      ],
      "source": [
        "# Crea el modelo\n",
        "regr = LogisticRegression(class_weight=\"balanced\", random_state=42, max_iter=1000)\n",
        "# Calibra el modelo\n",
        "regr.fit(X_train_std, y_train)\n",
        "#Realice predicciones sobre x_train_std\n",
        "y_pred = regr.predict(X_train_std)\n",
        "# Imprime los coeficientes\n",
        "print(\"Coeficientes: \", regr.coef_)\n",
        "\n",
        "# Imprime el intercepto\n",
        "print(\"\\nIntercepto: \", regr.intercept_)\n",
        "#Exactitud de modelo\n",
        "print(\"Accuracy (Train): \"+ str(regr.score(X_train_std,y_train)*100) + \"%\")\n",
        "print(\"Score: \", regr.score(X_train_std, y_pred))"
      ]
    },
    {
      "cell_type": "code",
      "execution_count": null,
      "metadata": {
        "colab": {
          "background_save": true
        },
        "id": "sjSBVAoYn9dn",
        "outputId": "057814fc-3689-4b6b-d389-712d6706295d"
      },
      "outputs": [
        {
          "name": "stdout",
          "output_type": "stream",
          "text": [
            "Accuracy (Test): 72.78911564625851%\n"
          ]
        }
      ],
      "source": [
        "#Predicciones sobre el conjunto de test\n",
        "y_hat = regr.predict(X_test_std)\n",
        "#Exactitud de modelo\n",
        "print(\"Accuracy (Test): \"+ str(regr.score(X_test_std,y_test)*100) + \"%\")"
      ]
    },
    {
      "cell_type": "code",
      "execution_count": null,
      "metadata": {
        "colab": {
          "background_save": true
        },
        "id": "VQJUNBVen_yh",
        "outputId": "4df36b7b-2614-4568-a2e0-38f22cb6499b"
      },
      "outputs": [
        {
          "data": {
            "image/png": "[encoded data removed]",
            "text/plain": [
              "<Figure size 640x480 with 2 Axes>"
            ]
          },
          "metadata": {},
          "output_type": "display_data"
        },
        {
          "name": "stdout",
          "output_type": "stream",
          "text": [
            "[[542 199]\n",
            " [ 41 100]]\n"
          ]
        }
      ],
      "source": [
        "#VALIDAR MODELO\n",
        "#validar modelo\n",
        "from sklearn.metrics import confusion_matrix, ConfusionMatrixDisplay\n",
        "cm = confusion_matrix(y_test, y_hat)\n",
        "disp = ConfusionMatrixDisplay(confusion_matrix = cm)\n",
        "disp.plot(cmap='CMRmap_r')\n",
        "plt.show()\n",
        "print(cm)"
      ]
    },
    {
      "cell_type": "code",
      "execution_count": null,
      "metadata": {
        "colab": {
          "background_save": true
        },
        "id": "J8OgHLkBnvwv",
        "outputId": "7ae68f36-f867-4fe6-b487-0cbea6135383"
      },
      "outputs": [
        {
          "name": "stdout",
          "output_type": "stream",
          "text": [
            "Precision: 0.9296740994854202\n",
            "Recuperacion: 0.7314439946018894\n",
            "F1-score: 0.8187311178247735\n",
            "Especificidad: 0.7092198581560284\n"
          ]
        }
      ],
      "source": [
        "TP=cm[0,0]\n",
        "FP=cm[1,0]\n",
        "FN=cm[0,1]\n",
        "TN=cm[1,1]\n",
        "\n",
        "print(f'Precision: {TP/(TP+FP)}')\n",
        "print(f'Recuperacion: {TP/(TP+FN)}')\n",
        "precision=TP/(TP+FP)\n",
        "recall=TP/(TP+FN)\n",
        "print(f'F1-score: {(2*precision*recall)/(precision+recall)}')\n",
        "print(f'Especificidad: {TN/(FP+TN)}')"
      ]
    },
    {
      "cell_type": "markdown",
      "metadata": {
        "id": "X5Lze-kPeP02"
      },
      "source": [
        "# **f. Selección y aplicación de algoritmos/técnicas de modelado**\n",
        "\n",
        "Aplicar al menos tres algoritmos de aprendizaje supervisado vistos en clase, como Regresión Logística, Árboles de Decisión, Random Forest, Support Vector Machine, y otros. Entrenar y evaluar estos modelos utilizando métricas adecuadas, como precisión, sensibilidad, especificidad, F1-score, etc."
      ]
    },
    {
      "cell_type": "markdown",
      "metadata": {
        "id": "DHh9FpasHzox"
      },
      "source": [
        "##**Regresión Logistica normal**"
      ]
    },
    {
      "cell_type": "code",
      "execution_count": null,
      "metadata": {
        "colab": {
          "background_save": true
        },
        "id": "BoU4tjFlHzoy",
        "outputId": "47f445f2-5bec-49d2-f8b4-b85e23dff322"
      },
      "outputs": [
        {
          "name": "stdout",
          "output_type": "stream",
          "text": [
            "Coeficientes:  [[-0.29266057 -0.06940414  0.35256399 -0.0336983  -0.65413829 -0.21911594\n",
            "   0.13008096  0.54825584 -0.62121416  0.62034358 -0.00700425 -0.70364771\n",
            "   0.74305316 -0.04377718  0.78398765 -0.08710052  0.48016328 -0.35764355\n",
            "  -0.25037708 -0.04059013  0.0362184  -0.39112337 -0.65473443  0.6027421\n",
            "   0.13513006 -0.4840494  -0.26006538  0.73974305  0.07285386 -0.21446816\n",
            "   0.71658001 -0.12285053 -0.09936182 -0.49873938  0.76002322 -0.66834206\n",
            "   0.99373426 -0.23444576  0.05123078]]\n",
            "\n",
            "Intercepto:  [-2.03306289]\n",
            "Accuracy (Train): 86.5079365079365%\n"
          ]
        }
      ],
      "source": [
        "from sklearn.linear_model import LogisticRegression\n",
        "from sklearn.metrics import accuracy_score\n",
        "#Crea el modelo\n",
        "regr = LogisticRegression()\n",
        "#Calibra el modelo\n",
        "regr.fit(X_train_std, y_train)\n",
        "#Realice predicciones sobre x_train_std\n",
        "y_pred = regr.predict(X_train_std)\n",
        "# Imprime los coeficientes\n",
        "print(\"Coeficientes: \", regr.coef_)\n",
        "\n",
        "# Imprime el intercepto\n",
        "print(\"\\nIntercepto: \", regr.intercept_)\n",
        "#Exactitud de modelo\n",
        "print(\"Accuracy (Train): \"+ str(regr.score(X_train_std,y_train)*100) + \"%\")"
      ]
    },
    {
      "cell_type": "code",
      "execution_count": null,
      "metadata": {
        "colab": {
          "background_save": true
        },
        "id": "KwzXDkn6Hzoy",
        "outputId": "a56a53b8-7e63-4bcf-8507-b9660d593667"
      },
      "outputs": [
        {
          "name": "stdout",
          "output_type": "stream",
          "text": [
            "Accuracy (Test): 85.03401360544217%\n"
          ]
        }
      ],
      "source": [
        "#Predicciones sobre el conjunto de test\n",
        "y_hat = regr.predict(X_test_std)\n",
        "#Exactitud de modelo\n",
        "print(\"Accuracy (Test): \"+ str(regr.score(X_test_std,y_test)*100) + \"%\")"
      ]
    },
    {
      "cell_type": "code",
      "execution_count": null,
      "metadata": {
        "colab": {
          "background_save": true
        },
        "id": "8Hg0tzIPHzoy",
        "outputId": "7aa675b6-7f39-457c-cdd2-03a945de3ade"
      },
      "outputs": [
        {
          "data": {
            "image/png": "[encoded data removed]",
            "text/plain": [
              "<Figure size 640x480 with 2 Axes>"
            ]
          },
          "metadata": {},
          "output_type": "display_data"
        },
        {
          "name": "stdout",
          "output_type": "stream",
          "text": [
            "[[711  30]\n",
            " [102  39]]\n"
          ]
        }
      ],
      "source": [
        "from sklearn.metrics import confusion_matrix, ConfusionMatrixDisplay\n",
        "cm = confusion_matrix(y_test, y_hat)\n",
        "disp = ConfusionMatrixDisplay(confusion_matrix = cm)\n",
        "disp.plot(cmap='CMRmap_r')\n",
        "plt.show()\n",
        "print(cm)"
      ]
    },
    {
      "cell_type": "markdown",
      "metadata": {
        "id": "101hZke9fy15"
      },
      "source": [
        "En esta matriz:\n",
        "\n",
        "709 representan los verdaderos positivos (True Positives, TP). Son las instancias que fueron clasificadas correctamente como positivas por el modelo.\n",
        "\n",
        "32 representan los falsos negativos (False Negatives, FN). Son las instancias que eran positivas pero fueron clasificadas incorrectamente como negativas por el modelo.\n",
        "\n",
        "101 representan los falsos positivos (False Positives, FP). Son las instancias que eran negativas pero fueron clasificadas incorrectamente como positivas por el modelo.\n",
        "\n",
        "40 representa los verdaderos negativos (True Negatives, TN). Son las instancias que fueron clasificadas correctamente como negativas por el modelo."
      ]
    },
    {
      "cell_type": "code",
      "execution_count": null,
      "metadata": {
        "colab": {
          "background_save": true
        },
        "id": "KUSu3BBNHzoy",
        "outputId": "11b27b85-16b4-435e-b7c1-7162a09535b3"
      },
      "outputs": [
        {
          "name": "stdout",
          "output_type": "stream",
          "text": [
            "Accuracy: 0.8503401360544217\n",
            "Precisión: 0.8745387453874539\n",
            "Recuperación: 0.9595141700404858\n",
            "F1-score: 0.915057915057915\n",
            "Especificidad: 0.2765957446808511\n"
          ]
        }
      ],
      "source": [
        "TP=cm[0,0]\n",
        "FP=cm[1,0]\n",
        "FN=cm[0,1]\n",
        "TN=cm[1,1]\n",
        "\n",
        "print(f'Accuracy: {(TP+TN)/(TP+TN+FP+FN)}')\n",
        "print(f'Precisión: {TP/(TP+FP)}')\n",
        "print(f'Recuperación: {TP/(TP+FN)}')\n",
        "precision=TP/(TP+FP)\n",
        "recall=TP/(TP+FN)\n",
        "print(f'F1-score: {(2*precision*recall)/(precision+recall)}')\n",
        "print(f'Especificidad: {TN/(FP+TN)}')"
      ]
    },
    {
      "cell_type": "markdown",
      "metadata": {
        "id": "fUVy1T8ihQwC"
      },
      "source": [
        "\n",
        "\n",
        "*   El modelo tiene una exactitud aproximada del 84.92%. Esto significa que alrededor del 84.92% de todas las predicciones realizadas por el modelo son correctas. Sin embargo, la exactitud por sí sola puede no ser suficiente para evaluar completamente el rendimiento del modelo, especialmente si el conjunto de datos está desequilibrado.\n",
        "*   El modelo tiene un alto recall (Sensibilidad o Tasa de Verdaderos Positivos) de aproximadamente 95.6%. Esto indica que el modelo es eficaz para capturar la mayoría de las instancias positivas en el conjunto de datos. En otras palabras, el modelo tiende a minimizar los falsos negativos, lo que es importante si los falsos negativos son costosos o críticos en la aplicación.\n",
        "*   La precisión del modelo es aproximadamente 87.65%. Esto significa que, de todas las instancias que el modelo clasifica como positivos, alrededor del 87.65% son verdaderamente positivos. El modelo tiende a minimizar los falsos positivos.\n",
        "*   El F1-Score es una métrica que combina precisión y recuperación en un solo valor. Con un F1-Score de aproximadamente 91.5%, el modelo muestra un buen equilibrio entre la capacidad de clasificar correctamente las instancias positivas y negativas.\n",
        "\n",
        "En general, el modelo parece ser bastante efectivo en la tarea de clasificación. Tiene una alta sensibilidad, lo que sugiere que es bueno para detectar casos positivos. Sin embargo, la precisión no es tan alta como el recall, lo que significa que puede haber un número significativo de falsos positivos.\n",
        "\n",
        "\n",
        "\n",
        "\n",
        "\n",
        "\n",
        "\n",
        "\n",
        "\n",
        "\n",
        "\n",
        "\n"
      ]
    },
    {
      "cell_type": "markdown",
      "metadata": {
        "id": "y4G03RziHzoy"
      },
      "source": [
        "## **Regresión Logistica Balanceada**"
      ]
    },
    {
      "cell_type": "code",
      "execution_count": null,
      "metadata": {
        "colab": {
          "background_save": true
        },
        "id": "UkOlf02wHzoz",
        "outputId": "fe7acdd5-7bf1-4175-8d34-5dade6e15b38"
      },
      "outputs": [
        {
          "name": "stdout",
          "output_type": "stream",
          "text": [
            "Coeficientes:  [[-0.27340334 -0.08650144  0.3289063   0.0172459  -0.56431329 -0.26052448\n",
            "   0.26188543  0.50631613 -0.68280131  0.61736576  0.11688169 -0.79356502\n",
            "   0.7641475   0.02941035  1.01017699 -0.0642732   0.45441793 -0.41811899\n",
            "  -0.27485677 -0.00594085  0.00593367 -0.29254672 -0.77961206  0.57736393\n",
            "   0.1088176  -0.56129996 -0.15438459  0.71567736  0.00140707 -0.23704905\n",
            "   0.70965162 -0.19077435 -0.05283015 -0.4660543   0.86579479 -0.5801079\n",
            "   0.98479313 -0.2982846   0.11909398]]\n",
            "\n",
            "Intercepto:  [-0.76013292]\n",
            "Accuracy (Train): 75.56689342403628%\n",
            "Score:  1.0\n"
          ]
        }
      ],
      "source": [
        "#vamos a relizar un modelo balanceado\n",
        "from sklearn.linear_model import LogisticRegression\n",
        "\n",
        "# Crea el modelo\n",
        "regr = LogisticRegression(class_weight=\"balanced\", random_state=42, max_iter=1000)\n",
        "# Calibra el modelo\n",
        "regr.fit(X_train_std, y_train)\n",
        "#Realice predicciones sobre x_train_std\n",
        "y_pred = regr.predict(X_train_std)\n",
        "# Imprime los coeficientes\n",
        "print(\"Coeficientes: \", regr.coef_)\n",
        "\n",
        "# Imprime el intercepto\n",
        "print(\"\\nIntercepto: \", regr.intercept_)\n",
        "#Exactitud de modelo\n",
        "print(\"Accuracy (Train): \"+ str(regr.score(X_train_std,y_train)*100) + \"%\")\n",
        "print(\"Score: \", regr.score(X_train_std, y_pred))"
      ]
    },
    {
      "cell_type": "code",
      "execution_count": null,
      "metadata": {
        "colab": {
          "background_save": true
        },
        "id": "LFQ5kJE3Hzoz",
        "outputId": "330118b5-37e7-410b-8d16-1d2fd3efe902"
      },
      "outputs": [
        {
          "name": "stdout",
          "output_type": "stream",
          "text": [
            "Accuracy (Test): 72.78911564625851%\n"
          ]
        }
      ],
      "source": [
        "#Predicciones sobre el conjunto de test\n",
        "y_hat = regr.predict(X_test_std)\n",
        "#Exactitud de modelo\n",
        "print(\"Accuracy (Test): \"+ str(regr.score(X_test_std,y_test)*100) + \"%\")"
      ]
    },
    {
      "cell_type": "code",
      "execution_count": null,
      "metadata": {
        "colab": {
          "background_save": true
        },
        "id": "xGyICGVdHzoz",
        "outputId": "a6e2e4ac-5485-4c13-d12a-ec34a53034af"
      },
      "outputs": [
        {
          "data": {
            "image/png": "[encoded data removed]",
            "text/plain": [
              "<Figure size 640x480 with 2 Axes>"
            ]
          },
          "metadata": {},
          "output_type": "display_data"
        },
        {
          "name": "stdout",
          "output_type": "stream",
          "text": [
            "[[542 199]\n",
            " [ 41 100]]\n"
          ]
        }
      ],
      "source": [
        "from sklearn.metrics import confusion_matrix, ConfusionMatrixDisplay\n",
        "cm = confusion_matrix(y_test, y_hat)\n",
        "disp = ConfusionMatrixDisplay(confusion_matrix = cm)\n",
        "disp.plot(cmap='CMRmap_r')\n",
        "plt.show()\n",
        "print(cm)"
      ]
    },
    {
      "cell_type": "markdown",
      "metadata": {
        "id": "M5OfD7fzmiDP"
      },
      "source": [
        "Verdaderos Positivos (TP) = 544\n",
        "Falsos Negativos (FN) = 197\n",
        "Falsos Positivos (FP) = 37\n",
        "Verdaderos Negativos (TN) = 104"
      ]
    },
    {
      "cell_type": "code",
      "execution_count": null,
      "metadata": {
        "colab": {
          "background_save": true
        },
        "id": "V9YNZSX0Hzoz",
        "outputId": "6c97216e-140c-4fb8-be04-efbf42ae73ce"
      },
      "outputs": [
        {
          "name": "stdout",
          "output_type": "stream",
          "text": [
            "Accuracy: 0.7278911564625851\n",
            "Precisión: 0.9296740994854202\n",
            "Recuperación: 0.7314439946018894\n",
            "F1-score: 0.8187311178247735\n",
            "Especificidad: 0.7092198581560284\n"
          ]
        }
      ],
      "source": [
        "TP=cm[0,0]\n",
        "FP=cm[1,0]\n",
        "FN=cm[0,1]\n",
        "TN=cm[1,1]\n",
        "print(f'Accuracy: {(TP+TN)/(TP+TN+FP+FN)}')\n",
        "print(f'Precisión: {TP/(TP+FP)}')\n",
        "print(f'Recuperación: {TP/(TP+FN)}')\n",
        "precision=TP/(TP+FP)\n",
        "recall=TP/(TP+FN)\n",
        "print(f'F1-score: {(2*precision*recall)/(precision+recall)}')\n",
        "print(f'Especificidad: {TN/(FP+TN)}')"
      ]
    },
    {
      "cell_type": "markdown",
      "metadata": {
        "id": "uPUsupLKHzoz"
      },
      "source": [
        "Ahora, podemos comparar estos resultados con los del modelo anterior:\n",
        "\n",
        "Modelo Original (desbalanceado):\n",
        "\n",
        "\n",
        "*   Exactitud (Accuracy): Aproximadamente 0.8492\n",
        "*   Precisión (Precision): Aproximadamente 0.8765\n",
        "*   F1-Score: Aproximadamente 0.915\n",
        "*   Recall (Sensibilidad): Aproximadamente 0.956\n",
        "\n",
        "Modelo Balanceado (nuevo):\n",
        "\n",
        "*   Exactitud (Accuracy): Aproximadamente  0.7346\n",
        "*   Precisión (Precision): Aproximadamente 0.9364\n",
        "*   F1-Score: Aproximadamente 0.82\n",
        "*   Recall (Sensibilidad): Aproximadamente 0.7331\n",
        "\n",
        "Comparando ambos modelos:\n",
        "\n",
        "\n",
        "*  El modelo original tiene una mayor exactitud y recall que el modelo balanceado, lo que significa que es mejor para detectar casos positivos, pero tiene una precisión ligeramente menor.\n",
        "*   El modelo balanceado tiene una mayor precisión que el modelo original.\n",
        "*  El F1-Score es comparable entre ambos modelos, pero el modelo original tiene un F1-Score ligeramente superior.\n",
        "\n",
        "\n",
        "\n",
        "\n"
      ]
    },
    {
      "cell_type": "markdown",
      "metadata": {
        "id": "vEkJDghzoFW2"
      },
      "source": [
        "## **Kfold Cross Val**"
      ]
    },
    {
      "cell_type": "code",
      "execution_count": null,
      "metadata": {
        "colab": {
          "background_save": true
        },
        "id": "bngJj02FoG7Z"
      },
      "outputs": [],
      "source": [
        "from sklearn.linear_model import LogisticRegression\n",
        "from sklearn.model_selection import train_test_split\n",
        "from sklearn.model_selection import KFold\n",
        "from sklearn.model_selection import cross_val_score\n",
        "from sklearn.model_selection import LeaveOneOut\n",
        "from sklearn.model_selection import ShuffleSplit"
      ]
    },
    {
      "cell_type": "code",
      "execution_count": null,
      "metadata": {
        "colab": {
          "background_save": true
        },
        "id": "XraZWBZRoOS1"
      },
      "outputs": [],
      "source": [
        "X = df2_dummys\n",
        "y = df_datafinal.iloc[:,-1]\n",
        "le = LabelEncoder()\n",
        "y = le.fit_transform(y)"
      ]
    },
    {
      "cell_type": "code",
      "execution_count": null,
      "metadata": {
        "colab": {
          "background_save": true
        },
        "id": "r_uBLjLDoP0j",
        "outputId": "15f2e6d2-a568-4631-caaf-856782758001"
      },
      "outputs": [
        {
          "data": {
            "text/plain": [
              "84.17233560090702"
            ]
          },
          "execution_count": 219,
          "metadata": {},
          "output_type": "execute_result"
        }
      ],
      "source": [
        "kfld = KFold(n_splits=10,random_state=6,shuffle=True) #se puede jugar con n_splits (k), random(semilla)\n",
        "\n",
        "modelo = LogisticRegression(solver='liblinear')\n",
        "\n",
        "res = cross_val_score(modelo,X,y, cv=kfld)\n",
        "\n",
        "res.mean()*100"
      ]
    },
    {
      "cell_type": "code",
      "execution_count": null,
      "metadata": {
        "colab": {
          "background_save": true
        },
        "id": "qhGP--INoRlz",
        "outputId": "daabd551-9525-44a4-8ff1-8f6b01bef116"
      },
      "outputs": [
        {
          "data": {
            "text/plain": [
              "84.62585034013605"
            ]
          },
          "execution_count": 220,
          "metadata": {},
          "output_type": "execute_result"
        }
      ],
      "source": [
        "loo = LeaveOneOut()\n",
        "\n",
        "modelo = LogisticRegression(solver='liblinear')\n",
        "\n",
        "res = cross_val_score(modelo,X,y, cv=loo)\n",
        "\n",
        "res.mean()*100"
      ]
    },
    {
      "cell_type": "code",
      "execution_count": null,
      "metadata": {
        "colab": {
          "background_save": true
        },
        "id": "tQz58hdNoVAB",
        "outputId": "185a44ed-bee9-4cd3-dba8-f7a5ba7607fb"
      },
      "outputs": [
        {
          "name": "stdout",
          "output_type": "stream",
          "text": [
            "Tamaño del conjunto de entrenamiento: (3528, 57)\n",
            "Tamaño del conjunto de validación: (882, 57)\n"
          ]
        }
      ],
      "source": [
        "# Separación en conjuntos de entrenamiento y validación con 80% de muestras para entrenamiento\n",
        "X_train, X_test, y_train, y_test = train_test_split(X, y, test_size=0.2, random_state=42)\n",
        "\n",
        "#Imprimir Tamaño de dataset\n",
        "print(\"Tamaño del conjunto de entrenamiento:\", X_train.shape)\n",
        "print(\"Tamaño del conjunto de validación:\", X_test.shape)\n",
        "\n",
        "#Nombre de caracteristicas númericas\n",
        "numeric_columns=list(X.select_dtypes('float64').columns)\n",
        "\n",
        "#Estandarización de variables númericas\n",
        "pipeline=ColumnTransformer([(\"std_num\" , StandardScaler(), numeric_columns)], remainder='passthrough')\n",
        "\n",
        "X_train_std = pipeline.fit_transform(X_train)\n",
        "X_test_std = pipeline.transform(X_test)"
      ]
    },
    {
      "cell_type": "code",
      "execution_count": null,
      "metadata": {
        "colab": {
          "background_save": true
        },
        "id": "DKJ4G4SVpGif",
        "outputId": "865ef914-eed5-44f0-d85e-55149bfee1e3"
      },
      "outputs": [
        {
          "name": "stdout",
          "output_type": "stream",
          "text": [
            "Score:  0.0\n",
            "F1-score:  0.4545454545454546\n"
          ]
        }
      ],
      "source": [
        "# Otra alternativa utilizando LogisticRegressionCV\n",
        "from sklearn.linear_model import LogisticRegressionCV\n",
        "from sklearn.metrics import f1_score\n",
        "\n",
        "# Definición de modelo y ajuste a todos los datos\n",
        "clf = LogisticRegressionCV(cv=5, random_state=0, scoring='f1', max_iter=1000, solver = 'liblinear').fit(X, y)\n",
        "\n",
        "print(\"Score: \", clf.score(X_test, y_test))\n",
        "print(\"F1-score: \", f1_score(y_test, y_hat))"
      ]
    },
    {
      "cell_type": "markdown",
      "metadata": {
        "id": "1CEqbLN3yyWQ"
      },
      "source": [
        "**Conclusión:**\n",
        "1. El F1-score del modelo es de 0.46 Por lo que seguimos con problemas para predecir de manera correcta .\n",
        "2. Como pudimos observar para este problema  la regresion  logistica no es un metodo muy acertado para predecir, ya que los modelos evaluados anteriormente no tienen metricas tan buenas por lo que analizaremos con otros metodos mas avanzados para ver si mejora las predicciones."
      ]
    },
    {
      "cell_type": "markdown",
      "metadata": {
        "id": "WqNFFkBgyujF"
      },
      "source": [
        "##**Árboles de decisión**"
      ]
    },
    {
      "cell_type": "code",
      "execution_count": null,
      "metadata": {
        "colab": {
          "background_save": true
        },
        "id": "GZWTONRJzBGZ"
      },
      "outputs": [],
      "source": [
        "from scipy.stats import randint"
      ]
    },
    {
      "cell_type": "code",
      "execution_count": null,
      "metadata": {
        "colab": {
          "background_save": true
        },
        "id": "EWxRnJ5TzB5M",
        "outputId": "95209242-01b9-44de-bb2c-a30755d19c53"
      },
      "outputs": [
        {
          "data": {
            "text/html": [
              "<style>#sk-container-id-2 {color: black;background-color: white;}#sk-container-id-2 pre{padding: 0;}#sk-container-id-2 div.sk-toggleable {background-color: white;}#sk-container-id-2 label.sk-toggleable__label {cursor: pointer;display: block;width: 100%;margin-bottom: 0;padding: 0.3em;box-sizing: border-box;text-align: center;}#sk-container-id-2 label.sk-toggleable__label-arrow:before {content: \"▸\";float: left;margin-right: 0.25em;color: #696969;}#sk-container-id-2 label.sk-toggleable__label-arrow:hover:before {color: black;}#sk-container-id-2 div.sk-estimator:hover label.sk-toggleable__label-arrow:before {color: black;}#sk-container-id-2 div.sk-toggleable__content {max-height: 0;max-width: 0;overflow: hidden;text-align: left;background-color: #f0f8ff;}#sk-container-id-2 div.sk-toggleable__content pre {margin: 0.2em;color: black;border-radius: 0.25em;background-color: #f0f8ff;}#sk-container-id-2 input.sk-toggleable__control:checked~div.sk-toggleable__content {max-height: 200px;max-width: 100%;overflow: auto;}#sk-container-id-2 input.sk-toggleable__control:checked~label.sk-toggleable__label-arrow:before {content: \"▾\";}#sk-container-id-2 div.sk-estimator input.sk-toggleable__control:checked~label.sk-toggleable__label {background-color: #d4ebff;}#sk-container-id-2 div.sk-label input.sk-toggleable__control:checked~label.sk-toggleable__label {background-color: #d4ebff;}#sk-container-id-2 input.sk-hidden--visually {border: 0;clip: rect(1px 1px 1px 1px);clip: rect(1px, 1px, 1px, 1px);height: 1px;margin: -1px;overflow: hidden;padding: 0;position: absolute;width: 1px;}#sk-container-id-2 div.sk-estimator {font-family: monospace;background-color: #f0f8ff;border: 1px dotted black;border-radius: 0.25em;box-sizing: border-box;margin-bottom: 0.5em;}#sk-container-id-2 div.sk-estimator:hover {background-color: #d4ebff;}#sk-container-id-2 div.sk-parallel-item::after {content: \"\";width: 100%;border-bottom: 1px solid gray;flex-grow: 1;}#sk-container-id-2 div.sk-label:hover label.sk-toggleable__label {background-color: #d4ebff;}#sk-container-id-2 div.sk-serial::before {content: \"\";position: absolute;border-left: 1px solid gray;box-sizing: border-box;top: 0;bottom: 0;left: 50%;z-index: 0;}#sk-container-id-2 div.sk-serial {display: flex;flex-direction: column;align-items: center;background-color: white;padding-right: 0.2em;padding-left: 0.2em;position: relative;}#sk-container-id-2 div.sk-item {position: relative;z-index: 1;}#sk-container-id-2 div.sk-parallel {display: flex;align-items: stretch;justify-content: center;background-color: white;position: relative;}#sk-container-id-2 div.sk-item::before, #sk-container-id-2 div.sk-parallel-item::before {content: \"\";position: absolute;border-left: 1px solid gray;box-sizing: border-box;top: 0;bottom: 0;left: 50%;z-index: -1;}#sk-container-id-2 div.sk-parallel-item {display: flex;flex-direction: column;z-index: 1;position: relative;background-color: white;}#sk-container-id-2 div.sk-parallel-item:first-child::after {align-self: flex-end;width: 50%;}#sk-container-id-2 div.sk-parallel-item:last-child::after {align-self: flex-start;width: 50%;}#sk-container-id-2 div.sk-parallel-item:only-child::after {width: 0;}#sk-container-id-2 div.sk-dashed-wrapped {border: 1px dashed gray;margin: 0 0.4em 0.5em 0.4em;box-sizing: border-box;padding-bottom: 0.4em;background-color: white;}#sk-container-id-2 div.sk-label label {font-family: monospace;font-weight: bold;display: inline-block;line-height: 1.2em;}#sk-container-id-2 div.sk-label-container {text-align: center;}#sk-container-id-2 div.sk-container {/* jupyter's `normalize.less` sets `[hidden] { display: none; }` but bootstrap.min.css set `[hidden] { display: none !important; }` so we also need the `!important` here to be able to override the default hidden behavior on the sphinx rendered scikit-learn.org. See: https://github.com/scikit-learn/scikit-learn/issues/21755 */display: inline-block !important;position: relative;}#sk-container-id-2 div.sk-text-repr-fallback {display: none;}</style><div id=\"sk-container-id-2\" class=\"sk-top-container\"><div class=\"sk-text-repr-fallback\"><pre>DecisionTreeClassifier(random_state=0)</pre><b>In a Jupyter environment, please rerun this cell to show the HTML representation or trust the notebook. <br />On GitHub, the HTML representation is unable to render, please try loading this page with nbviewer.org.</b></div><div class=\"sk-container\" hidden><div class=\"sk-item\"><div class=\"sk-estimator sk-toggleable\"><input class=\"sk-toggleable__control sk-hidden--visually\" id=\"sk-estimator-id-2\" type=\"checkbox\" checked><label for=\"sk-estimator-id-2\" class=\"sk-toggleable__label sk-toggleable__label-arrow\">DecisionTreeClassifier</label><div class=\"sk-toggleable__content\"><pre>DecisionTreeClassifier(random_state=0)</pre></div></div></div></div></div>"
            ],
            "text/plain": [
              "DecisionTreeClassifier(random_state=0)"
            ]
          },
          "execution_count": 224,
          "metadata": {},
          "output_type": "execute_result"
        }
      ],
      "source": [
        "treedf = tree.DecisionTreeClassifier(\n",
        "          criterion = 'gini',\n",
        "          random_state=0)\n",
        "treedf.fit(X_train_std, y_train)"
      ]
    },
    {
      "cell_type": "code",
      "execution_count": null,
      "metadata": {
        "colab": {
          "background_save": true
        },
        "id": "I1NhjM8YzDWt",
        "outputId": "47d60c7c-01cd-4332-b4df-022b6367f60c"
      },
      "outputs": [
        {
          "name": "stdout",
          "output_type": "stream",
          "text": [
            "Train - Accuracy : 1.0\n",
            "Train - classification report:\n",
            "               precision    recall  f1-score   support\n",
            "\n",
            "           0       1.00      1.00      1.00      2958\n",
            "           1       1.00      1.00      1.00       570\n",
            "\n",
            "    accuracy                           1.00      3528\n",
            "   macro avg       1.00      1.00      1.00      3528\n",
            "weighted avg       1.00      1.00      1.00      3528\n",
            "\n",
            "Test - Accuracy : 0.9705215419501134\n",
            "Test - classification report :               precision    recall  f1-score   support\n",
            "\n",
            "           0       0.99      0.98      0.98       741\n",
            "           1       0.89      0.94      0.91       141\n",
            "\n",
            "    accuracy                           0.97       882\n",
            "   macro avg       0.94      0.96      0.95       882\n",
            "weighted avg       0.97      0.97      0.97       882\n",
            "\n"
          ]
        }
      ],
      "source": [
        "# Métricas de desempeño\n",
        "print (\"Train - Accuracy :\", metrics.accuracy_score(y_train, treedf.predict(X_train_std)))\n",
        "print (\"Train - classification report:\\n\", metrics.classification_report(y_train, treedf.predict(X_train_std)))\n",
        "print (\"Test - Accuracy :\", metrics.accuracy_score(y_test, treedf.predict(X_test_std)))\n",
        "print (\"Test - classification report :\", metrics.classification_report(y_test, treedf.predict(X_test_std)))"
      ]
    },
    {
      "cell_type": "code",
      "execution_count": null,
      "metadata": {
        "colab": {
          "background_save": true
        },
        "id": "wu__kx96zFDL",
        "outputId": "675fba3c-9576-4c0e-e08d-0622d2f1120b"
      },
      "outputs": [
        {
          "data": {
            "image/png": "[encoded data removed]",
            "text/plain": [
              "<Figure size 640x480 with 2 Axes>"
            ]
          },
          "metadata": {},
          "output_type": "display_data"
        }
      ],
      "source": [
        "from sklearn.metrics import confusion_matrix, ConfusionMatrixDisplay\n",
        "# Matriz de confusion\n",
        "cm1= confusion_matrix(y_test, treedf.predict(X_test_std))\n",
        "# Visualización de la matriz de confusion\n",
        "cm1_display = ConfusionMatrixDisplay(confusion_matrix = cm1)\n",
        "cm1_display.plot()\n",
        "plt.show()"
      ]
    },
    {
      "cell_type": "code",
      "execution_count": null,
      "metadata": {
        "colab": {
          "background_save": true
        },
        "id": "jtDZioMHzGi_",
        "outputId": "5a69b7bb-f393-450d-c511-8b4f130897f8"
      },
      "outputs": [
        {
          "data": {
            "text/plain": [
              "[Text(0.3738969367807613, 0.9722222222222222, 'x[5] <= -1.256\\ngini = 0.271\\nsamples = 3528\\nvalue = [2958, 570]'),\n",
              " Text(0.0717025671289466, 0.9166666666666666, 'x[10] <= -0.018\\ngini = 0.5\\nsamples = 224\\nvalue = [111, 113]'),\n",
              " Text(0.05370315727353202, 0.8611111111111112, 'x[16] <= 0.5\\ngini = 0.45\\nsamples = 126\\nvalue = [83, 43]'),\n",
              " Text(0.0389495426379463, 0.8055555555555556, 'x[0] <= -1.693\\ngini = 0.377\\nsamples = 107\\nvalue = [80, 27]'),\n",
              " Text(0.02360578341693715, 0.75, 'x[8] <= -0.526\\ngini = 0.497\\nsamples = 37\\nvalue = [17, 20]'),\n",
              " Text(0.01888462673354972, 0.6944444444444444, 'x[2] <= 1.264\\ngini = 0.477\\nsamples = 28\\nvalue = [17, 11]'),\n",
              " Text(0.01416347005016229, 0.6388888888888888, 'x[20] <= 0.5\\ngini = 0.475\\nsamples = 18\\nvalue = [7, 11]'),\n",
              " Text(0.00944231336677486, 0.5833333333333334, 'x[13] <= 1.5\\ngini = 0.26\\nsamples = 13\\nvalue = [2, 11]'),\n",
              " Text(0.00472115668338743, 0.5277777777777778, 'gini = 0.0\\nsamples = 2\\nvalue = [2, 0]'),\n",
              " Text(0.01416347005016229, 0.5277777777777778, 'gini = 0.0\\nsamples = 11\\nvalue = [0, 11]'),\n",
              " Text(0.01888462673354972, 0.5833333333333334, 'gini = 0.0\\nsamples = 5\\nvalue = [5, 0]'),\n",
              " Text(0.02360578341693715, 0.6388888888888888, 'gini = 0.0\\nsamples = 10\\nvalue = [10, 0]'),\n",
              " Text(0.02832694010032458, 0.6944444444444444, 'gini = 0.0\\nsamples = 9\\nvalue = [0, 9]'),\n",
              " Text(0.054293301858955444, 0.75, 'x[18] <= 0.5\\ngini = 0.18\\nsamples = 70\\nvalue = [63, 7]'),\n",
              " Text(0.049572145175568016, 0.6944444444444444, 'x[32] <= 0.5\\ngini = 0.136\\nsamples = 68\\nvalue = [63, 5]'),\n",
              " Text(0.03776925346709944, 0.6388888888888888, 'x[10] <= -0.02\\ngini = 0.063\\nsamples = 61\\nvalue = [59, 2]'),\n",
              " Text(0.02832694010032458, 0.5833333333333334, 'x[43] <= 0.5\\ngini = 0.033\\nsamples = 59\\nvalue = [58, 1]'),\n",
              " Text(0.02360578341693715, 0.5277777777777778, 'gini = 0.0\\nsamples = 55\\nvalue = [55, 0]'),\n",
              " Text(0.03304809678371201, 0.5277777777777778, 'x[2] <= -0.247\\ngini = 0.375\\nsamples = 4\\nvalue = [3, 1]'),\n",
              " Text(0.02832694010032458, 0.4722222222222222, 'gini = 0.0\\nsamples = 1\\nvalue = [0, 1]'),\n",
              " Text(0.03776925346709944, 0.4722222222222222, 'gini = 0.0\\nsamples = 3\\nvalue = [3, 0]'),\n",
              " Text(0.0472115668338743, 0.5833333333333334, 'x[2] <= -0.59\\ngini = 0.5\\nsamples = 2\\nvalue = [1, 1]'),\n",
              " Text(0.04249041015048687, 0.5277777777777778, 'gini = 0.0\\nsamples = 1\\nvalue = [0, 1]'),\n",
              " Text(0.05193272351726173, 0.5277777777777778, 'gini = 0.0\\nsamples = 1\\nvalue = [1, 0]'),\n",
              " Text(0.06137503688403659, 0.6388888888888888, 'x[20] <= 0.5\\ngini = 0.49\\nsamples = 7\\nvalue = [4, 3]'),\n",
              " Text(0.05665388020064916, 0.5833333333333334, 'gini = 0.0\\nsamples = 4\\nvalue = [4, 0]'),\n",
              " Text(0.06609619356742402, 0.5833333333333334, 'gini = 0.0\\nsamples = 3\\nvalue = [0, 3]'),\n",
              " Text(0.05901445854234287, 0.6944444444444444, 'gini = 0.0\\nsamples = 2\\nvalue = [0, 2]'),\n",
              " Text(0.06845677190911774, 0.8055555555555556, 'x[11] <= 4.5\\ngini = 0.266\\nsamples = 19\\nvalue = [3, 16]'),\n",
              " Text(0.0637356152257303, 0.75, 'gini = 0.0\\nsamples = 16\\nvalue = [0, 16]'),\n",
              " Text(0.07317792859250516, 0.75, 'gini = 0.0\\nsamples = 3\\nvalue = [3, 0]'),\n",
              " Text(0.08970197698436116, 0.8611111111111112, 'x[6] <= -1.001\\ngini = 0.408\\nsamples = 98\\nvalue = [28, 70]'),\n",
              " Text(0.08498082030097374, 0.8055555555555556, 'gini = 0.0\\nsamples = 9\\nvalue = [9, 0]'),\n",
              " Text(0.0944231336677486, 0.8055555555555556, 'x[2] <= -0.897\\ngini = 0.336\\nsamples = 89\\nvalue = [19, 70]'),\n",
              " Text(0.08970197698436116, 0.75, 'gini = 0.0\\nsamples = 3\\nvalue = [3, 0]'),\n",
              " Text(0.09914429035113603, 0.75, 'x[15] <= 0.5\\ngini = 0.303\\nsamples = 86\\nvalue = [16, 70]'),\n",
              " Text(0.08970197698436116, 0.6944444444444444, 'x[40] <= 0.5\\ngini = 0.24\\nsamples = 79\\nvalue = [11, 68]'),\n",
              " Text(0.08498082030097374, 0.6388888888888888, 'x[48] <= 0.5\\ngini = 0.438\\nsamples = 34\\nvalue = [11, 23]'),\n",
              " Text(0.07553850693419888, 0.5833333333333334, 'x[51] <= 0.5\\ngini = 0.269\\nsamples = 25\\nvalue = [4, 21]'),\n",
              " Text(0.07081735025081144, 0.5277777777777778, 'gini = 0.0\\nsamples = 18\\nvalue = [0, 18]'),\n",
              " Text(0.08025966361758631, 0.5277777777777778, 'x[36] <= 0.5\\ngini = 0.49\\nsamples = 7\\nvalue = [4, 3]'),\n",
              " Text(0.07553850693419888, 0.4722222222222222, 'gini = 0.0\\nsamples = 4\\nvalue = [4, 0]'),\n",
              " Text(0.08498082030097374, 0.4722222222222222, 'gini = 0.0\\nsamples = 3\\nvalue = [0, 3]'),\n",
              " Text(0.0944231336677486, 0.5833333333333334, 'x[55] <= 0.5\\ngini = 0.346\\nsamples = 9\\nvalue = [7, 2]'),\n",
              " Text(0.08970197698436116, 0.5277777777777778, 'gini = 0.0\\nsamples = 2\\nvalue = [0, 2]'),\n",
              " Text(0.09914429035113603, 0.5277777777777778, 'gini = 0.0\\nsamples = 7\\nvalue = [7, 0]'),\n",
              " Text(0.0944231336677486, 0.6388888888888888, 'gini = 0.0\\nsamples = 45\\nvalue = [0, 45]'),\n",
              " Text(0.10858660371791089, 0.6944444444444444, 'x[19] <= 0.5\\ngini = 0.408\\nsamples = 7\\nvalue = [5, 2]'),\n",
              " Text(0.10386544703452345, 0.6388888888888888, 'gini = 0.0\\nsamples = 2\\nvalue = [0, 2]'),\n",
              " Text(0.11330776040129832, 0.6388888888888888, 'gini = 0.0\\nsamples = 5\\nvalue = [5, 0]'),\n",
              " Text(0.676091306432576, 0.9166666666666666, 'x[10] <= 0.338\\ngini = 0.238\\nsamples = 3304\\nvalue = [2847, 457]'),\n",
              " Text(0.4982433977574506, 0.8611111111111112, 'x[53] <= 0.5\\ngini = 0.165\\nsamples = 2409\\nvalue = [2191, 218]'),\n",
              " Text(0.3836216435526704, 0.8055555555555556, 'x[49] <= 0.5\\ngini = 0.149\\nsamples = 2290\\nvalue = [2104, 186]'),\n",
              " Text(0.22401519622307464, 0.75, 'x[2] <= -0.941\\ngini = 0.123\\nsamples = 1857\\nvalue = [1735, 122]'),\n",
              " Text(0.13219238713484804, 0.6944444444444444, 'x[0] <= -0.706\\ngini = 0.366\\nsamples = 54\\nvalue = [41, 13]'),\n",
              " Text(0.12275007376807318, 0.6388888888888888, 'x[4] <= -0.197\\ngini = 0.397\\nsamples = 11\\nvalue = [3, 8]'),\n",
              " Text(0.11802891708468574, 0.5833333333333334, 'gini = 0.0\\nsamples = 3\\nvalue = [3, 0]'),\n",
              " Text(0.1274712304514606, 0.5833333333333334, 'gini = 0.0\\nsamples = 8\\nvalue = [0, 8]'),\n",
              " Text(0.14163470050162288, 0.6388888888888888, 'x[0] <= 1.267\\ngini = 0.206\\nsamples = 43\\nvalue = [38, 5]'),\n",
              " Text(0.13691354381823548, 0.5833333333333334, 'gini = 0.0\\nsamples = 38\\nvalue = [38, 0]'),\n",
              " Text(0.14635585718501032, 0.5833333333333334, 'gini = 0.0\\nsamples = 5\\nvalue = [0, 5]'),\n",
              " Text(0.3158380053113013, 0.6944444444444444, 'x[7] <= -0.741\\ngini = 0.114\\nsamples = 1803\\nvalue = [1694, 109]'),\n",
              " Text(0.1912068456771909, 0.6388888888888888, 'x[0] <= -0.268\\ngini = 0.211\\nsamples = 326\\nvalue = [287, 39]'),\n",
              " Text(0.1557981705517852, 0.5833333333333334, 'x[40] <= 0.5\\ngini = 0.379\\nsamples = 122\\nvalue = [91, 31]'),\n",
              " Text(0.13455296547654175, 0.5277777777777778, 'x[51] <= 0.5\\ngini = 0.254\\nsamples = 87\\nvalue = [74, 13]'),\n",
              " Text(0.1298318087931543, 0.4722222222222222, 'gini = 0.0\\nsamples = 51\\nvalue = [51, 0]'),\n",
              " Text(0.13927412215992918, 0.4722222222222222, 'x[0] <= -0.706\\ngini = 0.461\\nsamples = 36\\nvalue = [23, 13]'),\n",
              " Text(0.13455296547654175, 0.4166666666666667, 'gini = 0.0\\nsamples = 16\\nvalue = [16, 0]'),\n",
              " Text(0.14399527884331662, 0.4166666666666667, 'x[12] <= 2.5\\ngini = 0.455\\nsamples = 20\\nvalue = [7, 13]'),\n",
              " Text(0.13927412215992918, 0.3611111111111111, 'x[2] <= -0.515\\ngini = 0.36\\nsamples = 17\\nvalue = [4, 13]'),\n",
              " Text(0.13455296547654175, 0.3055555555555556, 'x[45] <= 0.5\\ngini = 0.49\\nsamples = 7\\nvalue = [4, 3]'),\n",
              " Text(0.1298318087931543, 0.25, 'gini = 0.0\\nsamples = 4\\nvalue = [4, 0]'),\n",
              " Text(0.13927412215992918, 0.25, 'gini = 0.0\\nsamples = 3\\nvalue = [0, 3]'),\n",
              " Text(0.14399527884331662, 0.3055555555555556, 'gini = 0.0\\nsamples = 10\\nvalue = [0, 10]'),\n",
              " Text(0.14871643552670405, 0.3611111111111111, 'gini = 0.0\\nsamples = 3\\nvalue = [3, 0]'),\n",
              " Text(0.17704337562702863, 0.5277777777777778, 'x[3] <= 1.13\\ngini = 0.5\\nsamples = 35\\nvalue = [17, 18]'),\n",
              " Text(0.16760106226025376, 0.4722222222222222, 'x[23] <= 0.5\\ngini = 0.408\\nsamples = 21\\nvalue = [15, 6]'),\n",
              " Text(0.16287990557686632, 0.4166666666666667, 'x[17] <= 0.5\\ngini = 0.278\\nsamples = 18\\nvalue = [15, 3]'),\n",
              " Text(0.1581587488934789, 0.3611111111111111, 'gini = 0.0\\nsamples = 2\\nvalue = [0, 2]'),\n",
              " Text(0.16760106226025376, 0.3611111111111111, 'x[6] <= 2.076\\ngini = 0.117\\nsamples = 16\\nvalue = [15, 1]'),\n",
              " Text(0.16287990557686632, 0.3055555555555556, 'gini = 0.0\\nsamples = 15\\nvalue = [15, 0]'),\n",
              " Text(0.1723222189436412, 0.3055555555555556, 'gini = 0.0\\nsamples = 1\\nvalue = [0, 1]'),\n",
              " Text(0.1723222189436412, 0.4166666666666667, 'gini = 0.0\\nsamples = 3\\nvalue = [0, 3]'),\n",
              " Text(0.1864856889938035, 0.4722222222222222, 'x[48] <= 0.5\\ngini = 0.245\\nsamples = 14\\nvalue = [2, 12]'),\n",
              " Text(0.18176453231041606, 0.4166666666666667, 'gini = 0.0\\nsamples = 12\\nvalue = [0, 12]'),\n",
              " Text(0.1912068456771909, 0.4166666666666667, 'gini = 0.0\\nsamples = 2\\nvalue = [2, 0]'),\n",
              " Text(0.22661552080259664, 0.5833333333333334, 'x[18] <= 0.5\\ngini = 0.075\\nsamples = 204\\nvalue = [196, 8]'),\n",
              " Text(0.21481262909412807, 0.5277777777777778, 'x[13] <= 1.5\\ngini = 0.059\\nsamples = 196\\nvalue = [190, 6]'),\n",
              " Text(0.2053703157273532, 0.4722222222222222, 'x[28] <= 0.5\\ngini = 0.408\\nsamples = 7\\nvalue = [5, 2]'),\n",
              " Text(0.20064915904396577, 0.4166666666666667, 'gini = 0.0\\nsamples = 2\\nvalue = [0, 2]'),\n",
              " Text(0.21009147241074064, 0.4166666666666667, 'gini = 0.0\\nsamples = 5\\nvalue = [5, 0]'),\n",
              " Text(0.2242549424609029, 0.4722222222222222, 'x[38] <= 0.5\\ngini = 0.041\\nsamples = 189\\nvalue = [185, 4]'),\n",
              " Text(0.21953378577751548, 0.4166666666666667, 'gini = 0.0\\nsamples = 154\\nvalue = [154, 0]'),\n",
              " Text(0.22897609914429035, 0.4166666666666667, 'x[51] <= 0.5\\ngini = 0.202\\nsamples = 35\\nvalue = [31, 4]'),\n",
              " Text(0.2242549424609029, 0.3611111111111111, 'gini = 0.0\\nsamples = 28\\nvalue = [28, 0]'),\n",
              " Text(0.23369725582767778, 0.3611111111111111, 'x[4] <= -0.47\\ngini = 0.49\\nsamples = 7\\nvalue = [3, 4]'),\n",
              " Text(0.22897609914429035, 0.3055555555555556, 'gini = 0.0\\nsamples = 4\\nvalue = [0, 4]'),\n",
              " Text(0.23841841251106521, 0.3055555555555556, 'gini = 0.0\\nsamples = 3\\nvalue = [3, 0]'),\n",
              " Text(0.23841841251106521, 0.5277777777777778, 'x[42] <= 0.5\\ngini = 0.375\\nsamples = 8\\nvalue = [6, 2]'),\n",
              " Text(0.23369725582767778, 0.4722222222222222, 'gini = 0.0\\nsamples = 6\\nvalue = [6, 0]'),\n",
              " Text(0.24313956919445265, 0.4722222222222222, 'gini = 0.0\\nsamples = 2\\nvalue = [0, 2]'),\n",
              " Text(0.4404691649454116, 0.6388888888888888, 'x[4] <= 2.539\\ngini = 0.09\\nsamples = 1477\\nvalue = [1407, 70]'),\n",
              " Text(0.3931838300383594, 0.5833333333333334, 'x[5] <= 3.551\\ngini = 0.084\\nsamples = 1465\\nvalue = [1401, 64]'),\n",
              " Text(0.388462673354972, 0.5277777777777778, 'x[27] <= 0.5\\ngini = 0.082\\nsamples = 1464\\nvalue = [1401, 63]'),\n",
              " Text(0.3080554735910298, 0.4722222222222222, 'x[4] <= -1.017\\ngini = 0.051\\nsamples = 909\\nvalue = [885, 24]'),\n",
              " Text(0.26674535261138976, 0.4166666666666667, 'x[24] <= 0.5\\ngini = 0.148\\nsamples = 161\\nvalue = [148, 13]'),\n",
              " Text(0.2525818825612275, 0.3611111111111111, 'x[0] <= 1.87\\ngini = 0.037\\nsamples = 107\\nvalue = [105, 2]'),\n",
              " Text(0.24786072587784008, 0.3055555555555556, 'gini = 0.0\\nsamples = 103\\nvalue = [103, 0]'),\n",
              " Text(0.25730303924461495, 0.3055555555555556, 'x[10] <= -0.65\\ngini = 0.5\\nsamples = 4\\nvalue = [2, 2]'),\n",
              " Text(0.2525818825612275, 0.25, 'gini = 0.0\\nsamples = 2\\nvalue = [0, 2]'),\n",
              " Text(0.26202419592800236, 0.25, 'gini = 0.0\\nsamples = 2\\nvalue = [2, 0]'),\n",
              " Text(0.2809088226615521, 0.3611111111111111, 'x[12] <= 1.5\\ngini = 0.324\\nsamples = 54\\nvalue = [43, 11]'),\n",
              " Text(0.27618766597816463, 0.3055555555555556, 'x[36] <= 0.5\\ngini = 0.483\\nsamples = 27\\nvalue = [16, 11]'),\n",
              " Text(0.2714665092947772, 0.25, 'x[8] <= 0.406\\ngini = 0.397\\nsamples = 22\\nvalue = [16, 6]'),\n",
              " Text(0.26674535261138976, 0.19444444444444445, 'gini = 0.0\\nsamples = 13\\nvalue = [13, 0]'),\n",
              " Text(0.27618766597816463, 0.19444444444444445, 'x[1] <= -0.635\\ngini = 0.444\\nsamples = 9\\nvalue = [3, 6]'),\n",
              " Text(0.2714665092947772, 0.1388888888888889, 'gini = 0.0\\nsamples = 3\\nvalue = [3, 0]'),\n",
              " Text(0.2809088226615521, 0.1388888888888889, 'gini = 0.0\\nsamples = 6\\nvalue = [0, 6]'),\n",
              " Text(0.2809088226615521, 0.25, 'gini = 0.0\\nsamples = 5\\nvalue = [0, 5]'),\n",
              " Text(0.2856299793449395, 0.3055555555555556, 'gini = 0.0\\nsamples = 27\\nvalue = [27, 0]'),\n",
              " Text(0.3493655945706698, 0.4166666666666667, 'x[8] <= 3.822\\ngini = 0.029\\nsamples = 748\\nvalue = [737, 11]'),\n",
              " Text(0.3328415461788138, 0.3611111111111111, 'x[44] <= 0.5\\ngini = 0.026\\nsamples = 746\\nvalue = [736, 10]'),\n",
              " Text(0.3139569194452641, 0.3055555555555556, 'x[8] <= 2.58\\ngini = 0.014\\nsamples = 685\\nvalue = [680, 5]'),\n",
              " Text(0.30451460607848924, 0.25, 'x[0] <= -0.816\\ngini = 0.009\\nsamples = 658\\nvalue = [655, 3]'),\n",
              " Text(0.2997934493951018, 0.19444444444444445, 'x[10] <= 0.121\\ngini = 0.054\\nsamples = 108\\nvalue = [105, 3]'),\n",
              " Text(0.29035113602832696, 0.1388888888888889, 'x[2] <= -0.878\\ngini = 0.021\\nsamples = 95\\nvalue = [94, 1]'),\n",
              " Text(0.2856299793449395, 0.08333333333333333, 'x[10] <= -0.583\\ngini = 0.5\\nsamples = 2\\nvalue = [1, 1]'),\n",
              " Text(0.2809088226615521, 0.027777777777777776, 'gini = 0.0\\nsamples = 1\\nvalue = [0, 1]'),\n",
              " Text(0.29035113602832696, 0.027777777777777776, 'gini = 0.0\\nsamples = 1\\nvalue = [1, 0]'),\n",
              " Text(0.29507229271171437, 0.08333333333333333, 'gini = 0.0\\nsamples = 93\\nvalue = [93, 0]'),\n",
              " Text(0.30923576276187664, 0.1388888888888889, 'x[40] <= 0.5\\ngini = 0.26\\nsamples = 13\\nvalue = [11, 2]'),\n",
              " Text(0.30451460607848924, 0.08333333333333333, 'gini = 0.0\\nsamples = 11\\nvalue = [11, 0]'),\n",
              " Text(0.3139569194452641, 0.08333333333333333, 'gini = 0.0\\nsamples = 2\\nvalue = [0, 2]'),\n",
              " Text(0.30923576276187664, 0.19444444444444445, 'gini = 0.0\\nsamples = 550\\nvalue = [550, 0]'),\n",
              " Text(0.323399232812039, 0.25, 'x[29] <= 0.5\\ngini = 0.137\\nsamples = 27\\nvalue = [25, 2]'),\n",
              " Text(0.3186780761286515, 0.19444444444444445, 'gini = 0.0\\nsamples = 23\\nvalue = [23, 0]'),\n",
              " Text(0.3281203894954264, 0.19444444444444445, 'x[54] <= 0.5\\ngini = 0.5\\nsamples = 4\\nvalue = [2, 2]'),\n",
              " Text(0.323399232812039, 0.1388888888888889, 'gini = 0.0\\nsamples = 2\\nvalue = [0, 2]'),\n",
              " Text(0.3328415461788138, 0.1388888888888889, 'gini = 0.0\\nsamples = 2\\nvalue = [2, 0]'),\n",
              " Text(0.3517261729123635, 0.3055555555555556, 'x[16] <= 0.5\\ngini = 0.15\\nsamples = 61\\nvalue = [56, 5]'),\n",
              " Text(0.34228385954558865, 0.25, 'x[2] <= -0.915\\ngini = 0.04\\nsamples = 49\\nvalue = [48, 1]'),\n",
              " Text(0.33756270286220125, 0.19444444444444445, 'gini = 0.0\\nsamples = 1\\nvalue = [0, 1]'),\n",
              " Text(0.3470050162289761, 0.19444444444444445, 'gini = 0.0\\nsamples = 48\\nvalue = [48, 0]'),\n",
              " Text(0.3611684862791384, 0.25, 'x[47] <= 0.5\\ngini = 0.444\\nsamples = 12\\nvalue = [8, 4]'),\n",
              " Text(0.356447329595751, 0.19444444444444445, 'gini = 0.0\\nsamples = 8\\nvalue = [8, 0]'),\n",
              " Text(0.3658896429625258, 0.19444444444444445, 'gini = 0.0\\nsamples = 4\\nvalue = [0, 4]'),\n",
              " Text(0.3658896429625258, 0.3611111111111111, 'x[56] <= 0.5\\ngini = 0.5\\nsamples = 2\\nvalue = [1, 1]'),\n",
              " Text(0.3611684862791384, 0.3055555555555556, 'gini = 0.0\\nsamples = 1\\nvalue = [0, 1]'),\n",
              " Text(0.37061079964591326, 0.3055555555555556, 'gini = 0.0\\nsamples = 1\\nvalue = [1, 0]'),\n",
              " Text(0.46886987311891415, 0.4722222222222222, 'x[11] <= 2.5\\ngini = 0.131\\nsamples = 555\\nvalue = [516, 39]'),\n",
              " Text(0.4337562702862201, 0.4166666666666667, 'x[13] <= 3.5\\ngini = 0.242\\nsamples = 170\\nvalue = [146, 24]'),\n",
              " Text(0.4166420773089407, 0.3611111111111111, 'x[14] <= 3.5\\ngini = 0.199\\nsamples = 161\\nvalue = [143, 18]'),\n",
              " Text(0.39657716140454413, 0.3055555555555556, 'x[10] <= 0.136\\ngini = 0.1\\nsamples = 132\\nvalue = [125, 7]'),\n",
              " Text(0.38477426969607553, 0.25, 'x[0] <= 1.377\\ngini = 0.062\\nsamples = 124\\nvalue = [120, 4]'),\n",
              " Text(0.37533195632930066, 0.19444444444444445, 'x[10] <= -0.13\\ngini = 0.019\\nsamples = 104\\nvalue = [103, 1]'),\n",
              " Text(0.37061079964591326, 0.1388888888888889, 'gini = 0.0\\nsamples = 94\\nvalue = [94, 0]'),\n",
              " Text(0.3800531130126881, 0.1388888888888889, 'x[10] <= -0.108\\ngini = 0.18\\nsamples = 10\\nvalue = [9, 1]'),\n",
              " Text(0.37533195632930066, 0.08333333333333333, 'gini = 0.0\\nsamples = 1\\nvalue = [0, 1]'),\n",
              " Text(0.38477426969607553, 0.08333333333333333, 'gini = 0.0\\nsamples = 9\\nvalue = [9, 0]'),\n",
              " Text(0.3942165830628504, 0.19444444444444445, 'x[5] <= 0.347\\ngini = 0.255\\nsamples = 20\\nvalue = [17, 3]'),\n",
              " Text(0.389495426379463, 0.1388888888888889, 'gini = 0.0\\nsamples = 3\\nvalue = [0, 3]'),\n",
              " Text(0.3989377397462378, 0.1388888888888889, 'gini = 0.0\\nsamples = 17\\nvalue = [17, 0]'),\n",
              " Text(0.4083800531130127, 0.25, 'x[4] <= 0.487\\ngini = 0.469\\nsamples = 8\\nvalue = [5, 3]'),\n",
              " Text(0.40365889642962527, 0.19444444444444445, 'gini = 0.0\\nsamples = 4\\nvalue = [4, 0]'),\n",
              " Text(0.41310120979640014, 0.19444444444444445, 'x[33] <= 0.5\\ngini = 0.375\\nsamples = 4\\nvalue = [1, 3]'),\n",
              " Text(0.4083800531130127, 0.1388888888888889, 'gini = 0.0\\nsamples = 3\\nvalue = [0, 3]'),\n",
              " Text(0.41782236647978754, 0.1388888888888889, 'gini = 0.0\\nsamples = 1\\nvalue = [1, 0]'),\n",
              " Text(0.4367069932133373, 0.3055555555555556, 'x[40] <= 0.5\\ngini = 0.471\\nsamples = 29\\nvalue = [18, 11]'),\n",
              " Text(0.4272646798465624, 0.25, 'x[6] <= 0.537\\ngini = 0.198\\nsamples = 18\\nvalue = [16, 2]'),\n",
              " Text(0.422543523163175, 0.19444444444444445, 'gini = 0.0\\nsamples = 16\\nvalue = [16, 0]'),\n",
              " Text(0.4319858365299498, 0.19444444444444445, 'gini = 0.0\\nsamples = 2\\nvalue = [0, 2]'),\n",
              " Text(0.44614930658011215, 0.25, 'x[6] <= 0.537\\ngini = 0.298\\nsamples = 11\\nvalue = [2, 9]'),\n",
              " Text(0.4414281498967247, 0.19444444444444445, 'gini = 0.0\\nsamples = 9\\nvalue = [0, 9]'),\n",
              " Text(0.45087046326349955, 0.19444444444444445, 'gini = 0.0\\nsamples = 2\\nvalue = [2, 0]'),\n",
              " Text(0.45087046326349955, 0.3611111111111111, 'x[5] <= -0.23\\ngini = 0.444\\nsamples = 9\\nvalue = [3, 6]'),\n",
              " Text(0.44614930658011215, 0.3055555555555556, 'gini = 0.0\\nsamples = 6\\nvalue = [0, 6]'),\n",
              " Text(0.45559161994688696, 0.3055555555555556, 'gini = 0.0\\nsamples = 3\\nvalue = [3, 0]'),\n",
              " Text(0.5039834759516082, 0.4166666666666667, 'x[10] <= -1.368\\ngini = 0.075\\nsamples = 385\\nvalue = [370, 15]'),\n",
              " Text(0.49926231926822073, 0.3611111111111111, 'gini = 0.0\\nsamples = 1\\nvalue = [0, 1]'),\n",
              " Text(0.5087046326349955, 0.3611111111111111, 'x[5] <= -0.487\\ngini = 0.07\\nsamples = 384\\nvalue = [370, 14]'),\n",
              " Text(0.47919740336382416, 0.3055555555555556, 'x[3] <= 0.33\\ngini = 0.185\\nsamples = 87\\nvalue = [78, 9]'),\n",
              " Text(0.46503393331366183, 0.25, 'x[18] <= 0.5\\ngini = 0.03\\nsamples = 65\\nvalue = [64, 1]'),\n",
              " Text(0.4603127766302744, 0.19444444444444445, 'gini = 0.0\\nsamples = 63\\nvalue = [63, 0]'),\n",
              " Text(0.4697550899970493, 0.19444444444444445, 'x[41] <= 0.5\\ngini = 0.5\\nsamples = 2\\nvalue = [1, 1]'),\n",
              " Text(0.46503393331366183, 0.1388888888888889, 'gini = 0.0\\nsamples = 1\\nvalue = [1, 0]'),\n",
              " Text(0.4744762466804367, 0.1388888888888889, 'gini = 0.0\\nsamples = 1\\nvalue = [0, 1]'),\n",
              " Text(0.49336087341398643, 0.25, 'x[47] <= 0.5\\ngini = 0.463\\nsamples = 22\\nvalue = [14, 8]'),\n",
              " Text(0.48863971673059897, 0.19444444444444445, 'x[35] <= 0.5\\ngini = 0.291\\nsamples = 17\\nvalue = [14, 3]'),\n",
              " Text(0.48391856004721157, 0.1388888888888889, 'gini = 0.0\\nsamples = 13\\nvalue = [13, 0]'),\n",
              " Text(0.49336087341398643, 0.1388888888888889, 'x[12] <= 2.5\\ngini = 0.375\\nsamples = 4\\nvalue = [1, 3]'),\n",
              " Text(0.48863971673059897, 0.08333333333333333, 'gini = 0.0\\nsamples = 1\\nvalue = [1, 0]'),\n",
              " Text(0.49808203009737384, 0.08333333333333333, 'gini = 0.0\\nsamples = 3\\nvalue = [0, 3]'),\n",
              " Text(0.49808203009737384, 0.19444444444444445, 'gini = 0.0\\nsamples = 5\\nvalue = [0, 5]'),\n",
              " Text(0.538211861906167, 0.3055555555555556, 'x[18] <= 0.5\\ngini = 0.033\\nsamples = 297\\nvalue = [292, 5]'),\n",
              " Text(0.5264089701976984, 0.25, 'x[26] <= 0.5\\ngini = 0.021\\nsamples = 287\\nvalue = [284, 3]'),\n",
              " Text(0.5169666568309236, 0.19444444444444445, 'x[10] <= -1.267\\ngini = 0.007\\nsamples = 269\\nvalue = [268, 1]'),\n",
              " Text(0.5122455001475361, 0.1388888888888889, 'x[45] <= 0.5\\ngini = 0.142\\nsamples = 13\\nvalue = [12, 1]'),\n",
              " Text(0.5075243434641488, 0.08333333333333333, 'gini = 0.0\\nsamples = 12\\nvalue = [12, 0]'),\n",
              " Text(0.5169666568309236, 0.08333333333333333, 'gini = 0.0\\nsamples = 1\\nvalue = [0, 1]'),\n",
              " Text(0.521687813514311, 0.1388888888888889, 'gini = 0.0\\nsamples = 256\\nvalue = [256, 0]'),\n",
              " Text(0.5358512835644733, 0.19444444444444445, 'x[10] <= -0.819\\ngini = 0.198\\nsamples = 18\\nvalue = [16, 2]'),\n",
              " Text(0.5311301268810859, 0.1388888888888889, 'x[40] <= 0.5\\ngini = 0.48\\nsamples = 5\\nvalue = [3, 2]'),\n",
              " Text(0.5264089701976984, 0.08333333333333333, 'gini = 0.0\\nsamples = 2\\nvalue = [0, 2]'),\n",
              " Text(0.5358512835644733, 0.08333333333333333, 'gini = 0.0\\nsamples = 3\\nvalue = [3, 0]'),\n",
              " Text(0.5405724402478608, 0.1388888888888889, 'gini = 0.0\\nsamples = 13\\nvalue = [13, 0]'),\n",
              " Text(0.5500147536146356, 0.25, 'x[51] <= 0.5\\ngini = 0.32\\nsamples = 10\\nvalue = [8, 2]'),\n",
              " Text(0.5452935969312481, 0.19444444444444445, 'gini = 0.0\\nsamples = 8\\nvalue = [8, 0]'),\n",
              " Text(0.554735910298023, 0.19444444444444445, 'gini = 0.0\\nsamples = 2\\nvalue = [0, 2]'),\n",
              " Text(0.39790498672174685, 0.5277777777777778, 'gini = 0.0\\nsamples = 1\\nvalue = [0, 1]'),\n",
              " Text(0.48775449985246383, 0.5833333333333334, 'x[41] <= 0.5\\ngini = 0.5\\nsamples = 12\\nvalue = [6, 6]'),\n",
              " Text(0.4830333431690764, 0.5277777777777778, 'x[47] <= 0.5\\ngini = 0.245\\nsamples = 7\\nvalue = [6, 1]'),\n",
              " Text(0.478312186485689, 0.4722222222222222, 'gini = 0.0\\nsamples = 6\\nvalue = [6, 0]'),\n",
              " Text(0.48775449985246383, 0.4722222222222222, 'gini = 0.0\\nsamples = 1\\nvalue = [0, 1]'),\n",
              " Text(0.4924756565358513, 0.5277777777777778, 'gini = 0.0\\nsamples = 5\\nvalue = [0, 5]'),\n",
              " Text(0.5432280908822662, 0.75, 'x[22] <= 0.5\\ngini = 0.252\\nsamples = 433\\nvalue = [369, 64]'),\n",
              " Text(0.5231631749778696, 0.6944444444444444, 'x[21] <= 0.5\\ngini = 0.133\\nsamples = 238\\nvalue = [221, 17]'),\n",
              " Text(0.5184420182944821, 0.6388888888888888, 'x[40] <= 0.5\\ngini = 0.112\\nsamples = 235\\nvalue = [221, 14]'),\n",
              " Text(0.5066391265860136, 0.5833333333333334, 'x[43] <= 0.5\\ngini = 0.033\\nsamples = 181\\nvalue = [178, 3]'),\n",
              " Text(0.5019179699026262, 0.5277777777777778, 'gini = 0.0\\nsamples = 168\\nvalue = [168, 0]'),\n",
              " Text(0.511360283269401, 0.5277777777777778, 'x[2] <= 1.09\\ngini = 0.355\\nsamples = 13\\nvalue = [10, 3]'),\n",
              " Text(0.5066391265860136, 0.4722222222222222, 'gini = 0.0\\nsamples = 10\\nvalue = [10, 0]'),\n",
              " Text(0.5160814399527884, 0.4722222222222222, 'gini = 0.0\\nsamples = 3\\nvalue = [0, 3]'),\n",
              " Text(0.5302449100029507, 0.5833333333333334, 'x[41] <= 0.5\\ngini = 0.324\\nsamples = 54\\nvalue = [43, 11]'),\n",
              " Text(0.5255237533195632, 0.5277777777777778, 'gini = 0.0\\nsamples = 30\\nvalue = [30, 0]'),\n",
              " Text(0.5349660666863382, 0.5277777777777778, 'x[4] <= -0.744\\ngini = 0.497\\nsamples = 24\\nvalue = [13, 11]'),\n",
              " Text(0.5255237533195632, 0.4722222222222222, 'x[7] <= -1.068\\ngini = 0.153\\nsamples = 12\\nvalue = [11, 1]'),\n",
              " Text(0.5208025966361759, 0.4166666666666667, 'gini = 0.0\\nsamples = 1\\nvalue = [0, 1]'),\n",
              " Text(0.5302449100029507, 0.4166666666666667, 'gini = 0.0\\nsamples = 11\\nvalue = [11, 0]'),\n",
              " Text(0.544408380053113, 0.4722222222222222, 'x[32] <= 0.5\\ngini = 0.278\\nsamples = 12\\nvalue = [2, 10]'),\n",
              " Text(0.5396872233697256, 0.4166666666666667, 'gini = 0.0\\nsamples = 10\\nvalue = [0, 10]'),\n",
              " Text(0.5491295367365004, 0.4166666666666667, 'gini = 0.0\\nsamples = 2\\nvalue = [2, 0]'),\n",
              " Text(0.527884331661257, 0.6388888888888888, 'gini = 0.0\\nsamples = 3\\nvalue = [0, 3]'),\n",
              " Text(0.5632930067866627, 0.6944444444444444, 'x[6] <= -1.77\\ngini = 0.366\\nsamples = 195\\nvalue = [148, 47]'),\n",
              " Text(0.5491295367365004, 0.6388888888888888, 'x[0] <= 0.39\\ngini = 0.32\\nsamples = 10\\nvalue = [2, 8]'),\n",
              " Text(0.544408380053113, 0.5833333333333334, 'gini = 0.0\\nsamples = 8\\nvalue = [0, 8]'),\n",
              " Text(0.5538506934198879, 0.5833333333333334, 'gini = 0.0\\nsamples = 2\\nvalue = [2, 0]'),\n",
              " Text(0.577456476836825, 0.6388888888888888, 'x[0] <= -1.144\\ngini = 0.333\\nsamples = 185\\nvalue = [146, 39]'),\n",
              " Text(0.5632930067866627, 0.5833333333333334, 'x[12] <= 1.5\\ngini = 0.496\\nsamples = 22\\nvalue = [10, 12]'),\n",
              " Text(0.5585718501032753, 0.5277777777777778, 'x[2] <= 0.885\\ngini = 0.278\\nsamples = 12\\nvalue = [10, 2]'),\n",
              " Text(0.5538506934198879, 0.4722222222222222, 'gini = 0.0\\nsamples = 10\\nvalue = [10, 0]'),\n",
              " Text(0.5632930067866627, 0.4722222222222222, 'gini = 0.0\\nsamples = 2\\nvalue = [0, 2]'),\n",
              " Text(0.5680141634700502, 0.5277777777777778, 'gini = 0.0\\nsamples = 10\\nvalue = [0, 10]'),\n",
              " Text(0.5916199468869873, 0.5833333333333334, 'x[7] <= -0.905\\ngini = 0.276\\nsamples = 163\\nvalue = [136, 27]'),\n",
              " Text(0.577456476836825, 0.5277777777777778, 'x[47] <= 0.5\\ngini = 0.473\\nsamples = 13\\nvalue = [5, 8]'),\n",
              " Text(0.5727353201534376, 0.4722222222222222, 'gini = 0.0\\nsamples = 8\\nvalue = [0, 8]'),\n",
              " Text(0.5821776335202125, 0.4722222222222222, 'gini = 0.0\\nsamples = 5\\nvalue = [5, 0]'),\n",
              " Text(0.6057834169371497, 0.5277777777777778, 'x[3] <= 0.33\\ngini = 0.221\\nsamples = 150\\nvalue = [131, 19]'),\n",
              " Text(0.5916199468869873, 0.4722222222222222, 'x[9] <= 2.599\\ngini = 0.109\\nsamples = 104\\nvalue = [98, 6]'),\n",
              " Text(0.5868987902035999, 0.4166666666666667, 'x[1] <= 0.967\\ngini = 0.075\\nsamples = 102\\nvalue = [98, 4]'),\n",
              " Text(0.5821776335202125, 0.3611111111111111, 'gini = 0.0\\nsamples = 89\\nvalue = [89, 0]'),\n",
              " Text(0.5916199468869873, 0.3611111111111111, 'x[1] <= 1.46\\ngini = 0.426\\nsamples = 13\\nvalue = [9, 4]'),\n",
              " Text(0.5868987902035999, 0.3055555555555556, 'gini = 0.0\\nsamples = 4\\nvalue = [0, 4]'),\n",
              " Text(0.5963411035703747, 0.3055555555555556, 'gini = 0.0\\nsamples = 9\\nvalue = [9, 0]'),\n",
              " Text(0.5963411035703747, 0.4166666666666667, 'gini = 0.0\\nsamples = 2\\nvalue = [0, 2]'),\n",
              " Text(0.6199468869873119, 0.4722222222222222, 'x[12] <= 2.5\\ngini = 0.405\\nsamples = 46\\nvalue = [33, 13]'),\n",
              " Text(0.6152257303039245, 0.4166666666666667, 'x[0] <= 0.883\\ngini = 0.491\\nsamples = 23\\nvalue = [10, 13]'),\n",
              " Text(0.610504573620537, 0.3611111111111111, 'x[1] <= 1.46\\ngini = 0.231\\nsamples = 15\\nvalue = [2, 13]'),\n",
              " Text(0.6057834169371497, 0.3055555555555556, 'gini = 0.0\\nsamples = 13\\nvalue = [0, 13]'),\n",
              " Text(0.6152257303039245, 0.3055555555555556, 'gini = 0.0\\nsamples = 2\\nvalue = [2, 0]'),\n",
              " Text(0.6199468869873119, 0.3611111111111111, 'gini = 0.0\\nsamples = 8\\nvalue = [8, 0]'),\n",
              " Text(0.6246680436706993, 0.4166666666666667, 'gini = 0.0\\nsamples = 23\\nvalue = [23, 0]'),\n",
              " Text(0.6128651519622308, 0.8055555555555556, 'x[9] <= -1.016\\ngini = 0.393\\nsamples = 119\\nvalue = [87, 32]'),\n",
              " Text(0.5963411035703747, 0.75, 'x[0] <= 0.774\\ngini = 0.391\\nsamples = 15\\nvalue = [4, 11]'),\n",
              " Text(0.5916199468869873, 0.6944444444444444, 'gini = 0.0\\nsamples = 11\\nvalue = [0, 11]'),\n",
              " Text(0.6010622602537622, 0.6944444444444444, 'gini = 0.0\\nsamples = 4\\nvalue = [4, 0]'),\n",
              " Text(0.6293892003540867, 0.75, 'x[9] <= 0.653\\ngini = 0.322\\nsamples = 104\\nvalue = [83, 21]'),\n",
              " Text(0.610504573620537, 0.6944444444444444, 'x[5] <= -1.128\\ngini = 0.116\\nsamples = 65\\nvalue = [61, 4]'),\n",
              " Text(0.6057834169371497, 0.6388888888888888, 'gini = 0.0\\nsamples = 2\\nvalue = [0, 2]'),\n",
              " Text(0.6152257303039245, 0.6388888888888888, 'x[2] <= 2.43\\ngini = 0.061\\nsamples = 63\\nvalue = [61, 2]'),\n",
              " Text(0.610504573620537, 0.5833333333333334, 'gini = 0.0\\nsamples = 57\\nvalue = [57, 0]'),\n",
              " Text(0.6199468869873119, 0.5833333333333334, 'x[28] <= 0.5\\ngini = 0.444\\nsamples = 6\\nvalue = [4, 2]'),\n",
              " Text(0.6152257303039245, 0.5277777777777778, 'gini = 0.0\\nsamples = 2\\nvalue = [0, 2]'),\n",
              " Text(0.6246680436706993, 0.5277777777777778, 'gini = 0.0\\nsamples = 4\\nvalue = [4, 0]'),\n",
              " Text(0.6482738270876365, 0.6944444444444444, 'x[10] <= -0.507\\ngini = 0.492\\nsamples = 39\\nvalue = [22, 17]'),\n",
              " Text(0.643552670404249, 0.6388888888888888, 'x[46] <= 0.5\\ngini = 0.466\\nsamples = 27\\nvalue = [10, 17]'),\n",
              " Text(0.6388315137208617, 0.5833333333333334, 'x[32] <= 0.5\\ngini = 0.351\\nsamples = 22\\nvalue = [5, 17]'),\n",
              " Text(0.6341103570374742, 0.5277777777777778, 'x[7] <= 3.099\\ngini = 0.188\\nsamples = 19\\nvalue = [2, 17]'),\n",
              " Text(0.6293892003540867, 0.4722222222222222, 'gini = 0.0\\nsamples = 17\\nvalue = [0, 17]'),\n",
              " Text(0.6388315137208617, 0.4722222222222222, 'gini = 0.0\\nsamples = 2\\nvalue = [2, 0]'),\n",
              " Text(0.643552670404249, 0.5277777777777778, 'gini = 0.0\\nsamples = 3\\nvalue = [3, 0]'),\n",
              " Text(0.6482738270876365, 0.5833333333333334, 'gini = 0.0\\nsamples = 5\\nvalue = [5, 0]'),\n",
              " Text(0.6529949837710239, 0.6388888888888888, 'gini = 0.0\\nsamples = 12\\nvalue = [12, 0]'),\n",
              " Text(0.8539392151077014, 0.8611111111111112, 'x[40] <= 0.5\\ngini = 0.391\\nsamples = 895\\nvalue = [656, 239]'),\n",
              " Text(0.7781056358807908, 0.8055555555555556, 'x[5] <= -0.358\\ngini = 0.314\\nsamples = 636\\nvalue = [512, 124]'),\n",
              " Text(0.7149601652404839, 0.75, 'x[7] <= -0.578\\ngini = 0.432\\nsamples = 260\\nvalue = [178, 82]'),\n",
              " Text(0.676600767187961, 0.6944444444444444, 'x[4] <= -1.017\\ngini = 0.496\\nsamples = 106\\nvalue = [58, 48]'),\n",
              " Text(0.6718796105045736, 0.6388888888888888, 'gini = 0.0\\nsamples = 11\\nvalue = [0, 11]'),\n",
              " Text(0.6813219238713485, 0.6388888888888888, 'x[48] <= 0.5\\ngini = 0.476\\nsamples = 95\\nvalue = [58, 37]'),\n",
              " Text(0.6671584538211862, 0.5833333333333334, 'x[47] <= 0.5\\ngini = 0.5\\nsamples = 70\\nvalue = [34, 36]'),\n",
              " Text(0.6529949837710239, 0.5277777777777778, 'x[0] <= -0.158\\ngini = 0.346\\nsamples = 27\\nvalue = [6, 21]'),\n",
              " Text(0.6482738270876365, 0.4722222222222222, 'x[10] <= 0.411\\ngini = 0.159\\nsamples = 23\\nvalue = [2, 21]'),\n",
              " Text(0.643552670404249, 0.4166666666666667, 'gini = 0.0\\nsamples = 2\\nvalue = [2, 0]'),\n",
              " Text(0.6529949837710239, 0.4166666666666667, 'gini = 0.0\\nsamples = 21\\nvalue = [0, 21]'),\n",
              " Text(0.6577161404544113, 0.4722222222222222, 'gini = 0.0\\nsamples = 4\\nvalue = [4, 0]'),\n",
              " Text(0.6813219238713485, 0.5277777777777778, 'x[5] <= -0.743\\ngini = 0.454\\nsamples = 43\\nvalue = [28, 15]'),\n",
              " Text(0.6671584538211862, 0.4722222222222222, 'x[0] <= -1.364\\ngini = 0.252\\nsamples = 27\\nvalue = [23, 4]'),\n",
              " Text(0.6624372971377988, 0.4166666666666667, 'gini = 0.0\\nsamples = 3\\nvalue = [0, 3]'),\n",
              " Text(0.6718796105045736, 0.4166666666666667, 'x[10] <= 0.545\\ngini = 0.08\\nsamples = 24\\nvalue = [23, 1]'),\n",
              " Text(0.6671584538211862, 0.3611111111111111, 'gini = 0.0\\nsamples = 1\\nvalue = [0, 1]'),\n",
              " Text(0.676600767187961, 0.3611111111111111, 'gini = 0.0\\nsamples = 23\\nvalue = [23, 0]'),\n",
              " Text(0.6954853939215108, 0.4722222222222222, 'x[0] <= 0.719\\ngini = 0.43\\nsamples = 16\\nvalue = [5, 11]'),\n",
              " Text(0.6907642372381233, 0.4166666666666667, 'x[33] <= 0.5\\ngini = 0.26\\nsamples = 13\\nvalue = [2, 11]'),\n",
              " Text(0.686043080554736, 0.3611111111111111, 'gini = 0.0\\nsamples = 11\\nvalue = [0, 11]'),\n",
              " Text(0.6954853939215108, 0.3611111111111111, 'gini = 0.0\\nsamples = 2\\nvalue = [2, 0]'),\n",
              " Text(0.7002065506048982, 0.4166666666666667, 'gini = 0.0\\nsamples = 3\\nvalue = [3, 0]'),\n",
              " Text(0.6954853939215108, 0.5833333333333334, 'x[13] <= 3.5\\ngini = 0.077\\nsamples = 25\\nvalue = [24, 1]'),\n",
              " Text(0.6907642372381233, 0.5277777777777778, 'gini = 0.0\\nsamples = 24\\nvalue = [24, 0]'),\n",
              " Text(0.7002065506048982, 0.5277777777777778, 'gini = 0.0\\nsamples = 1\\nvalue = [0, 1]'),\n",
              " Text(0.7533195632930068, 0.6944444444444444, 'x[53] <= 0.5\\ngini = 0.344\\nsamples = 154\\nvalue = [120, 34]'),\n",
              " Text(0.7485984066096194, 0.6388888888888888, 'x[1] <= 2.138\\ngini = 0.313\\nsamples = 149\\nvalue = [120, 29]'),\n",
              " Text(0.7356152257303039, 0.5833333333333334, 'x[51] <= 0.5\\ngini = 0.273\\nsamples = 141\\nvalue = [118, 23]'),\n",
              " Text(0.7238123340218353, 0.5277777777777778, 'x[18] <= 0.5\\ngini = 0.168\\nsamples = 108\\nvalue = [98, 10]'),\n",
              " Text(0.7143700206550605, 0.4722222222222222, 'x[0] <= 1.706\\ngini = 0.097\\nsamples = 98\\nvalue = [93, 5]'),\n",
              " Text(0.709648863971673, 0.4166666666666667, 'x[13] <= 3.5\\ngini = 0.061\\nsamples = 96\\nvalue = [93, 3]'),\n",
              " Text(0.7049277072882856, 0.3611111111111111, 'gini = 0.0\\nsamples = 88\\nvalue = [88, 0]'),\n",
              " Text(0.7143700206550605, 0.3611111111111111, 'x[4] <= -1.017\\ngini = 0.469\\nsamples = 8\\nvalue = [5, 3]'),\n",
              " Text(0.709648863971673, 0.3055555555555556, 'gini = 0.0\\nsamples = 5\\nvalue = [5, 0]'),\n",
              " Text(0.719091177338448, 0.3055555555555556, 'gini = 0.0\\nsamples = 3\\nvalue = [0, 3]'),\n",
              " Text(0.719091177338448, 0.4166666666666667, 'gini = 0.0\\nsamples = 2\\nvalue = [0, 2]'),\n",
              " Text(0.7332546473886102, 0.4722222222222222, 'x[48] <= 0.5\\ngini = 0.5\\nsamples = 10\\nvalue = [5, 5]'),\n",
              " Text(0.7285334907052228, 0.4166666666666667, 'gini = 0.0\\nsamples = 5\\nvalue = [5, 0]'),\n",
              " Text(0.7379758040719976, 0.4166666666666667, 'gini = 0.0\\nsamples = 5\\nvalue = [0, 5]'),\n",
              " Text(0.7474181174387725, 0.5277777777777778, 'x[4] <= -0.47\\ngini = 0.478\\nsamples = 33\\nvalue = [20, 13]'),\n",
              " Text(0.742696960755385, 0.4722222222222222, 'gini = 0.0\\nsamples = 9\\nvalue = [0, 9]'),\n",
              " Text(0.75213927412216, 0.4722222222222222, 'x[45] <= 0.5\\ngini = 0.278\\nsamples = 24\\nvalue = [20, 4]'),\n",
              " Text(0.7474181174387725, 0.4166666666666667, 'x[29] <= 0.5\\ngini = 0.165\\nsamples = 22\\nvalue = [20, 2]'),\n",
              " Text(0.742696960755385, 0.3611111111111111, 'gini = 0.0\\nsamples = 18\\nvalue = [18, 0]'),\n",
              " Text(0.75213927412216, 0.3611111111111111, 'x[13] <= 3.0\\ngini = 0.5\\nsamples = 4\\nvalue = [2, 2]'),\n",
              " Text(0.7474181174387725, 0.3055555555555556, 'gini = 0.0\\nsamples = 2\\nvalue = [0, 2]'),\n",
              " Text(0.7568604308055473, 0.3055555555555556, 'gini = 0.0\\nsamples = 2\\nvalue = [2, 0]'),\n",
              " Text(0.7568604308055473, 0.4166666666666667, 'gini = 0.0\\nsamples = 2\\nvalue = [0, 2]'),\n",
              " Text(0.7615815874889348, 0.5833333333333334, 'x[4] <= 0.077\\ngini = 0.375\\nsamples = 8\\nvalue = [2, 6]'),\n",
              " Text(0.7568604308055473, 0.5277777777777778, 'gini = 0.0\\nsamples = 6\\nvalue = [0, 6]'),\n",
              " Text(0.7663027441723222, 0.5277777777777778, 'gini = 0.0\\nsamples = 2\\nvalue = [2, 0]'),\n",
              " Text(0.7580407199763942, 0.6388888888888888, 'gini = 0.0\\nsamples = 5\\nvalue = [0, 5]'),\n",
              " Text(0.8412511065210977, 0.75, 'x[2] <= -1.099\\ngini = 0.198\\nsamples = 376\\nvalue = [334, 42]'),\n",
              " Text(0.8365299498377102, 0.6944444444444444, 'gini = 0.0\\nsamples = 3\\nvalue = [0, 3]'),\n",
              " Text(0.8459722632044852, 0.6944444444444444, 'x[5] <= 1.18\\ngini = 0.187\\nsamples = 373\\nvalue = [334, 39]'),\n",
              " Text(0.8412511065210977, 0.6388888888888888, 'x[8] <= 1.338\\ngini = 0.243\\nsamples = 275\\nvalue = [236, 39]'),\n",
              " Text(0.8170551785187371, 0.5833333333333334, 'x[3] <= 2.33\\ngini = 0.18\\nsamples = 240\\nvalue = [216, 24]'),\n",
              " Text(0.7969902626143405, 0.5277777777777778, 'x[9] <= -1.016\\ngini = 0.157\\nsamples = 233\\nvalue = [213, 20]'),\n",
              " Text(0.7710239008557096, 0.4722222222222222, 'x[2] <= -0.821\\ngini = 0.393\\nsamples = 41\\nvalue = [30, 11]'),\n",
              " Text(0.7663027441723222, 0.4166666666666667, 'gini = 0.0\\nsamples = 19\\nvalue = [19, 0]'),\n",
              " Text(0.7757450575390971, 0.4166666666666667, 'x[39] <= 0.5\\ngini = 0.5\\nsamples = 22\\nvalue = [11, 11]'),\n",
              " Text(0.7710239008557096, 0.3611111111111111, 'gini = 0.0\\nsamples = 7\\nvalue = [0, 7]'),\n",
              " Text(0.7804662142224845, 0.3611111111111111, 'x[0] <= 0.281\\ngini = 0.391\\nsamples = 15\\nvalue = [11, 4]'),\n",
              " Text(0.7757450575390971, 0.3055555555555556, 'x[1] <= -0.019\\ngini = 0.32\\nsamples = 5\\nvalue = [1, 4]'),\n",
              " Text(0.7710239008557096, 0.25, 'gini = 0.0\\nsamples = 4\\nvalue = [0, 4]'),\n",
              " Text(0.7804662142224845, 0.25, 'gini = 0.0\\nsamples = 1\\nvalue = [1, 0]'),\n",
              " Text(0.785187370905872, 0.3055555555555556, 'gini = 0.0\\nsamples = 10\\nvalue = [10, 0]'),\n",
              " Text(0.8229566243729713, 0.4722222222222222, 'x[36] <= 0.5\\ngini = 0.089\\nsamples = 192\\nvalue = [183, 9]'),\n",
              " Text(0.8087931543228091, 0.4166666666666667, 'x[7] <= -0.741\\ngini = 0.039\\nsamples = 151\\nvalue = [148, 3]'),\n",
              " Text(0.7993508409560343, 0.3611111111111111, 'x[4] <= 1.034\\ngini = 0.408\\nsamples = 7\\nvalue = [5, 2]'),\n",
              " Text(0.7946296842726468, 0.3055555555555556, 'gini = 0.0\\nsamples = 5\\nvalue = [5, 0]'),\n",
              " Text(0.8040719976394216, 0.3055555555555556, 'gini = 0.0\\nsamples = 2\\nvalue = [0, 2]'),\n",
              " Text(0.818235467689584, 0.3611111111111111, 'x[10] <= 0.391\\ngini = 0.014\\nsamples = 144\\nvalue = [143, 1]'),\n",
              " Text(0.8135143110061965, 0.3055555555555556, 'x[12] <= 3.0\\ngini = 0.32\\nsamples = 5\\nvalue = [4, 1]'),\n",
              " Text(0.8087931543228091, 0.25, 'gini = 0.0\\nsamples = 4\\nvalue = [4, 0]'),\n",
              " Text(0.818235467689584, 0.25, 'gini = 0.0\\nsamples = 1\\nvalue = [0, 1]'),\n",
              " Text(0.8229566243729713, 0.3055555555555556, 'gini = 0.0\\nsamples = 139\\nvalue = [139, 0]'),\n",
              " Text(0.8371200944231336, 0.4166666666666667, 'x[2] <= -0.861\\ngini = 0.25\\nsamples = 41\\nvalue = [35, 6]'),\n",
              " Text(0.8323989377397463, 0.3611111111111111, 'gini = 0.0\\nsamples = 3\\nvalue = [0, 3]'),\n",
              " Text(0.8418412511065211, 0.3611111111111111, 'x[0] <= -0.432\\ngini = 0.145\\nsamples = 38\\nvalue = [35, 3]'),\n",
              " Text(0.8323989377397463, 0.3055555555555556, 'x[4] <= -0.744\\ngini = 0.444\\nsamples = 6\\nvalue = [4, 2]'),\n",
              " Text(0.8276777810563588, 0.25, 'gini = 0.0\\nsamples = 4\\nvalue = [4, 0]'),\n",
              " Text(0.8371200944231336, 0.25, 'gini = 0.0\\nsamples = 2\\nvalue = [0, 2]'),\n",
              " Text(0.851283564473296, 0.3055555555555556, 'x[10] <= 0.418\\ngini = 0.061\\nsamples = 32\\nvalue = [31, 1]'),\n",
              " Text(0.8465624077899085, 0.25, 'x[0] <= 0.664\\ngini = 0.444\\nsamples = 3\\nvalue = [2, 1]'),\n",
              " Text(0.8418412511065211, 0.19444444444444445, 'gini = 0.0\\nsamples = 2\\nvalue = [2, 0]'),\n",
              " Text(0.851283564473296, 0.19444444444444445, 'gini = 0.0\\nsamples = 1\\nvalue = [0, 1]'),\n",
              " Text(0.8560047211566834, 0.25, 'gini = 0.0\\nsamples = 29\\nvalue = [29, 0]'),\n",
              " Text(0.8371200944231336, 0.5277777777777778, 'x[4] <= 0.624\\ngini = 0.49\\nsamples = 7\\nvalue = [3, 4]'),\n",
              " Text(0.8323989377397463, 0.4722222222222222, 'gini = 0.0\\nsamples = 3\\nvalue = [3, 0]'),\n",
              " Text(0.8418412511065211, 0.4722222222222222, 'gini = 0.0\\nsamples = 4\\nvalue = [0, 4]'),\n",
              " Text(0.8654470345234583, 0.5833333333333334, 'x[27] <= 0.5\\ngini = 0.49\\nsamples = 35\\nvalue = [20, 15]'),\n",
              " Text(0.8560047211566834, 0.5277777777777778, 'x[0] <= 0.883\\ngini = 0.287\\nsamples = 23\\nvalue = [19, 4]'),\n",
              " Text(0.851283564473296, 0.4722222222222222, 'gini = 0.0\\nsamples = 19\\nvalue = [19, 0]'),\n",
              " Text(0.8607258778400708, 0.4722222222222222, 'gini = 0.0\\nsamples = 4\\nvalue = [0, 4]'),\n",
              " Text(0.8748893478902331, 0.5277777777777778, 'x[5] <= 0.539\\ngini = 0.153\\nsamples = 12\\nvalue = [1, 11]'),\n",
              " Text(0.8701681912068456, 0.4722222222222222, 'gini = 0.0\\nsamples = 11\\nvalue = [0, 11]'),\n",
              " Text(0.8796105045736206, 0.4722222222222222, 'gini = 0.0\\nsamples = 1\\nvalue = [1, 0]'),\n",
              " Text(0.8506934198878725, 0.6388888888888888, 'gini = 0.0\\nsamples = 98\\nvalue = [98, 0]'),\n",
              " Text(0.929772794334612, 0.8055555555555556, 'x[28] <= 0.5\\ngini = 0.494\\nsamples = 259\\nvalue = [144, 115]'),\n",
              " Text(0.900855709648864, 0.75, 'x[8] <= 0.872\\ngini = 0.383\\nsamples = 97\\nvalue = [72, 25]'),\n",
              " Text(0.8890528179403954, 0.6944444444444444, 'x[2] <= -0.896\\ngini = 0.252\\nsamples = 81\\nvalue = [69, 12]'),\n",
              " Text(0.8796105045736206, 0.6388888888888888, 'x[13] <= 2.0\\ngini = 0.245\\nsamples = 7\\nvalue = [1, 6]'),\n",
              " Text(0.8748893478902331, 0.5833333333333334, 'gini = 0.0\\nsamples = 1\\nvalue = [1, 0]'),\n",
              " Text(0.884331661257008, 0.5833333333333334, 'gini = 0.0\\nsamples = 6\\nvalue = [0, 6]'),\n",
              " Text(0.8984951313071703, 0.6388888888888888, 'x[13] <= 1.5\\ngini = 0.149\\nsamples = 74\\nvalue = [68, 6]'),\n",
              " Text(0.8937739746237828, 0.5833333333333334, 'gini = 0.0\\nsamples = 2\\nvalue = [0, 2]'),\n",
              " Text(0.9032162879905576, 0.5833333333333334, 'x[18] <= 0.5\\ngini = 0.105\\nsamples = 72\\nvalue = [68, 4]'),\n",
              " Text(0.8984951313071703, 0.5277777777777778, 'x[10] <= 0.606\\ngini = 0.056\\nsamples = 70\\nvalue = [68, 2]'),\n",
              " Text(0.8937739746237828, 0.4722222222222222, 'x[49] <= 0.5\\ngini = 0.26\\nsamples = 13\\nvalue = [11, 2]'),\n",
              " Text(0.8890528179403954, 0.4166666666666667, 'gini = 0.0\\nsamples = 10\\nvalue = [10, 0]'),\n",
              " Text(0.8984951313071703, 0.4166666666666667, 'x[6] <= 0.922\\ngini = 0.444\\nsamples = 3\\nvalue = [1, 2]'),\n",
              " Text(0.8937739746237828, 0.3611111111111111, 'gini = 0.0\\nsamples = 2\\nvalue = [0, 2]'),\n",
              " Text(0.9032162879905576, 0.3611111111111111, 'gini = 0.0\\nsamples = 1\\nvalue = [1, 0]'),\n",
              " Text(0.9032162879905576, 0.4722222222222222, 'gini = 0.0\\nsamples = 57\\nvalue = [57, 0]'),\n",
              " Text(0.9079374446739451, 0.5277777777777778, 'gini = 0.0\\nsamples = 2\\nvalue = [0, 2]'),\n",
              " Text(0.9126586013573326, 0.6944444444444444, 'x[30] <= 0.5\\ngini = 0.305\\nsamples = 16\\nvalue = [3, 13]'),\n",
              " Text(0.9079374446739451, 0.6388888888888888, 'gini = 0.0\\nsamples = 13\\nvalue = [0, 13]'),\n",
              " Text(0.91737975804072, 0.6388888888888888, 'gini = 0.0\\nsamples = 3\\nvalue = [3, 0]'),\n",
              " Text(0.95868987902036, 0.75, 'x[5] <= 0.283\\ngini = 0.494\\nsamples = 162\\nvalue = [72, 90]'),\n",
              " Text(0.9362643847742697, 0.6944444444444444, 'x[2] <= -0.85\\ngini = 0.45\\nsamples = 114\\nvalue = [39, 75]'),\n",
              " Text(0.9268220714074948, 0.6388888888888888, 'x[4] <= 0.487\\ngini = 0.401\\nsamples = 18\\nvalue = [13, 5]'),\n",
              " Text(0.9221009147241074, 0.5833333333333334, 'gini = 0.0\\nsamples = 13\\nvalue = [13, 0]'),\n",
              " Text(0.9315432280908823, 0.5833333333333334, 'gini = 0.0\\nsamples = 5\\nvalue = [0, 5]'),\n",
              " Text(0.9457066981410446, 0.6388888888888888, 'x[10] <= 2.374\\ngini = 0.395\\nsamples = 96\\nvalue = [26, 70]'),\n",
              " Text(0.9409855414576571, 0.5833333333333334, 'x[52] <= 0.5\\ngini = 0.355\\nsamples = 91\\nvalue = [21, 70]'),\n",
              " Text(0.9291826497491885, 0.5277777777777778, 'x[7] <= 0.239\\ngini = 0.245\\nsamples = 70\\nvalue = [10, 60]'),\n",
              " Text(0.9244614930658012, 0.4722222222222222, 'x[0] <= -1.583\\ngini = 0.187\\nsamples = 67\\nvalue = [7, 60]'),\n",
              " Text(0.9197403363824137, 0.4166666666666667, 'gini = 0.0\\nsamples = 1\\nvalue = [1, 0]'),\n",
              " Text(0.9291826497491885, 0.4166666666666667, 'x[7] <= -0.006\\ngini = 0.165\\nsamples = 66\\nvalue = [6, 60]'),\n",
              " Text(0.9197403363824137, 0.3611111111111111, 'x[37] <= 0.5\\ngini = 0.098\\nsamples = 58\\nvalue = [3, 55]'),\n",
              " Text(0.9150191796990262, 0.3055555555555556, 'x[30] <= 0.5\\ngini = 0.035\\nsamples = 56\\nvalue = [1, 55]'),\n",
              " Text(0.9102980230156388, 0.25, 'gini = 0.0\\nsamples = 54\\nvalue = [0, 54]'),\n",
              " Text(0.9197403363824137, 0.25, 'x[2] <= -0.146\\ngini = 0.5\\nsamples = 2\\nvalue = [1, 1]'),\n",
              " Text(0.9150191796990262, 0.19444444444444445, 'gini = 0.0\\nsamples = 1\\nvalue = [1, 0]'),\n",
              " Text(0.9244614930658012, 0.19444444444444445, 'gini = 0.0\\nsamples = 1\\nvalue = [0, 1]'),\n",
              " Text(0.9244614930658012, 0.3055555555555556, 'gini = 0.0\\nsamples = 2\\nvalue = [2, 0]'),\n",
              " Text(0.9386249631159634, 0.3611111111111111, 'x[33] <= 0.5\\ngini = 0.469\\nsamples = 8\\nvalue = [3, 5]'),\n",
              " Text(0.933903806432576, 0.3055555555555556, 'gini = 0.0\\nsamples = 5\\nvalue = [0, 5]'),\n",
              " Text(0.9433461197993508, 0.3055555555555556, 'gini = 0.0\\nsamples = 3\\nvalue = [3, 0]'),\n",
              " Text(0.933903806432576, 0.4722222222222222, 'gini = 0.0\\nsamples = 3\\nvalue = [3, 0]'),\n",
              " Text(0.9527884331661257, 0.5277777777777778, 'x[9] <= -0.182\\ngini = 0.499\\nsamples = 21\\nvalue = [11, 10]'),\n",
              " Text(0.9433461197993508, 0.4722222222222222, 'x[12] <= 2.5\\ngini = 0.165\\nsamples = 11\\nvalue = [10, 1]'),\n",
              " Text(0.9386249631159634, 0.4166666666666667, 'gini = 0.0\\nsamples = 10\\nvalue = [10, 0]'),\n",
              " Text(0.9480672764827383, 0.4166666666666667, 'gini = 0.0\\nsamples = 1\\nvalue = [0, 1]'),\n",
              " Text(0.9622307465329005, 0.4722222222222222, 'x[46] <= 0.5\\ngini = 0.18\\nsamples = 10\\nvalue = [1, 9]'),\n",
              " Text(0.9575095898495132, 0.4166666666666667, 'gini = 0.0\\nsamples = 9\\nvalue = [0, 9]'),\n",
              " Text(0.966951903216288, 0.4166666666666667, 'gini = 0.0\\nsamples = 1\\nvalue = [1, 0]'),\n",
              " Text(0.950427854824432, 0.5833333333333334, 'gini = 0.0\\nsamples = 5\\nvalue = [5, 0]'),\n",
              " Text(0.9811153732664503, 0.6944444444444444, 'x[54] <= 0.5\\ngini = 0.43\\nsamples = 48\\nvalue = [33, 15]'),\n",
              " Text(0.9716730598996755, 0.6388888888888888, 'x[21] <= 0.5\\ngini = 0.245\\nsamples = 35\\nvalue = [30, 5]'),\n",
              " Text(0.966951903216288, 0.5833333333333334, 'x[11] <= 1.5\\ngini = 0.117\\nsamples = 32\\nvalue = [30, 2]'),\n",
              " Text(0.9622307465329005, 0.5277777777777778, 'gini = 0.0\\nsamples = 2\\nvalue = [0, 2]'),\n",
              " Text(0.9716730598996755, 0.5277777777777778, 'gini = 0.0\\nsamples = 30\\nvalue = [30, 0]'),\n",
              " Text(0.9763942165830628, 0.5833333333333334, 'gini = 0.0\\nsamples = 3\\nvalue = [0, 3]'),\n",
              " Text(0.9905576866332252, 0.6388888888888888, 'x[11] <= 2.0\\ngini = 0.355\\nsamples = 13\\nvalue = [3, 10]'),\n",
              " Text(0.9858365299498377, 0.5833333333333334, 'gini = 0.0\\nsamples = 3\\nvalue = [3, 0]'),\n",
              " Text(0.9952788433166125, 0.5833333333333334, 'gini = 0.0\\nsamples = 10\\nvalue = [0, 10]')]"
            ]
          },
          "execution_count": 227,
          "metadata": {},
          "output_type": "execute_result"
        },
        {
          "data": {
            "image/png": "[encoded data removed]",
            "text/plain": [
              "<Figure size 640x480 with 1 Axes>"
            ]
          },
          "metadata": {},
          "output_type": "display_data"
        }
      ],
      "source": [
        "tree.plot_tree(treedf) #Observemos graficamente el arbol"
      ]
    },
    {
      "cell_type": "markdown",
      "metadata": {
        "id": "PgrUl-rNzNz6"
      },
      "source": [
        "###**Ajustamos los parámetros**"
      ]
    },
    {
      "cell_type": "code",
      "execution_count": null,
      "metadata": {
        "colab": {
          "background_save": true
        },
        "id": "0YqPR16ZzIKB",
        "outputId": "82caeff7-1c9a-4f83-95e5-d8bf59361c3f"
      },
      "outputs": [
        {
          "data": {
            "text/plain": [
              "{'ccp_alpha': 0.0,\n",
              " 'class_weight': None,\n",
              " 'criterion': 'gini',\n",
              " 'max_depth': None,\n",
              " 'max_features': None,\n",
              " 'max_leaf_nodes': None,\n",
              " 'min_impurity_decrease': 0.0,\n",
              " 'min_samples_leaf': 1,\n",
              " 'min_samples_split': 2,\n",
              " 'min_weight_fraction_leaf': 0.0,\n",
              " 'random_state': 0,\n",
              " 'splitter': 'best'}"
            ]
          },
          "execution_count": 228,
          "metadata": {},
          "output_type": "execute_result"
        }
      ],
      "source": [
        "treedf.get_params()"
      ]
    },
    {
      "cell_type": "code",
      "execution_count": null,
      "metadata": {
        "colab": {
          "background_save": true
        },
        "id": "wv7_27JXzU9C"
      },
      "outputs": [],
      "source": [
        "param_grid = {\n",
        "    \"max_depth\": [3,5,10,15,20,None],\n",
        "    \"min_samples_split\": [3, 5,7,10],\n",
        "    \"min_samples_leaf\": [2,3,5]\n",
        "}"
      ]
    },
    {
      "cell_type": "code",
      "execution_count": null,
      "metadata": {
        "colab": {
          "background_save": true
        },
        "id": "Ah_Do0eozbUh",
        "outputId": "f70886c1-5ca1-48b3-8b96-c0bac818a637"
      },
      "outputs": [
        {
          "name": "stdout",
          "output_type": "stream",
          "text": [
            "Param for GS {'max_depth': 20, 'min_samples_leaf': 2, 'min_samples_split': 3}\n",
            "CV score for GS 0.9081262074591289\n"
          ]
        }
      ],
      "source": [
        "from sklearn.metrics import roc_auc_score\n",
        "from sklearn.model_selection import GridSearchCV\n",
        "\n",
        "grid_cv = GridSearchCV(treedf, param_grid, scoring=\"roc_auc\", n_jobs=-1, cv=5).fit(X_train_std, y_train)\n",
        "\n",
        "print(\"Param for GS\", grid_cv.best_params_)\n",
        "print(\"CV score for GS\", grid_cv.best_score_)"
      ]
    },
    {
      "cell_type": "code",
      "execution_count": null,
      "metadata": {
        "colab": {
          "background_save": true
        },
        "id": "jZB1J_pJzgxq",
        "outputId": "e0775f56-c429-496a-d252-cb2aaf934a00"
      },
      "outputs": [
        {
          "data": {
            "image/png": "[encoded data removed]",
            "text/plain": [
              "<Figure size 640x480 with 1 Axes>"
            ]
          },
          "metadata": {},
          "output_type": "display_data"
        }
      ],
      "source": [
        "# compute ccp_alpha values\n",
        "path = treedf.cost_complexity_pruning_path(X_train, y_train)\n",
        "ccp_alphas, impurities = path.ccp_alphas, path.impurities\n",
        "\n",
        "# train DT classifier for each ccp_alpha value\n",
        "clfs = []\n",
        "for ccp_alpha in ccp_alphas:\n",
        "    clf = tree.DecisionTreeClassifier(random_state=42, ccp_alpha=ccp_alpha)\n",
        "    clf.fit(X_train, y_train)\n",
        "    clfs.append(clf)\n",
        "\n",
        "# Plot train and test score for each of the above trained model\n",
        "clfs = clfs[:-1]\n",
        "ccp_alphas = ccp_alphas[:-1]\n",
        "\n",
        "train_scores = [roc_auc_score(y_train, td2.predict(X_train)) for td2 in clfs]\n",
        "test_scores = [roc_auc_score(y_test, td2.predict(X_test)) for td2 in clfs]\n",
        "\n",
        "fig, ax = plt.subplots()\n",
        "ax.set_xlabel(\"alpha\")\n",
        "ax.set_ylabel(\"accuracy\")\n",
        "ax.set_title(\"AUC-ROC score vs alpha\")\n",
        "ax.plot(ccp_alphas, train_scores, marker='o', label=\"train\")\n",
        "ax.plot(ccp_alphas, test_scores, marker='o', label=\"test\")\n",
        "ax.legend()\n",
        "plt.show()"
      ]
    },
    {
      "cell_type": "code",
      "execution_count": null,
      "metadata": {
        "colab": {
          "background_save": true
        },
        "id": "wg2I-TKIzisq",
        "outputId": "c056d101-ebc3-44ba-fd6f-f698d61f76a4"
      },
      "outputs": [
        {
          "data": {
            "text/html": [
              "<style>#sk-container-id-3 {color: black;background-color: white;}#sk-container-id-3 pre{padding: 0;}#sk-container-id-3 div.sk-toggleable {background-color: white;}#sk-container-id-3 label.sk-toggleable__label {cursor: pointer;display: block;width: 100%;margin-bottom: 0;padding: 0.3em;box-sizing: border-box;text-align: center;}#sk-container-id-3 label.sk-toggleable__label-arrow:before {content: \"▸\";float: left;margin-right: 0.25em;color: #696969;}#sk-container-id-3 label.sk-toggleable__label-arrow:hover:before {color: black;}#sk-container-id-3 div.sk-estimator:hover label.sk-toggleable__label-arrow:before {color: black;}#sk-container-id-3 div.sk-toggleable__content {max-height: 0;max-width: 0;overflow: hidden;text-align: left;background-color: #f0f8ff;}#sk-container-id-3 div.sk-toggleable__content pre {margin: 0.2em;color: black;border-radius: 0.25em;background-color: #f0f8ff;}#sk-container-id-3 input.sk-toggleable__control:checked~div.sk-toggleable__content {max-height: 200px;max-width: 100%;overflow: auto;}#sk-container-id-3 input.sk-toggleable__control:checked~label.sk-toggleable__label-arrow:before {content: \"▾\";}#sk-container-id-3 div.sk-estimator input.sk-toggleable__control:checked~label.sk-toggleable__label {background-color: #d4ebff;}#sk-container-id-3 div.sk-label input.sk-toggleable__control:checked~label.sk-toggleable__label {background-color: #d4ebff;}#sk-container-id-3 input.sk-hidden--visually {border: 0;clip: rect(1px 1px 1px 1px);clip: rect(1px, 1px, 1px, 1px);height: 1px;margin: -1px;overflow: hidden;padding: 0;position: absolute;width: 1px;}#sk-container-id-3 div.sk-estimator {font-family: monospace;background-color: #f0f8ff;border: 1px dotted black;border-radius: 0.25em;box-sizing: border-box;margin-bottom: 0.5em;}#sk-container-id-3 div.sk-estimator:hover {background-color: #d4ebff;}#sk-container-id-3 div.sk-parallel-item::after {content: \"\";width: 100%;border-bottom: 1px solid gray;flex-grow: 1;}#sk-container-id-3 div.sk-label:hover label.sk-toggleable__label {background-color: #d4ebff;}#sk-container-id-3 div.sk-serial::before {content: \"\";position: absolute;border-left: 1px solid gray;box-sizing: border-box;top: 0;bottom: 0;left: 50%;z-index: 0;}#sk-container-id-3 div.sk-serial {display: flex;flex-direction: column;align-items: center;background-color: white;padding-right: 0.2em;padding-left: 0.2em;position: relative;}#sk-container-id-3 div.sk-item {position: relative;z-index: 1;}#sk-container-id-3 div.sk-parallel {display: flex;align-items: stretch;justify-content: center;background-color: white;position: relative;}#sk-container-id-3 div.sk-item::before, #sk-container-id-3 div.sk-parallel-item::before {content: \"\";position: absolute;border-left: 1px solid gray;box-sizing: border-box;top: 0;bottom: 0;left: 50%;z-index: -1;}#sk-container-id-3 div.sk-parallel-item {display: flex;flex-direction: column;z-index: 1;position: relative;background-color: white;}#sk-container-id-3 div.sk-parallel-item:first-child::after {align-self: flex-end;width: 50%;}#sk-container-id-3 div.sk-parallel-item:last-child::after {align-self: flex-start;width: 50%;}#sk-container-id-3 div.sk-parallel-item:only-child::after {width: 0;}#sk-container-id-3 div.sk-dashed-wrapped {border: 1px dashed gray;margin: 0 0.4em 0.5em 0.4em;box-sizing: border-box;padding-bottom: 0.4em;background-color: white;}#sk-container-id-3 div.sk-label label {font-family: monospace;font-weight: bold;display: inline-block;line-height: 1.2em;}#sk-container-id-3 div.sk-label-container {text-align: center;}#sk-container-id-3 div.sk-container {/* jupyter's `normalize.less` sets `[hidden] { display: none; }` but bootstrap.min.css set `[hidden] { display: none !important; }` so we also need the `!important` here to be able to override the default hidden behavior on the sphinx rendered scikit-learn.org. See: https://github.com/scikit-learn/scikit-learn/issues/21755 */display: inline-block !important;position: relative;}#sk-container-id-3 div.sk-text-repr-fallback {display: none;}</style><div id=\"sk-container-id-3\" class=\"sk-top-container\"><div class=\"sk-text-repr-fallback\"><pre>DecisionTreeClassifier(max_depth=15, min_samples_leaf=2, min_samples_split=3,\n",
              "                       random_state=0)</pre><b>In a Jupyter environment, please rerun this cell to show the HTML representation or trust the notebook. <br />On GitHub, the HTML representation is unable to render, please try loading this page with nbviewer.org.</b></div><div class=\"sk-container\" hidden><div class=\"sk-item\"><div class=\"sk-estimator sk-toggleable\"><input class=\"sk-toggleable__control sk-hidden--visually\" id=\"sk-estimator-id-3\" type=\"checkbox\" checked><label for=\"sk-estimator-id-3\" class=\"sk-toggleable__label sk-toggleable__label-arrow\">DecisionTreeClassifier</label><div class=\"sk-toggleable__content\"><pre>DecisionTreeClassifier(max_depth=15, min_samples_leaf=2, min_samples_split=3,\n",
              "                       random_state=0)</pre></div></div></div></div></div>"
            ],
            "text/plain": [
              "DecisionTreeClassifier(max_depth=15, min_samples_leaf=2, min_samples_split=3,\n",
              "                       random_state=0)"
            ]
          },
          "execution_count": 232,
          "metadata": {},
          "output_type": "execute_result"
        }
      ],
      "source": [
        "treedf = tree.DecisionTreeClassifier(\n",
        "          criterion = 'gini',\n",
        "          max_depth= 15, min_samples_leaf= 2, min_samples_split= 3,\n",
        "          random_state=0)\n",
        "treedf.fit(X_train_std, y_train)"
      ]
    },
    {
      "cell_type": "code",
      "execution_count": null,
      "metadata": {
        "colab": {
          "background_save": true
        },
        "id": "DrSm6TgRzkha",
        "outputId": "5a84248c-93c2-46c5-fabc-51886eafe33e"
      },
      "outputs": [
        {
          "name": "stdout",
          "output_type": "stream",
          "text": [
            "Train - Accuracy : 0.9926303854875284\n",
            "Train - classification report:\n",
            "               precision    recall  f1-score   support\n",
            "\n",
            "           0       0.99      1.00      1.00      2958\n",
            "           1       0.99      0.96      0.98       570\n",
            "\n",
            "    accuracy                           0.99      3528\n",
            "   macro avg       0.99      0.98      0.99      3528\n",
            "weighted avg       0.99      0.99      0.99      3528\n",
            "\n",
            "Test - Accuracy : 0.9433106575963719\n",
            "Test - classification report :               precision    recall  f1-score   support\n",
            "\n",
            "           0       0.97      0.97      0.97       741\n",
            "           1       0.83      0.82      0.82       141\n",
            "\n",
            "    accuracy                           0.94       882\n",
            "   macro avg       0.90      0.89      0.89       882\n",
            "weighted avg       0.94      0.94      0.94       882\n",
            "\n"
          ]
        }
      ],
      "source": [
        "# Métricas de desempeño\n",
        "print (\"Train - Accuracy :\", metrics.accuracy_score(y_train, treedf.predict(X_train_std)))\n",
        "print (\"Train - classification report:\\n\", metrics.classification_report(y_train, treedf.predict(X_train_std)))\n",
        "print (\"Test - Accuracy :\", metrics.accuracy_score(y_test, treedf.predict(X_test_std)))\n",
        "print (\"Test - classification report :\", metrics.classification_report(y_test, treedf.predict(X_test_std)))"
      ]
    },
    {
      "cell_type": "code",
      "execution_count": null,
      "metadata": {
        "colab": {
          "background_save": true
        },
        "id": "688C_mdXzmaU",
        "outputId": "064de154-fcb5-4c6b-a3f2-78bf2295bbf6"
      },
      "outputs": [
        {
          "data": {
            "image/png": "[encoded data removed]",
            "text/plain": [
              "<Figure size 640x480 with 2 Axes>"
            ]
          },
          "metadata": {},
          "output_type": "display_data"
        }
      ],
      "source": [
        "from sklearn.metrics import confusion_matrix, ConfusionMatrixDisplay\n",
        "# Matriz de confusion\n",
        "cm1= confusion_matrix(y_test, treedf.predict(X_test_std))\n",
        "# Visualización de la matriz de confusion\n",
        "cm1_display = ConfusionMatrixDisplay(confusion_matrix = cm1)\n",
        "cm1_display.plot()\n",
        "plt.show()"
      ]
    },
    {
      "cell_type": "code",
      "execution_count": null,
      "metadata": {
        "colab": {
          "background_save": true
        },
        "id": "sueoQZT3zx7M",
        "outputId": "5916e87f-d63d-462d-e30a-e09af9b5888c"
      },
      "outputs": [
        {
          "name": "stdout",
          "output_type": "stream",
          "text": [
            "Accuracy for train=  93.9610159670358\n",
            "Accuracy for test=  82.53830439223698\n"
          ]
        }
      ],
      "source": [
        "kfold = KFold(n_splits=10, random_state=7, shuffle=True)\n",
        "score='accuracy'\n",
        "crosstrain = cross_val_score(treedf, X_train, y_train, cv=kfold, scoring=score,error_score='raise')\n",
        "crosstest = cross_val_score(treedf, X_test, y_test, cv=kfold, scoring=score,error_score='raise')\n",
        "print('Accuracy for train= ',crosstrain.mean()*100)\n",
        "print('Accuracy for test= ',crosstest.mean()*100)"
      ]
    },
    {
      "cell_type": "markdown",
      "source": [
        "**Antes del Ajuste de Parámetros:**\n",
        "\n",
        "En el conjunto de entrenamiento:\n",
        "\n",
        "Accuracy: 1.0\n",
        "Precision, Recall y F1-score para la clase 0 son todos 1.0, lo que indica un ajuste perfecto para esa clase.\n",
        "Precision, Recall y F1-score para la clase 1 son también 1.0, lo que indica un ajuste perfecto para esa clase.\n",
        "\n",
        "En el conjunto de prueba:\n",
        "Accuracy: 0.9705\n",
        "Aunque el modelo es altamente preciso, muestra un pequeño desequilibrio en la clase 1 con una precisión más baja y un recall más alto en comparación con la clase 0.\n",
        "\n",
        "**Después del Ajuste de Parámetros:**\n",
        "\n",
        "En el conjunto de entrenamiento:\n",
        "\n",
        "Accuracy: 0.9926\n",
        "Aunque la precisión es alta, el modelo ahora muestra un poco de desequilibrio en la clase 1, con una precisión ligeramente menor y un recall ligeramente menor en comparación con la clase 0.\n",
        "\n",
        "En el conjunto de prueba:\n",
        "\n",
        "Accuracy: 0.9433\n",
        "El modelo sigue siendo preciso, pero ha experimentado una disminución en la precisión, el recall y el F1-score para ambas clases en comparación con el modelo sin ajustar.\n",
        "\n",
        "\n",
        "El modelo sin ajustar los parámetros tiene una precisión casi perfecta en el conjunto de entrenamiento, lo que sugiere un posible sobreajuste a los datos de entrenamiento. Sin embargo, en el conjunto de prueba, aunque la precisión es alta, el modelo muestra un desequilibrio en la clase 1.\n",
        "Después de ajustar los parámetros, el modelo generaliza mejor en el conjunto de prueba, lo que se refleja en una disminución del sobreajuste, pero aún muestra un desequilibrio en las métricas de rendimiento para la clase 1."
      ],
      "metadata": {
        "id": "pFdMgIAf7kse"
      }
    },
    {
      "cell_type": "markdown",
      "metadata": {
        "id": "JoF9NnE7zzDk"
      },
      "source": [
        "##**Random forest**"
      ]
    },
    {
      "cell_type": "code",
      "execution_count": null,
      "metadata": {
        "colab": {
          "background_save": true
        },
        "id": "bPDblOzfz54J",
        "outputId": "df7322d1-3a25-46fc-a445-515bf7b5d237"
      },
      "outputs": [
        {
          "data": {
            "text/html": [
              "<style>#sk-container-id-4 {color: black;background-color: white;}#sk-container-id-4 pre{padding: 0;}#sk-container-id-4 div.sk-toggleable {background-color: white;}#sk-container-id-4 label.sk-toggleable__label {cursor: pointer;display: block;width: 100%;margin-bottom: 0;padding: 0.3em;box-sizing: border-box;text-align: center;}#sk-container-id-4 label.sk-toggleable__label-arrow:before {content: \"▸\";float: left;margin-right: 0.25em;color: #696969;}#sk-container-id-4 label.sk-toggleable__label-arrow:hover:before {color: black;}#sk-container-id-4 div.sk-estimator:hover label.sk-toggleable__label-arrow:before {color: black;}#sk-container-id-4 div.sk-toggleable__content {max-height: 0;max-width: 0;overflow: hidden;text-align: left;background-color: #f0f8ff;}#sk-container-id-4 div.sk-toggleable__content pre {margin: 0.2em;color: black;border-radius: 0.25em;background-color: #f0f8ff;}#sk-container-id-4 input.sk-toggleable__control:checked~div.sk-toggleable__content {max-height: 200px;max-width: 100%;overflow: auto;}#sk-container-id-4 input.sk-toggleable__control:checked~label.sk-toggleable__label-arrow:before {content: \"▾\";}#sk-container-id-4 div.sk-estimator input.sk-toggleable__control:checked~label.sk-toggleable__label {background-color: #d4ebff;}#sk-container-id-4 div.sk-label input.sk-toggleable__control:checked~label.sk-toggleable__label {background-color: #d4ebff;}#sk-container-id-4 input.sk-hidden--visually {border: 0;clip: rect(1px 1px 1px 1px);clip: rect(1px, 1px, 1px, 1px);height: 1px;margin: -1px;overflow: hidden;padding: 0;position: absolute;width: 1px;}#sk-container-id-4 div.sk-estimator {font-family: monospace;background-color: #f0f8ff;border: 1px dotted black;border-radius: 0.25em;box-sizing: border-box;margin-bottom: 0.5em;}#sk-container-id-4 div.sk-estimator:hover {background-color: #d4ebff;}#sk-container-id-4 div.sk-parallel-item::after {content: \"\";width: 100%;border-bottom: 1px solid gray;flex-grow: 1;}#sk-container-id-4 div.sk-label:hover label.sk-toggleable__label {background-color: #d4ebff;}#sk-container-id-4 div.sk-serial::before {content: \"\";position: absolute;border-left: 1px solid gray;box-sizing: border-box;top: 0;bottom: 0;left: 50%;z-index: 0;}#sk-container-id-4 div.sk-serial {display: flex;flex-direction: column;align-items: center;background-color: white;padding-right: 0.2em;padding-left: 0.2em;position: relative;}#sk-container-id-4 div.sk-item {position: relative;z-index: 1;}#sk-container-id-4 div.sk-parallel {display: flex;align-items: stretch;justify-content: center;background-color: white;position: relative;}#sk-container-id-4 div.sk-item::before, #sk-container-id-4 div.sk-parallel-item::before {content: \"\";position: absolute;border-left: 1px solid gray;box-sizing: border-box;top: 0;bottom: 0;left: 50%;z-index: -1;}#sk-container-id-4 div.sk-parallel-item {display: flex;flex-direction: column;z-index: 1;position: relative;background-color: white;}#sk-container-id-4 div.sk-parallel-item:first-child::after {align-self: flex-end;width: 50%;}#sk-container-id-4 div.sk-parallel-item:last-child::after {align-self: flex-start;width: 50%;}#sk-container-id-4 div.sk-parallel-item:only-child::after {width: 0;}#sk-container-id-4 div.sk-dashed-wrapped {border: 1px dashed gray;margin: 0 0.4em 0.5em 0.4em;box-sizing: border-box;padding-bottom: 0.4em;background-color: white;}#sk-container-id-4 div.sk-label label {font-family: monospace;font-weight: bold;display: inline-block;line-height: 1.2em;}#sk-container-id-4 div.sk-label-container {text-align: center;}#sk-container-id-4 div.sk-container {/* jupyter's `normalize.less` sets `[hidden] { display: none; }` but bootstrap.min.css set `[hidden] { display: none !important; }` so we also need the `!important` here to be able to override the default hidden behavior on the sphinx rendered scikit-learn.org. See: https://github.com/scikit-learn/scikit-learn/issues/21755 */display: inline-block !important;position: relative;}#sk-container-id-4 div.sk-text-repr-fallback {display: none;}</style><div id=\"sk-container-id-4\" class=\"sk-top-container\"><div class=\"sk-text-repr-fallback\"><pre>RandomForestClassifier(random_state=123)</pre><b>In a Jupyter environment, please rerun this cell to show the HTML representation or trust the notebook. <br />On GitHub, the HTML representation is unable to render, please try loading this page with nbviewer.org.</b></div><div class=\"sk-container\" hidden><div class=\"sk-item\"><div class=\"sk-estimator sk-toggleable\"><input class=\"sk-toggleable__control sk-hidden--visually\" id=\"sk-estimator-id-4\" type=\"checkbox\" checked><label for=\"sk-estimator-id-4\" class=\"sk-toggleable__label sk-toggleable__label-arrow\">RandomForestClassifier</label><div class=\"sk-toggleable__content\"><pre>RandomForestClassifier(random_state=123)</pre></div></div></div></div></div>"
            ],
            "text/plain": [
              "RandomForestClassifier(random_state=123)"
            ]
          },
          "execution_count": 236,
          "metadata": {},
          "output_type": "execute_result"
        }
      ],
      "source": [
        "from sklearn.ensemble import RandomForestClassifier\n",
        "#Definición del modelo\n",
        "ranfor = RandomForestClassifier(random_state = 123, n_estimators=100)\n",
        "ranfor.fit(X_train, y_train)"
      ]
    },
    {
      "cell_type": "code",
      "execution_count": null,
      "metadata": {
        "colab": {
          "background_save": true
        },
        "id": "Kqf9d2piz9z0",
        "outputId": "8f13594c-2620-443c-97d0-9689594fc589"
      },
      "outputs": [
        {
          "name": "stdout",
          "output_type": "stream",
          "text": [
            "Train - Accuracy : 1.0\n",
            "Train - classification report:\n",
            "               precision    recall  f1-score   support\n",
            "\n",
            "           0       1.00      1.00      1.00      2958\n",
            "           1       1.00      1.00      1.00       570\n",
            "\n",
            "    accuracy                           1.00      3528\n",
            "   macro avg       1.00      1.00      1.00      3528\n",
            "weighted avg       1.00      1.00      1.00      3528\n",
            "\n",
            "Test - Accuracy : 0.9943310657596371\n",
            "Test - classification report :               precision    recall  f1-score   support\n",
            "\n",
            "           0       0.99      1.00      1.00       741\n",
            "           1       1.00      0.96      0.98       141\n",
            "\n",
            "    accuracy                           0.99       882\n",
            "   macro avg       1.00      0.98      0.99       882\n",
            "weighted avg       0.99      0.99      0.99       882\n",
            "\n"
          ]
        }
      ],
      "source": [
        "# Métricas de desempeño\n",
        "print (\"Train - Accuracy :\", metrics.accuracy_score(y_train, ranfor.predict(X_train)))\n",
        "print (\"Train - classification report:\\n\", metrics.classification_report(y_train, ranfor.predict(X_train)))\n",
        "print (\"Test - Accuracy :\", metrics.accuracy_score(y_test, ranfor.predict(X_test)))\n",
        "print (\"Test - classification report :\", metrics.classification_report(y_test, ranfor.predict(X_test)))"
      ]
    },
    {
      "cell_type": "code",
      "execution_count": null,
      "metadata": {
        "colab": {
          "background_save": true
        },
        "id": "PVxkfUGvz_qJ",
        "outputId": "0e771e35-d8e5-44f1-9bc9-abd395df03fe"
      },
      "outputs": [
        {
          "data": {
            "image/png": "[encoded data removed]",
            "text/plain": [
              "<Figure size 640x480 with 2 Axes>"
            ]
          },
          "metadata": {},
          "output_type": "display_data"
        }
      ],
      "source": [
        "from sklearn.metrics import confusion_matrix, ConfusionMatrixDisplay\n",
        "# Matriz de confusion\n",
        "cm1= confusion_matrix(y_test, ranfor.predict(X_test))\n",
        "# Visualización de la matriz de confusion\n",
        "cm1_display = ConfusionMatrixDisplay(confusion_matrix = cm1)\n",
        "cm1_display.plot()\n",
        "plt.show()"
      ]
    },
    {
      "cell_type": "markdown",
      "metadata": {
        "id": "qFODlYI20EMa"
      },
      "source": [
        "Este modelo muestra un rendimiento sobresaliente, con una precisión global del 99%, lo que implica que clasifica la gran mayoría de los casos de manera correcta.\n",
        "Además, el modelo exhibe una alta precisión, recall y F1-score para ambas clases, lo que sugiere que es capaz de clasificar con precisión todas las observaciones.\n",
        "\n",
        "Sin embargo, es importante destacar que estas métricas podrían ser indicativas de un posible sobreajuste, lo que significa que el modelo pudo haber aprendido los datos de manera tan detallada que se ajustó excesivamente a ellos. Por lo tanto, planeamos realizar ajustes en los parámetros para abordar este problema.\n",
        "Además, es relevante mencionar que en la matriz de confusión no se observan falsos negativos, y los falsos positivos son muy escasos."
      ]
    },
    {
      "cell_type": "code",
      "execution_count": null,
      "metadata": {
        "colab": {
          "background_save": true
        },
        "id": "Rkpo_MWQ0J_A"
      },
      "outputs": [],
      "source": [
        "param_grid = {\n",
        "    \"max_depth\": [5,15,20,30],\n",
        "    \"min_samples_split\": [3,5,10],\n",
        "    \"min_samples_leaf\": [2,3,5,10,],\n",
        "    'n_estimators': [100,115,200,500]\n",
        "}"
      ]
    },
    {
      "cell_type": "code",
      "execution_count": null,
      "metadata": {
        "colab": {
          "background_save": true
        },
        "id": "r4b-lTRC0Ld4",
        "outputId": "cf139872-e12e-4113-fd06-4c63d68e76c0"
      },
      "outputs": [
        {
          "name": "stdout",
          "output_type": "stream",
          "text": [
            "Best Params:  {'max_depth': 30, 'min_samples_leaf': 2, 'min_samples_split': 3, 'n_estimators': 115}\n",
            "Best Score:  0.6693926259949503\n"
          ]
        }
      ],
      "source": [
        "from sklearn.ensemble import RandomForestClassifier\n",
        "#Definición del modelo\n",
        "ranfor = RandomForestClassifier(random_state = 42)\n",
        "\n",
        "grid_search = GridSearchCV(ranfor, param_grid, cv=5, scoring='r2', n_jobs=-1)\n",
        "grid_result = grid_search.fit(X_train, y_train)\n",
        "\n",
        "print('Best Params: ', grid_result.best_params_)\n",
        "print('Best Score: ', grid_result.best_score_)"
      ]
    },
    {
      "cell_type": "code",
      "execution_count": null,
      "metadata": {
        "colab": {
          "background_save": true
        },
        "id": "M24YLkTF0SRc",
        "outputId": "eaa67829-67df-4efa-8ffc-69df13a35b37"
      },
      "outputs": [
        {
          "data": {
            "text/html": [
              "<style>#sk-container-id-5 {color: black;background-color: white;}#sk-container-id-5 pre{padding: 0;}#sk-container-id-5 div.sk-toggleable {background-color: white;}#sk-container-id-5 label.sk-toggleable__label {cursor: pointer;display: block;width: 100%;margin-bottom: 0;padding: 0.3em;box-sizing: border-box;text-align: center;}#sk-container-id-5 label.sk-toggleable__label-arrow:before {content: \"▸\";float: left;margin-right: 0.25em;color: #696969;}#sk-container-id-5 label.sk-toggleable__label-arrow:hover:before {color: black;}#sk-container-id-5 div.sk-estimator:hover label.sk-toggleable__label-arrow:before {color: black;}#sk-container-id-5 div.sk-toggleable__content {max-height: 0;max-width: 0;overflow: hidden;text-align: left;background-color: #f0f8ff;}#sk-container-id-5 div.sk-toggleable__content pre {margin: 0.2em;color: black;border-radius: 0.25em;background-color: #f0f8ff;}#sk-container-id-5 input.sk-toggleable__control:checked~div.sk-toggleable__content {max-height: 200px;max-width: 100%;overflow: auto;}#sk-container-id-5 input.sk-toggleable__control:checked~label.sk-toggleable__label-arrow:before {content: \"▾\";}#sk-container-id-5 div.sk-estimator input.sk-toggleable__control:checked~label.sk-toggleable__label {background-color: #d4ebff;}#sk-container-id-5 div.sk-label input.sk-toggleable__control:checked~label.sk-toggleable__label {background-color: #d4ebff;}#sk-container-id-5 input.sk-hidden--visually {border: 0;clip: rect(1px 1px 1px 1px);clip: rect(1px, 1px, 1px, 1px);height: 1px;margin: -1px;overflow: hidden;padding: 0;position: absolute;width: 1px;}#sk-container-id-5 div.sk-estimator {font-family: monospace;background-color: #f0f8ff;border: 1px dotted black;border-radius: 0.25em;box-sizing: border-box;margin-bottom: 0.5em;}#sk-container-id-5 div.sk-estimator:hover {background-color: #d4ebff;}#sk-container-id-5 div.sk-parallel-item::after {content: \"\";width: 100%;border-bottom: 1px solid gray;flex-grow: 1;}#sk-container-id-5 div.sk-label:hover label.sk-toggleable__label {background-color: #d4ebff;}#sk-container-id-5 div.sk-serial::before {content: \"\";position: absolute;border-left: 1px solid gray;box-sizing: border-box;top: 0;bottom: 0;left: 50%;z-index: 0;}#sk-container-id-5 div.sk-serial {display: flex;flex-direction: column;align-items: center;background-color: white;padding-right: 0.2em;padding-left: 0.2em;position: relative;}#sk-container-id-5 div.sk-item {position: relative;z-index: 1;}#sk-container-id-5 div.sk-parallel {display: flex;align-items: stretch;justify-content: center;background-color: white;position: relative;}#sk-container-id-5 div.sk-item::before, #sk-container-id-5 div.sk-parallel-item::before {content: \"\";position: absolute;border-left: 1px solid gray;box-sizing: border-box;top: 0;bottom: 0;left: 50%;z-index: -1;}#sk-container-id-5 div.sk-parallel-item {display: flex;flex-direction: column;z-index: 1;position: relative;background-color: white;}#sk-container-id-5 div.sk-parallel-item:first-child::after {align-self: flex-end;width: 50%;}#sk-container-id-5 div.sk-parallel-item:last-child::after {align-self: flex-start;width: 50%;}#sk-container-id-5 div.sk-parallel-item:only-child::after {width: 0;}#sk-container-id-5 div.sk-dashed-wrapped {border: 1px dashed gray;margin: 0 0.4em 0.5em 0.4em;box-sizing: border-box;padding-bottom: 0.4em;background-color: white;}#sk-container-id-5 div.sk-label label {font-family: monospace;font-weight: bold;display: inline-block;line-height: 1.2em;}#sk-container-id-5 div.sk-label-container {text-align: center;}#sk-container-id-5 div.sk-container {/* jupyter's `normalize.less` sets `[hidden] { display: none; }` but bootstrap.min.css set `[hidden] { display: none !important; }` so we also need the `!important` here to be able to override the default hidden behavior on the sphinx rendered scikit-learn.org. See: https://github.com/scikit-learn/scikit-learn/issues/21755 */display: inline-block !important;position: relative;}#sk-container-id-5 div.sk-text-repr-fallback {display: none;}</style><div id=\"sk-container-id-5\" class=\"sk-top-container\"><div class=\"sk-text-repr-fallback\"><pre>RandomForestClassifier(max_depth=20, min_samples_leaf=2, min_samples_split=3,\n",
              "                       n_estimators=115, random_state=42)</pre><b>In a Jupyter environment, please rerun this cell to show the HTML representation or trust the notebook. <br />On GitHub, the HTML representation is unable to render, please try loading this page with nbviewer.org.</b></div><div class=\"sk-container\" hidden><div class=\"sk-item\"><div class=\"sk-estimator sk-toggleable\"><input class=\"sk-toggleable__control sk-hidden--visually\" id=\"sk-estimator-id-5\" type=\"checkbox\" checked><label for=\"sk-estimator-id-5\" class=\"sk-toggleable__label sk-toggleable__label-arrow\">RandomForestClassifier</label><div class=\"sk-toggleable__content\"><pre>RandomForestClassifier(max_depth=20, min_samples_leaf=2, min_samples_split=3,\n",
              "                       n_estimators=115, random_state=42)</pre></div></div></div></div></div>"
            ],
            "text/plain": [
              "RandomForestClassifier(max_depth=20, min_samples_leaf=2, min_samples_split=3,\n",
              "                       n_estimators=115, random_state=42)"
            ]
          },
          "execution_count": 241,
          "metadata": {},
          "output_type": "execute_result"
        }
      ],
      "source": [
        "ranfor = RandomForestClassifier(\n",
        "            n_estimators = 115,\n",
        "            criterion    = 'gini',\n",
        "            max_depth    = 20,\n",
        "            min_samples_leaf = 2,\n",
        "            min_samples_split = 3,\n",
        "            random_state = 42\n",
        "         )\n",
        "ranfor.fit(X_train, y_train)"
      ]
    },
    {
      "cell_type": "code",
      "execution_count": null,
      "metadata": {
        "colab": {
          "background_save": true
        },
        "id": "Efp5tVTh0UED",
        "outputId": "e1f6da1f-be21-4c71-9daf-6035e51722bb"
      },
      "outputs": [
        {
          "name": "stdout",
          "output_type": "stream",
          "text": [
            "Train - Accuracy : 0.9971655328798186\n",
            "Train - classification report:\n",
            "               precision    recall  f1-score   support\n",
            "\n",
            "           0       1.00      1.00      1.00      2958\n",
            "           1       1.00      0.98      0.99       570\n",
            "\n",
            "    accuracy                           1.00      3528\n",
            "   macro avg       1.00      0.99      0.99      3528\n",
            "weighted avg       1.00      1.00      1.00      3528\n",
            "\n",
            "Test - Accuracy : 0.9659863945578231\n",
            "Test - classification report :               precision    recall  f1-score   support\n",
            "\n",
            "           0       0.96      1.00      0.98       741\n",
            "           1       0.99      0.79      0.88       141\n",
            "\n",
            "    accuracy                           0.97       882\n",
            "   macro avg       0.98      0.90      0.93       882\n",
            "weighted avg       0.97      0.97      0.96       882\n",
            "\n"
          ]
        }
      ],
      "source": [
        "# Métricas de desempeño\n",
        "print (\"Train - Accuracy :\", metrics.accuracy_score(y_train, ranfor.predict(X_train)))\n",
        "print (\"Train - classification report:\\n\", metrics.classification_report(y_train, ranfor.predict(X_train)))\n",
        "print (\"Test - Accuracy :\", metrics.accuracy_score(y_test, ranfor.predict(X_test)))\n",
        "print (\"Test - classification report :\", metrics.classification_report(y_test, ranfor.predict(X_test)))"
      ]
    },
    {
      "cell_type": "code",
      "execution_count": null,
      "metadata": {
        "colab": {
          "background_save": true
        },
        "id": "H7GZoqKy0Vie",
        "outputId": "26394be9-d451-4c23-a411-a9f549892f33"
      },
      "outputs": [
        {
          "data": {
            "image/png": "[encoded data removed]",
            "text/plain": [
              "<Figure size 640x480 with 2 Axes>"
            ]
          },
          "metadata": {},
          "output_type": "display_data"
        }
      ],
      "source": [
        "from sklearn.metrics import confusion_matrix, ConfusionMatrixDisplay\n",
        "# Matriz de confusion\n",
        "cm1= confusion_matrix(y_test, ranfor.predict(X_test))\n",
        "# Visualización de la matriz de confusion\n",
        "cm1_display = ConfusionMatrixDisplay(confusion_matrix = cm1)\n",
        "cm1_display.plot()\n",
        "plt.show()"
      ]
    },
    {
      "cell_type": "markdown",
      "metadata": {
        "id": "CdVgTgAv0aKw"
      },
      "source": [
        "El modelo presenta una precisión global del 96%, lo que indica que clasifica la gran mayoría de los casos de manera correcta.\n",
        "No obstante, se observa que la precisión para la clase 1 es del 100%, pero el recall y el F1-score son ligeramente más bajos,\n",
        "lo que sugiere que el modelo podría tener dificultades para identificar adecuadamente los casos de la clase 1.\n",
        "\n",
        "En la matriz de confusión, notamos un aumento en los falsos positivos, aunque los falsos negativos siguen siendo cero.\n",
        "En general, se podría considerar que este es un buen modelo, pero sigue siendo importante tener en cuenta la posibilidad de sobreajuste,\n",
        "dado que las métricas podrían no reflejar completamente la capacidad del modelo en datos nuevos o desconocidos.\n"
      ]
    },
    {
      "cell_type": "markdown",
      "metadata": {
        "id": "PhgY4oey0lGW"
      },
      "source": [
        "## Gradient Boosting Classifier"
      ]
    },
    {
      "cell_type": "code",
      "execution_count": null,
      "metadata": {
        "colab": {
          "background_save": true
        },
        "id": "tGfKPJrj0l8e",
        "outputId": "5bf9e2dd-52f9-497e-ae5b-31c14b30198e"
      },
      "outputs": [
        {
          "data": {
            "text/html": [
              "<style>#sk-container-id-6 {color: black;background-color: white;}#sk-container-id-6 pre{padding: 0;}#sk-container-id-6 div.sk-toggleable {background-color: white;}#sk-container-id-6 label.sk-toggleable__label {cursor: pointer;display: block;width: 100%;margin-bottom: 0;padding: 0.3em;box-sizing: border-box;text-align: center;}#sk-container-id-6 label.sk-toggleable__label-arrow:before {content: \"▸\";float: left;margin-right: 0.25em;color: #696969;}#sk-container-id-6 label.sk-toggleable__label-arrow:hover:before {color: black;}#sk-container-id-6 div.sk-estimator:hover label.sk-toggleable__label-arrow:before {color: black;}#sk-container-id-6 div.sk-toggleable__content {max-height: 0;max-width: 0;overflow: hidden;text-align: left;background-color: #f0f8ff;}#sk-container-id-6 div.sk-toggleable__content pre {margin: 0.2em;color: black;border-radius: 0.25em;background-color: #f0f8ff;}#sk-container-id-6 input.sk-toggleable__control:checked~div.sk-toggleable__content {max-height: 200px;max-width: 100%;overflow: auto;}#sk-container-id-6 input.sk-toggleable__control:checked~label.sk-toggleable__label-arrow:before {content: \"▾\";}#sk-container-id-6 div.sk-estimator input.sk-toggleable__control:checked~label.sk-toggleable__label {background-color: #d4ebff;}#sk-container-id-6 div.sk-label input.sk-toggleable__control:checked~label.sk-toggleable__label {background-color: #d4ebff;}#sk-container-id-6 input.sk-hidden--visually {border: 0;clip: rect(1px 1px 1px 1px);clip: rect(1px, 1px, 1px, 1px);height: 1px;margin: -1px;overflow: hidden;padding: 0;position: absolute;width: 1px;}#sk-container-id-6 div.sk-estimator {font-family: monospace;background-color: #f0f8ff;border: 1px dotted black;border-radius: 0.25em;box-sizing: border-box;margin-bottom: 0.5em;}#sk-container-id-6 div.sk-estimator:hover {background-color: #d4ebff;}#sk-container-id-6 div.sk-parallel-item::after {content: \"\";width: 100%;border-bottom: 1px solid gray;flex-grow: 1;}#sk-container-id-6 div.sk-label:hover label.sk-toggleable__label {background-color: #d4ebff;}#sk-container-id-6 div.sk-serial::before {content: \"\";position: absolute;border-left: 1px solid gray;box-sizing: border-box;top: 0;bottom: 0;left: 50%;z-index: 0;}#sk-container-id-6 div.sk-serial {display: flex;flex-direction: column;align-items: center;background-color: white;padding-right: 0.2em;padding-left: 0.2em;position: relative;}#sk-container-id-6 div.sk-item {position: relative;z-index: 1;}#sk-container-id-6 div.sk-parallel {display: flex;align-items: stretch;justify-content: center;background-color: white;position: relative;}#sk-container-id-6 div.sk-item::before, #sk-container-id-6 div.sk-parallel-item::before {content: \"\";position: absolute;border-left: 1px solid gray;box-sizing: border-box;top: 0;bottom: 0;left: 50%;z-index: -1;}#sk-container-id-6 div.sk-parallel-item {display: flex;flex-direction: column;z-index: 1;position: relative;background-color: white;}#sk-container-id-6 div.sk-parallel-item:first-child::after {align-self: flex-end;width: 50%;}#sk-container-id-6 div.sk-parallel-item:last-child::after {align-self: flex-start;width: 50%;}#sk-container-id-6 div.sk-parallel-item:only-child::after {width: 0;}#sk-container-id-6 div.sk-dashed-wrapped {border: 1px dashed gray;margin: 0 0.4em 0.5em 0.4em;box-sizing: border-box;padding-bottom: 0.4em;background-color: white;}#sk-container-id-6 div.sk-label label {font-family: monospace;font-weight: bold;display: inline-block;line-height: 1.2em;}#sk-container-id-6 div.sk-label-container {text-align: center;}#sk-container-id-6 div.sk-container {/* jupyter's `normalize.less` sets `[hidden] { display: none; }` but bootstrap.min.css set `[hidden] { display: none !important; }` so we also need the `!important` here to be able to override the default hidden behavior on the sphinx rendered scikit-learn.org. See: https://github.com/scikit-learn/scikit-learn/issues/21755 */display: inline-block !important;position: relative;}#sk-container-id-6 div.sk-text-repr-fallback {display: none;}</style><div id=\"sk-container-id-6\" class=\"sk-top-container\"><div class=\"sk-text-repr-fallback\"><pre>GradientBoostingClassifier(random_state=123)</pre><b>In a Jupyter environment, please rerun this cell to show the HTML representation or trust the notebook. <br />On GitHub, the HTML representation is unable to render, please try loading this page with nbviewer.org.</b></div><div class=\"sk-container\" hidden><div class=\"sk-item\"><div class=\"sk-estimator sk-toggleable\"><input class=\"sk-toggleable__control sk-hidden--visually\" id=\"sk-estimator-id-6\" type=\"checkbox\" checked><label for=\"sk-estimator-id-6\" class=\"sk-toggleable__label sk-toggleable__label-arrow\">GradientBoostingClassifier</label><div class=\"sk-toggleable__content\"><pre>GradientBoostingClassifier(random_state=123)</pre></div></div></div></div></div>"
            ],
            "text/plain": [
              "GradientBoostingClassifier(random_state=123)"
            ]
          },
          "execution_count": 244,
          "metadata": {},
          "output_type": "execute_result"
        }
      ],
      "source": [
        "from sklearn.ensemble import GradientBoostingClassifier\n",
        "\n",
        "# Entrenamiento del modelo\n",
        "\n",
        "gboos = GradientBoostingClassifier(\n",
        "\n",
        "            random_state = 123\n",
        "         )\n",
        "gboos.fit(X_train, y_train)"
      ]
    },
    {
      "cell_type": "code",
      "execution_count": null,
      "metadata": {
        "colab": {
          "background_save": true
        },
        "id": "Sh0jx-kR0mDz",
        "outputId": "9e7247e4-3ae2-46f0-99c3-373e74531b1f"
      },
      "outputs": [
        {
          "name": "stdout",
          "output_type": "stream",
          "text": [
            "Train - Accuracy : 0.9305555555555556\n",
            "Train - classification report:\n",
            "               precision    recall  f1-score   support\n",
            "\n",
            "           0       0.93      1.00      0.96      2958\n",
            "           1       0.98      0.58      0.73       570\n",
            "\n",
            "    accuracy                           0.93      3528\n",
            "   macro avg       0.95      0.79      0.85      3528\n",
            "weighted avg       0.93      0.93      0.92      3528\n",
            "\n",
            "Test - Accuracy : 0.9081632653061225\n",
            "Test - classification report :               precision    recall  f1-score   support\n",
            "\n",
            "           0       0.91      0.99      0.95       741\n",
            "           1       0.89      0.48      0.63       141\n",
            "\n",
            "    accuracy                           0.91       882\n",
            "   macro avg       0.90      0.74      0.79       882\n",
            "weighted avg       0.91      0.91      0.90       882\n",
            "\n"
          ]
        }
      ],
      "source": [
        "# Métricas de desempeño\n",
        "# ==============================================================================\n",
        "print (\"Train - Accuracy :\", metrics.accuracy_score(y_train, gboos.predict(X_train)))\n",
        "print (\"Train - classification report:\\n\", metrics.classification_report(y_train, gboos.predict(X_train)))\n",
        "print (\"Test - Accuracy :\", metrics.accuracy_score(y_test, gboos.predict(X_test)))\n",
        "print (\"Test - classification report :\", metrics.classification_report(y_test, gboos.predict(X_test)))"
      ]
    },
    {
      "cell_type": "code",
      "execution_count": null,
      "metadata": {
        "colab": {
          "background_save": true
        },
        "id": "DnCt06Tp0mBJ",
        "outputId": "0be87c34-9af6-425c-e505-561f079b5090"
      },
      "outputs": [
        {
          "data": {
            "image/png": "[encoded data removed]",
            "text/plain": [
              "<Figure size 640x480 with 2 Axes>"
            ]
          },
          "metadata": {},
          "output_type": "display_data"
        }
      ],
      "source": [
        "# Matriz de confusion\n",
        "cm1= confusion_matrix(y_test, gboos.predict(X_test))\n",
        "# Visualización de la matriz de confusion\n",
        "cm1_display = ConfusionMatrixDisplay(confusion_matrix = cm1)\n",
        "cm1_display.plot()\n",
        "plt.show()"
      ]
    },
    {
      "cell_type": "markdown",
      "source": [
        "El modelo de Gradient Boosting Classifier demostró ser una técnica sólida en la tarea de predecir el abandono de empleados en nuestra empresa. Aunque su precisión y recuperación no alcanzan los niveles sobresalientes del Random Forest, el Gradient Boosting Classifier ofrece un equilibrio razonable entre precisión y recuperación en ambos conjuntos de datos, lo que lo hace adecuado para esta tarea. Su capacidad para identificar empleados en riesgo de abandonar la empresa y su rendimiento en el conjunto de prueba respaldan su utilidad en la toma de decisiones estratégicas relacionadas con la retención de empleados. Sin embargo, es importante destacar que aún existen oportunidades de mejora y ajustes en hiperparámetros que podrían optimizar aún más su desempeño en futuras iteraciones del modelo"
      ],
      "metadata": {
        "id": "0N7skpl68fja"
      }
    },
    {
      "cell_type": "markdown",
      "metadata": {
        "id": "pUqOezAT1H7L"
      },
      "source": [
        "## Support Vector Machine"
      ]
    },
    {
      "cell_type": "code",
      "execution_count": null,
      "metadata": {
        "colab": {
          "background_save": true
        },
        "id": "6B5xyVJi1I49",
        "outputId": "22fdf56e-77e6-43fe-8305-16899d36e04e"
      },
      "outputs": [
        {
          "data": {
            "text/html": [
              "<style>#sk-container-id-7 {color: black;background-color: white;}#sk-container-id-7 pre{padding: 0;}#sk-container-id-7 div.sk-toggleable {background-color: white;}#sk-container-id-7 label.sk-toggleable__label {cursor: pointer;display: block;width: 100%;margin-bottom: 0;padding: 0.3em;box-sizing: border-box;text-align: center;}#sk-container-id-7 label.sk-toggleable__label-arrow:before {content: \"▸\";float: left;margin-right: 0.25em;color: #696969;}#sk-container-id-7 label.sk-toggleable__label-arrow:hover:before {color: black;}#sk-container-id-7 div.sk-estimator:hover label.sk-toggleable__label-arrow:before {color: black;}#sk-container-id-7 div.sk-toggleable__content {max-height: 0;max-width: 0;overflow: hidden;text-align: left;background-color: #f0f8ff;}#sk-container-id-7 div.sk-toggleable__content pre {margin: 0.2em;color: black;border-radius: 0.25em;background-color: #f0f8ff;}#sk-container-id-7 input.sk-toggleable__control:checked~div.sk-toggleable__content {max-height: 200px;max-width: 100%;overflow: auto;}#sk-container-id-7 input.sk-toggleable__control:checked~label.sk-toggleable__label-arrow:before {content: \"▾\";}#sk-container-id-7 div.sk-estimator input.sk-toggleable__control:checked~label.sk-toggleable__label {background-color: #d4ebff;}#sk-container-id-7 div.sk-label input.sk-toggleable__control:checked~label.sk-toggleable__label {background-color: #d4ebff;}#sk-container-id-7 input.sk-hidden--visually {border: 0;clip: rect(1px 1px 1px 1px);clip: rect(1px, 1px, 1px, 1px);height: 1px;margin: -1px;overflow: hidden;padding: 0;position: absolute;width: 1px;}#sk-container-id-7 div.sk-estimator {font-family: monospace;background-color: #f0f8ff;border: 1px dotted black;border-radius: 0.25em;box-sizing: border-box;margin-bottom: 0.5em;}#sk-container-id-7 div.sk-estimator:hover {background-color: #d4ebff;}#sk-container-id-7 div.sk-parallel-item::after {content: \"\";width: 100%;border-bottom: 1px solid gray;flex-grow: 1;}#sk-container-id-7 div.sk-label:hover label.sk-toggleable__label {background-color: #d4ebff;}#sk-container-id-7 div.sk-serial::before {content: \"\";position: absolute;border-left: 1px solid gray;box-sizing: border-box;top: 0;bottom: 0;left: 50%;z-index: 0;}#sk-container-id-7 div.sk-serial {display: flex;flex-direction: column;align-items: center;background-color: white;padding-right: 0.2em;padding-left: 0.2em;position: relative;}#sk-container-id-7 div.sk-item {position: relative;z-index: 1;}#sk-container-id-7 div.sk-parallel {display: flex;align-items: stretch;justify-content: center;background-color: white;position: relative;}#sk-container-id-7 div.sk-item::before, #sk-container-id-7 div.sk-parallel-item::before {content: \"\";position: absolute;border-left: 1px solid gray;box-sizing: border-box;top: 0;bottom: 0;left: 50%;z-index: -1;}#sk-container-id-7 div.sk-parallel-item {display: flex;flex-direction: column;z-index: 1;position: relative;background-color: white;}#sk-container-id-7 div.sk-parallel-item:first-child::after {align-self: flex-end;width: 50%;}#sk-container-id-7 div.sk-parallel-item:last-child::after {align-self: flex-start;width: 50%;}#sk-container-id-7 div.sk-parallel-item:only-child::after {width: 0;}#sk-container-id-7 div.sk-dashed-wrapped {border: 1px dashed gray;margin: 0 0.4em 0.5em 0.4em;box-sizing: border-box;padding-bottom: 0.4em;background-color: white;}#sk-container-id-7 div.sk-label label {font-family: monospace;font-weight: bold;display: inline-block;line-height: 1.2em;}#sk-container-id-7 div.sk-label-container {text-align: center;}#sk-container-id-7 div.sk-container {/* jupyter's `normalize.less` sets `[hidden] { display: none; }` but bootstrap.min.css set `[hidden] { display: none !important; }` so we also need the `!important` here to be able to override the default hidden behavior on the sphinx rendered scikit-learn.org. See: https://github.com/scikit-learn/scikit-learn/issues/21755 */display: inline-block !important;position: relative;}#sk-container-id-7 div.sk-text-repr-fallback {display: none;}</style><div id=\"sk-container-id-7\" class=\"sk-top-container\"><div class=\"sk-text-repr-fallback\"><pre>SVC(C=1.5, class_weight=&#x27;balanced&#x27;, kernel=&#x27;linear&#x27;, random_state=123)</pre><b>In a Jupyter environment, please rerun this cell to show the HTML representation or trust the notebook. <br />On GitHub, the HTML representation is unable to render, please try loading this page with nbviewer.org.</b></div><div class=\"sk-container\" hidden><div class=\"sk-item\"><div class=\"sk-estimator sk-toggleable\"><input class=\"sk-toggleable__control sk-hidden--visually\" id=\"sk-estimator-id-7\" type=\"checkbox\" checked><label for=\"sk-estimator-id-7\" class=\"sk-toggleable__label sk-toggleable__label-arrow\">SVC</label><div class=\"sk-toggleable__content\"><pre>SVC(C=1.5, class_weight=&#x27;balanced&#x27;, kernel=&#x27;linear&#x27;, random_state=123)</pre></div></div></div></div></div>"
            ],
            "text/plain": [
              "SVC(C=1.5, class_weight='balanced', kernel='linear', random_state=123)"
            ]
          },
          "execution_count": 248,
          "metadata": {},
          "output_type": "execute_result"
        }
      ],
      "source": [
        "from sklearn.svm import SVC\n",
        "svm_model = SVC(\n",
        "                C = 1.5,\n",
        "                kernel = 'linear',\n",
        "                class_weight = 'balanced',\n",
        "                random_state=123)\n",
        "svm_model.fit(X_train, y_train)"
      ]
    },
    {
      "cell_type": "code",
      "execution_count": null,
      "metadata": {
        "colab": {
          "background_save": true
        },
        "id": "7FkDAEFF1Jsa",
        "outputId": "73ed809c-f6fc-45ad-e806-343aea22dd51"
      },
      "outputs": [
        {
          "name": "stdout",
          "output_type": "stream",
          "text": [
            "Train - Accuracy : 0.4594671201814059\n",
            "Train - classification report:\n",
            "               precision    recall  f1-score   support\n",
            "\n",
            "           0       0.92      0.39      0.55      2958\n",
            "           1       0.21      0.83      0.33       570\n",
            "\n",
            "    accuracy                           0.46      3528\n",
            "   macro avg       0.57      0.61      0.44      3528\n",
            "weighted avg       0.81      0.46      0.51      3528\n",
            "\n",
            "Test - Accuracy : 0.43537414965986393\n",
            "Test - classification report :               precision    recall  f1-score   support\n",
            "\n",
            "           0       0.90      0.37      0.52       741\n",
            "           1       0.19      0.79      0.31       141\n",
            "\n",
            "    accuracy                           0.44       882\n",
            "   macro avg       0.55      0.58      0.42       882\n",
            "weighted avg       0.79      0.44      0.49       882\n",
            "\n"
          ]
        }
      ],
      "source": [
        "# Métricas de desempeño\n",
        "# ==============================================================================\n",
        "print (\"Train - Accuracy :\", metrics.accuracy_score(y_train, svm_model.predict(X_train)))\n",
        "print (\"Train - classification report:\\n\", metrics.classification_report(y_train, svm_model.predict(X_train)))\n",
        "print (\"Test - Accuracy :\", metrics.accuracy_score(y_test, svm_model.predict(X_test)))\n",
        "print (\"Test - classification report :\", metrics.classification_report(y_test, svm_model.predict(X_test)))"
      ]
    },
    {
      "cell_type": "code",
      "execution_count": null,
      "metadata": {
        "colab": {
          "background_save": true
        },
        "id": "x-KAey2O1JqU",
        "outputId": "ad4d96bb-3e9a-4a4b-c630-48ce3b46d183"
      },
      "outputs": [
        {
          "data": {
            "image/png": "[encoded data removed]",
            "text/plain": [
              "<Figure size 640x480 with 2 Axes>"
            ]
          },
          "metadata": {},
          "output_type": "display_data"
        }
      ],
      "source": [
        "from sklearn.metrics import confusion_matrix, ConfusionMatrixDisplay\n",
        "# Matriz de confusion\n",
        "cm1= confusion_matrix(y_test, svm_model.predict(X_test))\n",
        "# Visualización de la matriz de confusion\n",
        "cm1_display = ConfusionMatrixDisplay(confusion_matrix = cm1)\n",
        "cm1_display.plot()\n",
        "plt.show()"
      ]
    },
    {
      "cell_type": "markdown",
      "source": [
        "el SVM logra una precisión de alrededor del 45% en el conjunto de prueba, lo que indica que es capaz de clasificar correctamente una proporción significativa de las muestras. Sin embargo, su recuperación (recall) es aproximadamente del 79%, lo que sugiere que el modelo tiende a identificar correctamente la mayoría de las muestras positivas. Estos resultados revelan que el SVM puede ser útil en la identificación de empleados que están en riesgo de abandonar la empresa, aunque su precisión general es limitada."
      ],
      "metadata": {
        "id": "3KYec2rw83hI"
      }
    },
    {
      "cell_type": "markdown",
      "metadata": {
        "id": "wspXRsdteQpu"
      },
      "source": [
        "# **g. Comparación y selección de técnicas**\n",
        "\n",
        "Comparar el rendimiento de los modelos y seleccionar el que mejor se ajuste al problema."
      ]
    },
    {
      "cell_type": "markdown",
      "source": [
        "se llevó a cabo un exhaustivo análisis de varios modelos de aprendizaje automático con el objetivo de determinar cuál de ellos es más adecuado para abordar el desafío de predecir el abandono de empleados en nuestra organización. Se evaluaron seis modelos diferentes, cada uno con sus propias características y capacidades. El análisis se centró en métricas fundamentales como precisión, recuperación y F1-score, así como en la capacidad de los modelos para realizar predicciones precisas tanto en el conjunto de entrenamiento como en el conjunto de prueba. A continuación, se presenta una descripción detallada de los resultados.\n",
        "\n",
        "Random Forest:\n",
        "•\tTrain - Accuracy: 0.9972\n",
        "•\tTest - Accuracy: 0.9660\n",
        "\n",
        "Gradient Boosting Classifier:\n",
        "•\tTrain - Accuracy: 0.9306\n",
        "•\tTest - Accuracy: 0.9082\n",
        "\n",
        "Árboles de Decisión:\n",
        "•\tAccuracy (Train): 0.9926\n",
        "•\tAccuracy (Test): 0.9433\n",
        "\n",
        "Regresión Logística (Balanceada):\n",
        "•\tAccuracy: 0.7279\n",
        "•\tF1-score: 0.8187\n",
        "•\tPrecisión: 0.9297\n",
        "•\tRecuperación: 0.7314\n",
        "\n",
        "Regresión Logística (No balanceada):\n",
        "•\tAccuracy: 0.8492\n",
        "•\tF1-score: 0.9142\n",
        "•\tPrecisión: 0.8753\n",
        "•\tRecuperación: 0.9568\n",
        "\n",
        "Support Vector Machine (SVM):\n",
        "•\tTrain - Accuracy: 0.4595\n",
        "•\tTest - Accuracy: 0.4354\n",
        "\n",
        "\n",
        "Con base a los resultados, el modelo Random Forest destaca como la mejor técnica para predecir el abandono de empleados en este caso.\n"
      ],
      "metadata": {
        "id": "ywPDdnwzAUmD"
      }
    },
    {
      "cell_type": "code",
      "execution_count": null,
      "metadata": {
        "colab": {
          "background_save": true
        },
        "id": "BdTFbL_plXiD"
      },
      "outputs": [],
      "source": []
    },
    {
      "cell_type": "markdown",
      "metadata": {
        "id": "LfjVTWDDeRfW"
      },
      "source": [
        "# **h. Afinamiento de hiperparámetros**\n",
        "\n",
        "Optimizar los hiperparámetros de los modelos seleccionados para mejorar su rendimiento. Esto podría realizarse mediante técnicas como Grid Search o Random Search."
      ]
    },
    {
      "cell_type": "code",
      "execution_count": null,
      "metadata": {
        "colab": {
          "background_save": true
        },
        "id": "bkzElAAz0vx6"
      },
      "outputs": [],
      "source": [
        "# Definición de cuadricula de hiperparametros\n",
        "parameters = {'learning_rate': [0.05,0.1,0.3],\n",
        "              'max_depth': [4,6,8,10],\n",
        "              'n_estimators': [100,150,200,500]}"
      ]
    },
    {
      "cell_type": "code",
      "execution_count": null,
      "metadata": {
        "colab": {
          "background_save": true
        },
        "id": "7tTfVz4X0vvD",
        "outputId": "b80b6031-d8fd-467c-f89d-52c180c733b2"
      },
      "outputs": [
        {
          "name": "stdout",
          "output_type": "stream",
          "text": [
            "Fitting 5 folds for each of 10 candidates, totalling 50 fits\n",
            "Best Params:  {'n_estimators': 200, 'max_depth': 4, 'learning_rate': 0.3}\n",
            "Best Score:  0.8347023151925637\n"
          ]
        }
      ],
      "source": [
        "from xgboost import XGBClassifier\n",
        "from sklearn.model_selection import RandomizedSearchCV\n",
        "\n",
        "XGBmodel = XGBClassifier(random_state=42)\n",
        "rand_s = RandomizedSearchCV(estimator=XGBmodel, param_distributions=parameters, n_iter=10, scoring='r2', cv=5, verbose=True)\n",
        "\n",
        "rand_s.fit(X_train, y_train)\n",
        "\n",
        "print('Best Params: ', rand_s.best_params_)\n",
        "print('Best Score: ', rand_s.best_score_)"
      ]
    },
    {
      "cell_type": "code",
      "execution_count": null,
      "metadata": {
        "colab": {
          "background_save": true
        },
        "id": "EzPubpAH0vsR",
        "outputId": "e3cdd8f4-7ce2-4c59-dae4-c0eff20d0764"
      },
      "outputs": [
        {
          "data": {
            "text/html": [
              "<style>#sk-container-id-8 {color: black;background-color: white;}#sk-container-id-8 pre{padding: 0;}#sk-container-id-8 div.sk-toggleable {background-color: white;}#sk-container-id-8 label.sk-toggleable__label {cursor: pointer;display: block;width: 100%;margin-bottom: 0;padding: 0.3em;box-sizing: border-box;text-align: center;}#sk-container-id-8 label.sk-toggleable__label-arrow:before {content: \"▸\";float: left;margin-right: 0.25em;color: #696969;}#sk-container-id-8 label.sk-toggleable__label-arrow:hover:before {color: black;}#sk-container-id-8 div.sk-estimator:hover label.sk-toggleable__label-arrow:before {color: black;}#sk-container-id-8 div.sk-toggleable__content {max-height: 0;max-width: 0;overflow: hidden;text-align: left;background-color: #f0f8ff;}#sk-container-id-8 div.sk-toggleable__content pre {margin: 0.2em;color: black;border-radius: 0.25em;background-color: #f0f8ff;}#sk-container-id-8 input.sk-toggleable__control:checked~div.sk-toggleable__content {max-height: 200px;max-width: 100%;overflow: auto;}#sk-container-id-8 input.sk-toggleable__control:checked~label.sk-toggleable__label-arrow:before {content: \"▾\";}#sk-container-id-8 div.sk-estimator input.sk-toggleable__control:checked~label.sk-toggleable__label {background-color: #d4ebff;}#sk-container-id-8 div.sk-label input.sk-toggleable__control:checked~label.sk-toggleable__label {background-color: #d4ebff;}#sk-container-id-8 input.sk-hidden--visually {border: 0;clip: rect(1px 1px 1px 1px);clip: rect(1px, 1px, 1px, 1px);height: 1px;margin: -1px;overflow: hidden;padding: 0;position: absolute;width: 1px;}#sk-container-id-8 div.sk-estimator {font-family: monospace;background-color: #f0f8ff;border: 1px dotted black;border-radius: 0.25em;box-sizing: border-box;margin-bottom: 0.5em;}#sk-container-id-8 div.sk-estimator:hover {background-color: #d4ebff;}#sk-container-id-8 div.sk-parallel-item::after {content: \"\";width: 100%;border-bottom: 1px solid gray;flex-grow: 1;}#sk-container-id-8 div.sk-label:hover label.sk-toggleable__label {background-color: #d4ebff;}#sk-container-id-8 div.sk-serial::before {content: \"\";position: absolute;border-left: 1px solid gray;box-sizing: border-box;top: 0;bottom: 0;left: 50%;z-index: 0;}#sk-container-id-8 div.sk-serial {display: flex;flex-direction: column;align-items: center;background-color: white;padding-right: 0.2em;padding-left: 0.2em;position: relative;}#sk-container-id-8 div.sk-item {position: relative;z-index: 1;}#sk-container-id-8 div.sk-parallel {display: flex;align-items: stretch;justify-content: center;background-color: white;position: relative;}#sk-container-id-8 div.sk-item::before, #sk-container-id-8 div.sk-parallel-item::before {content: \"\";position: absolute;border-left: 1px solid gray;box-sizing: border-box;top: 0;bottom: 0;left: 50%;z-index: -1;}#sk-container-id-8 div.sk-parallel-item {display: flex;flex-direction: column;z-index: 1;position: relative;background-color: white;}#sk-container-id-8 div.sk-parallel-item:first-child::after {align-self: flex-end;width: 50%;}#sk-container-id-8 div.sk-parallel-item:last-child::after {align-self: flex-start;width: 50%;}#sk-container-id-8 div.sk-parallel-item:only-child::after {width: 0;}#sk-container-id-8 div.sk-dashed-wrapped {border: 1px dashed gray;margin: 0 0.4em 0.5em 0.4em;box-sizing: border-box;padding-bottom: 0.4em;background-color: white;}#sk-container-id-8 div.sk-label label {font-family: monospace;font-weight: bold;display: inline-block;line-height: 1.2em;}#sk-container-id-8 div.sk-label-container {text-align: center;}#sk-container-id-8 div.sk-container {/* jupyter's `normalize.less` sets `[hidden] { display: none; }` but bootstrap.min.css set `[hidden] { display: none !important; }` so we also need the `!important` here to be able to override the default hidden behavior on the sphinx rendered scikit-learn.org. See: https://github.com/scikit-learn/scikit-learn/issues/21755 */display: inline-block !important;position: relative;}#sk-container-id-8 div.sk-text-repr-fallback {display: none;}</style><div id=\"sk-container-id-8\" class=\"sk-top-container\"><div class=\"sk-text-repr-fallback\"><pre>GradientBoostingClassifier(learning_rate=0.3, max_depth=6, n_estimators=500,\n",
              "                           random_state=123)</pre><b>In a Jupyter environment, please rerun this cell to show the HTML representation or trust the notebook. <br />On GitHub, the HTML representation is unable to render, please try loading this page with nbviewer.org.</b></div><div class=\"sk-container\" hidden><div class=\"sk-item\"><div class=\"sk-estimator sk-toggleable\"><input class=\"sk-toggleable__control sk-hidden--visually\" id=\"sk-estimator-id-8\" type=\"checkbox\" checked><label for=\"sk-estimator-id-8\" class=\"sk-toggleable__label sk-toggleable__label-arrow\">GradientBoostingClassifier</label><div class=\"sk-toggleable__content\"><pre>GradientBoostingClassifier(learning_rate=0.3, max_depth=6, n_estimators=500,\n",
              "                           random_state=123)</pre></div></div></div></div></div>"
            ],
            "text/plain": [
              "GradientBoostingClassifier(learning_rate=0.3, max_depth=6, n_estimators=500,\n",
              "                           random_state=123)"
            ]
          },
          "execution_count": 254,
          "metadata": {},
          "output_type": "execute_result"
        }
      ],
      "source": [
        "gboos = GradientBoostingClassifier(\n",
        "            n_estimators = 500,\n",
        "            max_depth= 6,\n",
        "            random_state = 123,  learning_rate= 0.3\n",
        "         )\n",
        "gboos.fit(X_train, y_train)"
      ]
    },
    {
      "cell_type": "code",
      "execution_count": null,
      "metadata": {
        "colab": {
          "background_save": true
        },
        "id": "Z_b01Dg41Alu",
        "outputId": "9b51800d-065e-4797-9f15-c8bd30098852"
      },
      "outputs": [
        {
          "name": "stdout",
          "output_type": "stream",
          "text": [
            "Train - Accuracy : 1.0\n",
            "Train - classification report:\n",
            "               precision    recall  f1-score   support\n",
            "\n",
            "           0       1.00      1.00      1.00      2958\n",
            "           1       1.00      1.00      1.00       570\n",
            "\n",
            "    accuracy                           1.00      3528\n",
            "   macro avg       1.00      1.00      1.00      3528\n",
            "weighted avg       1.00      1.00      1.00      3528\n",
            "\n",
            "Test - Accuracy : 0.9931972789115646\n",
            "Test - classification report :               precision    recall  f1-score   support\n",
            "\n",
            "           0       0.99      1.00      1.00       741\n",
            "           1       1.00      0.96      0.98       141\n",
            "\n",
            "    accuracy                           0.99       882\n",
            "   macro avg       1.00      0.98      0.99       882\n",
            "weighted avg       0.99      0.99      0.99       882\n",
            "\n"
          ]
        }
      ],
      "source": [
        "# Métricas de desempeño\n",
        "# ==============================================================================\n",
        "print (\"Train - Accuracy :\", metrics.accuracy_score(y_train, gboos.predict(X_train)))\n",
        "print (\"Train - classification report:\\n\", metrics.classification_report(y_train, gboos.predict(X_train)))\n",
        "print (\"Test - Accuracy :\", metrics.accuracy_score(y_test, gboos.predict(X_test)))\n",
        "print (\"Test - classification report :\", metrics.classification_report(y_test, gboos.predict(X_test)))"
      ]
    },
    {
      "cell_type": "code",
      "execution_count": null,
      "metadata": {
        "colab": {
          "background_save": true
        },
        "id": "w4f_oe_v1DYp",
        "outputId": "7b16a465-c881-4415-94c7-4e441ad04e78"
      },
      "outputs": [
        {
          "data": {
            "image/png": "[encoded data removed]",
            "text/plain": [
              "<Figure size 640x480 with 2 Axes>"
            ]
          },
          "metadata": {},
          "output_type": "display_data"
        }
      ],
      "source": [
        "# Matriz de confusion\n",
        "cm1= confusion_matrix(y_test, gboos.predict(X_test))\n",
        "# Visualización de la matriz de confusion\n",
        "cm1_display = ConfusionMatrixDisplay(confusion_matrix = cm1)\n",
        "cm1_display.plot()\n",
        "plt.show()"
      ]
    },
    {
      "cell_type": "markdown",
      "metadata": {
        "id": "6hd1vFeUjj4C"
      },
      "source": [
        "**Conclusión:**\n",
        "se observa una mejora significativa en el rendimiento de los modelos. El GradientBoostingClassifier logra un rendimiento excepcional después del ajuste de parámetros, con una precisión del 100% tanto en el conjunto de entrenamiento como en el conjunto de prueba. Esto indica que el modelo es capaz de clasificar perfectamente las muestras en ambos conjuntos y que ha aprendido con gran precisión las relaciones en los datos."
      ]
    },
    {
      "cell_type": "markdown",
      "metadata": {
        "id": "GqmZi9jj1_0V"
      },
      "source": [
        "##Support Vector Machine"
      ]
    },
    {
      "cell_type": "code",
      "execution_count": null,
      "metadata": {
        "colab": {
          "background_save": true
        },
        "id": "Qomku5nS1r2q",
        "outputId": "a11d28de-03f5-406e-9d4d-1231e41b72a0"
      },
      "outputs": [
        {
          "data": {
            "text/html": [
              "<style>#sk-container-id-9 {color: black;background-color: white;}#sk-container-id-9 pre{padding: 0;}#sk-container-id-9 div.sk-toggleable {background-color: white;}#sk-container-id-9 label.sk-toggleable__label {cursor: pointer;display: block;width: 100%;margin-bottom: 0;padding: 0.3em;box-sizing: border-box;text-align: center;}#sk-container-id-9 label.sk-toggleable__label-arrow:before {content: \"▸\";float: left;margin-right: 0.25em;color: #696969;}#sk-container-id-9 label.sk-toggleable__label-arrow:hover:before {color: black;}#sk-container-id-9 div.sk-estimator:hover label.sk-toggleable__label-arrow:before {color: black;}#sk-container-id-9 div.sk-toggleable__content {max-height: 0;max-width: 0;overflow: hidden;text-align: left;background-color: #f0f8ff;}#sk-container-id-9 div.sk-toggleable__content pre {margin: 0.2em;color: black;border-radius: 0.25em;background-color: #f0f8ff;}#sk-container-id-9 input.sk-toggleable__control:checked~div.sk-toggleable__content {max-height: 200px;max-width: 100%;overflow: auto;}#sk-container-id-9 input.sk-toggleable__control:checked~label.sk-toggleable__label-arrow:before {content: \"▾\";}#sk-container-id-9 div.sk-estimator input.sk-toggleable__control:checked~label.sk-toggleable__label {background-color: #d4ebff;}#sk-container-id-9 div.sk-label input.sk-toggleable__control:checked~label.sk-toggleable__label {background-color: #d4ebff;}#sk-container-id-9 input.sk-hidden--visually {border: 0;clip: rect(1px 1px 1px 1px);clip: rect(1px, 1px, 1px, 1px);height: 1px;margin: -1px;overflow: hidden;padding: 0;position: absolute;width: 1px;}#sk-container-id-9 div.sk-estimator {font-family: monospace;background-color: #f0f8ff;border: 1px dotted black;border-radius: 0.25em;box-sizing: border-box;margin-bottom: 0.5em;}#sk-container-id-9 div.sk-estimator:hover {background-color: #d4ebff;}#sk-container-id-9 div.sk-parallel-item::after {content: \"\";width: 100%;border-bottom: 1px solid gray;flex-grow: 1;}#sk-container-id-9 div.sk-label:hover label.sk-toggleable__label {background-color: #d4ebff;}#sk-container-id-9 div.sk-serial::before {content: \"\";position: absolute;border-left: 1px solid gray;box-sizing: border-box;top: 0;bottom: 0;left: 50%;z-index: 0;}#sk-container-id-9 div.sk-serial {display: flex;flex-direction: column;align-items: center;background-color: white;padding-right: 0.2em;padding-left: 0.2em;position: relative;}#sk-container-id-9 div.sk-item {position: relative;z-index: 1;}#sk-container-id-9 div.sk-parallel {display: flex;align-items: stretch;justify-content: center;background-color: white;position: relative;}#sk-container-id-9 div.sk-item::before, #sk-container-id-9 div.sk-parallel-item::before {content: \"\";position: absolute;border-left: 1px solid gray;box-sizing: border-box;top: 0;bottom: 0;left: 50%;z-index: -1;}#sk-container-id-9 div.sk-parallel-item {display: flex;flex-direction: column;z-index: 1;position: relative;background-color: white;}#sk-container-id-9 div.sk-parallel-item:first-child::after {align-self: flex-end;width: 50%;}#sk-container-id-9 div.sk-parallel-item:last-child::after {align-self: flex-start;width: 50%;}#sk-container-id-9 div.sk-parallel-item:only-child::after {width: 0;}#sk-container-id-9 div.sk-dashed-wrapped {border: 1px dashed gray;margin: 0 0.4em 0.5em 0.4em;box-sizing: border-box;padding-bottom: 0.4em;background-color: white;}#sk-container-id-9 div.sk-label label {font-family: monospace;font-weight: bold;display: inline-block;line-height: 1.2em;}#sk-container-id-9 div.sk-label-container {text-align: center;}#sk-container-id-9 div.sk-container {/* jupyter's `normalize.less` sets `[hidden] { display: none; }` but bootstrap.min.css set `[hidden] { display: none !important; }` so we also need the `!important` here to be able to override the default hidden behavior on the sphinx rendered scikit-learn.org. See: https://github.com/scikit-learn/scikit-learn/issues/21755 */display: inline-block !important;position: relative;}#sk-container-id-9 div.sk-text-repr-fallback {display: none;}</style><div id=\"sk-container-id-9\" class=\"sk-top-container\"><div class=\"sk-text-repr-fallback\"><pre>SVC(C=1.5, class_weight=&#x27;balanced&#x27;, kernel=&#x27;linear&#x27;, random_state=123)</pre><b>In a Jupyter environment, please rerun this cell to show the HTML representation or trust the notebook. <br />On GitHub, the HTML representation is unable to render, please try loading this page with nbviewer.org.</b></div><div class=\"sk-container\" hidden><div class=\"sk-item\"><div class=\"sk-estimator sk-toggleable\"><input class=\"sk-toggleable__control sk-hidden--visually\" id=\"sk-estimator-id-9\" type=\"checkbox\" checked><label for=\"sk-estimator-id-9\" class=\"sk-toggleable__label sk-toggleable__label-arrow\">SVC</label><div class=\"sk-toggleable__content\"><pre>SVC(C=1.5, class_weight=&#x27;balanced&#x27;, kernel=&#x27;linear&#x27;, random_state=123)</pre></div></div></div></div></div>"
            ],
            "text/plain": [
              "SVC(C=1.5, class_weight='balanced', kernel='linear', random_state=123)"
            ]
          },
          "execution_count": 257,
          "metadata": {},
          "output_type": "execute_result"
        }
      ],
      "source": [
        "from sklearn.svm import SVC\n",
        "svm_model = SVC(\n",
        "                C = 1.5,\n",
        "                kernel = 'linear',\n",
        "                class_weight = 'balanced',\n",
        "                random_state=123)\n",
        "svm_model.fit(X_train, y_train)"
      ]
    },
    {
      "cell_type": "code",
      "execution_count": null,
      "metadata": {
        "colab": {
          "background_save": true
        },
        "id": "6bBHngj72Zx-",
        "outputId": "cab6f7fd-e56e-4289-facc-eb3e12b4330f"
      },
      "outputs": [
        {
          "name": "stdout",
          "output_type": "stream",
          "text": [
            "Train - Accuracy : 0.4594671201814059\n",
            "Train - classification report:\n",
            "               precision    recall  f1-score   support\n",
            "\n",
            "           0       0.92      0.39      0.55      2958\n",
            "           1       0.21      0.83      0.33       570\n",
            "\n",
            "    accuracy                           0.46      3528\n",
            "   macro avg       0.57      0.61      0.44      3528\n",
            "weighted avg       0.81      0.46      0.51      3528\n",
            "\n",
            "Test - Accuracy : 0.43537414965986393\n",
            "Test - classification report :               precision    recall  f1-score   support\n",
            "\n",
            "           0       0.90      0.37      0.52       741\n",
            "           1       0.19      0.79      0.31       141\n",
            "\n",
            "    accuracy                           0.44       882\n",
            "   macro avg       0.55      0.58      0.42       882\n",
            "weighted avg       0.79      0.44      0.49       882\n",
            "\n"
          ]
        }
      ],
      "source": [
        "# Métricas de desempeño\n",
        "# ==============================================================================\n",
        "print (\"Train - Accuracy :\", metrics.accuracy_score(y_train, svm_model.predict(X_train)))\n",
        "print (\"Train - classification report:\\n\", metrics.classification_report(y_train, svm_model.predict(X_train)))\n",
        "print (\"Test - Accuracy :\", metrics.accuracy_score(y_test, svm_model.predict(X_test)))\n",
        "print (\"Test - classification report :\", metrics.classification_report(y_test, svm_model.predict(X_test)))"
      ]
    },
    {
      "cell_type": "code",
      "execution_count": null,
      "metadata": {
        "colab": {
          "background_save": true
        },
        "id": "N2FRCMqa1UuL",
        "outputId": "8bf2d7a1-55d9-4f95-85aa-c10f52826184"
      },
      "outputs": [
        {
          "data": {
            "image/png": "[encoded data removed]",
            "text/plain": [
              "<Figure size 640x480 with 2 Axes>"
            ]
          },
          "metadata": {},
          "output_type": "display_data"
        }
      ],
      "source": [
        "from sklearn.metrics import confusion_matrix, ConfusionMatrixDisplay\n",
        "# Matriz de confusion\n",
        "cm1= confusion_matrix(y_test, svm_model.predict(X_test))\n",
        "# Visualización de la matriz de confusion\n",
        "cm1_display = ConfusionMatrixDisplay(confusion_matrix = cm1)\n",
        "cm1_display.plot()\n",
        "plt.show()"
      ]
    },
    {
      "cell_type": "markdown",
      "metadata": {
        "id": "Z1oBg2ga2gYm"
      },
      "source": [
        "**Conclusión**\n",
        " el modelo Support Vector Machine (SVM) también muestra una mejora en su rendimiento después del afinamiento de parámetros, aunque sigue siendo inferior en términos de precisión en comparación con el GradientBoostingClassifier. El SVM ahora logra una precisión del 46% en el conjunto de entrenamiento y del 44% en el conjunto de prueba. Si bien esta mejora es significativa, el SVM aún muestra una precisión relativamente baja en comparación con otros modelos."
      ]
    },
    {
      "cell_type": "markdown",
      "metadata": {
        "id": "OjYlgGX8eSUG"
      },
      "source": [
        "# **i. Evaluación y análisis del mejor modelo**\n",
        "\n",
        "Evaluar el mejor modelo en términos de métricas de rendimiento y analizar sus características más importantes para entender qué variables influyen más en la retención de empleados."
      ]
    },
    {
      "cell_type": "markdown",
      "metadata": {
        "id": "mlei_5nteS_X"
      },
      "source": [
        "# **j. Conclusiones finales y recomendaciones**\n",
        "\n",
        "Conclusiones\n",
        "Este proyecto proporciona una clara y sólida evidencia de que la retención de empleados es un desafío crítico para la agencia de marketing Sterling Cooper Advertising. A lo largo de este trabajo, se ha demostrado que la retención de empleados puede ser abordada y mejorada mediante un análisis de datos inteligente y el uso de técnicas avanzadas de aprendizaje automático.\n",
        "Después de un riguroso proceso de evaluación y ajuste de hiperparámetros, el modelo GradientBoostingClassifier se destacó como el más preciso y efectivo para predecir la retención de empleados. Con una precisión del 99.32% en el conjunto de prueba, este modelo superó ampliamente a las alternativas.\n",
        "El análisis de importancia de características identificó las variables más influyentes en la retención de empleados. Estas incluyen la antigüedad en la empresa, la edad, la satisfacción laboral, el trabajo extra y el total de años trabajados. Estas variables ofrecen un enfoque claro para la mejora de la retención.\n",
        "El proceso de afinamiento de hiperparámetros desempeñó un papel crucial en la mejora del rendimiento del mejor modelo. Los parámetros ajustados permitieron que el modelo alcance su máximo potencial y capture relaciones más precisas en los datos.\n",
        "A partir de los resultados obtenidos, se recomienda a Sterling Cooper Advertising tomar las siguientes medidas:\n",
        "Dado que la satisfacción laboral es una variable crucial en la retención de empleados, la empresa debería esforzarse por mejorar la experiencia de los empleados y garantizar un entorno de trabajo positivo. Ofrecer oportunidades de desarrollo profesional y crecimiento en la empresa puede incentivar a los empleados a quedarse a largo plazo.\n",
        "El tiempo que los empleados pasan en la empresa es un factor importante. Se deben implementar estrategias para mantener a los empleados comprometidos y satisfechos a lo largo del tiempo.\n",
        "V. Recomendaciones Futuras:\n",
        "La retención de empleados es un desafío constante. La empresa debe continuar monitoreando y analizando datos para adaptar sus estrategias a medida que cambian las condiciones internas y externas.\n",
        "Implementar modelos de predicción en tiempo real puede ayudar a identificar a los empleados en riesgo de renunciar y tomar medidas preventivas de manera proactiva.\n",
        "Realizar encuestas periódicas de satisfacción y retroalimentación de empleados puede proporcionar información valiosa sobre las necesidades y preocupaciones de los empleados.\n",
        "Consideramos que este enfoque debería proporcionar a Sterling Cooper Advertising una comprensión sólida de su problema de rotación de empleados y una estrategia basada en datos para retener a su clave personal. Además, debería permitirles tomar medidas preventivas para evitar la pérdida de empleados valiosos en el futuro."
      ]
    }
  ],
  "metadata": {
    "colab": {
      "provenance": []
    },
    "kernelspec": {
      "display_name": "Python 3",
      "language": "python",
      "name": "python3"
    },
    "language_info": {
      "codemirror_mode": {
        "name": "ipython",
        "version": 3
      },
      "file_extension": ".py",
      "mimetype": "text/x-python",
      "name": "python",
      "nbconvert_exporter": "python",
      "pygments_lexer": "ipython3",
      "version": "3.10.1"
    },
    "widgets": {
      "application/vnd.jupyter.widget-state+json": {
        "0a0e08eb61274302b9802c9af04855da": {
          "model_module": "@jupyter-widgets/base",
          "model_module_version": "1.2.0",
          "model_name": "LayoutModel",
          "state": {
            "_model_module": "@jupyter-widgets/base",
            "_model_module_version": "1.2.0",
            "_model_name": "LayoutModel",
            "_view_count": null,
            "_view_module": "@jupyter-widgets/base",
            "_view_module_version": "1.2.0",
            "_view_name": "LayoutView",
            "align_content": null,
            "align_items": null,
            "align_self": null,
            "border": null,
            "bottom": null,
            "display": null,
            "flex": "2",
            "flex_flow": null,
            "grid_area": null,
            "grid_auto_columns": null,
            "grid_auto_flow": null,
            "grid_auto_rows": null,
            "grid_column": null,
            "grid_gap": null,
            "grid_row": null,
            "grid_template_areas": null,
            "grid_template_columns": null,
            "grid_template_rows": null,
            "height": null,
            "justify_content": null,
            "justify_items": null,
            "left": null,
            "margin": null,
            "max_height": null,
            "max_width": null,
            "min_height": null,
            "min_width": null,
            "object_fit": null,
            "object_position": null,
            "order": null,
            "overflow": null,
            "overflow_x": null,
            "overflow_y": null,
            "padding": null,
            "right": null,
            "top": null,
            "visibility": null,
            "width": null
          }
        },
        "266498350f924f95a21bb00d49e99eca": {
          "model_module": "@jupyter-widgets/base",
          "model_module_version": "1.2.0",
          "model_name": "LayoutModel",
          "state": {
            "_model_module": "@jupyter-widgets/base",
            "_model_module_version": "1.2.0",
            "_model_name": "LayoutModel",
            "_view_count": null,
            "_view_module": "@jupyter-widgets/base",
            "_view_module_version": "1.2.0",
            "_view_name": "LayoutView",
            "align_content": null,
            "align_items": null,
            "align_self": null,
            "border": null,
            "bottom": null,
            "display": null,
            "flex": null,
            "flex_flow": null,
            "grid_area": null,
            "grid_auto_columns": null,
            "grid_auto_flow": null,
            "grid_auto_rows": null,
            "grid_column": null,
            "grid_gap": null,
            "grid_row": null,
            "grid_template_areas": null,
            "grid_template_columns": null,
            "grid_template_rows": null,
            "height": null,
            "justify_content": null,
            "justify_items": null,
            "left": null,
            "margin": null,
            "max_height": null,
            "max_width": null,
            "min_height": null,
            "min_width": null,
            "object_fit": null,
            "object_position": null,
            "order": null,
            "overflow": null,
            "overflow_x": null,
            "overflow_y": null,
            "padding": null,
            "right": null,
            "top": null,
            "visibility": null,
            "width": null
          }
        },
        "73ef29ee61c048d48663cde0ac2716f7": {
          "model_module": "@jupyter-widgets/controls",
          "model_module_version": "1.5.0",
          "model_name": "FloatProgressModel",
          "state": {
            "_dom_classes": [],
            "_model_module": "@jupyter-widgets/controls",
            "_model_module_version": "1.5.0",
            "_model_name": "FloatProgressModel",
            "_view_count": null,
            "_view_module": "@jupyter-widgets/controls",
            "_view_module_version": "1.5.0",
            "_view_name": "ProgressView",
            "bar_style": "",
            "description": "",
            "description_tooltip": null,
            "layout": "IPY_MODEL_0a0e08eb61274302b9802c9af04855da",
            "max": 27,
            "min": 0,
            "orientation": "horizontal",
            "style": "IPY_MODEL_fd71b4f9e942433db319bbe39c21ade0",
            "value": 19
          }
        },
        "781c3bf0c75f4d2d914caa8081d7f6b3": {
          "model_module": "@jupyter-widgets/base",
          "model_module_version": "1.2.0",
          "model_name": "LayoutModel",
          "state": {
            "_model_module": "@jupyter-widgets/base",
            "_model_module_version": "1.2.0",
            "_model_name": "LayoutModel",
            "_view_count": null,
            "_view_module": "@jupyter-widgets/base",
            "_view_module_version": "1.2.0",
            "_view_name": "LayoutView",
            "align_content": null,
            "align_items": null,
            "align_self": null,
            "border": null,
            "bottom": null,
            "display": null,
            "flex": null,
            "flex_flow": null,
            "grid_area": null,
            "grid_auto_columns": null,
            "grid_auto_flow": null,
            "grid_auto_rows": null,
            "grid_column": null,
            "grid_gap": null,
            "grid_row": null,
            "grid_template_areas": null,
            "grid_template_columns": null,
            "grid_template_rows": null,
            "height": null,
            "justify_content": null,
            "justify_items": null,
            "left": null,
            "margin": null,
            "max_height": null,
            "max_width": null,
            "min_height": null,
            "min_width": null,
            "object_fit": null,
            "object_position": null,
            "order": null,
            "overflow": null,
            "overflow_x": null,
            "overflow_y": null,
            "padding": null,
            "right": null,
            "top": null,
            "visibility": null,
            "width": null
          }
        },
        "896049a9a6e94f1c8c3b05addd7baaf8": {
          "model_module": "@jupyter-widgets/controls",
          "model_module_version": "1.5.0",
          "model_name": "DescriptionStyleModel",
          "state": {
            "_model_module": "@jupyter-widgets/controls",
            "_model_module_version": "1.5.0",
            "_model_name": "DescriptionStyleModel",
            "_view_count": null,
            "_view_module": "@jupyter-widgets/base",
            "_view_module_version": "1.2.0",
            "_view_name": "StyleView",
            "description_width": ""
          }
        },
        "90cd54d24b5b43af90879781eeab678b": {
          "model_module": "@jupyter-widgets/controls",
          "model_module_version": "1.5.0",
          "model_name": "HTMLModel",
          "state": {
            "_dom_classes": [],
            "_model_module": "@jupyter-widgets/controls",
            "_model_module_version": "1.5.0",
            "_model_name": "HTMLModel",
            "_view_count": null,
            "_view_module": "@jupyter-widgets/controls",
            "_view_module_version": "1.5.0",
            "_view_name": "HTMLView",
            "description": "",
            "description_tooltip": null,
            "layout": "IPY_MODEL_266498350f924f95a21bb00d49e99eca",
            "placeholder": "​",
            "style": "IPY_MODEL_896049a9a6e94f1c8c3b05addd7baaf8",
            "value": "Feature: JobLevel                            "
          }
        },
        "a259f1f8fe5c405b9f78848251533876": {
          "model_module": "@jupyter-widgets/base",
          "model_module_version": "1.2.0",
          "model_name": "LayoutModel",
          "state": {
            "_model_module": "@jupyter-widgets/base",
            "_model_module_version": "1.2.0",
            "_model_name": "LayoutModel",
            "_view_count": null,
            "_view_module": "@jupyter-widgets/base",
            "_view_module_version": "1.2.0",
            "_view_name": "LayoutView",
            "align_content": null,
            "align_items": null,
            "align_self": null,
            "border": null,
            "bottom": null,
            "display": "inline-flex",
            "flex": null,
            "flex_flow": "row wrap",
            "grid_area": null,
            "grid_auto_columns": null,
            "grid_auto_flow": null,
            "grid_auto_rows": null,
            "grid_column": null,
            "grid_gap": null,
            "grid_row": null,
            "grid_template_areas": null,
            "grid_template_columns": null,
            "grid_template_rows": null,
            "height": null,
            "justify_content": null,
            "justify_items": null,
            "left": null,
            "margin": null,
            "max_height": null,
            "max_width": null,
            "min_height": null,
            "min_width": null,
            "object_fit": null,
            "object_position": null,
            "order": null,
            "overflow": null,
            "overflow_x": null,
            "overflow_y": null,
            "padding": null,
            "right": null,
            "top": null,
            "visibility": null,
            "width": "100%"
          }
        },
        "c8ca40c9c51c47a69c2012eb16404723": {
          "model_module": "@jupyter-widgets/controls",
          "model_module_version": "1.5.0",
          "model_name": "HTMLModel",
          "state": {
            "_dom_classes": [],
            "_model_module": "@jupyter-widgets/controls",
            "_model_module_version": "1.5.0",
            "_model_name": "HTMLModel",
            "_view_count": null,
            "_view_module": "@jupyter-widgets/controls",
            "_view_module_version": "1.5.0",
            "_view_name": "HTMLView",
            "description": "",
            "description_tooltip": null,
            "layout": "IPY_MODEL_781c3bf0c75f4d2d914caa8081d7f6b3",
            "placeholder": "​",
            "style": "IPY_MODEL_d18ff6d4b80a4eddb753b723dd0b10b6",
            "value": " [ 70%]   00:14 -&gt; (00:04 left)"
          }
        },
        "cb76bde61d1f48a7b745fb591bd99e9a": {
          "model_module": "@jupyter-widgets/controls",
          "model_module_version": "1.5.0",
          "model_name": "HBoxModel",
          "state": {
            "_dom_classes": [],
            "_model_module": "@jupyter-widgets/controls",
            "_model_module_version": "1.5.0",
            "_model_name": "HBoxModel",
            "_view_count": null,
            "_view_module": "@jupyter-widgets/controls",
            "_view_module_version": "1.5.0",
            "_view_name": "HBoxView",
            "box_style": "",
            "children": [
              "IPY_MODEL_90cd54d24b5b43af90879781eeab678b",
              "IPY_MODEL_73ef29ee61c048d48663cde0ac2716f7",
              "IPY_MODEL_c8ca40c9c51c47a69c2012eb16404723"
            ],
            "layout": "IPY_MODEL_a259f1f8fe5c405b9f78848251533876"
          }
        },
        "d18ff6d4b80a4eddb753b723dd0b10b6": {
          "model_module": "@jupyter-widgets/controls",
          "model_module_version": "1.5.0",
          "model_name": "DescriptionStyleModel",
          "state": {
            "_model_module": "@jupyter-widgets/controls",
            "_model_module_version": "1.5.0",
            "_model_name": "DescriptionStyleModel",
            "_view_count": null,
            "_view_module": "@jupyter-widgets/base",
            "_view_module_version": "1.2.0",
            "_view_name": "StyleView",
            "description_width": ""
          }
        },
        "fd71b4f9e942433db319bbe39c21ade0": {
          "model_module": "@jupyter-widgets/controls",
          "model_module_version": "1.5.0",
          "model_name": "ProgressStyleModel",
          "state": {
            "_model_module": "@jupyter-widgets/controls",
            "_model_module_version": "1.5.0",
            "_model_name": "ProgressStyleModel",
            "_view_count": null,
            "_view_module": "@jupyter-widgets/base",
            "_view_module_version": "1.2.0",
            "_view_name": "StyleView",
            "bar_color": null,
            "description_width": ""
          }
        }
      }
    }
  },
  "nbformat": 4,
  "nbformat_minor": 0
}